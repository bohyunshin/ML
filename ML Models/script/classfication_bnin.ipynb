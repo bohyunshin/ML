{
 "cells": [
  {
   "cell_type": "markdown",
   "metadata": {},
   "source": [
    "## bnin modeling"
   ]
  },
  {
   "cell_type": "code",
   "execution_count": 1,
   "metadata": {},
   "outputs": [],
   "source": [
    "import pandas as pd\n",
    "import numpy as np\n",
    "import os\n",
    "import pickle\n",
    "\n",
    "from sklearn.model_selection import cross_val_score\n",
    "from sklearn.model_selection import RepeatedStratifiedKFold\n",
    "from sklearn.linear_model import LogisticRegression\n",
    "from sklearn.model_selection import train_test_split\n",
    "from sklearn.model_selection import StratifiedShuffleSplit\n",
    "from sklearn.model_selection import GridSearchCV\n",
    "from sklearn.ensemble import RandomForestClassifier\n",
    "from xgboost import XGBClassifier\n",
    "\n",
    "from sklearn.metrics import classification_report\n",
    "\n",
    "from sklearn.model_selection import train_test_split, StratifiedKFold, StratifiedShuffleSplit, cross_val_predict, RandomizedSearchCV\n",
    "\n",
    "# Other Libraries\n",
    "from sklearn.model_selection import train_test_split\n",
    "from sklearn.pipeline import make_pipeline\n",
    "from imblearn.pipeline import make_pipeline as imbalanced_make_pipeline\n",
    "from imblearn.over_sampling import SMOTE\n",
    "from imblearn.under_sampling import NearMiss\n",
    "from imblearn.metrics import classification_report_imbalanced\n",
    "from sklearn.metrics import precision_score, recall_score, f1_score, roc_auc_score, accuracy_score, classification_report, confusion_matrix, matthews_corrcoef\n",
    "from collections import Counter\n",
    "from sklearn.model_selection import KFold, StratifiedKFold\n",
    "\n",
    "def split_train_test(X,y, test_ratio):\n",
    "    split = StratifiedShuffleSplit(n_splits=1, test_size=test_ratio, random_state=1)\n",
    "    for train_idx, test_idx in split.split(X, y):\n",
    "        X_train = X.loc[train_idx]\n",
    "        X_test = X.loc[test_idx]\n",
    "        y_train = y.loc[train_idx]\n",
    "        y_test = y.loc[test_idx]\n",
    "    return X_train, X_test, y_train, y_test"
   ]
  },
  {
   "cell_type": "markdown",
   "metadata": {},
   "source": [
    "## random forest"
   ]
  },
  {
   "cell_type": "code",
   "execution_count": 7,
   "metadata": {},
   "outputs": [],
   "source": [
    "def rf_gridSearch_train(X_train, y_train, save, file_dir=None):\n",
    "    param_grid = {'bootstrap': [True, False],\n",
    "     'max_depth': [ 80, 90, 100, None],\n",
    "     'max_features': ['auto', 'sqrt'],\n",
    "     'min_samples_leaf': [1, 2, 4],\n",
    "     'min_samples_split': [2, 5, 10],\n",
    "     'n_estimators': [600, 800, 1000]\n",
    "                 }\n",
    "\n",
    "    # Create a based model\n",
    "    rf = RandomForestClassifier()\n",
    "    # Instantiate the grid search model\n",
    "    grid_search = GridSearchCV(estimator = rf, param_grid = param_grid, \n",
    "                              cv = 3, n_jobs = -1, verbose = 2)\n",
    "\n",
    "    # Fit the grid search to the data\n",
    "    grid_search.fit(X_train, y_train)\n",
    "\n",
    "    # best params\n",
    "\n",
    "    rf_best_est = grid_search.best_estimator_\n",
    "    rf = rf_best_est.fit(X_train, y_train)\n",
    "\n",
    "    rf.fit(X_train, y_train)\n",
    "    \n",
    "    if save:\n",
    "        pickle.dump(rf, open(file_dir, 'wb'))\n",
    "    \n",
    "    return rf\n",
    "\n",
    "def print_result(model, X_test, y_test):\n",
    "    pred = model.predict(X_test)\n",
    "\n",
    "    print(classification_report(y_test, pred))\n",
    "    \n",
    "    print('ROC/AUC: ', roc_auc_score(y_test, pred))\n",
    "    print('ACC: ', accuracy_score(y_test, pred))\n",
    "    print('PREC: ', precision_score(y_test, pred))\n",
    "    print('RECALL: ', recall_score(y_test, pred))\n",
    "    print('F1: ', f1_score(y_test, pred))\n",
    "    print('MCC: ', matthews_corrcoef(y_test, pred))\n",
    "\n",
    "    print('Confusion Matrix: \\n', confusion_matrix(y_test, pred))"
   ]
  },
  {
   "cell_type": "markdown",
   "metadata": {},
   "source": [
    "### logistic"
   ]
  },
  {
   "cell_type": "code",
   "execution_count": 38,
   "metadata": {
    "scrolled": true
   },
   "outputs": [
    {
     "name": "stderr",
     "output_type": "stream",
     "text": [
      "/Users/shinbo/opt/anaconda3/lib/python3.7/site-packages/sklearn/linear_model/_logistic.py:764: ConvergenceWarning: lbfgs failed to converge (status=1):\n",
      "STOP: TOTAL NO. of ITERATIONS REACHED LIMIT.\n",
      "\n",
      "Increase the number of iterations (max_iter) or scale the data as shown in:\n",
      "    https://scikit-learn.org/stable/modules/preprocessing.html\n",
      "Please also refer to the documentation for alternative solver options:\n",
      "    https://scikit-learn.org/stable/modules/linear_model.html#logistic-regression\n",
      "  extra_warning_msg=_LOGISTIC_SOLVER_CONVERGENCE_MSG)\n"
     ]
    },
    {
     "name": "stdout",
     "output_type": "stream",
     "text": [
      "########################### classification report for 개똥하루살이 ###########################\n",
      "              precision    recall  f1-score   support\n",
      "\n",
      "           0       0.91      0.47      0.62       112\n",
      "           1       0.46      0.91      0.61        56\n",
      "\n",
      "    accuracy                           0.62       168\n",
      "   macro avg       0.69      0.69      0.62       168\n",
      "weighted avg       0.76      0.62      0.62       168\n",
      "\n",
      "ROC/AUC:  0.6919642857142857\n",
      "ACC:  0.6190476190476191\n",
      "PREC:  0.4636363636363636\n",
      "RECALL:  0.9107142857142857\n",
      "F1:  0.6144578313253012\n",
      "MCC:  0.38066514959062464\n",
      "Confusion Matrix: \n",
      " [[53 59]\n",
      " [ 5 51]]\n",
      "\n",
      "\n"
     ]
    },
    {
     "name": "stderr",
     "output_type": "stream",
     "text": [
      "/Users/shinbo/opt/anaconda3/lib/python3.7/site-packages/sklearn/linear_model/_logistic.py:764: ConvergenceWarning: lbfgs failed to converge (status=1):\n",
      "STOP: TOTAL NO. of ITERATIONS REACHED LIMIT.\n",
      "\n",
      "Increase the number of iterations (max_iter) or scale the data as shown in:\n",
      "    https://scikit-learn.org/stable/modules/preprocessing.html\n",
      "Please also refer to the documentation for alternative solver options:\n",
      "    https://scikit-learn.org/stable/modules/linear_model.html#logistic-regression\n",
      "  extra_warning_msg=_LOGISTIC_SOLVER_CONVERGENCE_MSG)\n"
     ]
    },
    {
     "name": "stdout",
     "output_type": "stream",
     "text": [
      "########################### classification report for 깔따구류 ###########################\n",
      "              precision    recall  f1-score   support\n",
      "\n",
      "           0       0.85      0.80      0.82        50\n",
      "           1       0.92      0.94      0.93       118\n",
      "\n",
      "    accuracy                           0.90       168\n",
      "   macro avg       0.88      0.87      0.88       168\n",
      "weighted avg       0.90      0.90      0.90       168\n",
      "\n",
      "ROC/AUC:  0.8703389830508476\n",
      "ACC:  0.8988095238095238\n",
      "PREC:  0.9173553719008265\n",
      "RECALL:  0.940677966101695\n",
      "F1:  0.9288702928870294\n",
      "MCC:  0.7544210836262469\n",
      "Confusion Matrix: \n",
      " [[ 40  10]\n",
      " [  7 111]]\n",
      "\n",
      "\n"
     ]
    },
    {
     "name": "stderr",
     "output_type": "stream",
     "text": [
      "/Users/shinbo/opt/anaconda3/lib/python3.7/site-packages/sklearn/linear_model/_logistic.py:764: ConvergenceWarning: lbfgs failed to converge (status=1):\n",
      "STOP: TOTAL NO. of ITERATIONS REACHED LIMIT.\n",
      "\n",
      "Increase the number of iterations (max_iter) or scale the data as shown in:\n",
      "    https://scikit-learn.org/stable/modules/preprocessing.html\n",
      "Please also refer to the documentation for alternative solver options:\n",
      "    https://scikit-learn.org/stable/modules/linear_model.html#logistic-regression\n",
      "  extra_warning_msg=_LOGISTIC_SOLVER_CONVERGENCE_MSG)\n"
     ]
    },
    {
     "name": "stdout",
     "output_type": "stream",
     "text": [
      "########################### classification report for 꼬마줄날도래 ###########################\n",
      "              precision    recall  f1-score   support\n",
      "\n",
      "           0       0.91      0.53      0.67       119\n",
      "           1       0.43      0.88      0.58        49\n",
      "\n",
      "    accuracy                           0.63       168\n",
      "   macro avg       0.67      0.70      0.63       168\n",
      "weighted avg       0.77      0.63      0.64       168\n",
      "\n",
      "ROC/AUC:  0.7034813925570228\n",
      "ACC:  0.6309523809523809\n",
      "PREC:  0.43434343434343436\n",
      "RECALL:  0.8775510204081632\n",
      "F1:  0.581081081081081\n",
      "MCC:  0.37599673597734473\n",
      "Confusion Matrix: \n",
      " [[63 56]\n",
      " [ 6 43]]\n",
      "\n",
      "\n"
     ]
    },
    {
     "name": "stderr",
     "output_type": "stream",
     "text": [
      "/Users/shinbo/opt/anaconda3/lib/python3.7/site-packages/sklearn/linear_model/_logistic.py:764: ConvergenceWarning: lbfgs failed to converge (status=1):\n",
      "STOP: TOTAL NO. of ITERATIONS REACHED LIMIT.\n",
      "\n",
      "Increase the number of iterations (max_iter) or scale the data as shown in:\n",
      "    https://scikit-learn.org/stable/modules/preprocessing.html\n",
      "Please also refer to the documentation for alternative solver options:\n",
      "    https://scikit-learn.org/stable/modules/linear_model.html#logistic-regression\n",
      "  extra_warning_msg=_LOGISTIC_SOLVER_CONVERGENCE_MSG)\n"
     ]
    },
    {
     "name": "stdout",
     "output_type": "stream",
     "text": [
      "########################### classification report for 네점하루살이 ###########################\n",
      "              precision    recall  f1-score   support\n",
      "\n",
      "           0       0.96      0.54      0.69       123\n",
      "           1       0.42      0.93      0.58        45\n",
      "\n",
      "    accuracy                           0.64       168\n",
      "   macro avg       0.69      0.73      0.64       168\n",
      "weighted avg       0.81      0.64      0.66       168\n",
      "\n",
      "ROC/AUC:  0.7349593495934961\n",
      "ACC:  0.6428571428571429\n",
      "PREC:  0.42424242424242425\n",
      "RECALL:  0.9333333333333333\n",
      "F1:  0.5833333333333333\n",
      "MCC:  0.42299905478522903\n",
      "Confusion Matrix: \n",
      " [[66 57]\n",
      " [ 3 42]]\n",
      "\n",
      "\n"
     ]
    },
    {
     "name": "stderr",
     "output_type": "stream",
     "text": [
      "/Users/shinbo/opt/anaconda3/lib/python3.7/site-packages/sklearn/linear_model/_logistic.py:764: ConvergenceWarning: lbfgs failed to converge (status=1):\n",
      "STOP: TOTAL NO. of ITERATIONS REACHED LIMIT.\n",
      "\n",
      "Increase the number of iterations (max_iter) or scale the data as shown in:\n",
      "    https://scikit-learn.org/stable/modules/preprocessing.html\n",
      "Please also refer to the documentation for alternative solver options:\n",
      "    https://scikit-learn.org/stable/modules/linear_model.html#logistic-regression\n",
      "  extra_warning_msg=_LOGISTIC_SOLVER_CONVERGENCE_MSG)\n"
     ]
    },
    {
     "name": "stdout",
     "output_type": "stream",
     "text": [
      "########################### classification report for 다슬기 ###########################\n",
      "              precision    recall  f1-score   support\n",
      "\n",
      "           0       0.94      0.66      0.78       124\n",
      "           1       0.48      0.89      0.62        44\n",
      "\n",
      "    accuracy                           0.72       168\n",
      "   macro avg       0.71      0.77      0.70       168\n",
      "weighted avg       0.82      0.72      0.74       168\n",
      "\n",
      "ROC/AUC:  0.7738269794721409\n",
      "ACC:  0.7202380952380952\n",
      "PREC:  0.48148148148148145\n",
      "RECALL:  0.8863636363636364\n",
      "F1:  0.624\n",
      "MCC:  0.4818826351251134\n",
      "Confusion Matrix: \n",
      " [[82 42]\n",
      " [ 5 39]]\n",
      "\n",
      "\n"
     ]
    },
    {
     "name": "stderr",
     "output_type": "stream",
     "text": [
      "/Users/shinbo/opt/anaconda3/lib/python3.7/site-packages/sklearn/linear_model/_logistic.py:764: ConvergenceWarning: lbfgs failed to converge (status=1):\n",
      "STOP: TOTAL NO. of ITERATIONS REACHED LIMIT.\n",
      "\n",
      "Increase the number of iterations (max_iter) or scale the data as shown in:\n",
      "    https://scikit-learn.org/stable/modules/preprocessing.html\n",
      "Please also refer to the documentation for alternative solver options:\n",
      "    https://scikit-learn.org/stable/modules/linear_model.html#logistic-regression\n",
      "  extra_warning_msg=_LOGISTIC_SOLVER_CONVERGENCE_MSG)\n"
     ]
    },
    {
     "name": "stdout",
     "output_type": "stream",
     "text": [
      "########################### classification report for 돌거머리 ###########################\n",
      "              precision    recall  f1-score   support\n",
      "\n",
      "           0       0.90      0.48      0.63       117\n",
      "           1       0.42      0.88      0.57        51\n",
      "\n",
      "    accuracy                           0.60       168\n",
      "   macro avg       0.66      0.68      0.60       168\n",
      "weighted avg       0.76      0.60      0.61       168\n",
      "\n",
      "ROC/AUC:  0.6804927099044746\n",
      "ACC:  0.6011904761904762\n",
      "PREC:  0.42452830188679247\n",
      "RECALL:  0.8823529411764706\n",
      "F1:  0.5732484076433121\n",
      "MCC:  0.3439686822846625\n",
      "Confusion Matrix: \n",
      " [[56 61]\n",
      " [ 6 45]]\n",
      "\n",
      "\n"
     ]
    },
    {
     "name": "stderr",
     "output_type": "stream",
     "text": [
      "/Users/shinbo/opt/anaconda3/lib/python3.7/site-packages/sklearn/linear_model/_logistic.py:764: ConvergenceWarning: lbfgs failed to converge (status=1):\n",
      "STOP: TOTAL NO. of ITERATIONS REACHED LIMIT.\n",
      "\n",
      "Increase the number of iterations (max_iter) or scale the data as shown in:\n",
      "    https://scikit-learn.org/stable/modules/preprocessing.html\n",
      "Please also refer to the documentation for alternative solver options:\n",
      "    https://scikit-learn.org/stable/modules/linear_model.html#logistic-regression\n",
      "  extra_warning_msg=_LOGISTIC_SOLVER_CONVERGENCE_MSG)\n"
     ]
    },
    {
     "name": "stdout",
     "output_type": "stream",
     "text": [
      "########################### classification report for 동양하루살이 ###########################\n",
      "              precision    recall  f1-score   support\n",
      "\n",
      "           0       0.79      0.48      0.60       112\n",
      "           1       0.42      0.75      0.54        56\n",
      "\n",
      "    accuracy                           0.57       168\n",
      "   macro avg       0.61      0.62      0.57       168\n",
      "weighted avg       0.67      0.57      0.58       168\n",
      "\n",
      "ROC/AUC:  0.6160714285714286\n",
      "ACC:  0.5714285714285714\n",
      "PREC:  0.42\n",
      "RECALL:  0.75\n",
      "F1:  0.5384615384615385\n",
      "MCC:  0.2229481606852615\n",
      "Confusion Matrix: \n",
      " [[54 58]\n",
      " [14 42]]\n",
      "\n",
      "\n"
     ]
    },
    {
     "name": "stderr",
     "output_type": "stream",
     "text": [
      "/Users/shinbo/opt/anaconda3/lib/python3.7/site-packages/sklearn/linear_model/_logistic.py:764: ConvergenceWarning: lbfgs failed to converge (status=1):\n",
      "STOP: TOTAL NO. of ITERATIONS REACHED LIMIT.\n",
      "\n",
      "Increase the number of iterations (max_iter) or scale the data as shown in:\n",
      "    https://scikit-learn.org/stable/modules/preprocessing.html\n",
      "Please also refer to the documentation for alternative solver options:\n",
      "    https://scikit-learn.org/stable/modules/linear_model.html#logistic-regression\n",
      "  extra_warning_msg=_LOGISTIC_SOLVER_CONVERGENCE_MSG)\n"
     ]
    },
    {
     "name": "stdout",
     "output_type": "stream",
     "text": [
      "########################### classification report for 등검은실잠자리 ###########################\n",
      "              precision    recall  f1-score   support\n",
      "\n",
      "           0       0.89      0.67      0.76       118\n",
      "           1       0.51      0.80      0.62        50\n",
      "\n",
      "    accuracy                           0.71       168\n",
      "   macro avg       0.70      0.73      0.69       168\n",
      "weighted avg       0.77      0.71      0.72       168\n",
      "\n",
      "ROC/AUC:  0.7347457627118644\n",
      "ACC:  0.7083333333333334\n",
      "PREC:  0.5063291139240507\n",
      "RECALL:  0.8\n",
      "F1:  0.6201550387596899\n",
      "MCC:  0.43007600639127086\n",
      "Confusion Matrix: \n",
      " [[79 39]\n",
      " [10 40]]\n",
      "\n",
      "\n"
     ]
    },
    {
     "name": "stderr",
     "output_type": "stream",
     "text": [
      "/Users/shinbo/opt/anaconda3/lib/python3.7/site-packages/sklearn/linear_model/_logistic.py:764: ConvergenceWarning: lbfgs failed to converge (status=1):\n",
      "STOP: TOTAL NO. of ITERATIONS REACHED LIMIT.\n",
      "\n",
      "Increase the number of iterations (max_iter) or scale the data as shown in:\n",
      "    https://scikit-learn.org/stable/modules/preprocessing.html\n",
      "Please also refer to the documentation for alternative solver options:\n",
      "    https://scikit-learn.org/stable/modules/linear_model.html#logistic-regression\n",
      "  extra_warning_msg=_LOGISTIC_SOLVER_CONVERGENCE_MSG)\n"
     ]
    },
    {
     "name": "stdout",
     "output_type": "stream",
     "text": [
      "########################### classification report for 등줄하루살이 ###########################\n",
      "              precision    recall  f1-score   support\n",
      "\n",
      "           0       0.88      0.54      0.67       133\n",
      "           1       0.29      0.71      0.41        35\n",
      "\n",
      "    accuracy                           0.58       168\n",
      "   macro avg       0.58      0.63      0.54       168\n",
      "weighted avg       0.76      0.58      0.62       168\n",
      "\n",
      "ROC/AUC:  0.6278195488721805\n",
      "ACC:  0.5773809523809523\n",
      "PREC:  0.29069767441860467\n",
      "RECALL:  0.7142857142857143\n",
      "F1:  0.41322314049586784\n",
      "MCC:  0.20769735549552384\n",
      "Confusion Matrix: \n",
      " [[72 61]\n",
      " [10 25]]\n",
      "\n",
      "\n"
     ]
    },
    {
     "name": "stderr",
     "output_type": "stream",
     "text": [
      "/Users/shinbo/opt/anaconda3/lib/python3.7/site-packages/sklearn/linear_model/_logistic.py:764: ConvergenceWarning: lbfgs failed to converge (status=1):\n",
      "STOP: TOTAL NO. of ITERATIONS REACHED LIMIT.\n",
      "\n",
      "Increase the number of iterations (max_iter) or scale the data as shown in:\n",
      "    https://scikit-learn.org/stable/modules/preprocessing.html\n",
      "Please also refer to the documentation for alternative solver options:\n",
      "    https://scikit-learn.org/stable/modules/linear_model.html#logistic-regression\n",
      "  extra_warning_msg=_LOGISTIC_SOLVER_CONVERGENCE_MSG)\n"
     ]
    },
    {
     "name": "stdout",
     "output_type": "stream",
     "text": [
      "########################### classification report for 물달팽이 ###########################\n",
      "              precision    recall  f1-score   support\n",
      "\n",
      "           0       0.86      0.70      0.78        88\n",
      "           1       0.73      0.88      0.80        80\n",
      "\n",
      "    accuracy                           0.79       168\n",
      "   macro avg       0.80      0.79      0.79       168\n",
      "weighted avg       0.80      0.79      0.78       168\n",
      "\n",
      "ROC/AUC:  0.7897727272727273\n",
      "ACC:  0.7857142857142857\n",
      "PREC:  0.7291666666666666\n",
      "RECALL:  0.875\n",
      "F1:  0.7954545454545454\n",
      "MCC:  0.584887000223379\n",
      "Confusion Matrix: \n",
      " [[62 26]\n",
      " [10 70]]\n",
      "\n",
      "\n"
     ]
    },
    {
     "name": "stderr",
     "output_type": "stream",
     "text": [
      "/Users/shinbo/opt/anaconda3/lib/python3.7/site-packages/sklearn/linear_model/_logistic.py:764: ConvergenceWarning: lbfgs failed to converge (status=1):\n",
      "STOP: TOTAL NO. of ITERATIONS REACHED LIMIT.\n",
      "\n",
      "Increase the number of iterations (max_iter) or scale the data as shown in:\n",
      "    https://scikit-learn.org/stable/modules/preprocessing.html\n",
      "Please also refer to the documentation for alternative solver options:\n",
      "    https://scikit-learn.org/stable/modules/linear_model.html#logistic-regression\n",
      "  extra_warning_msg=_LOGISTIC_SOLVER_CONVERGENCE_MSG)\n"
     ]
    },
    {
     "name": "stdout",
     "output_type": "stream",
     "text": [
      "########################### classification report for 물자라 ###########################\n",
      "              precision    recall  f1-score   support\n",
      "\n",
      "           0       0.88      0.64      0.74       118\n",
      "           1       0.48      0.80      0.60        50\n",
      "\n",
      "    accuracy                           0.68       168\n",
      "   macro avg       0.68      0.72      0.67       168\n",
      "weighted avg       0.76      0.68      0.70       168\n",
      "\n",
      "ROC/AUC:  0.7177966101694917\n",
      "ACC:  0.6845238095238095\n",
      "PREC:  0.4819277108433735\n",
      "RECALL:  0.8\n",
      "F1:  0.6015037593984962\n",
      "MCC:  0.39834430122760434\n",
      "Confusion Matrix: \n",
      " [[75 43]\n",
      " [10 40]]\n",
      "\n",
      "\n"
     ]
    },
    {
     "name": "stderr",
     "output_type": "stream",
     "text": [
      "/Users/shinbo/opt/anaconda3/lib/python3.7/site-packages/sklearn/linear_model/_logistic.py:764: ConvergenceWarning: lbfgs failed to converge (status=1):\n",
      "STOP: TOTAL NO. of ITERATIONS REACHED LIMIT.\n",
      "\n",
      "Increase the number of iterations (max_iter) or scale the data as shown in:\n",
      "    https://scikit-learn.org/stable/modules/preprocessing.html\n",
      "Please also refer to the documentation for alternative solver options:\n",
      "    https://scikit-learn.org/stable/modules/linear_model.html#logistic-regression\n",
      "  extra_warning_msg=_LOGISTIC_SOLVER_CONVERGENCE_MSG)\n"
     ]
    },
    {
     "name": "stdout",
     "output_type": "stream",
     "text": [
      "########################### classification report for 밀잠자리 ###########################\n",
      "              precision    recall  f1-score   support\n",
      "\n",
      "           0       0.91      0.55      0.68       128\n",
      "           1       0.36      0.82      0.50        40\n",
      "\n",
      "    accuracy                           0.61       168\n",
      "   macro avg       0.64      0.69      0.59       168\n",
      "weighted avg       0.78      0.61      0.64       168\n",
      "\n",
      "ROC/AUC:  0.6859375\n",
      "ACC:  0.6130952380952381\n",
      "PREC:  0.3626373626373626\n",
      "RECALL:  0.825\n",
      "F1:  0.5038167938931297\n",
      "MCC:  0.3178819766028754\n",
      "Confusion Matrix: \n",
      " [[70 58]\n",
      " [ 7 33]]\n",
      "\n",
      "\n"
     ]
    },
    {
     "name": "stderr",
     "output_type": "stream",
     "text": [
      "/Users/shinbo/opt/anaconda3/lib/python3.7/site-packages/sklearn/linear_model/_logistic.py:764: ConvergenceWarning: lbfgs failed to converge (status=1):\n",
      "STOP: TOTAL NO. of ITERATIONS REACHED LIMIT.\n",
      "\n",
      "Increase the number of iterations (max_iter) or scale the data as shown in:\n",
      "    https://scikit-learn.org/stable/modules/preprocessing.html\n",
      "Please also refer to the documentation for alternative solver options:\n",
      "    https://scikit-learn.org/stable/modules/linear_model.html#logistic-regression\n",
      "  extra_warning_msg=_LOGISTIC_SOLVER_CONVERGENCE_MSG)\n"
     ]
    },
    {
     "name": "stdout",
     "output_type": "stream",
     "text": [
      "########################### classification report for 방울실잠자리 ###########################\n",
      "              precision    recall  f1-score   support\n",
      "\n",
      "           0       0.83      0.66      0.73       120\n",
      "           1       0.44      0.67      0.53        48\n",
      "\n",
      "    accuracy                           0.66       168\n",
      "   macro avg       0.63      0.66      0.63       168\n",
      "weighted avg       0.72      0.66      0.68       168\n",
      "\n",
      "ROC/AUC:  0.6625\n",
      "ACC:  0.6607142857142857\n",
      "PREC:  0.4383561643835616\n",
      "RECALL:  0.6666666666666666\n",
      "F1:  0.5289256198347108\n",
      "MCC:  0.2961906671713246\n",
      "Confusion Matrix: \n",
      " [[79 41]\n",
      " [16 32]]\n",
      "\n",
      "\n"
     ]
    },
    {
     "name": "stderr",
     "output_type": "stream",
     "text": [
      "/Users/shinbo/opt/anaconda3/lib/python3.7/site-packages/sklearn/linear_model/_logistic.py:764: ConvergenceWarning: lbfgs failed to converge (status=1):\n",
      "STOP: TOTAL NO. of ITERATIONS REACHED LIMIT.\n",
      "\n",
      "Increase the number of iterations (max_iter) or scale the data as shown in:\n",
      "    https://scikit-learn.org/stable/modules/preprocessing.html\n",
      "Please also refer to the documentation for alternative solver options:\n",
      "    https://scikit-learn.org/stable/modules/linear_model.html#logistic-regression\n",
      "  extra_warning_msg=_LOGISTIC_SOLVER_CONVERGENCE_MSG)\n"
     ]
    },
    {
     "name": "stdout",
     "output_type": "stream",
     "text": [
      "########################### classification report for 새뱅이 ###########################\n",
      "              precision    recall  f1-score   support\n",
      "\n",
      "           0       0.93      0.62      0.74       120\n",
      "           1       0.48      0.88      0.62        48\n",
      "\n",
      "    accuracy                           0.69       168\n",
      "   macro avg       0.70      0.75      0.68       168\n",
      "weighted avg       0.80      0.69      0.71       168\n",
      "\n",
      "ROC/AUC:  0.7458333333333333\n",
      "ACC:  0.6904761904761905\n",
      "PREC:  0.4772727272727273\n",
      "RECALL:  0.875\n",
      "F1:  0.6176470588235294\n",
      "MCC:  0.4447292332522013\n",
      "Confusion Matrix: \n",
      " [[74 46]\n",
      " [ 6 42]]\n",
      "\n",
      "\n"
     ]
    },
    {
     "name": "stderr",
     "output_type": "stream",
     "text": [
      "/Users/shinbo/opt/anaconda3/lib/python3.7/site-packages/sklearn/linear_model/_logistic.py:764: ConvergenceWarning: lbfgs failed to converge (status=1):\n",
      "STOP: TOTAL NO. of ITERATIONS REACHED LIMIT.\n",
      "\n",
      "Increase the number of iterations (max_iter) or scale the data as shown in:\n",
      "    https://scikit-learn.org/stable/modules/preprocessing.html\n",
      "Please also refer to the documentation for alternative solver options:\n",
      "    https://scikit-learn.org/stable/modules/linear_model.html#logistic-regression\n",
      "  extra_warning_msg=_LOGISTIC_SOLVER_CONVERGENCE_MSG)\n"
     ]
    },
    {
     "name": "stdout",
     "output_type": "stream",
     "text": [
      "########################### classification report for 수정또아리물달팽이 ###########################\n",
      "              precision    recall  f1-score   support\n",
      "\n",
      "           0       0.88      0.60      0.71       124\n",
      "           1       0.40      0.77      0.53        44\n",
      "\n",
      "    accuracy                           0.64       168\n",
      "   macro avg       0.64      0.68      0.62       168\n",
      "weighted avg       0.76      0.64      0.66       168\n",
      "\n",
      "ROC/AUC:  0.6847507331378299\n",
      "ACC:  0.6428571428571429\n",
      "PREC:  0.40476190476190477\n",
      "RECALL:  0.7727272727272727\n",
      "F1:  0.5312499999999999\n",
      "MCC:  0.3249182166443294\n",
      "Confusion Matrix: \n",
      " [[74 50]\n",
      " [10 34]]\n",
      "\n",
      "\n"
     ]
    },
    {
     "name": "stderr",
     "output_type": "stream",
     "text": [
      "/Users/shinbo/opt/anaconda3/lib/python3.7/site-packages/sklearn/linear_model/_logistic.py:764: ConvergenceWarning: lbfgs failed to converge (status=1):\n",
      "STOP: TOTAL NO. of ITERATIONS REACHED LIMIT.\n",
      "\n",
      "Increase the number of iterations (max_iter) or scale the data as shown in:\n",
      "    https://scikit-learn.org/stable/modules/preprocessing.html\n",
      "Please also refer to the documentation for alternative solver options:\n",
      "    https://scikit-learn.org/stable/modules/linear_model.html#logistic-regression\n",
      "  extra_warning_msg=_LOGISTIC_SOLVER_CONVERGENCE_MSG)\n"
     ]
    },
    {
     "name": "stdout",
     "output_type": "stream",
     "text": [
      "########################### classification report for 실지렁이 ###########################\n",
      "              precision    recall  f1-score   support\n",
      "\n",
      "           0       0.89      0.52      0.65        93\n",
      "           1       0.61      0.92      0.73        75\n",
      "\n",
      "    accuracy                           0.70       168\n",
      "   macro avg       0.75      0.72      0.69       168\n",
      "weighted avg       0.76      0.70      0.69       168\n",
      "\n",
      "ROC/AUC:  0.7180645161290322\n",
      "ACC:  0.6964285714285714\n",
      "PREC:  0.6052631578947368\n",
      "RECALL:  0.92\n",
      "F1:  0.7301587301587301\n",
      "MCC:  0.4642349124657521\n",
      "Confusion Matrix: \n",
      " [[48 45]\n",
      " [ 6 69]]\n",
      "\n",
      "\n"
     ]
    },
    {
     "name": "stderr",
     "output_type": "stream",
     "text": [
      "/Users/shinbo/opt/anaconda3/lib/python3.7/site-packages/sklearn/linear_model/_logistic.py:764: ConvergenceWarning: lbfgs failed to converge (status=1):\n",
      "STOP: TOTAL NO. of ITERATIONS REACHED LIMIT.\n",
      "\n",
      "Increase the number of iterations (max_iter) or scale the data as shown in:\n",
      "    https://scikit-learn.org/stable/modules/preprocessing.html\n",
      "Please also refer to the documentation for alternative solver options:\n",
      "    https://scikit-learn.org/stable/modules/linear_model.html#logistic-regression\n",
      "  extra_warning_msg=_LOGISTIC_SOLVER_CONVERGENCE_MSG)\n"
     ]
    },
    {
     "name": "stdout",
     "output_type": "stream",
     "text": [
      "########################### classification report for 아시아실잠자리 ###########################\n",
      "              precision    recall  f1-score   support\n",
      "\n",
      "           0       0.84      0.69      0.76       102\n",
      "           1       0.62      0.80      0.70        66\n",
      "\n",
      "    accuracy                           0.73       168\n",
      "   macro avg       0.73      0.74      0.73       168\n",
      "weighted avg       0.76      0.73      0.74       168\n",
      "\n",
      "ROC/AUC:  0.7446524064171123\n",
      "ACC:  0.7321428571428571\n",
      "PREC:  0.6235294117647059\n",
      "RECALL:  0.803030303030303\n",
      "F1:  0.7019867549668874\n",
      "MCC:  0.4779726340546753\n",
      "Confusion Matrix: \n",
      " [[70 32]\n",
      " [13 53]]\n",
      "\n",
      "\n"
     ]
    },
    {
     "name": "stderr",
     "output_type": "stream",
     "text": [
      "/Users/shinbo/opt/anaconda3/lib/python3.7/site-packages/sklearn/linear_model/_logistic.py:764: ConvergenceWarning: lbfgs failed to converge (status=1):\n",
      "STOP: TOTAL NO. of ITERATIONS REACHED LIMIT.\n",
      "\n",
      "Increase the number of iterations (max_iter) or scale the data as shown in:\n",
      "    https://scikit-learn.org/stable/modules/preprocessing.html\n",
      "Please also refer to the documentation for alternative solver options:\n",
      "    https://scikit-learn.org/stable/modules/linear_model.html#logistic-regression\n",
      "  extra_warning_msg=_LOGISTIC_SOLVER_CONVERGENCE_MSG)\n"
     ]
    },
    {
     "name": "stdout",
     "output_type": "stream",
     "text": [
      "########################### classification report for 연못하루살이 ###########################\n",
      "              precision    recall  f1-score   support\n",
      "\n",
      "           0       0.81      0.64      0.72       100\n",
      "           1       0.60      0.78      0.68        68\n",
      "\n",
      "    accuracy                           0.70       168\n",
      "   macro avg       0.70      0.71      0.70       168\n",
      "weighted avg       0.72      0.70      0.70       168\n",
      "\n",
      "ROC/AUC:  0.7097058823529411\n",
      "ACC:  0.6964285714285714\n",
      "PREC:  0.5955056179775281\n",
      "RECALL:  0.7794117647058824\n",
      "F1:  0.6751592356687898\n",
      "MCC:  0.41246444323226533\n",
      "Confusion Matrix: \n",
      " [[64 36]\n",
      " [15 53]]\n",
      "\n",
      "\n"
     ]
    },
    {
     "name": "stderr",
     "output_type": "stream",
     "text": [
      "/Users/shinbo/opt/anaconda3/lib/python3.7/site-packages/sklearn/linear_model/_logistic.py:764: ConvergenceWarning: lbfgs failed to converge (status=1):\n",
      "STOP: TOTAL NO. of ITERATIONS REACHED LIMIT.\n",
      "\n",
      "Increase the number of iterations (max_iter) or scale the data as shown in:\n",
      "    https://scikit-learn.org/stable/modules/preprocessing.html\n",
      "Please also refer to the documentation for alternative solver options:\n",
      "    https://scikit-learn.org/stable/modules/linear_model.html#logistic-regression\n",
      "  extra_warning_msg=_LOGISTIC_SOLVER_CONVERGENCE_MSG)\n"
     ]
    },
    {
     "name": "stdout",
     "output_type": "stream",
     "text": [
      "########################### classification report for 왼돌이물달팽이 ###########################\n",
      "              precision    recall  f1-score   support\n",
      "\n",
      "           0       0.76      0.58      0.66        98\n",
      "           1       0.56      0.74      0.64        70\n",
      "\n",
      "    accuracy                           0.65       168\n",
      "   macro avg       0.66      0.66      0.65       168\n",
      "weighted avg       0.68      0.65      0.65       168\n",
      "\n",
      "ROC/AUC:  0.6622448979591837\n",
      "ACC:  0.6488095238095238\n",
      "PREC:  0.5591397849462365\n",
      "RECALL:  0.7428571428571429\n",
      "F1:  0.6380368098159509\n",
      "MCC:  0.32180367258102566\n",
      "Confusion Matrix: \n",
      " [[57 41]\n",
      " [18 52]]\n",
      "\n",
      "\n"
     ]
    },
    {
     "name": "stderr",
     "output_type": "stream",
     "text": [
      "/Users/shinbo/opt/anaconda3/lib/python3.7/site-packages/sklearn/linear_model/_logistic.py:764: ConvergenceWarning: lbfgs failed to converge (status=1):\n",
      "STOP: TOTAL NO. of ITERATIONS REACHED LIMIT.\n",
      "\n",
      "Increase the number of iterations (max_iter) or scale the data as shown in:\n",
      "    https://scikit-learn.org/stable/modules/preprocessing.html\n",
      "Please also refer to the documentation for alternative solver options:\n",
      "    https://scikit-learn.org/stable/modules/linear_model.html#logistic-regression\n",
      "  extra_warning_msg=_LOGISTIC_SOLVER_CONVERGENCE_MSG)\n"
     ]
    },
    {
     "name": "stdout",
     "output_type": "stream",
     "text": [
      "########################### classification report for 입술하루살이 ###########################\n",
      "              precision    recall  f1-score   support\n",
      "\n",
      "           0       0.90      0.46      0.61       118\n",
      "           1       0.41      0.88      0.56        50\n",
      "\n",
      "    accuracy                           0.58       168\n",
      "   macro avg       0.65      0.67      0.58       168\n",
      "weighted avg       0.75      0.58      0.59       168\n",
      "\n",
      "ROC/AUC:  0.6688135593220339\n",
      "ACC:  0.5833333333333334\n",
      "PREC:  0.4074074074074074\n",
      "RECALL:  0.88\n",
      "F1:  0.5569620253164557\n",
      "MCC:  0.32216312205590203\n",
      "Confusion Matrix: \n",
      " [[54 64]\n",
      " [ 6 44]]\n",
      "\n",
      "\n",
      "########################### classification report for 줄날도래 ###########################\n",
      "              precision    recall  f1-score   support\n",
      "\n",
      "           0       0.87      0.46      0.60       134\n",
      "           1       0.26      0.74      0.38        34\n",
      "\n",
      "    accuracy                           0.51       168\n",
      "   macro avg       0.56      0.60      0.49       168\n",
      "weighted avg       0.75      0.51      0.55       168\n",
      "\n",
      "ROC/AUC:  0.595258999122037\n",
      "ACC:  0.5119047619047619\n",
      "PREC:  0.25510204081632654\n",
      "RECALL:  0.7352941176470589\n",
      "F1:  0.37878787878787884\n",
      "MCC:  0.1552622264476941\n",
      "Confusion Matrix: \n",
      " [[61 73]\n",
      " [ 9 25]]\n",
      "\n",
      "\n"
     ]
    },
    {
     "name": "stderr",
     "output_type": "stream",
     "text": [
      "/Users/shinbo/opt/anaconda3/lib/python3.7/site-packages/sklearn/linear_model/_logistic.py:764: ConvergenceWarning: lbfgs failed to converge (status=1):\n",
      "STOP: TOTAL NO. of ITERATIONS REACHED LIMIT.\n",
      "\n",
      "Increase the number of iterations (max_iter) or scale the data as shown in:\n",
      "    https://scikit-learn.org/stable/modules/preprocessing.html\n",
      "Please also refer to the documentation for alternative solver options:\n",
      "    https://scikit-learn.org/stable/modules/linear_model.html#logistic-regression\n",
      "  extra_warning_msg=_LOGISTIC_SOLVER_CONVERGENCE_MSG)\n"
     ]
    }
   ],
   "source": [
    "name = [i[:-4] for i in list_csv]\n",
    "dict_model_rf = {}\n",
    "save_dir = '/Users/shinbo/Desktop/contest/environ/model/insect/etc/'\n",
    "dict_model = {}\n",
    "for n, d in zip(name, list_csv):\n",
    "    \n",
    "    tmp = pd.read_csv(_dir + d)\n",
    "\n",
    "    X = tmp[['bio1', 'bio2', 'bio3', 'bio4', 'bio5', 'bio6', 'bio7',\n",
    "           'bio8', 'bio9', 'bio10', 'bio11', 'bio12', 'bio13', 'bio14', 'bio15',\n",
    "           'bio16', 'bio17', 'bio18', 'bio19', 'pet', 'rh', 'srad', 'lon', 'lat',\n",
    "           'alt']]\n",
    "    y = tmp['y']\n",
    "\n",
    "    X_train, X_test, y_train, y_test = split_train_test(X, y,0.3)\n",
    "\n",
    "\n",
    "    # define model\n",
    "    #weights = {0:0.01, 1:1.0}\n",
    "    model = LogisticRegression(solver='lbfgs', class_weight='balanced')\n",
    "    model.fit(X_train, y_train)\n",
    "    print(f'########################### classification report for {n} ###########################')\n",
    "    print_result(model, X_test, y_test)\n",
    "    print('\\n')\n",
    "    \n",
    "    dict_model[n] = model"
   ]
  },
  {
   "cell_type": "markdown",
   "metadata": {},
   "source": [
    "### random forest 2% ~ 5%"
   ]
  },
  {
   "cell_type": "code",
   "execution_count": 9,
   "metadata": {
    "scrolled": true
   },
   "outputs": [
    {
     "name": "stdout",
     "output_type": "stream",
     "text": [
      "Fitting 3 folds for each of 10 candidates, totalling 30 fits\n"
     ]
    },
    {
     "name": "stderr",
     "output_type": "stream",
     "text": [
      "[Parallel(n_jobs=-1)]: Using backend LokyBackend with 6 concurrent workers.\n",
      "[Parallel(n_jobs=-1)]: Done  30 out of  30 | elapsed:    8.5s finished\n"
     ]
    },
    {
     "name": "stdout",
     "output_type": "stream",
     "text": [
      "Fitting 3 folds for each of 10 candidates, totalling 30 fits\n"
     ]
    },
    {
     "name": "stderr",
     "output_type": "stream",
     "text": [
      "[Parallel(n_jobs=-1)]: Using backend LokyBackend with 6 concurrent workers.\n",
      "[Parallel(n_jobs=-1)]: Done  30 out of  30 | elapsed:    7.7s finished\n"
     ]
    },
    {
     "name": "stdout",
     "output_type": "stream",
     "text": [
      "Fitting 3 folds for each of 10 candidates, totalling 30 fits\n"
     ]
    },
    {
     "name": "stderr",
     "output_type": "stream",
     "text": [
      "[Parallel(n_jobs=-1)]: Using backend LokyBackend with 6 concurrent workers.\n",
      "[Parallel(n_jobs=-1)]: Done  30 out of  30 | elapsed:    7.3s finished\n"
     ]
    },
    {
     "name": "stdout",
     "output_type": "stream",
     "text": [
      "\n",
      "\n",
      "########################### classification report for 늪깔따구아과류 ###########################\n",
      "              precision    recall  f1-score   support\n",
      "\n",
      "           0       0.99      0.99      0.99       163\n",
      "           1       0.80      0.80      0.80         5\n",
      "\n",
      "    accuracy                           0.99       168\n",
      "   macro avg       0.90      0.90      0.90       168\n",
      "weighted avg       0.99      0.99      0.99       168\n",
      "\n",
      "ROC/AUC:  0.8969325153374234\n",
      "ACC:  0.9880952380952381\n",
      "PREC:  0.8\n",
      "RECALL:  0.8\n",
      "F1:  0.8000000000000002\n",
      "MCC:  0.7938650306748466\n",
      "Confusion Matrix: \n",
      " [[162   1]\n",
      " [  1   4]]\n",
      "\n",
      "\n",
      "Fitting 3 folds for each of 10 candidates, totalling 30 fits\n"
     ]
    },
    {
     "name": "stderr",
     "output_type": "stream",
     "text": [
      "[Parallel(n_jobs=-1)]: Using backend LokyBackend with 6 concurrent workers.\n",
      "[Parallel(n_jobs=-1)]: Done  30 out of  30 | elapsed:    7.8s finished\n"
     ]
    },
    {
     "name": "stdout",
     "output_type": "stream",
     "text": [
      "\n",
      "\n",
      "########################### classification report for 민강도래 KUa ###########################\n",
      "              precision    recall  f1-score   support\n",
      "\n",
      "           0       0.99      0.98      0.98       163\n",
      "           1       0.43      0.60      0.50         5\n",
      "\n",
      "    accuracy                           0.96       168\n",
      "   macro avg       0.71      0.79      0.74       168\n",
      "weighted avg       0.97      0.96      0.97       168\n",
      "\n",
      "ROC/AUC:  0.7877300613496933\n",
      "ACC:  0.9642857142857143\n",
      "PREC:  0.42857142857142855\n",
      "RECALL:  0.6\n",
      "F1:  0.5\n",
      "MCC:  0.48936407093122214\n",
      "Confusion Matrix: \n",
      " [[159   4]\n",
      " [  2   3]]\n",
      "\n",
      "\n",
      "Fitting 3 folds for each of 10 candidates, totalling 30 fits\n"
     ]
    },
    {
     "name": "stderr",
     "output_type": "stream",
     "text": [
      "[Parallel(n_jobs=-1)]: Using backend LokyBackend with 6 concurrent workers.\n",
      "[Parallel(n_jobs=-1)]: Done  30 out of  30 | elapsed:    7.7s finished\n"
     ]
    },
    {
     "name": "stdout",
     "output_type": "stream",
     "text": [
      "Fitting 3 folds for each of 10 candidates, totalling 30 fits\n"
     ]
    },
    {
     "name": "stderr",
     "output_type": "stream",
     "text": [
      "[Parallel(n_jobs=-1)]: Using backend LokyBackend with 6 concurrent workers.\n",
      "[Parallel(n_jobs=-1)]: Done  30 out of  30 | elapsed:    7.5s finished\n"
     ]
    },
    {
     "name": "stdout",
     "output_type": "stream",
     "text": [
      "Fitting 3 folds for each of 10 candidates, totalling 30 fits\n"
     ]
    },
    {
     "name": "stderr",
     "output_type": "stream",
     "text": [
      "[Parallel(n_jobs=-1)]: Using backend LokyBackend with 6 concurrent workers.\n",
      "[Parallel(n_jobs=-1)]: Done  30 out of  30 | elapsed:    8.0s finished\n"
     ]
    },
    {
     "name": "stdout",
     "output_type": "stream",
     "text": [
      "Fitting 3 folds for each of 10 candidates, totalling 30 fits\n"
     ]
    },
    {
     "name": "stderr",
     "output_type": "stream",
     "text": [
      "[Parallel(n_jobs=-1)]: Using backend LokyBackend with 6 concurrent workers.\n",
      "[Parallel(n_jobs=-1)]: Done  30 out of  30 | elapsed:    7.6s finished\n"
     ]
    },
    {
     "name": "stdout",
     "output_type": "stream",
     "text": [
      "Fitting 3 folds for each of 10 candidates, totalling 30 fits\n"
     ]
    },
    {
     "name": "stderr",
     "output_type": "stream",
     "text": [
      "[Parallel(n_jobs=-1)]: Using backend LokyBackend with 6 concurrent workers.\n",
      "[Parallel(n_jobs=-1)]: Done  30 out of  30 | elapsed:    7.7s finished\n"
     ]
    },
    {
     "name": "stdout",
     "output_type": "stream",
     "text": [
      "Fitting 3 folds for each of 10 candidates, totalling 30 fits\n"
     ]
    },
    {
     "name": "stderr",
     "output_type": "stream",
     "text": [
      "[Parallel(n_jobs=-1)]: Using backend LokyBackend with 6 concurrent workers.\n",
      "[Parallel(n_jobs=-1)]: Done  30 out of  30 | elapsed:    7.8s finished\n"
     ]
    },
    {
     "name": "stdout",
     "output_type": "stream",
     "text": [
      "Fitting 3 folds for each of 10 candidates, totalling 30 fits\n"
     ]
    },
    {
     "name": "stderr",
     "output_type": "stream",
     "text": [
      "[Parallel(n_jobs=-1)]: Using backend LokyBackend with 6 concurrent workers.\n",
      "[Parallel(n_jobs=-1)]: Done  30 out of  30 | elapsed:    8.0s finished\n"
     ]
    },
    {
     "name": "stdout",
     "output_type": "stream",
     "text": [
      "Fitting 3 folds for each of 10 candidates, totalling 30 fits\n"
     ]
    },
    {
     "name": "stderr",
     "output_type": "stream",
     "text": [
      "[Parallel(n_jobs=-1)]: Using backend LokyBackend with 6 concurrent workers.\n",
      "[Parallel(n_jobs=-1)]: Done  30 out of  30 | elapsed:    7.6s finished\n"
     ]
    },
    {
     "name": "stdout",
     "output_type": "stream",
     "text": [
      "Fitting 3 folds for each of 10 candidates, totalling 30 fits\n"
     ]
    },
    {
     "name": "stderr",
     "output_type": "stream",
     "text": [
      "[Parallel(n_jobs=-1)]: Using backend LokyBackend with 6 concurrent workers.\n",
      "[Parallel(n_jobs=-1)]: Done  30 out of  30 | elapsed:    7.3s finished\n"
     ]
    },
    {
     "name": "stdout",
     "output_type": "stream",
     "text": [
      "Fitting 3 folds for each of 10 candidates, totalling 30 fits\n"
     ]
    },
    {
     "name": "stderr",
     "output_type": "stream",
     "text": [
      "[Parallel(n_jobs=-1)]: Using backend LokyBackend with 6 concurrent workers.\n",
      "[Parallel(n_jobs=-1)]: Done  30 out of  30 | elapsed:    7.3s finished\n"
     ]
    },
    {
     "name": "stdout",
     "output_type": "stream",
     "text": [
      "Fitting 3 folds for each of 10 candidates, totalling 30 fits\n"
     ]
    },
    {
     "name": "stderr",
     "output_type": "stream",
     "text": [
      "[Parallel(n_jobs=-1)]: Using backend LokyBackend with 6 concurrent workers.\n",
      "[Parallel(n_jobs=-1)]: Done  30 out of  30 | elapsed:    7.5s finished\n"
     ]
    },
    {
     "name": "stdout",
     "output_type": "stream",
     "text": [
      "Fitting 3 folds for each of 10 candidates, totalling 30 fits\n"
     ]
    },
    {
     "name": "stderr",
     "output_type": "stream",
     "text": [
      "[Parallel(n_jobs=-1)]: Using backend LokyBackend with 6 concurrent workers.\n",
      "[Parallel(n_jobs=-1)]: Done  30 out of  30 | elapsed:    7.2s finished\n"
     ]
    },
    {
     "name": "stdout",
     "output_type": "stream",
     "text": [
      "Fitting 3 folds for each of 10 candidates, totalling 30 fits\n"
     ]
    },
    {
     "name": "stderr",
     "output_type": "stream",
     "text": [
      "[Parallel(n_jobs=-1)]: Using backend LokyBackend with 6 concurrent workers.\n",
      "[Parallel(n_jobs=-1)]: Done  30 out of  30 | elapsed:    7.2s finished\n"
     ]
    },
    {
     "name": "stdout",
     "output_type": "stream",
     "text": [
      "Fitting 3 folds for each of 10 candidates, totalling 30 fits\n"
     ]
    },
    {
     "name": "stderr",
     "output_type": "stream",
     "text": [
      "[Parallel(n_jobs=-1)]: Using backend LokyBackend with 6 concurrent workers.\n",
      "[Parallel(n_jobs=-1)]: Done  30 out of  30 | elapsed:    7.6s finished\n"
     ]
    },
    {
     "name": "stdout",
     "output_type": "stream",
     "text": [
      "Fitting 3 folds for each of 10 candidates, totalling 30 fits\n"
     ]
    },
    {
     "name": "stderr",
     "output_type": "stream",
     "text": [
      "[Parallel(n_jobs=-1)]: Using backend LokyBackend with 6 concurrent workers.\n",
      "[Parallel(n_jobs=-1)]: Done  30 out of  30 | elapsed:    7.3s finished\n"
     ]
    },
    {
     "name": "stdout",
     "output_type": "stream",
     "text": [
      "Fitting 3 folds for each of 10 candidates, totalling 30 fits\n"
     ]
    },
    {
     "name": "stderr",
     "output_type": "stream",
     "text": [
      "[Parallel(n_jobs=-1)]: Using backend LokyBackend with 6 concurrent workers.\n",
      "[Parallel(n_jobs=-1)]: Done  30 out of  30 | elapsed:    7.3s finished\n"
     ]
    },
    {
     "name": "stdout",
     "output_type": "stream",
     "text": [
      "Fitting 3 folds for each of 10 candidates, totalling 30 fits\n"
     ]
    },
    {
     "name": "stderr",
     "output_type": "stream",
     "text": [
      "[Parallel(n_jobs=-1)]: Using backend LokyBackend with 6 concurrent workers.\n",
      "[Parallel(n_jobs=-1)]: Done  30 out of  30 | elapsed:    7.5s finished\n"
     ]
    },
    {
     "name": "stdout",
     "output_type": "stream",
     "text": [
      "Fitting 3 folds for each of 10 candidates, totalling 30 fits\n"
     ]
    },
    {
     "name": "stderr",
     "output_type": "stream",
     "text": [
      "[Parallel(n_jobs=-1)]: Using backend LokyBackend with 6 concurrent workers.\n",
      "[Parallel(n_jobs=-1)]: Done  30 out of  30 | elapsed:    7.6s finished\n"
     ]
    },
    {
     "name": "stdout",
     "output_type": "stream",
     "text": [
      "Fitting 3 folds for each of 10 candidates, totalling 30 fits\n"
     ]
    },
    {
     "name": "stderr",
     "output_type": "stream",
     "text": [
      "[Parallel(n_jobs=-1)]: Using backend LokyBackend with 6 concurrent workers.\n",
      "[Parallel(n_jobs=-1)]: Done  30 out of  30 | elapsed:    7.7s finished\n"
     ]
    },
    {
     "name": "stdout",
     "output_type": "stream",
     "text": [
      "Fitting 3 folds for each of 10 candidates, totalling 30 fits\n"
     ]
    },
    {
     "name": "stderr",
     "output_type": "stream",
     "text": [
      "[Parallel(n_jobs=-1)]: Using backend LokyBackend with 6 concurrent workers.\n",
      "[Parallel(n_jobs=-1)]: Done  30 out of  30 | elapsed:    7.5s finished\n"
     ]
    },
    {
     "name": "stdout",
     "output_type": "stream",
     "text": [
      "Fitting 3 folds for each of 10 candidates, totalling 30 fits\n"
     ]
    },
    {
     "name": "stderr",
     "output_type": "stream",
     "text": [
      "[Parallel(n_jobs=-1)]: Using backend LokyBackend with 6 concurrent workers.\n",
      "[Parallel(n_jobs=-1)]: Done  30 out of  30 | elapsed:    7.4s finished\n"
     ]
    },
    {
     "name": "stdout",
     "output_type": "stream",
     "text": [
      "Fitting 3 folds for each of 10 candidates, totalling 30 fits\n"
     ]
    },
    {
     "name": "stderr",
     "output_type": "stream",
     "text": [
      "[Parallel(n_jobs=-1)]: Using backend LokyBackend with 6 concurrent workers.\n",
      "[Parallel(n_jobs=-1)]: Done  30 out of  30 | elapsed:    7.1s finished\n"
     ]
    },
    {
     "name": "stdout",
     "output_type": "stream",
     "text": [
      "Fitting 3 folds for each of 10 candidates, totalling 30 fits\n"
     ]
    },
    {
     "name": "stderr",
     "output_type": "stream",
     "text": [
      "[Parallel(n_jobs=-1)]: Using backend LokyBackend with 6 concurrent workers.\n",
      "[Parallel(n_jobs=-1)]: Done  30 out of  30 | elapsed:    7.4s finished\n"
     ]
    },
    {
     "name": "stdout",
     "output_type": "stream",
     "text": [
      "Fitting 3 folds for each of 10 candidates, totalling 30 fits\n"
     ]
    },
    {
     "name": "stderr",
     "output_type": "stream",
     "text": [
      "[Parallel(n_jobs=-1)]: Using backend LokyBackend with 6 concurrent workers.\n",
      "[Parallel(n_jobs=-1)]: Done  30 out of  30 | elapsed:    7.5s finished\n"
     ]
    },
    {
     "name": "stdout",
     "output_type": "stream",
     "text": [
      "Fitting 3 folds for each of 10 candidates, totalling 30 fits\n"
     ]
    },
    {
     "name": "stderr",
     "output_type": "stream",
     "text": [
      "[Parallel(n_jobs=-1)]: Using backend LokyBackend with 6 concurrent workers.\n",
      "[Parallel(n_jobs=-1)]: Done  30 out of  30 | elapsed:    7.5s finished\n"
     ]
    },
    {
     "name": "stdout",
     "output_type": "stream",
     "text": [
      "\n",
      "\n",
      "########################### classification report for 애모기 KUa ###########################\n",
      "              precision    recall  f1-score   support\n",
      "\n",
      "           0       0.98      0.99      0.99       161\n",
      "           1       0.80      0.57      0.67         7\n",
      "\n",
      "    accuracy                           0.98       168\n",
      "   macro avg       0.89      0.78      0.83       168\n",
      "weighted avg       0.97      0.98      0.97       168\n",
      "\n",
      "ROC/AUC:  0.7826086956521738\n",
      "ACC:  0.9761904761904762\n",
      "PREC:  0.8\n",
      "RECALL:  0.5714285714285714\n",
      "F1:  0.6666666666666666\n",
      "MCC:  0.6646586635036003\n",
      "Confusion Matrix: \n",
      " [[160   1]\n",
      " [  3   4]]\n",
      "\n",
      "\n",
      "Fitting 3 folds for each of 10 candidates, totalling 30 fits\n"
     ]
    },
    {
     "name": "stderr",
     "output_type": "stream",
     "text": [
      "[Parallel(n_jobs=-1)]: Using backend LokyBackend with 6 concurrent workers.\n",
      "[Parallel(n_jobs=-1)]: Done  30 out of  30 | elapsed:    7.4s finished\n"
     ]
    },
    {
     "name": "stdout",
     "output_type": "stream",
     "text": [
      "\n",
      "\n",
      "########################### classification report for 금빛하루살이 ###########################\n",
      "              precision    recall  f1-score   support\n",
      "\n",
      "           0       0.99      1.00      0.99       164\n",
      "           1       1.00      0.50      0.67         4\n",
      "\n",
      "    accuracy                           0.99       168\n",
      "   macro avg       0.99      0.75      0.83       168\n",
      "weighted avg       0.99      0.99      0.99       168\n",
      "\n",
      "ROC/AUC:  0.75\n",
      "ACC:  0.9880952380952381\n",
      "PREC:  1.0\n",
      "RECALL:  0.5\n",
      "F1:  0.6666666666666666\n",
      "MCC:  0.7028341935438669\n",
      "Confusion Matrix: \n",
      " [[164   0]\n",
      " [  2   2]]\n",
      "\n",
      "\n",
      "Fitting 3 folds for each of 10 candidates, totalling 30 fits\n"
     ]
    },
    {
     "name": "stderr",
     "output_type": "stream",
     "text": [
      "[Parallel(n_jobs=-1)]: Using backend LokyBackend with 6 concurrent workers.\n",
      "[Parallel(n_jobs=-1)]: Done  30 out of  30 | elapsed:    7.0s finished\n"
     ]
    },
    {
     "name": "stdout",
     "output_type": "stream",
     "text": [
      "\n",
      "\n",
      "########################### classification report for 깔따구류 sp.1 ###########################\n",
      "              precision    recall  f1-score   support\n",
      "\n",
      "           0       0.99      0.99      0.99       164\n",
      "           1       0.67      0.50      0.57         4\n",
      "\n",
      "    accuracy                           0.98       168\n",
      "   macro avg       0.83      0.75      0.78       168\n",
      "weighted avg       0.98      0.98      0.98       168\n",
      "\n",
      "ROC/AUC:  0.746951219512195\n",
      "ACC:  0.9821428571428571\n",
      "PREC:  0.6666666666666666\n",
      "RECALL:  0.5\n",
      "F1:  0.5714285714285715\n",
      "MCC:  0.5685785754425927\n",
      "Confusion Matrix: \n",
      " [[163   1]\n",
      " [  2   2]]\n",
      "\n",
      "\n",
      "Fitting 3 folds for each of 10 candidates, totalling 30 fits\n"
     ]
    },
    {
     "name": "stderr",
     "output_type": "stream",
     "text": [
      "[Parallel(n_jobs=-1)]: Using backend LokyBackend with 6 concurrent workers.\n",
      "[Parallel(n_jobs=-1)]: Done  30 out of  30 | elapsed:    7.2s finished\n"
     ]
    },
    {
     "name": "stdout",
     "output_type": "stream",
     "text": [
      "Fitting 3 folds for each of 10 candidates, totalling 30 fits\n"
     ]
    },
    {
     "name": "stderr",
     "output_type": "stream",
     "text": [
      "[Parallel(n_jobs=-1)]: Using backend LokyBackend with 6 concurrent workers.\n",
      "[Parallel(n_jobs=-1)]: Done  30 out of  30 | elapsed:    7.5s finished\n"
     ]
    },
    {
     "name": "stdout",
     "output_type": "stream",
     "text": [
      "Fitting 3 folds for each of 10 candidates, totalling 30 fits\n"
     ]
    },
    {
     "name": "stderr",
     "output_type": "stream",
     "text": [
      "[Parallel(n_jobs=-1)]: Using backend LokyBackend with 6 concurrent workers.\n",
      "[Parallel(n_jobs=-1)]: Done  30 out of  30 | elapsed:    7.5s finished\n"
     ]
    },
    {
     "name": "stdout",
     "output_type": "stream",
     "text": [
      "Fitting 3 folds for each of 10 candidates, totalling 30 fits\n"
     ]
    },
    {
     "name": "stderr",
     "output_type": "stream",
     "text": [
      "[Parallel(n_jobs=-1)]: Using backend LokyBackend with 6 concurrent workers.\n",
      "[Parallel(n_jobs=-1)]: Done  30 out of  30 | elapsed:    7.2s finished\n"
     ]
    },
    {
     "name": "stdout",
     "output_type": "stream",
     "text": [
      "Fitting 3 folds for each of 10 candidates, totalling 30 fits\n"
     ]
    },
    {
     "name": "stderr",
     "output_type": "stream",
     "text": [
      "[Parallel(n_jobs=-1)]: Using backend LokyBackend with 6 concurrent workers.\n",
      "[Parallel(n_jobs=-1)]: Done  30 out of  30 | elapsed:    7.1s finished\n"
     ]
    },
    {
     "name": "stdout",
     "output_type": "stream",
     "text": [
      "Fitting 3 folds for each of 10 candidates, totalling 30 fits\n"
     ]
    },
    {
     "name": "stderr",
     "output_type": "stream",
     "text": [
      "[Parallel(n_jobs=-1)]: Using backend LokyBackend with 6 concurrent workers.\n",
      "[Parallel(n_jobs=-1)]: Done  30 out of  30 | elapsed:    7.5s finished\n"
     ]
    },
    {
     "name": "stdout",
     "output_type": "stream",
     "text": [
      "Fitting 3 folds for each of 10 candidates, totalling 30 fits\n"
     ]
    },
    {
     "name": "stderr",
     "output_type": "stream",
     "text": [
      "[Parallel(n_jobs=-1)]: Using backend LokyBackend with 6 concurrent workers.\n",
      "[Parallel(n_jobs=-1)]: Done  30 out of  30 | elapsed:    7.5s finished\n"
     ]
    },
    {
     "name": "stdout",
     "output_type": "stream",
     "text": [
      "Fitting 3 folds for each of 10 candidates, totalling 30 fits\n"
     ]
    },
    {
     "name": "stderr",
     "output_type": "stream",
     "text": [
      "[Parallel(n_jobs=-1)]: Using backend LokyBackend with 6 concurrent workers.\n",
      "[Parallel(n_jobs=-1)]: Done  30 out of  30 | elapsed:    7.5s finished\n"
     ]
    },
    {
     "name": "stdout",
     "output_type": "stream",
     "text": [
      "Fitting 3 folds for each of 10 candidates, totalling 30 fits\n"
     ]
    },
    {
     "name": "stderr",
     "output_type": "stream",
     "text": [
      "[Parallel(n_jobs=-1)]: Using backend LokyBackend with 6 concurrent workers.\n",
      "[Parallel(n_jobs=-1)]: Done  30 out of  30 | elapsed:    7.4s finished\n"
     ]
    },
    {
     "name": "stdout",
     "output_type": "stream",
     "text": [
      "Fitting 3 folds for each of 10 candidates, totalling 30 fits\n"
     ]
    },
    {
     "name": "stderr",
     "output_type": "stream",
     "text": [
      "[Parallel(n_jobs=-1)]: Using backend LokyBackend with 6 concurrent workers.\n",
      "[Parallel(n_jobs=-1)]: Done  30 out of  30 | elapsed:    7.5s finished\n"
     ]
    },
    {
     "name": "stdout",
     "output_type": "stream",
     "text": [
      "Fitting 3 folds for each of 10 candidates, totalling 30 fits\n"
     ]
    },
    {
     "name": "stderr",
     "output_type": "stream",
     "text": [
      "[Parallel(n_jobs=-1)]: Using backend LokyBackend with 6 concurrent workers.\n",
      "[Parallel(n_jobs=-1)]: Done  30 out of  30 | elapsed:    7.3s finished\n"
     ]
    },
    {
     "name": "stdout",
     "output_type": "stream",
     "text": [
      "Fitting 3 folds for each of 10 candidates, totalling 30 fits\n"
     ]
    },
    {
     "name": "stderr",
     "output_type": "stream",
     "text": [
      "[Parallel(n_jobs=-1)]: Using backend LokyBackend with 6 concurrent workers.\n",
      "[Parallel(n_jobs=-1)]: Done  30 out of  30 | elapsed:    7.4s finished\n"
     ]
    },
    {
     "name": "stdout",
     "output_type": "stream",
     "text": [
      "Fitting 3 folds for each of 10 candidates, totalling 30 fits\n"
     ]
    },
    {
     "name": "stderr",
     "output_type": "stream",
     "text": [
      "[Parallel(n_jobs=-1)]: Using backend LokyBackend with 6 concurrent workers.\n",
      "[Parallel(n_jobs=-1)]: Done  30 out of  30 | elapsed:    7.2s finished\n"
     ]
    },
    {
     "name": "stdout",
     "output_type": "stream",
     "text": [
      "Fitting 3 folds for each of 10 candidates, totalling 30 fits\n"
     ]
    },
    {
     "name": "stderr",
     "output_type": "stream",
     "text": [
      "[Parallel(n_jobs=-1)]: Using backend LokyBackend with 6 concurrent workers.\n",
      "[Parallel(n_jobs=-1)]: Done  30 out of  30 | elapsed:    7.4s finished\n"
     ]
    },
    {
     "name": "stdout",
     "output_type": "stream",
     "text": [
      "Fitting 3 folds for each of 10 candidates, totalling 30 fits\n"
     ]
    },
    {
     "name": "stderr",
     "output_type": "stream",
     "text": [
      "[Parallel(n_jobs=-1)]: Using backend LokyBackend with 6 concurrent workers.\n",
      "[Parallel(n_jobs=-1)]: Done  30 out of  30 | elapsed:    7.6s finished\n"
     ]
    },
    {
     "name": "stdout",
     "output_type": "stream",
     "text": [
      "Fitting 3 folds for each of 10 candidates, totalling 30 fits\n"
     ]
    },
    {
     "name": "stderr",
     "output_type": "stream",
     "text": [
      "[Parallel(n_jobs=-1)]: Using backend LokyBackend with 6 concurrent workers.\n",
      "[Parallel(n_jobs=-1)]: Done  30 out of  30 | elapsed:    7.5s finished\n"
     ]
    },
    {
     "name": "stdout",
     "output_type": "stream",
     "text": [
      "Fitting 3 folds for each of 10 candidates, totalling 30 fits\n"
     ]
    },
    {
     "name": "stderr",
     "output_type": "stream",
     "text": [
      "[Parallel(n_jobs=-1)]: Using backend LokyBackend with 6 concurrent workers.\n",
      "[Parallel(n_jobs=-1)]: Done  30 out of  30 | elapsed:    7.2s finished\n"
     ]
    },
    {
     "name": "stdout",
     "output_type": "stream",
     "text": [
      "Fitting 3 folds for each of 10 candidates, totalling 30 fits\n"
     ]
    },
    {
     "name": "stderr",
     "output_type": "stream",
     "text": [
      "[Parallel(n_jobs=-1)]: Using backend LokyBackend with 6 concurrent workers.\n",
      "[Parallel(n_jobs=-1)]: Done  30 out of  30 | elapsed:    7.2s finished\n"
     ]
    },
    {
     "name": "stdout",
     "output_type": "stream",
     "text": [
      "\n",
      "\n",
      "########################### classification report for 늪깔따구류 ###########################\n",
      "              precision    recall  f1-score   support\n",
      "\n",
      "           0       0.98      0.99      0.98       161\n",
      "           1       0.67      0.57      0.62         7\n",
      "\n",
      "    accuracy                           0.97       168\n",
      "   macro avg       0.82      0.78      0.80       168\n",
      "weighted avg       0.97      0.97      0.97       168\n",
      "\n",
      "ROC/AUC:  0.7795031055900621\n",
      "ACC:  0.9702380952380952\n",
      "PREC:  0.6666666666666666\n",
      "RECALL:  0.5714285714285714\n",
      "F1:  0.6153846153846153\n",
      "MCC:  0.601929265428846\n",
      "Confusion Matrix: \n",
      " [[159   2]\n",
      " [  3   4]]\n",
      "\n",
      "\n",
      "Fitting 3 folds for each of 10 candidates, totalling 30 fits\n"
     ]
    },
    {
     "name": "stderr",
     "output_type": "stream",
     "text": [
      "[Parallel(n_jobs=-1)]: Using backend LokyBackend with 6 concurrent workers.\n",
      "[Parallel(n_jobs=-1)]: Done  30 out of  30 | elapsed:    7.4s finished\n"
     ]
    },
    {
     "name": "stdout",
     "output_type": "stream",
     "text": [
      "Fitting 3 folds for each of 10 candidates, totalling 30 fits\n"
     ]
    },
    {
     "name": "stderr",
     "output_type": "stream",
     "text": [
      "[Parallel(n_jobs=-1)]: Using backend LokyBackend with 6 concurrent workers.\n",
      "[Parallel(n_jobs=-1)]: Done  30 out of  30 | elapsed:    7.3s finished\n"
     ]
    },
    {
     "name": "stdout",
     "output_type": "stream",
     "text": [
      "Fitting 3 folds for each of 10 candidates, totalling 30 fits\n"
     ]
    },
    {
     "name": "stderr",
     "output_type": "stream",
     "text": [
      "[Parallel(n_jobs=-1)]: Using backend LokyBackend with 6 concurrent workers.\n",
      "[Parallel(n_jobs=-1)]: Done  30 out of  30 | elapsed:    7.5s finished\n"
     ]
    },
    {
     "name": "stdout",
     "output_type": "stream",
     "text": [
      "Fitting 3 folds for each of 10 candidates, totalling 30 fits\n"
     ]
    },
    {
     "name": "stderr",
     "output_type": "stream",
     "text": [
      "[Parallel(n_jobs=-1)]: Using backend LokyBackend with 6 concurrent workers.\n",
      "[Parallel(n_jobs=-1)]: Done  30 out of  30 | elapsed:    7.2s finished\n"
     ]
    },
    {
     "name": "stdout",
     "output_type": "stream",
     "text": [
      "Fitting 3 folds for each of 10 candidates, totalling 30 fits\n"
     ]
    },
    {
     "name": "stderr",
     "output_type": "stream",
     "text": [
      "[Parallel(n_jobs=-1)]: Using backend LokyBackend with 6 concurrent workers.\n",
      "[Parallel(n_jobs=-1)]: Done  30 out of  30 | elapsed:    7.7s finished\n"
     ]
    },
    {
     "name": "stdout",
     "output_type": "stream",
     "text": [
      "Fitting 3 folds for each of 10 candidates, totalling 30 fits\n"
     ]
    },
    {
     "name": "stderr",
     "output_type": "stream",
     "text": [
      "[Parallel(n_jobs=-1)]: Using backend LokyBackend with 6 concurrent workers.\n",
      "[Parallel(n_jobs=-1)]: Done  30 out of  30 | elapsed:    7.5s finished\n"
     ]
    },
    {
     "name": "stdout",
     "output_type": "stream",
     "text": [
      "Fitting 3 folds for each of 10 candidates, totalling 30 fits\n"
     ]
    },
    {
     "name": "stderr",
     "output_type": "stream",
     "text": [
      "[Parallel(n_jobs=-1)]: Using backend LokyBackend with 6 concurrent workers.\n",
      "[Parallel(n_jobs=-1)]: Done  30 out of  30 | elapsed:    8.2s finished\n"
     ]
    },
    {
     "name": "stdout",
     "output_type": "stream",
     "text": [
      "Fitting 3 folds for each of 10 candidates, totalling 30 fits\n"
     ]
    },
    {
     "name": "stderr",
     "output_type": "stream",
     "text": [
      "[Parallel(n_jobs=-1)]: Using backend LokyBackend with 6 concurrent workers.\n",
      "[Parallel(n_jobs=-1)]: Done  30 out of  30 | elapsed:    7.5s finished\n"
     ]
    },
    {
     "name": "stdout",
     "output_type": "stream",
     "text": [
      "Fitting 3 folds for each of 10 candidates, totalling 30 fits\n"
     ]
    },
    {
     "name": "stderr",
     "output_type": "stream",
     "text": [
      "[Parallel(n_jobs=-1)]: Using backend LokyBackend with 6 concurrent workers.\n",
      "[Parallel(n_jobs=-1)]: Done  30 out of  30 | elapsed:    7.5s finished\n"
     ]
    },
    {
     "name": "stdout",
     "output_type": "stream",
     "text": [
      "Fitting 3 folds for each of 10 candidates, totalling 30 fits\n"
     ]
    },
    {
     "name": "stderr",
     "output_type": "stream",
     "text": [
      "[Parallel(n_jobs=-1)]: Using backend LokyBackend with 6 concurrent workers.\n",
      "[Parallel(n_jobs=-1)]: Done  30 out of  30 | elapsed:    7.5s finished\n"
     ]
    },
    {
     "name": "stdout",
     "output_type": "stream",
     "text": [
      "Fitting 3 folds for each of 10 candidates, totalling 30 fits\n"
     ]
    },
    {
     "name": "stderr",
     "output_type": "stream",
     "text": [
      "[Parallel(n_jobs=-1)]: Using backend LokyBackend with 6 concurrent workers.\n",
      "[Parallel(n_jobs=-1)]: Done  30 out of  30 | elapsed:    7.5s finished\n"
     ]
    },
    {
     "name": "stdout",
     "output_type": "stream",
     "text": [
      "Fitting 3 folds for each of 10 candidates, totalling 30 fits\n"
     ]
    },
    {
     "name": "stderr",
     "output_type": "stream",
     "text": [
      "[Parallel(n_jobs=-1)]: Using backend LokyBackend with 6 concurrent workers.\n",
      "[Parallel(n_jobs=-1)]: Done  30 out of  30 | elapsed:    7.8s finished\n"
     ]
    },
    {
     "name": "stdout",
     "output_type": "stream",
     "text": [
      "Fitting 3 folds for each of 10 candidates, totalling 30 fits\n"
     ]
    },
    {
     "name": "stderr",
     "output_type": "stream",
     "text": [
      "[Parallel(n_jobs=-1)]: Using backend LokyBackend with 6 concurrent workers.\n",
      "[Parallel(n_jobs=-1)]: Done  30 out of  30 | elapsed:    7.4s finished\n"
     ]
    },
    {
     "name": "stdout",
     "output_type": "stream",
     "text": [
      "Fitting 3 folds for each of 10 candidates, totalling 30 fits\n"
     ]
    },
    {
     "name": "stderr",
     "output_type": "stream",
     "text": [
      "[Parallel(n_jobs=-1)]: Using backend LokyBackend with 6 concurrent workers.\n",
      "[Parallel(n_jobs=-1)]: Done  30 out of  30 | elapsed:    8.1s finished\n"
     ]
    },
    {
     "name": "stdout",
     "output_type": "stream",
     "text": [
      "Fitting 3 folds for each of 10 candidates, totalling 30 fits\n"
     ]
    },
    {
     "name": "stderr",
     "output_type": "stream",
     "text": [
      "[Parallel(n_jobs=-1)]: Using backend LokyBackend with 6 concurrent workers.\n",
      "[Parallel(n_jobs=-1)]: Done  30 out of  30 | elapsed:    7.7s finished\n"
     ]
    },
    {
     "name": "stdout",
     "output_type": "stream",
     "text": [
      "Fitting 3 folds for each of 10 candidates, totalling 30 fits\n"
     ]
    },
    {
     "name": "stderr",
     "output_type": "stream",
     "text": [
      "[Parallel(n_jobs=-1)]: Using backend LokyBackend with 6 concurrent workers.\n",
      "[Parallel(n_jobs=-1)]: Done  30 out of  30 | elapsed:    8.0s finished\n"
     ]
    },
    {
     "name": "stdout",
     "output_type": "stream",
     "text": [
      "Fitting 3 folds for each of 10 candidates, totalling 30 fits\n"
     ]
    },
    {
     "name": "stderr",
     "output_type": "stream",
     "text": [
      "[Parallel(n_jobs=-1)]: Using backend LokyBackend with 6 concurrent workers.\n",
      "[Parallel(n_jobs=-1)]: Done  30 out of  30 | elapsed:    7.4s finished\n"
     ]
    },
    {
     "name": "stdout",
     "output_type": "stream",
     "text": [
      "Fitting 3 folds for each of 10 candidates, totalling 30 fits\n"
     ]
    },
    {
     "name": "stderr",
     "output_type": "stream",
     "text": [
      "[Parallel(n_jobs=-1)]: Using backend LokyBackend with 6 concurrent workers.\n",
      "[Parallel(n_jobs=-1)]: Done  30 out of  30 | elapsed:    7.8s finished\n"
     ]
    },
    {
     "name": "stdout",
     "output_type": "stream",
     "text": [
      "Fitting 3 folds for each of 10 candidates, totalling 30 fits\n"
     ]
    },
    {
     "name": "stderr",
     "output_type": "stream",
     "text": [
      "[Parallel(n_jobs=-1)]: Using backend LokyBackend with 6 concurrent workers.\n",
      "[Parallel(n_jobs=-1)]: Done  30 out of  30 | elapsed:    7.6s finished\n"
     ]
    },
    {
     "name": "stdout",
     "output_type": "stream",
     "text": [
      "Fitting 3 folds for each of 10 candidates, totalling 30 fits\n"
     ]
    },
    {
     "name": "stderr",
     "output_type": "stream",
     "text": [
      "[Parallel(n_jobs=-1)]: Using backend LokyBackend with 6 concurrent workers.\n",
      "[Parallel(n_jobs=-1)]: Done  30 out of  30 | elapsed:    7.4s finished\n"
     ]
    },
    {
     "name": "stdout",
     "output_type": "stream",
     "text": [
      "Fitting 3 folds for each of 10 candidates, totalling 30 fits\n"
     ]
    },
    {
     "name": "stderr",
     "output_type": "stream",
     "text": [
      "[Parallel(n_jobs=-1)]: Using backend LokyBackend with 6 concurrent workers.\n",
      "[Parallel(n_jobs=-1)]: Done  30 out of  30 | elapsed:    7.6s finished\n"
     ]
    },
    {
     "name": "stdout",
     "output_type": "stream",
     "text": [
      "Fitting 3 folds for each of 10 candidates, totalling 30 fits\n"
     ]
    },
    {
     "name": "stderr",
     "output_type": "stream",
     "text": [
      "[Parallel(n_jobs=-1)]: Using backend LokyBackend with 6 concurrent workers.\n",
      "[Parallel(n_jobs=-1)]: Done  30 out of  30 | elapsed:    8.0s finished\n"
     ]
    },
    {
     "name": "stdout",
     "output_type": "stream",
     "text": [
      "Fitting 3 folds for each of 10 candidates, totalling 30 fits\n"
     ]
    },
    {
     "name": "stderr",
     "output_type": "stream",
     "text": [
      "[Parallel(n_jobs=-1)]: Using backend LokyBackend with 6 concurrent workers.\n",
      "[Parallel(n_jobs=-1)]: Done  30 out of  30 | elapsed:    7.8s finished\n"
     ]
    },
    {
     "name": "stdout",
     "output_type": "stream",
     "text": [
      "Fitting 3 folds for each of 10 candidates, totalling 30 fits\n"
     ]
    },
    {
     "name": "stderr",
     "output_type": "stream",
     "text": [
      "[Parallel(n_jobs=-1)]: Using backend LokyBackend with 6 concurrent workers.\n",
      "[Parallel(n_jobs=-1)]: Done  30 out of  30 | elapsed:    8.3s finished\n"
     ]
    },
    {
     "name": "stdout",
     "output_type": "stream",
     "text": [
      "Fitting 3 folds for each of 10 candidates, totalling 30 fits\n"
     ]
    },
    {
     "name": "stderr",
     "output_type": "stream",
     "text": [
      "[Parallel(n_jobs=-1)]: Using backend LokyBackend with 6 concurrent workers.\n",
      "[Parallel(n_jobs=-1)]: Done  30 out of  30 | elapsed:    7.6s finished\n"
     ]
    },
    {
     "name": "stdout",
     "output_type": "stream",
     "text": [
      "\n",
      "\n",
      "########################### classification report for 알물땡땡이 ###########################\n",
      "              precision    recall  f1-score   support\n",
      "\n",
      "           0       0.98      0.98      0.98       161\n",
      "           1       0.57      0.57      0.57         7\n",
      "\n",
      "    accuracy                           0.96       168\n",
      "   macro avg       0.78      0.78      0.78       168\n",
      "weighted avg       0.96      0.96      0.96       168\n",
      "\n",
      "ROC/AUC:  0.7763975155279502\n",
      "ACC:  0.9642857142857143\n",
      "PREC:  0.5714285714285714\n",
      "RECALL:  0.5714285714285714\n",
      "F1:  0.5714285714285714\n",
      "MCC:  0.5527950310559007\n",
      "Confusion Matrix: \n",
      " [[158   3]\n",
      " [  3   4]]\n",
      "\n",
      "\n",
      "Fitting 3 folds for each of 10 candidates, totalling 30 fits\n"
     ]
    },
    {
     "name": "stderr",
     "output_type": "stream",
     "text": [
      "[Parallel(n_jobs=-1)]: Using backend LokyBackend with 6 concurrent workers.\n",
      "[Parallel(n_jobs=-1)]: Done  30 out of  30 | elapsed:    7.4s finished\n"
     ]
    },
    {
     "name": "stdout",
     "output_type": "stream",
     "text": [
      "Fitting 3 folds for each of 10 candidates, totalling 30 fits\n"
     ]
    },
    {
     "name": "stderr",
     "output_type": "stream",
     "text": [
      "[Parallel(n_jobs=-1)]: Using backend LokyBackend with 6 concurrent workers.\n",
      "[Parallel(n_jobs=-1)]: Done  30 out of  30 | elapsed:    7.5s finished\n"
     ]
    },
    {
     "name": "stdout",
     "output_type": "stream",
     "text": [
      "Fitting 3 folds for each of 10 candidates, totalling 30 fits\n"
     ]
    },
    {
     "name": "stderr",
     "output_type": "stream",
     "text": [
      "[Parallel(n_jobs=-1)]: Using backend LokyBackend with 6 concurrent workers.\n",
      "[Parallel(n_jobs=-1)]: Done  30 out of  30 | elapsed:    7.5s finished\n"
     ]
    },
    {
     "name": "stdout",
     "output_type": "stream",
     "text": [
      "Fitting 3 folds for each of 10 candidates, totalling 30 fits\n"
     ]
    },
    {
     "name": "stderr",
     "output_type": "stream",
     "text": [
      "[Parallel(n_jobs=-1)]: Using backend LokyBackend with 6 concurrent workers.\n",
      "[Parallel(n_jobs=-1)]: Done  30 out of  30 | elapsed:    7.9s finished\n"
     ]
    },
    {
     "name": "stdout",
     "output_type": "stream",
     "text": [
      "Fitting 3 folds for each of 10 candidates, totalling 30 fits\n"
     ]
    },
    {
     "name": "stderr",
     "output_type": "stream",
     "text": [
      "[Parallel(n_jobs=-1)]: Using backend LokyBackend with 6 concurrent workers.\n",
      "[Parallel(n_jobs=-1)]: Done  30 out of  30 | elapsed:    7.9s finished\n"
     ]
    },
    {
     "name": "stdout",
     "output_type": "stream",
     "text": [
      "Fitting 3 folds for each of 10 candidates, totalling 30 fits\n"
     ]
    },
    {
     "name": "stderr",
     "output_type": "stream",
     "text": [
      "[Parallel(n_jobs=-1)]: Using backend LokyBackend with 6 concurrent workers.\n",
      "[Parallel(n_jobs=-1)]: Done  30 out of  30 | elapsed:    7.6s finished\n"
     ]
    },
    {
     "name": "stdout",
     "output_type": "stream",
     "text": [
      "Fitting 3 folds for each of 10 candidates, totalling 30 fits\n"
     ]
    },
    {
     "name": "stderr",
     "output_type": "stream",
     "text": [
      "[Parallel(n_jobs=-1)]: Using backend LokyBackend with 6 concurrent workers.\n",
      "[Parallel(n_jobs=-1)]: Done  30 out of  30 | elapsed:    7.2s finished\n"
     ]
    },
    {
     "name": "stdout",
     "output_type": "stream",
     "text": [
      "Fitting 3 folds for each of 10 candidates, totalling 30 fits\n"
     ]
    },
    {
     "name": "stderr",
     "output_type": "stream",
     "text": [
      "[Parallel(n_jobs=-1)]: Using backend LokyBackend with 6 concurrent workers.\n",
      "[Parallel(n_jobs=-1)]: Done  30 out of  30 | elapsed:    7.3s finished\n"
     ]
    },
    {
     "name": "stdout",
     "output_type": "stream",
     "text": [
      "Fitting 3 folds for each of 10 candidates, totalling 30 fits\n"
     ]
    },
    {
     "name": "stderr",
     "output_type": "stream",
     "text": [
      "[Parallel(n_jobs=-1)]: Using backend LokyBackend with 6 concurrent workers.\n",
      "[Parallel(n_jobs=-1)]: Done  30 out of  30 | elapsed:    7.4s finished\n"
     ]
    },
    {
     "name": "stdout",
     "output_type": "stream",
     "text": [
      "Fitting 3 folds for each of 10 candidates, totalling 30 fits\n"
     ]
    },
    {
     "name": "stderr",
     "output_type": "stream",
     "text": [
      "[Parallel(n_jobs=-1)]: Using backend LokyBackend with 6 concurrent workers.\n",
      "[Parallel(n_jobs=-1)]: Done  30 out of  30 | elapsed:    7.6s finished\n"
     ]
    },
    {
     "name": "stdout",
     "output_type": "stream",
     "text": [
      "Fitting 3 folds for each of 10 candidates, totalling 30 fits\n"
     ]
    },
    {
     "name": "stderr",
     "output_type": "stream",
     "text": [
      "[Parallel(n_jobs=-1)]: Using backend LokyBackend with 6 concurrent workers.\n",
      "[Parallel(n_jobs=-1)]: Done  30 out of  30 | elapsed:    7.6s finished\n"
     ]
    },
    {
     "name": "stdout",
     "output_type": "stream",
     "text": [
      "Fitting 3 folds for each of 10 candidates, totalling 30 fits\n"
     ]
    },
    {
     "name": "stderr",
     "output_type": "stream",
     "text": [
      "[Parallel(n_jobs=-1)]: Using backend LokyBackend with 6 concurrent workers.\n",
      "[Parallel(n_jobs=-1)]: Done  30 out of  30 | elapsed:    8.0s finished\n"
     ]
    },
    {
     "name": "stdout",
     "output_type": "stream",
     "text": [
      "Fitting 3 folds for each of 10 candidates, totalling 30 fits\n"
     ]
    },
    {
     "name": "stderr",
     "output_type": "stream",
     "text": [
      "[Parallel(n_jobs=-1)]: Using backend LokyBackend with 6 concurrent workers.\n",
      "[Parallel(n_jobs=-1)]: Done  30 out of  30 | elapsed:    7.9s finished\n"
     ]
    }
   ],
   "source": [
    "dir_name = '/Users/shinbo/Desktop/contest/environ/concat_data/bnin/etc/2%~5%/'\n",
    "dir_list = os.listdir(dir_name)\n",
    "dict_model_rf = {}\n",
    "save_dir = '/Users/shinbo/Desktop/contest/environ/model/bnin/'\n",
    "\n",
    "\n",
    "# Number of trees in random forest\n",
    "n_estimators = [int(x) for x in np.linspace(start = 200, stop = 2000, num = 10)]\n",
    "# Number of features to consider at every split\n",
    "max_features = ['auto', 'sqrt']\n",
    "# Maximum number of levels in tree\n",
    "max_depth = [int(x) for x in np.linspace(10, 110, num = 11)]\n",
    "max_depth.append(None)\n",
    "# Minimum number of samples required to split a node\n",
    "min_samples_split = [2, 5, 10]\n",
    "# Minimum number of samples required at each leaf node\n",
    "min_samples_leaf = [1, 2, 4]\n",
    "# Method of selecting samples for training each tree\n",
    "bootstrap = [True, False]\n",
    "# Create the random grid\n",
    "params = {'n_estimators': n_estimators,\n",
    "               'max_features': max_features,\n",
    "               'max_depth': max_depth,\n",
    "               'min_samples_split': min_samples_split,\n",
    "               'min_samples_leaf': min_samples_leaf,\n",
    "               'bootstrap': bootstrap}\n",
    "\n",
    "\n",
    "\n",
    "\n",
    "for _dir in dir_list:\n",
    "    \n",
    "    tmp = pd.read_csv(dir_name + _dir)\n",
    "    X = tmp[['bio1', 'bio2', 'bio3', 'bio4', 'bio5', 'bio6', 'bio7',\n",
    "           'bio8', 'bio9', 'bio10', 'bio11', 'bio12', 'bio13', 'bio14', 'bio15',\n",
    "           'bio16', 'bio17', 'bio18', 'bio19', 'pet', 'rh', 'srad']]\n",
    "    y = tmp['y']\n",
    "    \n",
    "    weight = len(np.where(y == 0)[0]) / len(np.where(y == 1)[0])\n",
    "\n",
    "    X_train, X_test, y_train, y_test = split_train_test(X, y,0.3)\n",
    "    \n",
    "    # Create a based model\n",
    "    rf = RandomForestClassifier(class_weight={0:1,1:weight})\n",
    "    # Instantiate the grid search model\n",
    "    grid_search = RandomizedSearchCV(estimator = rf, param_distributions = params, \n",
    "                                     cv = 3, verbose=2, random_state=42, n_jobs = -1)\n",
    "\n",
    "    # Fit the grid search to the data\n",
    "    grid_search.fit(X_train, y_train)\n",
    "\n",
    "    # best params\n",
    "\n",
    "    rf_best_est = grid_search.best_estimator_\n",
    "    rf = rf_best_est.fit(X_train, y_train)\n",
    "\n",
    "    rf.fit(X_train, y_train)\n",
    "   \n",
    "    \n",
    "    pred = rf.predict(X_test)\n",
    "    roc_score = roc_auc_score(y_test,pred)\n",
    "    if roc_score >= 0.7:        \n",
    "        print('\\n')\n",
    "        print(f'########################### classification report for {_dir[:-4]} ###########################')\n",
    "        print_result(rf,X_test,y_test)\n",
    "        dict_model_rf[_dir[:-4]] = rf\n",
    "        print('\\n')"
   ]
  },
  {
   "cell_type": "markdown",
   "metadata": {},
   "source": [
    "### random forest 5%~"
   ]
  },
  {
   "cell_type": "code",
   "execution_count": 10,
   "metadata": {
    "scrolled": true
   },
   "outputs": [
    {
     "name": "stdout",
     "output_type": "stream",
     "text": [
      "Fitting 3 folds for each of 10 candidates, totalling 30 fits\n"
     ]
    },
    {
     "name": "stderr",
     "output_type": "stream",
     "text": [
      "[Parallel(n_jobs=-1)]: Using backend LokyBackend with 6 concurrent workers.\n",
      "[Parallel(n_jobs=-1)]: Done  30 out of  30 | elapsed:    7.6s finished\n"
     ]
    },
    {
     "name": "stdout",
     "output_type": "stream",
     "text": [
      "Fitting 3 folds for each of 10 candidates, totalling 30 fits\n"
     ]
    },
    {
     "name": "stderr",
     "output_type": "stream",
     "text": [
      "[Parallel(n_jobs=-1)]: Using backend LokyBackend with 6 concurrent workers.\n",
      "[Parallel(n_jobs=-1)]: Done  30 out of  30 | elapsed:    7.6s finished\n"
     ]
    },
    {
     "name": "stdout",
     "output_type": "stream",
     "text": [
      "Fitting 3 folds for each of 10 candidates, totalling 30 fits\n"
     ]
    },
    {
     "name": "stderr",
     "output_type": "stream",
     "text": [
      "[Parallel(n_jobs=-1)]: Using backend LokyBackend with 6 concurrent workers.\n",
      "[Parallel(n_jobs=-1)]: Done  30 out of  30 | elapsed:    8.7s finished\n"
     ]
    },
    {
     "name": "stdout",
     "output_type": "stream",
     "text": [
      "Fitting 3 folds for each of 10 candidates, totalling 30 fits\n"
     ]
    },
    {
     "name": "stderr",
     "output_type": "stream",
     "text": [
      "[Parallel(n_jobs=-1)]: Using backend LokyBackend with 6 concurrent workers.\n",
      "[Parallel(n_jobs=-1)]: Done  30 out of  30 | elapsed:    9.3s finished\n"
     ]
    },
    {
     "name": "stdout",
     "output_type": "stream",
     "text": [
      "Fitting 3 folds for each of 10 candidates, totalling 30 fits\n"
     ]
    },
    {
     "name": "stderr",
     "output_type": "stream",
     "text": [
      "[Parallel(n_jobs=-1)]: Using backend LokyBackend with 6 concurrent workers.\n",
      "[Parallel(n_jobs=-1)]: Done  30 out of  30 | elapsed:    9.3s finished\n"
     ]
    },
    {
     "name": "stdout",
     "output_type": "stream",
     "text": [
      "Fitting 3 folds for each of 10 candidates, totalling 30 fits\n"
     ]
    },
    {
     "name": "stderr",
     "output_type": "stream",
     "text": [
      "[Parallel(n_jobs=-1)]: Using backend LokyBackend with 6 concurrent workers.\n",
      "[Parallel(n_jobs=-1)]: Done  30 out of  30 | elapsed:    8.3s finished\n"
     ]
    },
    {
     "name": "stdout",
     "output_type": "stream",
     "text": [
      "Fitting 3 folds for each of 10 candidates, totalling 30 fits\n"
     ]
    },
    {
     "name": "stderr",
     "output_type": "stream",
     "text": [
      "[Parallel(n_jobs=-1)]: Using backend LokyBackend with 6 concurrent workers.\n",
      "[Parallel(n_jobs=-1)]: Done  30 out of  30 | elapsed:    8.2s finished\n"
     ]
    },
    {
     "name": "stdout",
     "output_type": "stream",
     "text": [
      "Fitting 3 folds for each of 10 candidates, totalling 30 fits\n"
     ]
    },
    {
     "name": "stderr",
     "output_type": "stream",
     "text": [
      "[Parallel(n_jobs=-1)]: Using backend LokyBackend with 6 concurrent workers.\n",
      "[Parallel(n_jobs=-1)]: Done  30 out of  30 | elapsed:    8.7s finished\n"
     ]
    },
    {
     "name": "stdout",
     "output_type": "stream",
     "text": [
      "Fitting 3 folds for each of 10 candidates, totalling 30 fits\n"
     ]
    },
    {
     "name": "stderr",
     "output_type": "stream",
     "text": [
      "[Parallel(n_jobs=-1)]: Using backend LokyBackend with 6 concurrent workers.\n",
      "[Parallel(n_jobs=-1)]: Done  30 out of  30 | elapsed:    7.8s finished\n"
     ]
    },
    {
     "name": "stdout",
     "output_type": "stream",
     "text": [
      "Fitting 3 folds for each of 10 candidates, totalling 30 fits\n"
     ]
    },
    {
     "name": "stderr",
     "output_type": "stream",
     "text": [
      "[Parallel(n_jobs=-1)]: Using backend LokyBackend with 6 concurrent workers.\n",
      "[Parallel(n_jobs=-1)]: Done  30 out of  30 | elapsed:    7.8s finished\n"
     ]
    },
    {
     "name": "stdout",
     "output_type": "stream",
     "text": [
      "Fitting 3 folds for each of 10 candidates, totalling 30 fits\n"
     ]
    },
    {
     "name": "stderr",
     "output_type": "stream",
     "text": [
      "[Parallel(n_jobs=-1)]: Using backend LokyBackend with 6 concurrent workers.\n",
      "[Parallel(n_jobs=-1)]: Done  30 out of  30 | elapsed:    8.0s finished\n"
     ]
    },
    {
     "name": "stdout",
     "output_type": "stream",
     "text": [
      "Fitting 3 folds for each of 10 candidates, totalling 30 fits\n"
     ]
    },
    {
     "name": "stderr",
     "output_type": "stream",
     "text": [
      "[Parallel(n_jobs=-1)]: Using backend LokyBackend with 6 concurrent workers.\n",
      "[Parallel(n_jobs=-1)]: Done  30 out of  30 | elapsed:    8.0s finished\n"
     ]
    },
    {
     "name": "stdout",
     "output_type": "stream",
     "text": [
      "Fitting 3 folds for each of 10 candidates, totalling 30 fits\n"
     ]
    },
    {
     "name": "stderr",
     "output_type": "stream",
     "text": [
      "[Parallel(n_jobs=-1)]: Using backend LokyBackend with 6 concurrent workers.\n",
      "[Parallel(n_jobs=-1)]: Done  30 out of  30 | elapsed:    8.3s finished\n"
     ]
    },
    {
     "name": "stdout",
     "output_type": "stream",
     "text": [
      "Fitting 3 folds for each of 10 candidates, totalling 30 fits\n"
     ]
    },
    {
     "name": "stderr",
     "output_type": "stream",
     "text": [
      "[Parallel(n_jobs=-1)]: Using backend LokyBackend with 6 concurrent workers.\n",
      "[Parallel(n_jobs=-1)]: Done  30 out of  30 | elapsed:    8.9s finished\n"
     ]
    },
    {
     "name": "stdout",
     "output_type": "stream",
     "text": [
      "Fitting 3 folds for each of 10 candidates, totalling 30 fits\n"
     ]
    },
    {
     "name": "stderr",
     "output_type": "stream",
     "text": [
      "[Parallel(n_jobs=-1)]: Using backend LokyBackend with 6 concurrent workers.\n",
      "[Parallel(n_jobs=-1)]: Done  30 out of  30 | elapsed:    8.3s finished\n"
     ]
    },
    {
     "name": "stdout",
     "output_type": "stream",
     "text": [
      "Fitting 3 folds for each of 10 candidates, totalling 30 fits\n"
     ]
    },
    {
     "name": "stderr",
     "output_type": "stream",
     "text": [
      "[Parallel(n_jobs=-1)]: Using backend LokyBackend with 6 concurrent workers.\n",
      "[Parallel(n_jobs=-1)]: Done  30 out of  30 | elapsed:    8.1s finished\n"
     ]
    },
    {
     "name": "stdout",
     "output_type": "stream",
     "text": [
      "Fitting 3 folds for each of 10 candidates, totalling 30 fits\n"
     ]
    },
    {
     "name": "stderr",
     "output_type": "stream",
     "text": [
      "[Parallel(n_jobs=-1)]: Using backend LokyBackend with 6 concurrent workers.\n",
      "[Parallel(n_jobs=-1)]: Done  30 out of  30 | elapsed:    7.6s finished\n"
     ]
    },
    {
     "name": "stdout",
     "output_type": "stream",
     "text": [
      "\n",
      "\n",
      "########################### classification report for 실지렁이류 ###########################\n",
      "              precision    recall  f1-score   support\n",
      "\n",
      "           0       0.97      0.98      0.98       156\n",
      "           1       0.73      0.67      0.70        12\n",
      "\n",
      "    accuracy                           0.96       168\n",
      "   macro avg       0.85      0.82      0.84       168\n",
      "weighted avg       0.96      0.96      0.96       168\n",
      "\n",
      "ROC/AUC:  0.8237179487179486\n",
      "ACC:  0.9583333333333334\n",
      "PREC:  0.7272727272727273\n",
      "RECALL:  0.6666666666666666\n",
      "F1:  0.6956521739130435\n",
      "MCC:  0.6740677182317761\n",
      "Confusion Matrix: \n",
      " [[153   3]\n",
      " [  4   8]]\n",
      "\n",
      "\n",
      "Fitting 3 folds for each of 10 candidates, totalling 30 fits\n"
     ]
    },
    {
     "name": "stderr",
     "output_type": "stream",
     "text": [
      "[Parallel(n_jobs=-1)]: Using backend LokyBackend with 6 concurrent workers.\n",
      "[Parallel(n_jobs=-1)]: Done  30 out of  30 | elapsed:    7.8s finished\n"
     ]
    },
    {
     "name": "stdout",
     "output_type": "stream",
     "text": [
      "Fitting 3 folds for each of 10 candidates, totalling 30 fits\n"
     ]
    },
    {
     "name": "stderr",
     "output_type": "stream",
     "text": [
      "[Parallel(n_jobs=-1)]: Using backend LokyBackend with 6 concurrent workers.\n",
      "[Parallel(n_jobs=-1)]: Done  30 out of  30 | elapsed:    8.2s finished\n"
     ]
    },
    {
     "name": "stdout",
     "output_type": "stream",
     "text": [
      "Fitting 3 folds for each of 10 candidates, totalling 30 fits\n"
     ]
    },
    {
     "name": "stderr",
     "output_type": "stream",
     "text": [
      "[Parallel(n_jobs=-1)]: Using backend LokyBackend with 6 concurrent workers.\n",
      "[Parallel(n_jobs=-1)]: Done  30 out of  30 | elapsed:    9.6s finished\n"
     ]
    },
    {
     "name": "stdout",
     "output_type": "stream",
     "text": [
      "Fitting 3 folds for each of 10 candidates, totalling 30 fits\n"
     ]
    },
    {
     "name": "stderr",
     "output_type": "stream",
     "text": [
      "[Parallel(n_jobs=-1)]: Using backend LokyBackend with 6 concurrent workers.\n",
      "[Parallel(n_jobs=-1)]: Done  30 out of  30 | elapsed:    8.0s finished\n"
     ]
    },
    {
     "name": "stdout",
     "output_type": "stream",
     "text": [
      "Fitting 3 folds for each of 10 candidates, totalling 30 fits\n"
     ]
    },
    {
     "name": "stderr",
     "output_type": "stream",
     "text": [
      "[Parallel(n_jobs=-1)]: Using backend LokyBackend with 6 concurrent workers.\n",
      "[Parallel(n_jobs=-1)]: Done  30 out of  30 | elapsed:    7.9s finished\n"
     ]
    },
    {
     "name": "stdout",
     "output_type": "stream",
     "text": [
      "Fitting 3 folds for each of 10 candidates, totalling 30 fits\n"
     ]
    },
    {
     "name": "stderr",
     "output_type": "stream",
     "text": [
      "[Parallel(n_jobs=-1)]: Using backend LokyBackend with 6 concurrent workers.\n",
      "[Parallel(n_jobs=-1)]: Done  30 out of  30 | elapsed:    7.8s finished\n"
     ]
    },
    {
     "name": "stdout",
     "output_type": "stream",
     "text": [
      "Fitting 3 folds for each of 10 candidates, totalling 30 fits\n"
     ]
    },
    {
     "name": "stderr",
     "output_type": "stream",
     "text": [
      "[Parallel(n_jobs=-1)]: Using backend LokyBackend with 6 concurrent workers.\n",
      "[Parallel(n_jobs=-1)]: Done  30 out of  30 | elapsed:    8.6s finished\n"
     ]
    },
    {
     "name": "stdout",
     "output_type": "stream",
     "text": [
      "Fitting 3 folds for each of 10 candidates, totalling 30 fits\n"
     ]
    },
    {
     "name": "stderr",
     "output_type": "stream",
     "text": [
      "[Parallel(n_jobs=-1)]: Using backend LokyBackend with 6 concurrent workers.\n",
      "[Parallel(n_jobs=-1)]: Done  30 out of  30 | elapsed:    8.1s finished\n"
     ]
    },
    {
     "name": "stdout",
     "output_type": "stream",
     "text": [
      "Fitting 3 folds for each of 10 candidates, totalling 30 fits\n"
     ]
    },
    {
     "name": "stderr",
     "output_type": "stream",
     "text": [
      "[Parallel(n_jobs=-1)]: Using backend LokyBackend with 6 concurrent workers.\n",
      "[Parallel(n_jobs=-1)]: Done  30 out of  30 | elapsed:    8.9s finished\n"
     ]
    },
    {
     "name": "stdout",
     "output_type": "stream",
     "text": [
      "Fitting 3 folds for each of 10 candidates, totalling 30 fits\n"
     ]
    },
    {
     "name": "stderr",
     "output_type": "stream",
     "text": [
      "[Parallel(n_jobs=-1)]: Using backend LokyBackend with 6 concurrent workers.\n",
      "[Parallel(n_jobs=-1)]: Done  30 out of  30 | elapsed:    8.1s finished\n"
     ]
    },
    {
     "name": "stdout",
     "output_type": "stream",
     "text": [
      "Fitting 3 folds for each of 10 candidates, totalling 30 fits\n"
     ]
    },
    {
     "name": "stderr",
     "output_type": "stream",
     "text": [
      "[Parallel(n_jobs=-1)]: Using backend LokyBackend with 6 concurrent workers.\n",
      "[Parallel(n_jobs=-1)]: Done  30 out of  30 | elapsed:    8.3s finished\n"
     ]
    },
    {
     "name": "stdout",
     "output_type": "stream",
     "text": [
      "\n",
      "\n",
      "########################### classification report for 깔따구류 ###########################\n",
      "              precision    recall  f1-score   support\n",
      "\n",
      "           0       0.95      0.82      0.88        50\n",
      "           1       0.93      0.98      0.95       118\n",
      "\n",
      "    accuracy                           0.93       168\n",
      "   macro avg       0.94      0.90      0.92       168\n",
      "weighted avg       0.94      0.93      0.93       168\n",
      "\n",
      "ROC/AUC:  0.9015254237288137\n",
      "ACC:  0.9345238095238095\n",
      "PREC:  0.928\n",
      "RECALL:  0.9830508474576272\n",
      "F1:  0.9547325102880659\n",
      "MCC:  0.8413560389236808\n",
      "Confusion Matrix: \n",
      " [[ 41   9]\n",
      " [  2 116]]\n",
      "\n",
      "\n",
      "Fitting 3 folds for each of 10 candidates, totalling 30 fits\n"
     ]
    },
    {
     "name": "stderr",
     "output_type": "stream",
     "text": [
      "[Parallel(n_jobs=-1)]: Using backend LokyBackend with 6 concurrent workers.\n",
      "[Parallel(n_jobs=-1)]: Done  30 out of  30 | elapsed:    9.4s finished\n"
     ]
    },
    {
     "name": "stdout",
     "output_type": "stream",
     "text": [
      "Fitting 3 folds for each of 10 candidates, totalling 30 fits\n"
     ]
    },
    {
     "name": "stderr",
     "output_type": "stream",
     "text": [
      "[Parallel(n_jobs=-1)]: Using backend LokyBackend with 6 concurrent workers.\n",
      "[Parallel(n_jobs=-1)]: Done  30 out of  30 | elapsed:    7.9s finished\n"
     ]
    },
    {
     "name": "stdout",
     "output_type": "stream",
     "text": [
      "Fitting 3 folds for each of 10 candidates, totalling 30 fits\n"
     ]
    },
    {
     "name": "stderr",
     "output_type": "stream",
     "text": [
      "[Parallel(n_jobs=-1)]: Using backend LokyBackend with 6 concurrent workers.\n",
      "[Parallel(n_jobs=-1)]: Done  30 out of  30 | elapsed:    8.5s finished\n"
     ]
    },
    {
     "name": "stdout",
     "output_type": "stream",
     "text": [
      "Fitting 3 folds for each of 10 candidates, totalling 30 fits\n"
     ]
    },
    {
     "name": "stderr",
     "output_type": "stream",
     "text": [
      "[Parallel(n_jobs=-1)]: Using backend LokyBackend with 6 concurrent workers.\n",
      "[Parallel(n_jobs=-1)]: Done  30 out of  30 | elapsed:    8.2s finished\n"
     ]
    },
    {
     "name": "stdout",
     "output_type": "stream",
     "text": [
      "Fitting 3 folds for each of 10 candidates, totalling 30 fits\n"
     ]
    },
    {
     "name": "stderr",
     "output_type": "stream",
     "text": [
      "[Parallel(n_jobs=-1)]: Using backend LokyBackend with 6 concurrent workers.\n",
      "[Parallel(n_jobs=-1)]: Done  30 out of  30 | elapsed:    8.2s finished\n"
     ]
    },
    {
     "name": "stdout",
     "output_type": "stream",
     "text": [
      "Fitting 3 folds for each of 10 candidates, totalling 30 fits\n"
     ]
    },
    {
     "name": "stderr",
     "output_type": "stream",
     "text": [
      "[Parallel(n_jobs=-1)]: Using backend LokyBackend with 6 concurrent workers.\n",
      "[Parallel(n_jobs=-1)]: Done  30 out of  30 | elapsed:    7.9s finished\n"
     ]
    },
    {
     "name": "stdout",
     "output_type": "stream",
     "text": [
      "Fitting 3 folds for each of 10 candidates, totalling 30 fits\n"
     ]
    },
    {
     "name": "stderr",
     "output_type": "stream",
     "text": [
      "[Parallel(n_jobs=-1)]: Using backend LokyBackend with 6 concurrent workers.\n",
      "[Parallel(n_jobs=-1)]: Done  30 out of  30 | elapsed:    7.8s finished\n"
     ]
    },
    {
     "name": "stdout",
     "output_type": "stream",
     "text": [
      "Fitting 3 folds for each of 10 candidates, totalling 30 fits\n"
     ]
    },
    {
     "name": "stderr",
     "output_type": "stream",
     "text": [
      "[Parallel(n_jobs=-1)]: Using backend LokyBackend with 6 concurrent workers.\n",
      "[Parallel(n_jobs=-1)]: Done  30 out of  30 | elapsed:    8.6s finished\n"
     ]
    },
    {
     "name": "stdout",
     "output_type": "stream",
     "text": [
      "Fitting 3 folds for each of 10 candidates, totalling 30 fits\n"
     ]
    },
    {
     "name": "stderr",
     "output_type": "stream",
     "text": [
      "[Parallel(n_jobs=-1)]: Using backend LokyBackend with 6 concurrent workers.\n",
      "[Parallel(n_jobs=-1)]: Done  30 out of  30 | elapsed:    8.2s finished\n"
     ]
    },
    {
     "name": "stdout",
     "output_type": "stream",
     "text": [
      "\n",
      "\n",
      "########################### classification report for 애넓적물땡땡이 ###########################\n",
      "              precision    recall  f1-score   support\n",
      "\n",
      "           0       0.93      0.90      0.92       139\n",
      "           1       0.59      0.69      0.63        29\n",
      "\n",
      "    accuracy                           0.86       168\n",
      "   macro avg       0.76      0.79      0.78       168\n",
      "weighted avg       0.87      0.86      0.87       168\n",
      "\n",
      "ROC/AUC:  0.7944678739766807\n",
      "ACC:  0.8630952380952381\n",
      "PREC:  0.5882352941176471\n",
      "RECALL:  0.6896551724137931\n",
      "F1:  0.6349206349206349\n",
      "MCC:  0.5539651675486221\n",
      "Confusion Matrix: \n",
      " [[125  14]\n",
      " [  9  20]]\n",
      "\n",
      "\n",
      "Fitting 3 folds for each of 10 candidates, totalling 30 fits\n"
     ]
    },
    {
     "name": "stderr",
     "output_type": "stream",
     "text": [
      "[Parallel(n_jobs=-1)]: Using backend LokyBackend with 6 concurrent workers.\n",
      "[Parallel(n_jobs=-1)]: Done  30 out of  30 | elapsed:    8.0s finished\n"
     ]
    },
    {
     "name": "stdout",
     "output_type": "stream",
     "text": [
      "\n",
      "\n",
      "########################### classification report for 가시측범잠자리 ###########################\n",
      "              precision    recall  f1-score   support\n",
      "\n",
      "           0       0.94      0.98      0.96       150\n",
      "           1       0.75      0.50      0.60        18\n",
      "\n",
      "    accuracy                           0.93       168\n",
      "   macro avg       0.85      0.74      0.78       168\n",
      "weighted avg       0.92      0.93      0.92       168\n",
      "\n",
      "ROC/AUC:  0.74\n",
      "ACC:  0.9285714285714286\n",
      "PREC:  0.75\n",
      "RECALL:  0.5\n",
      "F1:  0.6\n",
      "MCC:  0.5764613536983136\n",
      "Confusion Matrix: \n",
      " [[147   3]\n",
      " [  9   9]]\n",
      "\n",
      "\n",
      "Fitting 3 folds for each of 10 candidates, totalling 30 fits\n"
     ]
    },
    {
     "name": "stderr",
     "output_type": "stream",
     "text": [
      "[Parallel(n_jobs=-1)]: Using backend LokyBackend with 6 concurrent workers.\n",
      "[Parallel(n_jobs=-1)]: Done  30 out of  30 | elapsed:    8.1s finished\n"
     ]
    },
    {
     "name": "stdout",
     "output_type": "stream",
     "text": [
      "Fitting 3 folds for each of 10 candidates, totalling 30 fits\n"
     ]
    },
    {
     "name": "stderr",
     "output_type": "stream",
     "text": [
      "[Parallel(n_jobs=-1)]: Using backend LokyBackend with 6 concurrent workers.\n",
      "[Parallel(n_jobs=-1)]: Done  30 out of  30 | elapsed:    9.3s finished\n"
     ]
    },
    {
     "name": "stdout",
     "output_type": "stream",
     "text": [
      "Fitting 3 folds for each of 10 candidates, totalling 30 fits\n"
     ]
    },
    {
     "name": "stderr",
     "output_type": "stream",
     "text": [
      "[Parallel(n_jobs=-1)]: Using backend LokyBackend with 6 concurrent workers.\n",
      "[Parallel(n_jobs=-1)]: Done  30 out of  30 | elapsed:    8.6s finished\n"
     ]
    },
    {
     "name": "stdout",
     "output_type": "stream",
     "text": [
      "\n",
      "\n",
      "########################### classification report for 플라나리아 ###########################\n",
      "              precision    recall  f1-score   support\n",
      "\n",
      "           0       0.90      0.82      0.86       137\n",
      "           1       0.43      0.58      0.49        31\n",
      "\n",
      "    accuracy                           0.78       168\n",
      "   macro avg       0.66      0.70      0.68       168\n",
      "weighted avg       0.81      0.78      0.79       168\n",
      "\n",
      "ROC/AUC:  0.7027313397692488\n",
      "ACC:  0.7797619047619048\n",
      "PREC:  0.42857142857142855\n",
      "RECALL:  0.5806451612903226\n",
      "F1:  0.4931506849315069\n",
      "MCC:  0.36323032464087784\n",
      "Confusion Matrix: \n",
      " [[113  24]\n",
      " [ 13  18]]\n",
      "\n",
      "\n",
      "Fitting 3 folds for each of 10 candidates, totalling 30 fits\n"
     ]
    },
    {
     "name": "stderr",
     "output_type": "stream",
     "text": [
      "[Parallel(n_jobs=-1)]: Using backend LokyBackend with 6 concurrent workers.\n",
      "[Parallel(n_jobs=-1)]: Done  30 out of  30 | elapsed:    9.2s finished\n"
     ]
    },
    {
     "name": "stdout",
     "output_type": "stream",
     "text": [
      "Fitting 3 folds for each of 10 candidates, totalling 30 fits\n"
     ]
    },
    {
     "name": "stderr",
     "output_type": "stream",
     "text": [
      "[Parallel(n_jobs=-1)]: Using backend LokyBackend with 6 concurrent workers.\n",
      "[Parallel(n_jobs=-1)]: Done  30 out of  30 | elapsed:    8.0s finished\n"
     ]
    },
    {
     "name": "stdout",
     "output_type": "stream",
     "text": [
      "Fitting 3 folds for each of 10 candidates, totalling 30 fits\n"
     ]
    },
    {
     "name": "stderr",
     "output_type": "stream",
     "text": [
      "[Parallel(n_jobs=-1)]: Using backend LokyBackend with 6 concurrent workers.\n",
      "[Parallel(n_jobs=-1)]: Done  30 out of  30 | elapsed:    7.9s finished\n"
     ]
    },
    {
     "name": "stdout",
     "output_type": "stream",
     "text": [
      "Fitting 3 folds for each of 10 candidates, totalling 30 fits\n"
     ]
    },
    {
     "name": "stderr",
     "output_type": "stream",
     "text": [
      "[Parallel(n_jobs=-1)]: Using backend LokyBackend with 6 concurrent workers.\n",
      "[Parallel(n_jobs=-1)]: Done  30 out of  30 | elapsed:    8.2s finished\n"
     ]
    },
    {
     "name": "stdout",
     "output_type": "stream",
     "text": [
      "Fitting 3 folds for each of 10 candidates, totalling 30 fits\n"
     ]
    },
    {
     "name": "stderr",
     "output_type": "stream",
     "text": [
      "[Parallel(n_jobs=-1)]: Using backend LokyBackend with 6 concurrent workers.\n",
      "[Parallel(n_jobs=-1)]: Done  30 out of  30 | elapsed:    8.1s finished\n"
     ]
    },
    {
     "name": "stdout",
     "output_type": "stream",
     "text": [
      "\n",
      "\n",
      "########################### classification report for 쇠측범잠자리 ###########################\n",
      "              precision    recall  f1-score   support\n",
      "\n",
      "           0       0.90      0.91      0.90       138\n",
      "           1       0.55      0.53      0.54        30\n",
      "\n",
      "    accuracy                           0.84       168\n",
      "   macro avg       0.73      0.72      0.72       168\n",
      "weighted avg       0.84      0.84      0.84       168\n",
      "\n",
      "ROC/AUC:  0.7195652173913043\n",
      "ACC:  0.8392857142857143\n",
      "PREC:  0.5517241379310345\n",
      "RECALL:  0.5333333333333333\n",
      "F1:  0.5423728813559322\n",
      "MCC:  0.4450279720594557\n",
      "Confusion Matrix: \n",
      " [[125  13]\n",
      " [ 14  16]]\n",
      "\n",
      "\n",
      "Fitting 3 folds for each of 10 candidates, totalling 30 fits\n"
     ]
    },
    {
     "name": "stderr",
     "output_type": "stream",
     "text": [
      "[Parallel(n_jobs=-1)]: Using backend LokyBackend with 6 concurrent workers.\n",
      "[Parallel(n_jobs=-1)]: Done  30 out of  30 | elapsed:    7.8s finished\n"
     ]
    },
    {
     "name": "stdout",
     "output_type": "stream",
     "text": [
      "Fitting 3 folds for each of 10 candidates, totalling 30 fits\n"
     ]
    },
    {
     "name": "stderr",
     "output_type": "stream",
     "text": [
      "[Parallel(n_jobs=-1)]: Using backend LokyBackend with 6 concurrent workers.\n",
      "[Parallel(n_jobs=-1)]: Done  30 out of  30 | elapsed:    8.2s finished\n"
     ]
    },
    {
     "name": "stdout",
     "output_type": "stream",
     "text": [
      "Fitting 3 folds for each of 10 candidates, totalling 30 fits\n"
     ]
    },
    {
     "name": "stderr",
     "output_type": "stream",
     "text": [
      "[Parallel(n_jobs=-1)]: Using backend LokyBackend with 6 concurrent workers.\n",
      "[Parallel(n_jobs=-1)]: Done  30 out of  30 | elapsed:    9.1s finished\n"
     ]
    },
    {
     "name": "stdout",
     "output_type": "stream",
     "text": [
      "Fitting 3 folds for each of 10 candidates, totalling 30 fits\n"
     ]
    },
    {
     "name": "stderr",
     "output_type": "stream",
     "text": [
      "[Parallel(n_jobs=-1)]: Using backend LokyBackend with 6 concurrent workers.\n",
      "[Parallel(n_jobs=-1)]: Done  30 out of  30 | elapsed:    8.1s finished\n"
     ]
    },
    {
     "name": "stdout",
     "output_type": "stream",
     "text": [
      "Fitting 3 folds for each of 10 candidates, totalling 30 fits\n"
     ]
    },
    {
     "name": "stderr",
     "output_type": "stream",
     "text": [
      "[Parallel(n_jobs=-1)]: Using backend LokyBackend with 6 concurrent workers.\n",
      "[Parallel(n_jobs=-1)]: Done  30 out of  30 | elapsed:    8.5s finished\n"
     ]
    },
    {
     "name": "stdout",
     "output_type": "stream",
     "text": [
      "Fitting 3 folds for each of 10 candidates, totalling 30 fits\n"
     ]
    },
    {
     "name": "stderr",
     "output_type": "stream",
     "text": [
      "[Parallel(n_jobs=-1)]: Using backend LokyBackend with 6 concurrent workers.\n",
      "[Parallel(n_jobs=-1)]: Done  30 out of  30 | elapsed:    8.7s finished\n"
     ]
    },
    {
     "name": "stdout",
     "output_type": "stream",
     "text": [
      "\n",
      "\n",
      "########################### classification report for 연못하루살이 ###########################\n",
      "              precision    recall  f1-score   support\n",
      "\n",
      "           0       0.76      0.78      0.77       100\n",
      "           1       0.67      0.65      0.66        68\n",
      "\n",
      "    accuracy                           0.73       168\n",
      "   macro avg       0.72      0.71      0.71       168\n",
      "weighted avg       0.73      0.73      0.73       168\n",
      "\n",
      "ROC/AUC:  0.7135294117647059\n",
      "ACC:  0.7261904761904762\n",
      "PREC:  0.6666666666666666\n",
      "RECALL:  0.6470588235294118\n",
      "F1:  0.6567164179104478\n",
      "MCC:  0.4292102669871694\n",
      "Confusion Matrix: \n",
      " [[78 22]\n",
      " [24 44]]\n",
      "\n",
      "\n",
      "Fitting 3 folds for each of 10 candidates, totalling 30 fits\n"
     ]
    },
    {
     "name": "stderr",
     "output_type": "stream",
     "text": [
      "[Parallel(n_jobs=-1)]: Using backend LokyBackend with 6 concurrent workers.\n",
      "[Parallel(n_jobs=-1)]: Done  30 out of  30 | elapsed:    8.2s finished\n"
     ]
    },
    {
     "name": "stdout",
     "output_type": "stream",
     "text": [
      "Fitting 3 folds for each of 10 candidates, totalling 30 fits\n"
     ]
    },
    {
     "name": "stderr",
     "output_type": "stream",
     "text": [
      "[Parallel(n_jobs=-1)]: Using backend LokyBackend with 6 concurrent workers.\n",
      "[Parallel(n_jobs=-1)]: Done  30 out of  30 | elapsed:    8.9s finished\n"
     ]
    },
    {
     "name": "stdout",
     "output_type": "stream",
     "text": [
      "\n",
      "\n",
      "########################### classification report for 실지렁이 ###########################\n",
      "              precision    recall  f1-score   support\n",
      "\n",
      "           0       0.85      0.71      0.77        93\n",
      "           1       0.70      0.84      0.76        75\n",
      "\n",
      "    accuracy                           0.77       168\n",
      "   macro avg       0.77      0.77      0.77       168\n",
      "weighted avg       0.78      0.77      0.77       168\n",
      "\n",
      "ROC/AUC:  0.7748387096774193\n",
      "ACC:  0.7678571428571429\n",
      "PREC:  0.7\n",
      "RECALL:  0.84\n",
      "F1:  0.7636363636363636\n",
      "MCC:  0.5479128002926796\n",
      "Confusion Matrix: \n",
      " [[66 27]\n",
      " [12 63]]\n",
      "\n",
      "\n",
      "Fitting 3 folds for each of 10 candidates, totalling 30 fits\n"
     ]
    },
    {
     "name": "stderr",
     "output_type": "stream",
     "text": [
      "[Parallel(n_jobs=-1)]: Using backend LokyBackend with 6 concurrent workers.\n",
      "[Parallel(n_jobs=-1)]: Done  30 out of  30 | elapsed:    8.1s finished\n"
     ]
    },
    {
     "name": "stdout",
     "output_type": "stream",
     "text": [
      "Fitting 3 folds for each of 10 candidates, totalling 30 fits\n"
     ]
    },
    {
     "name": "stderr",
     "output_type": "stream",
     "text": [
      "[Parallel(n_jobs=-1)]: Using backend LokyBackend with 6 concurrent workers.\n",
      "[Parallel(n_jobs=-1)]: Done  30 out of  30 | elapsed:    7.8s finished\n"
     ]
    },
    {
     "name": "stdout",
     "output_type": "stream",
     "text": [
      "Fitting 3 folds for each of 10 candidates, totalling 30 fits\n"
     ]
    },
    {
     "name": "stderr",
     "output_type": "stream",
     "text": [
      "[Parallel(n_jobs=-1)]: Using backend LokyBackend with 6 concurrent workers.\n",
      "[Parallel(n_jobs=-1)]: Done  30 out of  30 | elapsed:    8.4s finished\n"
     ]
    },
    {
     "name": "stdout",
     "output_type": "stream",
     "text": [
      "\n",
      "\n",
      "########################### classification report for 등검은실잠자리 ###########################\n",
      "              precision    recall  f1-score   support\n",
      "\n",
      "           0       0.85      0.81      0.83       118\n",
      "           1       0.59      0.66      0.62        50\n",
      "\n",
      "    accuracy                           0.76       168\n",
      "   macro avg       0.72      0.73      0.72       168\n",
      "weighted avg       0.77      0.76      0.77       168\n",
      "\n",
      "ROC/AUC:  0.7325423728813559\n",
      "ACC:  0.7619047619047619\n",
      "PREC:  0.5892857142857143\n",
      "RECALL:  0.66\n",
      "F1:  0.6226415094339622\n",
      "MCC:  0.4510815627701784\n",
      "Confusion Matrix: \n",
      " [[95 23]\n",
      " [17 33]]\n",
      "\n",
      "\n",
      "Fitting 3 folds for each of 10 candidates, totalling 30 fits\n"
     ]
    },
    {
     "name": "stderr",
     "output_type": "stream",
     "text": [
      "[Parallel(n_jobs=-1)]: Using backend LokyBackend with 6 concurrent workers.\n",
      "[Parallel(n_jobs=-1)]: Done  30 out of  30 | elapsed:    7.8s finished\n"
     ]
    },
    {
     "name": "stdout",
     "output_type": "stream",
     "text": [
      "Fitting 3 folds for each of 10 candidates, totalling 30 fits\n"
     ]
    },
    {
     "name": "stderr",
     "output_type": "stream",
     "text": [
      "[Parallel(n_jobs=-1)]: Using backend LokyBackend with 6 concurrent workers.\n",
      "[Parallel(n_jobs=-1)]: Done  30 out of  30 | elapsed:    8.1s finished\n"
     ]
    },
    {
     "name": "stdout",
     "output_type": "stream",
     "text": [
      "\n",
      "\n",
      "########################### classification report for 갈색우묵날도래 KUa ###########################\n",
      "              precision    recall  f1-score   support\n",
      "\n",
      "           0       0.96      0.96      0.96       156\n",
      "           1       0.46      0.50      0.48        12\n",
      "\n",
      "    accuracy                           0.92       168\n",
      "   macro avg       0.71      0.73      0.72       168\n",
      "weighted avg       0.93      0.92      0.92       168\n",
      "\n",
      "ROC/AUC:  0.7275641025641025\n",
      "ACC:  0.9226190476190477\n",
      "PREC:  0.46153846153846156\n",
      "RECALL:  0.5\n",
      "F1:  0.48000000000000004\n",
      "MCC:  0.4386813257852109\n",
      "Confusion Matrix: \n",
      " [[149   7]\n",
      " [  6   6]]\n",
      "\n",
      "\n",
      "Fitting 3 folds for each of 10 candidates, totalling 30 fits\n"
     ]
    },
    {
     "name": "stderr",
     "output_type": "stream",
     "text": [
      "[Parallel(n_jobs=-1)]: Using backend LokyBackend with 6 concurrent workers.\n",
      "[Parallel(n_jobs=-1)]: Done  30 out of  30 | elapsed:    7.8s finished\n"
     ]
    },
    {
     "name": "stdout",
     "output_type": "stream",
     "text": [
      "Fitting 3 folds for each of 10 candidates, totalling 30 fits\n"
     ]
    },
    {
     "name": "stderr",
     "output_type": "stream",
     "text": [
      "[Parallel(n_jobs=-1)]: Using backend LokyBackend with 6 concurrent workers.\n",
      "[Parallel(n_jobs=-1)]: Done  30 out of  30 | elapsed:    8.1s finished\n"
     ]
    },
    {
     "name": "stdout",
     "output_type": "stream",
     "text": [
      "Fitting 3 folds for each of 10 candidates, totalling 30 fits\n"
     ]
    },
    {
     "name": "stderr",
     "output_type": "stream",
     "text": [
      "[Parallel(n_jobs=-1)]: Using backend LokyBackend with 6 concurrent workers.\n",
      "[Parallel(n_jobs=-1)]: Done  30 out of  30 | elapsed:    7.8s finished\n"
     ]
    },
    {
     "name": "stdout",
     "output_type": "stream",
     "text": [
      "Fitting 3 folds for each of 10 candidates, totalling 30 fits\n"
     ]
    },
    {
     "name": "stderr",
     "output_type": "stream",
     "text": [
      "[Parallel(n_jobs=-1)]: Using backend LokyBackend with 6 concurrent workers.\n",
      "[Parallel(n_jobs=-1)]: Done  30 out of  30 | elapsed:    8.7s finished\n"
     ]
    },
    {
     "name": "stdout",
     "output_type": "stream",
     "text": [
      "Fitting 3 folds for each of 10 candidates, totalling 30 fits\n"
     ]
    },
    {
     "name": "stderr",
     "output_type": "stream",
     "text": [
      "[Parallel(n_jobs=-1)]: Using backend LokyBackend with 6 concurrent workers.\n",
      "[Parallel(n_jobs=-1)]: Done  30 out of  30 | elapsed:    8.3s finished\n"
     ]
    },
    {
     "name": "stdout",
     "output_type": "stream",
     "text": [
      "Fitting 3 folds for each of 10 candidates, totalling 30 fits\n"
     ]
    },
    {
     "name": "stderr",
     "output_type": "stream",
     "text": [
      "[Parallel(n_jobs=-1)]: Using backend LokyBackend with 6 concurrent workers.\n",
      "[Parallel(n_jobs=-1)]: Done  30 out of  30 | elapsed:    8.6s finished\n"
     ]
    },
    {
     "name": "stdout",
     "output_type": "stream",
     "text": [
      "Fitting 3 folds for each of 10 candidates, totalling 30 fits\n"
     ]
    },
    {
     "name": "stderr",
     "output_type": "stream",
     "text": [
      "[Parallel(n_jobs=-1)]: Using backend LokyBackend with 6 concurrent workers.\n",
      "[Parallel(n_jobs=-1)]: Done  30 out of  30 | elapsed:    7.8s finished\n"
     ]
    },
    {
     "name": "stdout",
     "output_type": "stream",
     "text": [
      "Fitting 3 folds for each of 10 candidates, totalling 30 fits\n"
     ]
    },
    {
     "name": "stderr",
     "output_type": "stream",
     "text": [
      "[Parallel(n_jobs=-1)]: Using backend LokyBackend with 6 concurrent workers.\n",
      "[Parallel(n_jobs=-1)]: Done  30 out of  30 | elapsed:    8.3s finished\n"
     ]
    },
    {
     "name": "stdout",
     "output_type": "stream",
     "text": [
      "Fitting 3 folds for each of 10 candidates, totalling 30 fits\n"
     ]
    },
    {
     "name": "stderr",
     "output_type": "stream",
     "text": [
      "[Parallel(n_jobs=-1)]: Using backend LokyBackend with 6 concurrent workers.\n",
      "[Parallel(n_jobs=-1)]: Done  30 out of  30 | elapsed:    7.7s finished\n"
     ]
    },
    {
     "name": "stdout",
     "output_type": "stream",
     "text": [
      "\n",
      "\n",
      "########################### classification report for 물벌레1 ###########################\n",
      "              precision    recall  f1-score   support\n",
      "\n",
      "           0       0.96      0.95      0.95       156\n",
      "           1       0.43      0.50      0.46        12\n",
      "\n",
      "    accuracy                           0.92       168\n",
      "   macro avg       0.69      0.72      0.71       168\n",
      "weighted avg       0.92      0.92      0.92       168\n",
      "\n",
      "ROC/AUC:  0.7243589743589742\n",
      "ACC:  0.9166666666666666\n",
      "PREC:  0.42857142857142855\n",
      "RECALL:  0.5\n",
      "F1:  0.4615384615384615\n",
      "MCC:  0.4181210050035454\n",
      "Confusion Matrix: \n",
      " [[148   8]\n",
      " [  6   6]]\n",
      "\n",
      "\n",
      "Fitting 3 folds for each of 10 candidates, totalling 30 fits\n"
     ]
    },
    {
     "name": "stderr",
     "output_type": "stream",
     "text": [
      "[Parallel(n_jobs=-1)]: Using backend LokyBackend with 6 concurrent workers.\n",
      "[Parallel(n_jobs=-1)]: Done  30 out of  30 | elapsed:    7.7s finished\n"
     ]
    },
    {
     "name": "stdout",
     "output_type": "stream",
     "text": [
      "Fitting 3 folds for each of 10 candidates, totalling 30 fits\n"
     ]
    },
    {
     "name": "stderr",
     "output_type": "stream",
     "text": [
      "[Parallel(n_jobs=-1)]: Using backend LokyBackend with 6 concurrent workers.\n",
      "[Parallel(n_jobs=-1)]: Done  30 out of  30 | elapsed:    8.1s finished\n"
     ]
    },
    {
     "name": "stdout",
     "output_type": "stream",
     "text": [
      "Fitting 3 folds for each of 10 candidates, totalling 30 fits\n"
     ]
    },
    {
     "name": "stderr",
     "output_type": "stream",
     "text": [
      "[Parallel(n_jobs=-1)]: Using backend LokyBackend with 6 concurrent workers.\n",
      "[Parallel(n_jobs=-1)]: Done  30 out of  30 | elapsed:    8.7s finished\n"
     ]
    },
    {
     "name": "stdout",
     "output_type": "stream",
     "text": [
      "Fitting 3 folds for each of 10 candidates, totalling 30 fits\n"
     ]
    },
    {
     "name": "stderr",
     "output_type": "stream",
     "text": [
      "[Parallel(n_jobs=-1)]: Using backend LokyBackend with 6 concurrent workers.\n",
      "[Parallel(n_jobs=-1)]: Done  30 out of  30 | elapsed:    8.2s finished\n"
     ]
    },
    {
     "name": "stdout",
     "output_type": "stream",
     "text": [
      "Fitting 3 folds for each of 10 candidates, totalling 30 fits\n"
     ]
    },
    {
     "name": "stderr",
     "output_type": "stream",
     "text": [
      "[Parallel(n_jobs=-1)]: Using backend LokyBackend with 6 concurrent workers.\n",
      "[Parallel(n_jobs=-1)]: Done  30 out of  30 | elapsed:    7.8s finished\n"
     ]
    },
    {
     "name": "stdout",
     "output_type": "stream",
     "text": [
      "\n",
      "\n",
      "########################### classification report for 말조개 ###########################\n",
      "              precision    recall  f1-score   support\n",
      "\n",
      "           0       0.97      0.97      0.97       159\n",
      "           1       0.44      0.44      0.44         9\n",
      "\n",
      "    accuracy                           0.94       168\n",
      "   macro avg       0.71      0.71      0.71       168\n",
      "weighted avg       0.94      0.94      0.94       168\n",
      "\n",
      "ROC/AUC:  0.7064989517819706\n",
      "ACC:  0.9404761904761905\n",
      "PREC:  0.4444444444444444\n",
      "RECALL:  0.4444444444444444\n",
      "F1:  0.4444444444444444\n",
      "MCC:  0.4129979035639413\n",
      "Confusion Matrix: \n",
      " [[154   5]\n",
      " [  5   4]]\n",
      "\n",
      "\n",
      "Fitting 3 folds for each of 10 candidates, totalling 30 fits\n"
     ]
    },
    {
     "name": "stderr",
     "output_type": "stream",
     "text": [
      "[Parallel(n_jobs=-1)]: Using backend LokyBackend with 6 concurrent workers.\n",
      "[Parallel(n_jobs=-1)]: Done  30 out of  30 | elapsed:    8.1s finished\n"
     ]
    },
    {
     "name": "stdout",
     "output_type": "stream",
     "text": [
      "Fitting 3 folds for each of 10 candidates, totalling 30 fits\n"
     ]
    },
    {
     "name": "stderr",
     "output_type": "stream",
     "text": [
      "[Parallel(n_jobs=-1)]: Using backend LokyBackend with 6 concurrent workers.\n",
      "[Parallel(n_jobs=-1)]: Done  30 out of  30 | elapsed:    8.6s finished\n"
     ]
    },
    {
     "name": "stdout",
     "output_type": "stream",
     "text": [
      "Fitting 3 folds for each of 10 candidates, totalling 30 fits\n"
     ]
    },
    {
     "name": "stderr",
     "output_type": "stream",
     "text": [
      "[Parallel(n_jobs=-1)]: Using backend LokyBackend with 6 concurrent workers.\n",
      "[Parallel(n_jobs=-1)]: Done  30 out of  30 | elapsed:    7.9s finished\n"
     ]
    },
    {
     "name": "stdout",
     "output_type": "stream",
     "text": [
      "Fitting 3 folds for each of 10 candidates, totalling 30 fits\n"
     ]
    },
    {
     "name": "stderr",
     "output_type": "stream",
     "text": [
      "[Parallel(n_jobs=-1)]: Using backend LokyBackend with 6 concurrent workers.\n",
      "[Parallel(n_jobs=-1)]: Done  30 out of  30 | elapsed:    8.4s finished\n"
     ]
    },
    {
     "name": "stdout",
     "output_type": "stream",
     "text": [
      "\n",
      "\n",
      "########################### classification report for 소금쟁이 ###########################\n",
      "              precision    recall  f1-score   support\n",
      "\n",
      "           0       0.96      0.89      0.92       145\n",
      "           1       0.52      0.74      0.61        23\n",
      "\n",
      "    accuracy                           0.87       168\n",
      "   macro avg       0.74      0.81      0.76       168\n",
      "weighted avg       0.90      0.87      0.88       168\n",
      "\n",
      "ROC/AUC:  0.8143928035982009\n",
      "ACC:  0.8690476190476191\n",
      "PREC:  0.5151515151515151\n",
      "RECALL:  0.7391304347826086\n",
      "F1:  0.6071428571428571\n",
      "MCC:  0.5440347702731739\n",
      "Confusion Matrix: \n",
      " [[129  16]\n",
      " [  6  17]]\n",
      "\n",
      "\n",
      "Fitting 3 folds for each of 10 candidates, totalling 30 fits\n"
     ]
    },
    {
     "name": "stderr",
     "output_type": "stream",
     "text": [
      "[Parallel(n_jobs=-1)]: Using backend LokyBackend with 6 concurrent workers.\n",
      "[Parallel(n_jobs=-1)]: Done  30 out of  30 | elapsed:    7.9s finished\n"
     ]
    },
    {
     "name": "stdout",
     "output_type": "stream",
     "text": [
      "Fitting 3 folds for each of 10 candidates, totalling 30 fits\n"
     ]
    },
    {
     "name": "stderr",
     "output_type": "stream",
     "text": [
      "[Parallel(n_jobs=-1)]: Using backend LokyBackend with 6 concurrent workers.\n",
      "[Parallel(n_jobs=-1)]: Done  30 out of  30 | elapsed:    8.3s finished\n"
     ]
    },
    {
     "name": "stdout",
     "output_type": "stream",
     "text": [
      "Fitting 3 folds for each of 10 candidates, totalling 30 fits\n"
     ]
    },
    {
     "name": "stderr",
     "output_type": "stream",
     "text": [
      "[Parallel(n_jobs=-1)]: Using backend LokyBackend with 6 concurrent workers.\n",
      "[Parallel(n_jobs=-1)]: Done  30 out of  30 | elapsed:    7.6s finished\n"
     ]
    },
    {
     "name": "stdout",
     "output_type": "stream",
     "text": [
      "Fitting 3 folds for each of 10 candidates, totalling 30 fits\n"
     ]
    },
    {
     "name": "stderr",
     "output_type": "stream",
     "text": [
      "[Parallel(n_jobs=-1)]: Using backend LokyBackend with 6 concurrent workers.\n",
      "[Parallel(n_jobs=-1)]: Done  30 out of  30 | elapsed:    7.5s finished\n"
     ]
    },
    {
     "name": "stdout",
     "output_type": "stream",
     "text": [
      "Fitting 3 folds for each of 10 candidates, totalling 30 fits\n"
     ]
    },
    {
     "name": "stderr",
     "output_type": "stream",
     "text": [
      "[Parallel(n_jobs=-1)]: Using backend LokyBackend with 6 concurrent workers.\n",
      "[Parallel(n_jobs=-1)]: Done  30 out of  30 | elapsed:    8.3s finished\n"
     ]
    },
    {
     "name": "stdout",
     "output_type": "stream",
     "text": [
      "\n",
      "\n",
      "########################### classification report for 물달팽이 ###########################\n",
      "              precision    recall  f1-score   support\n",
      "\n",
      "           0       0.78      0.72      0.75        88\n",
      "           1       0.71      0.78      0.74        80\n",
      "\n",
      "    accuracy                           0.74       168\n",
      "   macro avg       0.75      0.75      0.74       168\n",
      "weighted avg       0.75      0.74      0.74       168\n",
      "\n",
      "ROC/AUC:  0.7454545454545454\n",
      "ACC:  0.7440476190476191\n",
      "PREC:  0.7126436781609196\n",
      "RECALL:  0.775\n",
      "F1:  0.7425149700598801\n",
      "MCC:  0.4906652128459676\n",
      "Confusion Matrix: \n",
      " [[63 25]\n",
      " [18 62]]\n",
      "\n",
      "\n",
      "Fitting 3 folds for each of 10 candidates, totalling 30 fits\n"
     ]
    },
    {
     "name": "stderr",
     "output_type": "stream",
     "text": [
      "[Parallel(n_jobs=-1)]: Using backend LokyBackend with 6 concurrent workers.\n",
      "[Parallel(n_jobs=-1)]: Done  30 out of  30 | elapsed:    7.9s finished\n"
     ]
    },
    {
     "name": "stdout",
     "output_type": "stream",
     "text": [
      "Fitting 3 folds for each of 10 candidates, totalling 30 fits\n"
     ]
    },
    {
     "name": "stderr",
     "output_type": "stream",
     "text": [
      "[Parallel(n_jobs=-1)]: Using backend LokyBackend with 6 concurrent workers.\n",
      "[Parallel(n_jobs=-1)]: Done  30 out of  30 | elapsed:    8.2s finished\n"
     ]
    },
    {
     "name": "stdout",
     "output_type": "stream",
     "text": [
      "Fitting 3 folds for each of 10 candidates, totalling 30 fits\n"
     ]
    },
    {
     "name": "stderr",
     "output_type": "stream",
     "text": [
      "[Parallel(n_jobs=-1)]: Using backend LokyBackend with 6 concurrent workers.\n",
      "[Parallel(n_jobs=-1)]: Done  30 out of  30 | elapsed:    7.9s finished\n"
     ]
    },
    {
     "name": "stdout",
     "output_type": "stream",
     "text": [
      "\n",
      "\n",
      "########################### classification report for 줄동애등에 ###########################\n",
      "              precision    recall  f1-score   support\n",
      "\n",
      "           0       0.97      0.99      0.98       159\n",
      "           1       0.80      0.44      0.57         9\n",
      "\n",
      "    accuracy                           0.96       168\n",
      "   macro avg       0.88      0.72      0.78       168\n",
      "weighted avg       0.96      0.96      0.96       168\n",
      "\n",
      "ROC/AUC:  0.7190775681341719\n",
      "ACC:  0.9642857142857143\n",
      "PREC:  0.8\n",
      "RECALL:  0.4444444444444444\n",
      "F1:  0.5714285714285714\n",
      "MCC:  0.5805891554372606\n",
      "Confusion Matrix: \n",
      " [[158   1]\n",
      " [  5   4]]\n",
      "\n",
      "\n",
      "Fitting 3 folds for each of 10 candidates, totalling 30 fits\n"
     ]
    },
    {
     "name": "stderr",
     "output_type": "stream",
     "text": [
      "[Parallel(n_jobs=-1)]: Using backend LokyBackend with 6 concurrent workers.\n",
      "[Parallel(n_jobs=-1)]: Done  30 out of  30 | elapsed:    7.9s finished\n"
     ]
    },
    {
     "name": "stdout",
     "output_type": "stream",
     "text": [
      "Fitting 3 folds for each of 10 candidates, totalling 30 fits\n"
     ]
    },
    {
     "name": "stderr",
     "output_type": "stream",
     "text": [
      "[Parallel(n_jobs=-1)]: Using backend LokyBackend with 6 concurrent workers.\n",
      "[Parallel(n_jobs=-1)]: Done  30 out of  30 | elapsed:    8.1s finished\n"
     ]
    },
    {
     "name": "stdout",
     "output_type": "stream",
     "text": [
      "Fitting 3 folds for each of 10 candidates, totalling 30 fits\n"
     ]
    },
    {
     "name": "stderr",
     "output_type": "stream",
     "text": [
      "[Parallel(n_jobs=-1)]: Using backend LokyBackend with 6 concurrent workers.\n",
      "[Parallel(n_jobs=-1)]: Done  30 out of  30 | elapsed:    8.3s finished\n"
     ]
    },
    {
     "name": "stdout",
     "output_type": "stream",
     "text": [
      "Fitting 3 folds for each of 10 candidates, totalling 30 fits\n"
     ]
    },
    {
     "name": "stderr",
     "output_type": "stream",
     "text": [
      "[Parallel(n_jobs=-1)]: Using backend LokyBackend with 6 concurrent workers.\n",
      "[Parallel(n_jobs=-1)]: Done  30 out of  30 | elapsed:    8.6s finished\n"
     ]
    },
    {
     "name": "stdout",
     "output_type": "stream",
     "text": [
      "Fitting 3 folds for each of 10 candidates, totalling 30 fits\n"
     ]
    },
    {
     "name": "stderr",
     "output_type": "stream",
     "text": [
      "[Parallel(n_jobs=-1)]: Using backend LokyBackend with 6 concurrent workers.\n",
      "[Parallel(n_jobs=-1)]: Done  30 out of  30 | elapsed:    8.4s finished\n"
     ]
    },
    {
     "name": "stdout",
     "output_type": "stream",
     "text": [
      "Fitting 3 folds for each of 10 candidates, totalling 30 fits\n"
     ]
    },
    {
     "name": "stderr",
     "output_type": "stream",
     "text": [
      "[Parallel(n_jobs=-1)]: Using backend LokyBackend with 6 concurrent workers.\n",
      "[Parallel(n_jobs=-1)]: Done  30 out of  30 | elapsed:    8.2s finished\n"
     ]
    },
    {
     "name": "stdout",
     "output_type": "stream",
     "text": [
      "Fitting 3 folds for each of 10 candidates, totalling 30 fits\n"
     ]
    },
    {
     "name": "stderr",
     "output_type": "stream",
     "text": [
      "[Parallel(n_jobs=-1)]: Using backend LokyBackend with 6 concurrent workers.\n",
      "[Parallel(n_jobs=-1)]: Done  30 out of  30 | elapsed:    8.7s finished\n"
     ]
    },
    {
     "name": "stdout",
     "output_type": "stream",
     "text": [
      "Fitting 3 folds for each of 10 candidates, totalling 30 fits\n"
     ]
    },
    {
     "name": "stderr",
     "output_type": "stream",
     "text": [
      "[Parallel(n_jobs=-1)]: Using backend LokyBackend with 6 concurrent workers.\n",
      "[Parallel(n_jobs=-1)]: Done  30 out of  30 | elapsed:    8.4s finished\n"
     ]
    },
    {
     "name": "stdout",
     "output_type": "stream",
     "text": [
      "Fitting 3 folds for each of 10 candidates, totalling 30 fits\n"
     ]
    },
    {
     "name": "stderr",
     "output_type": "stream",
     "text": [
      "[Parallel(n_jobs=-1)]: Using backend LokyBackend with 6 concurrent workers.\n",
      "[Parallel(n_jobs=-1)]: Done  30 out of  30 | elapsed:    8.9s finished\n"
     ]
    },
    {
     "name": "stdout",
     "output_type": "stream",
     "text": [
      "Fitting 3 folds for each of 10 candidates, totalling 30 fits\n"
     ]
    },
    {
     "name": "stderr",
     "output_type": "stream",
     "text": [
      "[Parallel(n_jobs=-1)]: Using backend LokyBackend with 6 concurrent workers.\n",
      "[Parallel(n_jobs=-1)]: Done  30 out of  30 | elapsed:    9.6s finished\n"
     ]
    },
    {
     "name": "stdout",
     "output_type": "stream",
     "text": [
      "\n",
      "\n",
      "########################### classification report for 아시아실잠자리 ###########################\n",
      "              precision    recall  f1-score   support\n",
      "\n",
      "           0       0.80      0.76      0.78       102\n",
      "           1       0.66      0.70      0.68        66\n",
      "\n",
      "    accuracy                           0.74       168\n",
      "   macro avg       0.73      0.73      0.73       168\n",
      "weighted avg       0.74      0.74      0.74       168\n",
      "\n",
      "ROC/AUC:  0.7308377896613191\n",
      "ACC:  0.7380952380952381\n",
      "PREC:  0.6571428571428571\n",
      "RECALL:  0.696969696969697\n",
      "F1:  0.676470588235294\n",
      "MCC:  0.45734812045634377\n",
      "Confusion Matrix: \n",
      " [[78 24]\n",
      " [20 46]]\n",
      "\n",
      "\n",
      "Fitting 3 folds for each of 10 candidates, totalling 30 fits\n"
     ]
    },
    {
     "name": "stderr",
     "output_type": "stream",
     "text": [
      "[Parallel(n_jobs=-1)]: Using backend LokyBackend with 6 concurrent workers.\n",
      "[Parallel(n_jobs=-1)]: Done  30 out of  30 | elapsed:    8.5s finished\n"
     ]
    },
    {
     "name": "stdout",
     "output_type": "stream",
     "text": [
      "Fitting 3 folds for each of 10 candidates, totalling 30 fits\n"
     ]
    },
    {
     "name": "stderr",
     "output_type": "stream",
     "text": [
      "[Parallel(n_jobs=-1)]: Using backend LokyBackend with 6 concurrent workers.\n",
      "[Parallel(n_jobs=-1)]: Done  30 out of  30 | elapsed:    9.3s finished\n"
     ]
    },
    {
     "name": "stdout",
     "output_type": "stream",
     "text": [
      "Fitting 3 folds for each of 10 candidates, totalling 30 fits\n"
     ]
    },
    {
     "name": "stderr",
     "output_type": "stream",
     "text": [
      "[Parallel(n_jobs=-1)]: Using backend LokyBackend with 6 concurrent workers.\n",
      "[Parallel(n_jobs=-1)]: Done  30 out of  30 | elapsed:    8.0s finished\n"
     ]
    },
    {
     "name": "stdout",
     "output_type": "stream",
     "text": [
      "Fitting 3 folds for each of 10 candidates, totalling 30 fits\n"
     ]
    },
    {
     "name": "stderr",
     "output_type": "stream",
     "text": [
      "[Parallel(n_jobs=-1)]: Using backend LokyBackend with 6 concurrent workers.\n",
      "[Parallel(n_jobs=-1)]: Done  30 out of  30 | elapsed:    9.1s finished\n"
     ]
    },
    {
     "name": "stdout",
     "output_type": "stream",
     "text": [
      "Fitting 3 folds for each of 10 candidates, totalling 30 fits\n"
     ]
    },
    {
     "name": "stderr",
     "output_type": "stream",
     "text": [
      "[Parallel(n_jobs=-1)]: Using backend LokyBackend with 6 concurrent workers.\n",
      "[Parallel(n_jobs=-1)]: Done  30 out of  30 | elapsed:    8.2s finished\n"
     ]
    },
    {
     "name": "stdout",
     "output_type": "stream",
     "text": [
      "Fitting 3 folds for each of 10 candidates, totalling 30 fits\n"
     ]
    },
    {
     "name": "stderr",
     "output_type": "stream",
     "text": [
      "[Parallel(n_jobs=-1)]: Using backend LokyBackend with 6 concurrent workers.\n",
      "[Parallel(n_jobs=-1)]: Done  30 out of  30 | elapsed:    8.7s finished\n"
     ]
    },
    {
     "name": "stdout",
     "output_type": "stream",
     "text": [
      "\n",
      "\n",
      "########################### classification report for 다슬기 ###########################\n",
      "              precision    recall  f1-score   support\n",
      "\n",
      "           0       0.91      0.85      0.88       124\n",
      "           1       0.65      0.75      0.69        44\n",
      "\n",
      "    accuracy                           0.83       168\n",
      "   macro avg       0.78      0.80      0.79       168\n",
      "weighted avg       0.84      0.83      0.83       168\n",
      "\n",
      "ROC/AUC:  0.8024193548387097\n",
      "ACC:  0.8273809523809523\n",
      "PREC:  0.6470588235294118\n",
      "RECALL:  0.75\n",
      "F1:  0.6947368421052633\n",
      "MCC:  0.578360653983307\n",
      "Confusion Matrix: \n",
      " [[106  18]\n",
      " [ 11  33]]\n",
      "\n",
      "\n",
      "Fitting 3 folds for each of 10 candidates, totalling 30 fits\n"
     ]
    },
    {
     "name": "stderr",
     "output_type": "stream",
     "text": [
      "[Parallel(n_jobs=-1)]: Using backend LokyBackend with 6 concurrent workers.\n",
      "[Parallel(n_jobs=-1)]: Done  30 out of  30 | elapsed:    8.2s finished\n"
     ]
    },
    {
     "name": "stdout",
     "output_type": "stream",
     "text": [
      "Fitting 3 folds for each of 10 candidates, totalling 30 fits\n"
     ]
    },
    {
     "name": "stderr",
     "output_type": "stream",
     "text": [
      "[Parallel(n_jobs=-1)]: Using backend LokyBackend with 6 concurrent workers.\n",
      "[Parallel(n_jobs=-1)]: Done  30 out of  30 | elapsed:    8.5s finished\n"
     ]
    },
    {
     "name": "stdout",
     "output_type": "stream",
     "text": [
      "Fitting 3 folds for each of 10 candidates, totalling 30 fits\n"
     ]
    },
    {
     "name": "stderr",
     "output_type": "stream",
     "text": [
      "[Parallel(n_jobs=-1)]: Using backend LokyBackend with 6 concurrent workers.\n",
      "[Parallel(n_jobs=-1)]: Done  30 out of  30 | elapsed:    8.4s finished\n"
     ]
    },
    {
     "name": "stdout",
     "output_type": "stream",
     "text": [
      "Fitting 3 folds for each of 10 candidates, totalling 30 fits\n"
     ]
    },
    {
     "name": "stderr",
     "output_type": "stream",
     "text": [
      "[Parallel(n_jobs=-1)]: Using backend LokyBackend with 6 concurrent workers.\n",
      "[Parallel(n_jobs=-1)]: Done  30 out of  30 | elapsed:    8.4s finished\n"
     ]
    },
    {
     "name": "stdout",
     "output_type": "stream",
     "text": [
      "Fitting 3 folds for each of 10 candidates, totalling 30 fits\n"
     ]
    },
    {
     "name": "stderr",
     "output_type": "stream",
     "text": [
      "[Parallel(n_jobs=-1)]: Using backend LokyBackend with 6 concurrent workers.\n",
      "[Parallel(n_jobs=-1)]: Done  30 out of  30 | elapsed:    8.3s finished\n"
     ]
    },
    {
     "name": "stdout",
     "output_type": "stream",
     "text": [
      "Fitting 3 folds for each of 10 candidates, totalling 30 fits\n"
     ]
    },
    {
     "name": "stderr",
     "output_type": "stream",
     "text": [
      "[Parallel(n_jobs=-1)]: Using backend LokyBackend with 6 concurrent workers.\n",
      "[Parallel(n_jobs=-1)]: Done  30 out of  30 | elapsed:    9.0s finished\n"
     ]
    },
    {
     "name": "stdout",
     "output_type": "stream",
     "text": [
      "Fitting 3 folds for each of 10 candidates, totalling 30 fits\n"
     ]
    },
    {
     "name": "stderr",
     "output_type": "stream",
     "text": [
      "[Parallel(n_jobs=-1)]: Using backend LokyBackend with 6 concurrent workers.\n",
      "[Parallel(n_jobs=-1)]: Done  30 out of  30 | elapsed:    7.8s finished\n"
     ]
    },
    {
     "name": "stdout",
     "output_type": "stream",
     "text": [
      "Fitting 3 folds for each of 10 candidates, totalling 30 fits\n"
     ]
    },
    {
     "name": "stderr",
     "output_type": "stream",
     "text": [
      "[Parallel(n_jobs=-1)]: Using backend LokyBackend with 6 concurrent workers.\n",
      "[Parallel(n_jobs=-1)]: Done  30 out of  30 | elapsed:    8.3s finished\n"
     ]
    },
    {
     "name": "stdout",
     "output_type": "stream",
     "text": [
      "Fitting 3 folds for each of 10 candidates, totalling 30 fits\n"
     ]
    },
    {
     "name": "stderr",
     "output_type": "stream",
     "text": [
      "[Parallel(n_jobs=-1)]: Using backend LokyBackend with 6 concurrent workers.\n",
      "[Parallel(n_jobs=-1)]: Done  30 out of  30 | elapsed:    8.4s finished\n"
     ]
    },
    {
     "name": "stdout",
     "output_type": "stream",
     "text": [
      "Fitting 3 folds for each of 10 candidates, totalling 30 fits\n"
     ]
    },
    {
     "name": "stderr",
     "output_type": "stream",
     "text": [
      "[Parallel(n_jobs=-1)]: Using backend LokyBackend with 6 concurrent workers.\n",
      "[Parallel(n_jobs=-1)]: Done  30 out of  30 | elapsed:    7.8s finished\n"
     ]
    },
    {
     "name": "stdout",
     "output_type": "stream",
     "text": [
      "Fitting 3 folds for each of 10 candidates, totalling 30 fits\n"
     ]
    },
    {
     "name": "stderr",
     "output_type": "stream",
     "text": [
      "[Parallel(n_jobs=-1)]: Using backend LokyBackend with 6 concurrent workers.\n",
      "[Parallel(n_jobs=-1)]: Done  30 out of  30 | elapsed:    8.3s finished\n"
     ]
    },
    {
     "name": "stdout",
     "output_type": "stream",
     "text": [
      "\n",
      "\n",
      "########################### classification report for 왕잠자리 ###########################\n",
      "              precision    recall  f1-score   support\n",
      "\n",
      "           0       0.91      0.93      0.92       142\n",
      "           1       0.57      0.50      0.53        26\n",
      "\n",
      "    accuracy                           0.86       168\n",
      "   macro avg       0.74      0.71      0.73       168\n",
      "weighted avg       0.86      0.86      0.86       168\n",
      "\n",
      "ROC/AUC:  0.7147887323943661\n",
      "ACC:  0.8630952380952381\n",
      "PREC:  0.5652173913043478\n",
      "RECALL:  0.5\n",
      "F1:  0.5306122448979592\n",
      "MCC:  0.45198541164545203\n",
      "Confusion Matrix: \n",
      " [[132  10]\n",
      " [ 13  13]]\n",
      "\n",
      "\n",
      "Fitting 3 folds for each of 10 candidates, totalling 30 fits\n"
     ]
    },
    {
     "name": "stderr",
     "output_type": "stream",
     "text": [
      "[Parallel(n_jobs=-1)]: Using backend LokyBackend with 6 concurrent workers.\n",
      "[Parallel(n_jobs=-1)]: Done  30 out of  30 | elapsed:    8.5s finished\n"
     ]
    },
    {
     "name": "stdout",
     "output_type": "stream",
     "text": [
      "\n",
      "\n",
      "########################### classification report for 방울실잠자리 ###########################\n",
      "              precision    recall  f1-score   support\n",
      "\n",
      "           0       0.87      0.78      0.82       120\n",
      "           1       0.56      0.71      0.62        48\n",
      "\n",
      "    accuracy                           0.76       168\n",
      "   macro avg       0.71      0.74      0.72       168\n",
      "weighted avg       0.78      0.76      0.76       168\n",
      "\n",
      "ROC/AUC:  0.7416666666666668\n",
      "ACC:  0.7559523809523809\n",
      "PREC:  0.5573770491803278\n",
      "RECALL:  0.7083333333333334\n",
      "F1:  0.6238532110091743\n",
      "MCC:  0.4540473892826794\n",
      "Confusion Matrix: \n",
      " [[93 27]\n",
      " [14 34]]\n",
      "\n",
      "\n"
     ]
    }
   ],
   "source": [
    "dir_name = '/Users/shinbo/Desktop/contest/environ/concat_data/bnin/etc/5%~/'\n",
    "dir_list = os.listdir(dir_name)\n",
    "save_dir = '/Users/shinbo/Desktop/contest/environ/model/bnin/'\n",
    "\n",
    "\n",
    "# Number of trees in random forest\n",
    "n_estimators = [int(x) for x in np.linspace(start = 200, stop = 2000, num = 10)]\n",
    "# Number of features to consider at every split\n",
    "max_features = ['auto', 'sqrt']\n",
    "# Maximum number of levels in tree\n",
    "max_depth = [int(x) for x in np.linspace(10, 110, num = 11)]\n",
    "max_depth.append(None)\n",
    "# Minimum number of samples required to split a node\n",
    "min_samples_split = [2, 5, 10]\n",
    "# Minimum number of samples required at each leaf node\n",
    "min_samples_leaf = [1, 2, 4]\n",
    "# Method of selecting samples for training each tree\n",
    "bootstrap = [True, False]\n",
    "# Create the random grid\n",
    "params = {'n_estimators': n_estimators,\n",
    "               'max_features': max_features,\n",
    "               'max_depth': max_depth,\n",
    "               'min_samples_split': min_samples_split,\n",
    "               'min_samples_leaf': min_samples_leaf,\n",
    "               'bootstrap': bootstrap}\n",
    "\n",
    "\n",
    "for _dir in dir_list:\n",
    "    \n",
    "    tmp = pd.read_csv(dir_name + _dir)\n",
    "    X = tmp[['bio1', 'bio2', 'bio3', 'bio4', 'bio5', 'bio6', 'bio7',\n",
    "           'bio8', 'bio9', 'bio10', 'bio11', 'bio12', 'bio13', 'bio14', 'bio15',\n",
    "           'bio16', 'bio17', 'bio18', 'bio19', 'pet', 'rh', 'srad']]\n",
    "    y = tmp['y']\n",
    "    \n",
    "    weight = len(np.where(y == 0)[0]) / len(np.where(y == 1)[0])\n",
    "\n",
    "    X_train, X_test, y_train, y_test = split_train_test(X, y,0.3)\n",
    "    \n",
    "    # Create a based model\n",
    "    rf = RandomForestClassifier(class_weight={0:1,1:weight})\n",
    "    # Instantiate the grid search model\n",
    "    grid_search = RandomizedSearchCV(estimator = rf, param_distributions = params, \n",
    "                                     cv = 3, verbose=2, random_state=42, n_jobs = -1)\n",
    "\n",
    "    # Fit the grid search to the data\n",
    "    grid_search.fit(X_train, y_train)\n",
    "\n",
    "    # best params\n",
    "\n",
    "    rf_best_est = grid_search.best_estimator_\n",
    "    rf = rf_best_est.fit(X_train, y_train)\n",
    "\n",
    "    rf.fit(X_train, y_train)\n",
    "   \n",
    "    \n",
    "    pred = rf.predict(X_test)\n",
    "    roc_score = roc_auc_score(y_test,pred)\n",
    "    if roc_score >= 0.7:        \n",
    "        print('\\n')\n",
    "        print(f'########################### classification report for {_dir[:-4]} ###########################')\n",
    "        print_result(rf,X_test,y_test)\n",
    "        dict_model_rf[_dir[:-4]] = rf\n",
    "        print('\\n')"
   ]
  },
  {
   "cell_type": "code",
   "execution_count": 11,
   "metadata": {},
   "outputs": [],
   "source": [
    "pickle.dump(dict_model_rf, open('../model_dict_weight_adj/bnin_rf.pickle', 'wb'))"
   ]
  },
  {
   "cell_type": "markdown",
   "metadata": {},
   "source": [
    "### xgb 2%~5%"
   ]
  },
  {
   "cell_type": "code",
   "execution_count": 12,
   "metadata": {
    "scrolled": true
   },
   "outputs": [
    {
     "name": "stdout",
     "output_type": "stream",
     "text": [
      "starting optimizing for 한국강도래\n",
      "done tuning\n",
      "Fitting 3 folds for each of 10 candidates, totalling 30 fits\n"
     ]
    },
    {
     "name": "stderr",
     "output_type": "stream",
     "text": [
      "[Parallel(n_jobs=-1)]: Using backend LokyBackend with 6 concurrent workers.\n",
      "[Parallel(n_jobs=-1)]: Done  30 out of  30 | elapsed:    1.8s finished\n"
     ]
    },
    {
     "name": "stdout",
     "output_type": "stream",
     "text": [
      "\n",
      "\n",
      "########################### classification report for 한국강도래 ###########################\n",
      "              precision    recall  f1-score   support\n",
      "\n",
      "           0       0.99      0.94      0.96       164\n",
      "           1       0.17      0.50      0.25         4\n",
      "\n",
      "    accuracy                           0.93       168\n",
      "   macro avg       0.58      0.72      0.61       168\n",
      "weighted avg       0.97      0.93      0.95       168\n",
      "\n",
      "ROC/AUC:  0.7195121951219512\n",
      "ACC:  0.9285714285714286\n",
      "PREC:  0.16666666666666666\n",
      "RECALL:  0.5\n",
      "F1:  0.25\n",
      "MCC:  0.25988884909452603\n",
      "Confusion Matrix: \n",
      " [[154  10]\n",
      " [  2   2]]\n",
      "\n",
      "\n",
      "starting optimizing for 네모집날도래 Kua\n",
      "done tuning\n",
      "Fitting 3 folds for each of 10 candidates, totalling 30 fits\n"
     ]
    },
    {
     "name": "stderr",
     "output_type": "stream",
     "text": [
      "[Parallel(n_jobs=-1)]: Using backend LokyBackend with 6 concurrent workers.\n",
      "[Parallel(n_jobs=-1)]: Done  19 out of  30 | elapsed:    0.3s remaining:    0.2s\n",
      "[Parallel(n_jobs=-1)]: Done  30 out of  30 | elapsed:    0.5s finished\n"
     ]
    },
    {
     "name": "stdout",
     "output_type": "stream",
     "text": [
      "starting optimizing for 늪깔따구아과류\n",
      "done tuning\n",
      "Fitting 3 folds for each of 10 candidates, totalling 30 fits\n"
     ]
    },
    {
     "name": "stderr",
     "output_type": "stream",
     "text": [
      "[Parallel(n_jobs=-1)]: Using backend LokyBackend with 6 concurrent workers.\n",
      "[Parallel(n_jobs=-1)]: Done  19 out of  30 | elapsed:    0.2s remaining:    0.1s\n",
      "[Parallel(n_jobs=-1)]: Done  30 out of  30 | elapsed:    0.4s finished\n"
     ]
    },
    {
     "name": "stdout",
     "output_type": "stream",
     "text": [
      "\n",
      "\n",
      "########################### classification report for 늪깔따구아과류 ###########################\n",
      "              precision    recall  f1-score   support\n",
      "\n",
      "           0       1.00      0.99      0.99       163\n",
      "           1       0.71      1.00      0.83         5\n",
      "\n",
      "    accuracy                           0.99       168\n",
      "   macro avg       0.86      0.99      0.91       168\n",
      "weighted avg       0.99      0.99      0.99       168\n",
      "\n",
      "ROC/AUC:  0.9938650306748466\n",
      "ACC:  0.9880952380952381\n",
      "PREC:  0.7142857142857143\n",
      "RECALL:  1.0\n",
      "F1:  0.8333333333333333\n",
      "MCC:  0.8399532560759783\n",
      "Confusion Matrix: \n",
      " [[161   2]\n",
      " [  0   5]]\n",
      "\n",
      "\n",
      "starting optimizing for 민강도래 KUa\n",
      "done tuning\n",
      "Fitting 3 folds for each of 10 candidates, totalling 30 fits\n"
     ]
    },
    {
     "name": "stderr",
     "output_type": "stream",
     "text": [
      "[Parallel(n_jobs=-1)]: Using backend LokyBackend with 6 concurrent workers.\n",
      "[Parallel(n_jobs=-1)]: Done  19 out of  30 | elapsed:    0.3s remaining:    0.2s\n",
      "[Parallel(n_jobs=-1)]: Done  30 out of  30 | elapsed:    0.5s finished\n"
     ]
    },
    {
     "name": "stdout",
     "output_type": "stream",
     "text": [
      "starting optimizing for 노란뱀잠자리\n",
      "done tuning\n",
      "Fitting 3 folds for each of 10 candidates, totalling 30 fits\n"
     ]
    },
    {
     "name": "stderr",
     "output_type": "stream",
     "text": [
      "[Parallel(n_jobs=-1)]: Using backend LokyBackend with 6 concurrent workers.\n",
      "[Parallel(n_jobs=-1)]: Done  19 out of  30 | elapsed:    0.3s remaining:    0.2s\n",
      "[Parallel(n_jobs=-1)]: Done  30 out of  30 | elapsed:    0.6s finished\n"
     ]
    },
    {
     "name": "stdout",
     "output_type": "stream",
     "text": [
      "starting optimizing for 중간밀잠자리\n",
      "done tuning\n",
      "Fitting 3 folds for each of 10 candidates, totalling 30 fits\n"
     ]
    },
    {
     "name": "stderr",
     "output_type": "stream",
     "text": [
      "[Parallel(n_jobs=-1)]: Using backend LokyBackend with 6 concurrent workers.\n",
      "[Parallel(n_jobs=-1)]: Done  19 out of  30 | elapsed:    0.3s remaining:    0.2s\n",
      "[Parallel(n_jobs=-1)]: Done  30 out of  30 | elapsed:    0.5s finished\n",
      "[Parallel(n_jobs=-1)]: Using backend LokyBackend with 6 concurrent workers.\n"
     ]
    },
    {
     "name": "stdout",
     "output_type": "stream",
     "text": [
      "starting optimizing for 나도꼬마하루살이\n",
      "done tuning\n",
      "Fitting 3 folds for each of 10 candidates, totalling 30 fits\n"
     ]
    },
    {
     "name": "stderr",
     "output_type": "stream",
     "text": [
      "[Parallel(n_jobs=-1)]: Done  19 out of  30 | elapsed:    0.3s remaining:    0.2s\n",
      "[Parallel(n_jobs=-1)]: Done  30 out of  30 | elapsed:    0.6s finished\n"
     ]
    },
    {
     "name": "stdout",
     "output_type": "stream",
     "text": [
      "starting optimizing for 애우묵날도래 KUa\n",
      "done tuning\n",
      "Fitting 3 folds for each of 10 candidates, totalling 30 fits\n"
     ]
    },
    {
     "name": "stderr",
     "output_type": "stream",
     "text": [
      "[Parallel(n_jobs=-1)]: Using backend LokyBackend with 6 concurrent workers.\n",
      "[Parallel(n_jobs=-1)]: Done  19 out of  30 | elapsed:    0.3s remaining:    0.2s\n",
      "[Parallel(n_jobs=-1)]: Done  30 out of  30 | elapsed:    0.5s finished\n",
      "[Parallel(n_jobs=-1)]: Using backend LokyBackend with 6 concurrent workers.\n"
     ]
    },
    {
     "name": "stdout",
     "output_type": "stream",
     "text": [
      "starting optimizing for 좀주름다슬기\n",
      "done tuning\n",
      "Fitting 3 folds for each of 10 candidates, totalling 30 fits\n"
     ]
    },
    {
     "name": "stderr",
     "output_type": "stream",
     "text": [
      "[Parallel(n_jobs=-1)]: Done  19 out of  30 | elapsed:    0.3s remaining:    0.2s\n",
      "[Parallel(n_jobs=-1)]: Done  30 out of  30 | elapsed:    0.5s finished\n"
     ]
    },
    {
     "name": "stdout",
     "output_type": "stream",
     "text": [
      "starting optimizing for 네모집날도래 Kub\n",
      "done tuning\n",
      "Fitting 3 folds for each of 10 candidates, totalling 30 fits\n"
     ]
    },
    {
     "name": "stderr",
     "output_type": "stream",
     "text": [
      "[Parallel(n_jobs=-1)]: Using backend LokyBackend with 6 concurrent workers.\n",
      "[Parallel(n_jobs=-1)]: Done  19 out of  30 | elapsed:    0.3s remaining:    0.2s\n",
      "[Parallel(n_jobs=-1)]: Done  30 out of  30 | elapsed:    0.6s finished\n"
     ]
    },
    {
     "name": "stdout",
     "output_type": "stream",
     "text": [
      "starting optimizing for 작은갈고리하루살이\n",
      "done tuning\n",
      "Fitting 3 folds for each of 10 candidates, totalling 30 fits\n"
     ]
    },
    {
     "name": "stderr",
     "output_type": "stream",
     "text": [
      "[Parallel(n_jobs=-1)]: Using backend LokyBackend with 6 concurrent workers.\n",
      "[Parallel(n_jobs=-1)]: Done  19 out of  30 | elapsed:    0.3s remaining:    0.2s\n",
      "[Parallel(n_jobs=-1)]: Done  30 out of  30 | elapsed:    0.6s finished\n"
     ]
    },
    {
     "name": "stdout",
     "output_type": "stream",
     "text": [
      "starting optimizing for 민강도래 KUb\n",
      "done tuning\n",
      "Fitting 3 folds for each of 10 candidates, totalling 30 fits\n"
     ]
    },
    {
     "name": "stderr",
     "output_type": "stream",
     "text": [
      "[Parallel(n_jobs=-1)]: Using backend LokyBackend with 6 concurrent workers.\n",
      "[Parallel(n_jobs=-1)]: Done  19 out of  30 | elapsed:    0.3s remaining:    0.2s\n",
      "[Parallel(n_jobs=-1)]: Done  30 out of  30 | elapsed:    0.5s finished\n"
     ]
    },
    {
     "name": "stdout",
     "output_type": "stream",
     "text": [
      "\n",
      "\n",
      "########################### classification report for 민강도래 KUb ###########################\n",
      "              precision    recall  f1-score   support\n",
      "\n",
      "           0       0.98      0.98      0.98       162\n",
      "           1       0.50      0.50      0.50         6\n",
      "\n",
      "    accuracy                           0.96       168\n",
      "   macro avg       0.74      0.74      0.74       168\n",
      "weighted avg       0.96      0.96      0.96       168\n",
      "\n",
      "ROC/AUC:  0.7407407407407408\n",
      "ACC:  0.9642857142857143\n",
      "PREC:  0.5\n",
      "RECALL:  0.5\n",
      "F1:  0.5\n",
      "MCC:  0.48148148148148145\n",
      "Confusion Matrix: \n",
      " [[159   3]\n",
      " [  3   3]]\n",
      "\n",
      "\n",
      "starting optimizing for 둥근입기수우렁이\n",
      "done tuning\n",
      "Fitting 3 folds for each of 10 candidates, totalling 30 fits\n"
     ]
    },
    {
     "name": "stderr",
     "output_type": "stream",
     "text": [
      "[Parallel(n_jobs=-1)]: Using backend LokyBackend with 6 concurrent workers.\n",
      "[Parallel(n_jobs=-1)]: Done  19 out of  30 | elapsed:    0.2s remaining:    0.1s\n",
      "[Parallel(n_jobs=-1)]: Done  30 out of  30 | elapsed:    0.5s finished\n"
     ]
    },
    {
     "name": "stdout",
     "output_type": "stream",
     "text": [
      "\n",
      "\n",
      "########################### classification report for 둥근입기수우렁이 ###########################\n",
      "              precision    recall  f1-score   support\n",
      "\n",
      "           0       0.99      0.96      0.98       164\n",
      "           1       0.33      0.75      0.46         4\n",
      "\n",
      "    accuracy                           0.96       168\n",
      "   macro avg       0.66      0.86      0.72       168\n",
      "weighted avg       0.98      0.96      0.97       168\n",
      "\n",
      "ROC/AUC:  0.8567073170731707\n",
      "ACC:  0.9583333333333334\n",
      "PREC:  0.3333333333333333\n",
      "RECALL:  0.75\n",
      "F1:  0.46153846153846156\n",
      "MCC:  0.4830300131019749\n",
      "Confusion Matrix: \n",
      " [[158   6]\n",
      " [  1   3]]\n",
      "\n",
      "\n",
      "starting optimizing for 모래무지물방개\n",
      "done tuning\n",
      "Fitting 3 folds for each of 10 candidates, totalling 30 fits\n"
     ]
    },
    {
     "name": "stderr",
     "output_type": "stream",
     "text": [
      "[Parallel(n_jobs=-1)]: Using backend LokyBackend with 6 concurrent workers.\n",
      "[Parallel(n_jobs=-1)]: Done  19 out of  30 | elapsed:    0.3s remaining:    0.2s\n",
      "[Parallel(n_jobs=-1)]: Done  30 out of  30 | elapsed:    0.5s finished\n"
     ]
    },
    {
     "name": "stdout",
     "output_type": "stream",
     "text": [
      "starting optimizing for 만주잔산잠자리\n",
      "done tuning\n",
      "Fitting 3 folds for each of 10 candidates, totalling 30 fits\n"
     ]
    },
    {
     "name": "stderr",
     "output_type": "stream",
     "text": [
      "[Parallel(n_jobs=-1)]: Using backend LokyBackend with 6 concurrent workers.\n",
      "[Parallel(n_jobs=-1)]: Done  19 out of  30 | elapsed:    0.3s remaining:    0.2s\n",
      "[Parallel(n_jobs=-1)]: Done  30 out of  30 | elapsed:    0.5s finished\n"
     ]
    },
    {
     "name": "stdout",
     "output_type": "stream",
     "text": [
      "starting optimizing for 곰보긴다리여울벌레\n",
      "done tuning\n",
      "Fitting 3 folds for each of 10 candidates, totalling 30 fits\n"
     ]
    },
    {
     "name": "stderr",
     "output_type": "stream",
     "text": [
      "[Parallel(n_jobs=-1)]: Using backend LokyBackend with 6 concurrent workers.\n",
      "[Parallel(n_jobs=-1)]: Done  19 out of  30 | elapsed:    0.3s remaining:    0.2s\n",
      "[Parallel(n_jobs=-1)]: Done  30 out of  30 | elapsed:    0.5s finished\n"
     ]
    },
    {
     "name": "stdout",
     "output_type": "stream",
     "text": [
      "starting optimizing for 입술날도래 KUa\n",
      "done tuning\n",
      "Fitting 3 folds for each of 10 candidates, totalling 30 fits\n"
     ]
    },
    {
     "name": "stderr",
     "output_type": "stream",
     "text": [
      "[Parallel(n_jobs=-1)]: Using backend LokyBackend with 6 concurrent workers.\n",
      "[Parallel(n_jobs=-1)]: Done  19 out of  30 | elapsed:    0.3s remaining:    0.2s\n",
      "[Parallel(n_jobs=-1)]: Done  30 out of  30 | elapsed:    0.5s finished\n"
     ]
    },
    {
     "name": "stdout",
     "output_type": "stream",
     "text": [
      "starting optimizing for 가시우묵날도래\n",
      "done tuning\n",
      "Fitting 3 folds for each of 10 candidates, totalling 30 fits\n"
     ]
    },
    {
     "name": "stderr",
     "output_type": "stream",
     "text": [
      "[Parallel(n_jobs=-1)]: Using backend LokyBackend with 6 concurrent workers.\n",
      "[Parallel(n_jobs=-1)]: Done  19 out of  30 | elapsed:    0.3s remaining:    0.2s\n",
      "[Parallel(n_jobs=-1)]: Done  30 out of  30 | elapsed:    0.6s finished\n"
     ]
    },
    {
     "name": "stdout",
     "output_type": "stream",
     "text": [
      "starting optimizing for 검정물방개\n",
      "done tuning\n",
      "Fitting 3 folds for each of 10 candidates, totalling 30 fits\n"
     ]
    },
    {
     "name": "stderr",
     "output_type": "stream",
     "text": [
      "[Parallel(n_jobs=-1)]: Using backend LokyBackend with 6 concurrent workers.\n",
      "[Parallel(n_jobs=-1)]: Done  19 out of  30 | elapsed:    0.3s remaining:    0.1s\n",
      "[Parallel(n_jobs=-1)]: Done  30 out of  30 | elapsed:    0.5s finished\n"
     ]
    },
    {
     "name": "stdout",
     "output_type": "stream",
     "text": [
      "starting optimizing for 염주쇠우렁이\n",
      "done tuning\n",
      "Fitting 3 folds for each of 10 candidates, totalling 30 fits\n"
     ]
    },
    {
     "name": "stderr",
     "output_type": "stream",
     "text": [
      "[Parallel(n_jobs=-1)]: Using backend LokyBackend with 6 concurrent workers.\n",
      "[Parallel(n_jobs=-1)]: Done  19 out of  30 | elapsed:    0.3s remaining:    0.2s\n",
      "[Parallel(n_jobs=-1)]: Done  30 out of  30 | elapsed:    0.5s finished\n"
     ]
    },
    {
     "name": "stdout",
     "output_type": "stream",
     "text": [
      "starting optimizing for 진강도래\n",
      "done tuning\n",
      "Fitting 3 folds for each of 10 candidates, totalling 30 fits\n"
     ]
    },
    {
     "name": "stderr",
     "output_type": "stream",
     "text": [
      "[Parallel(n_jobs=-1)]: Using backend LokyBackend with 6 concurrent workers.\n",
      "[Parallel(n_jobs=-1)]: Done  19 out of  30 | elapsed:    0.3s remaining:    0.2s\n",
      "[Parallel(n_jobs=-1)]: Done  30 out of  30 | elapsed:    0.5s finished\n"
     ]
    },
    {
     "name": "stdout",
     "output_type": "stream",
     "text": [
      "\n",
      "\n",
      "########################### classification report for 진강도래 ###########################\n",
      "              precision    recall  f1-score   support\n",
      "\n",
      "           0       0.99      0.94      0.96       162\n",
      "           1       0.29      0.67      0.40         6\n",
      "\n",
      "    accuracy                           0.93       168\n",
      "   macro avg       0.64      0.80      0.68       168\n",
      "weighted avg       0.96      0.93      0.94       168\n",
      "\n",
      "ROC/AUC:  0.802469135802469\n",
      "ACC:  0.9285714285714286\n",
      "PREC:  0.2857142857142857\n",
      "RECALL:  0.6666666666666666\n",
      "F1:  0.4\n",
      "MCC:  0.40618119722996165\n",
      "Confusion Matrix: \n",
      " [[152  10]\n",
      " [  2   4]]\n",
      "\n",
      "\n",
      "starting optimizing for 가람하루살이\n",
      "done tuning\n",
      "Fitting 3 folds for each of 10 candidates, totalling 30 fits\n"
     ]
    },
    {
     "name": "stderr",
     "output_type": "stream",
     "text": [
      "[Parallel(n_jobs=-1)]: Using backend LokyBackend with 6 concurrent workers.\n",
      "[Parallel(n_jobs=-1)]: Done  30 out of  30 | elapsed:    0.5s finished\n"
     ]
    },
    {
     "name": "stdout",
     "output_type": "stream",
     "text": [
      "starting optimizing for 물벌레\n",
      "done tuning\n",
      "Fitting 3 folds for each of 10 candidates, totalling 30 fits\n"
     ]
    },
    {
     "name": "stderr",
     "output_type": "stream",
     "text": [
      "[Parallel(n_jobs=-1)]: Using backend LokyBackend with 6 concurrent workers.\n",
      "[Parallel(n_jobs=-1)]: Done  19 out of  30 | elapsed:    0.3s remaining:    0.2s\n",
      "[Parallel(n_jobs=-1)]: Done  30 out of  30 | elapsed:    0.5s finished\n"
     ]
    },
    {
     "name": "stdout",
     "output_type": "stream",
     "text": [
      "\n",
      "\n",
      "########################### classification report for 물벌레 ###########################\n",
      "              precision    recall  f1-score   support\n",
      "\n",
      "           0       0.98      0.99      0.99       162\n",
      "           1       0.75      0.50      0.60         6\n",
      "\n",
      "    accuracy                           0.98       168\n",
      "   macro avg       0.87      0.75      0.79       168\n",
      "weighted avg       0.97      0.98      0.97       168\n",
      "\n",
      "ROC/AUC:  0.7469135802469136\n",
      "ACC:  0.9761904761904762\n",
      "PREC:  0.75\n",
      "RECALL:  0.5\n",
      "F1:  0.6\n",
      "MCC:  0.6011130897782883\n",
      "Confusion Matrix: \n",
      " [[161   1]\n",
      " [  3   3]]\n",
      "\n",
      "\n",
      "starting optimizing for 자실잠자리\n",
      "done tuning\n",
      "Fitting 3 folds for each of 10 candidates, totalling 30 fits\n"
     ]
    },
    {
     "name": "stderr",
     "output_type": "stream",
     "text": [
      "[Parallel(n_jobs=-1)]: Using backend LokyBackend with 6 concurrent workers.\n",
      "[Parallel(n_jobs=-1)]: Done  19 out of  30 | elapsed:    0.3s remaining:    0.2s\n",
      "[Parallel(n_jobs=-1)]: Done  30 out of  30 | elapsed:    0.5s finished\n",
      "[Parallel(n_jobs=-1)]: Using backend LokyBackend with 6 concurrent workers.\n"
     ]
    },
    {
     "name": "stdout",
     "output_type": "stream",
     "text": [
      "starting optimizing for 큰애우묵날도래\n",
      "done tuning\n",
      "Fitting 3 folds for each of 10 candidates, totalling 30 fits\n"
     ]
    },
    {
     "name": "stderr",
     "output_type": "stream",
     "text": [
      "[Parallel(n_jobs=-1)]: Done  19 out of  30 | elapsed:    0.3s remaining:    0.2s\n",
      "[Parallel(n_jobs=-1)]: Done  30 out of  30 | elapsed:    0.5s finished\n"
     ]
    },
    {
     "name": "stdout",
     "output_type": "stream",
     "text": [
      "\n",
      "\n",
      "########################### classification report for 큰애우묵날도래 ###########################\n",
      "              precision    recall  f1-score   support\n",
      "\n",
      "           0       0.99      0.93      0.96       161\n",
      "           1       0.35      0.86      0.50         7\n",
      "\n",
      "    accuracy                           0.93       168\n",
      "   macro avg       0.67      0.89      0.73       168\n",
      "weighted avg       0.97      0.93      0.94       168\n",
      "\n",
      "ROC/AUC:  0.8944099378881988\n",
      "ACC:  0.9285714285714286\n",
      "PREC:  0.35294117647058826\n",
      "RECALL:  0.8571428571428571\n",
      "F1:  0.5\n",
      "MCC:  0.5226691518471739\n",
      "Confusion Matrix: \n",
      " [[150  11]\n",
      " [  1   6]]\n",
      "\n",
      "\n",
      "starting optimizing for 청나비날도래\n",
      "done tuning\n",
      "Fitting 3 folds for each of 10 candidates, totalling 30 fits\n"
     ]
    },
    {
     "name": "stderr",
     "output_type": "stream",
     "text": [
      "[Parallel(n_jobs=-1)]: Using backend LokyBackend with 6 concurrent workers.\n",
      "[Parallel(n_jobs=-1)]: Done  19 out of  30 | elapsed:    0.2s remaining:    0.1s\n",
      "[Parallel(n_jobs=-1)]: Done  30 out of  30 | elapsed:    0.5s finished\n"
     ]
    },
    {
     "name": "stdout",
     "output_type": "stream",
     "text": [
      "starting optimizing for 깨알물방개\n",
      "done tuning\n",
      "Fitting 3 folds for each of 10 candidates, totalling 30 fits\n"
     ]
    },
    {
     "name": "stderr",
     "output_type": "stream",
     "text": [
      "[Parallel(n_jobs=-1)]: Using backend LokyBackend with 6 concurrent workers.\n",
      "[Parallel(n_jobs=-1)]: Done  19 out of  30 | elapsed:    0.3s remaining:    0.2s\n",
      "[Parallel(n_jobs=-1)]: Done  30 out of  30 | elapsed:    0.5s finished\n"
     ]
    },
    {
     "name": "stdout",
     "output_type": "stream",
     "text": [
      "starting optimizing for 연나비날도래\n",
      "done tuning\n",
      "Fitting 3 folds for each of 10 candidates, totalling 30 fits\n"
     ]
    },
    {
     "name": "stderr",
     "output_type": "stream",
     "text": [
      "[Parallel(n_jobs=-1)]: Using backend LokyBackend with 6 concurrent workers.\n",
      "[Parallel(n_jobs=-1)]: Done  19 out of  30 | elapsed:    0.3s remaining:    0.2s\n",
      "[Parallel(n_jobs=-1)]: Done  30 out of  30 | elapsed:    0.5s finished\n"
     ]
    },
    {
     "name": "stdout",
     "output_type": "stream",
     "text": [
      "starting optimizing for 애모기 KUa\n",
      "done tuning\n",
      "Fitting 3 folds for each of 10 candidates, totalling 30 fits\n"
     ]
    },
    {
     "name": "stderr",
     "output_type": "stream",
     "text": [
      "[Parallel(n_jobs=-1)]: Using backend LokyBackend with 6 concurrent workers.\n",
      "[Parallel(n_jobs=-1)]: Done  19 out of  30 | elapsed:    0.3s remaining:    0.2s\n",
      "[Parallel(n_jobs=-1)]: Done  30 out of  30 | elapsed:    0.5s finished\n",
      "[Parallel(n_jobs=-1)]: Using backend LokyBackend with 6 concurrent workers.\n"
     ]
    },
    {
     "name": "stdout",
     "output_type": "stream",
     "text": [
      "\n",
      "\n",
      "########################### classification report for 애모기 KUa ###########################\n",
      "              precision    recall  f1-score   support\n",
      "\n",
      "           0       0.99      0.90      0.94       161\n",
      "           1       0.24      0.71      0.36         7\n",
      "\n",
      "    accuracy                           0.89       168\n",
      "   macro avg       0.61      0.81      0.65       168\n",
      "weighted avg       0.96      0.89      0.92       168\n",
      "\n",
      "ROC/AUC:  0.8074534161490684\n",
      "ACC:  0.8928571428571429\n",
      "PREC:  0.23809523809523808\n",
      "RECALL:  0.7142857142857143\n",
      "F1:  0.35714285714285715\n",
      "MCC:  0.3715377629412903\n",
      "Confusion Matrix: \n",
      " [[145  16]\n",
      " [  2   5]]\n",
      "\n",
      "\n",
      "starting optimizing for 금빛하루살이\n",
      "done tuning\n",
      "Fitting 3 folds for each of 10 candidates, totalling 30 fits\n"
     ]
    },
    {
     "name": "stderr",
     "output_type": "stream",
     "text": [
      "[Parallel(n_jobs=-1)]: Done  19 out of  30 | elapsed:    0.3s remaining:    0.2s\n",
      "[Parallel(n_jobs=-1)]: Done  30 out of  30 | elapsed:    0.5s finished\n"
     ]
    },
    {
     "name": "stdout",
     "output_type": "stream",
     "text": [
      "\n",
      "\n",
      "########################### classification report for 금빛하루살이 ###########################\n",
      "              precision    recall  f1-score   support\n",
      "\n",
      "           0       0.99      1.00      1.00       164\n",
      "           1       1.00      0.75      0.86         4\n",
      "\n",
      "    accuracy                           0.99       168\n",
      "   macro avg       1.00      0.88      0.93       168\n",
      "weighted avg       0.99      0.99      0.99       168\n",
      "\n",
      "ROC/AUC:  0.875\n",
      "ACC:  0.9940476190476191\n",
      "PREC:  1.0\n",
      "RECALL:  0.75\n",
      "F1:  0.8571428571428571\n",
      "MCC:  0.8633970960424556\n",
      "Confusion Matrix: \n",
      " [[164   0]\n",
      " [  1   3]]\n",
      "\n",
      "\n",
      "starting optimizing for 깔따구류 sp.1\n",
      "done tuning\n",
      "Fitting 3 folds for each of 10 candidates, totalling 30 fits\n"
     ]
    },
    {
     "name": "stderr",
     "output_type": "stream",
     "text": [
      "[Parallel(n_jobs=-1)]: Using backend LokyBackend with 6 concurrent workers.\n",
      "[Parallel(n_jobs=-1)]: Done  19 out of  30 | elapsed:    0.2s remaining:    0.1s\n",
      "[Parallel(n_jobs=-1)]: Done  30 out of  30 | elapsed:    0.4s finished\n"
     ]
    },
    {
     "name": "stdout",
     "output_type": "stream",
     "text": [
      "\n",
      "\n",
      "########################### classification report for 깔따구류 sp.1 ###########################\n",
      "              precision    recall  f1-score   support\n",
      "\n",
      "           0       0.99      0.99      0.99       164\n",
      "           1       0.60      0.75      0.67         4\n",
      "\n",
      "    accuracy                           0.98       168\n",
      "   macro avg       0.80      0.87      0.83       168\n",
      "weighted avg       0.98      0.98      0.98       168\n",
      "\n",
      "ROC/AUC:  0.8689024390243901\n",
      "ACC:  0.9821428571428571\n",
      "PREC:  0.6\n",
      "RECALL:  0.75\n",
      "F1:  0.6666666666666665\n",
      "MCC:  0.6619339215771394\n",
      "Confusion Matrix: \n",
      " [[162   2]\n",
      " [  1   3]]\n",
      "\n",
      "\n",
      "starting optimizing for 작은강하루살이\n",
      "done tuning\n",
      "Fitting 3 folds for each of 10 candidates, totalling 30 fits\n"
     ]
    },
    {
     "name": "stderr",
     "output_type": "stream",
     "text": [
      "[Parallel(n_jobs=-1)]: Using backend LokyBackend with 6 concurrent workers.\n",
      "[Parallel(n_jobs=-1)]: Done  19 out of  30 | elapsed:    0.2s remaining:    0.1s\n",
      "[Parallel(n_jobs=-1)]: Done  30 out of  30 | elapsed:    0.4s finished\n"
     ]
    },
    {
     "name": "stdout",
     "output_type": "stream",
     "text": [
      "\n",
      "\n",
      "########################### classification report for 작은강하루살이 ###########################\n",
      "              precision    recall  f1-score   support\n",
      "\n",
      "           0       0.99      0.96      0.97       164\n",
      "           1       0.22      0.50      0.31         4\n",
      "\n",
      "    accuracy                           0.95       168\n",
      "   macro avg       0.60      0.73      0.64       168\n",
      "weighted avg       0.97      0.95      0.96       168\n",
      "\n",
      "ROC/AUC:  0.7286585365853658\n",
      "ACC:  0.9464285714285714\n",
      "PREC:  0.2222222222222222\n",
      "RECALL:  0.5\n",
      "F1:  0.30769230769230765\n",
      "MCC:  0.30963462378331724\n",
      "Confusion Matrix: \n",
      " [[157   7]\n",
      " [  2   2]]\n",
      "\n",
      "\n",
      "starting optimizing for 자색물방개\n",
      "done tuning\n",
      "Fitting 3 folds for each of 10 candidates, totalling 30 fits\n"
     ]
    },
    {
     "name": "stderr",
     "output_type": "stream",
     "text": [
      "[Parallel(n_jobs=-1)]: Using backend LokyBackend with 6 concurrent workers.\n",
      "[Parallel(n_jobs=-1)]: Done  19 out of  30 | elapsed:    0.3s remaining:    0.2s\n",
      "[Parallel(n_jobs=-1)]: Done  30 out of  30 | elapsed:    0.5s finished\n"
     ]
    },
    {
     "name": "stdout",
     "output_type": "stream",
     "text": [
      "starting optimizing for 일본잎벌레\n",
      "done tuning\n",
      "Fitting 3 folds for each of 10 candidates, totalling 30 fits\n"
     ]
    },
    {
     "name": "stderr",
     "output_type": "stream",
     "text": [
      "[Parallel(n_jobs=-1)]: Using backend LokyBackend with 6 concurrent workers.\n",
      "[Parallel(n_jobs=-1)]: Done  19 out of  30 | elapsed:    0.3s remaining:    0.2s\n",
      "[Parallel(n_jobs=-1)]: Done  30 out of  30 | elapsed:    0.5s finished\n",
      "[Parallel(n_jobs=-1)]: Using backend LokyBackend with 6 concurrent workers.\n"
     ]
    },
    {
     "name": "stdout",
     "output_type": "stream",
     "text": [
      "starting optimizing for 소금쟁이류\n",
      "done tuning\n",
      "Fitting 3 folds for each of 10 candidates, totalling 30 fits\n"
     ]
    },
    {
     "name": "stderr",
     "output_type": "stream",
     "text": [
      "[Parallel(n_jobs=-1)]: Done  19 out of  30 | elapsed:    0.3s remaining:    0.2s\n",
      "[Parallel(n_jobs=-1)]: Done  30 out of  30 | elapsed:    0.5s finished\n"
     ]
    },
    {
     "name": "stdout",
     "output_type": "stream",
     "text": [
      "\n",
      "\n",
      "########################### classification report for 소금쟁이류 ###########################\n",
      "              precision    recall  f1-score   support\n",
      "\n",
      "           0       0.99      0.99      0.99       164\n",
      "           1       0.67      0.50      0.57         4\n",
      "\n",
      "    accuracy                           0.98       168\n",
      "   macro avg       0.83      0.75      0.78       168\n",
      "weighted avg       0.98      0.98      0.98       168\n",
      "\n",
      "ROC/AUC:  0.746951219512195\n",
      "ACC:  0.9821428571428571\n",
      "PREC:  0.6666666666666666\n",
      "RECALL:  0.5\n",
      "F1:  0.5714285714285715\n",
      "MCC:  0.5685785754425927\n",
      "Confusion Matrix: \n",
      " [[163   1]\n",
      " [  2   2]]\n",
      "\n",
      "\n",
      "starting optimizing for 각다귀 KUa\n",
      "done tuning\n",
      "Fitting 3 folds for each of 10 candidates, totalling 30 fits\n"
     ]
    },
    {
     "name": "stderr",
     "output_type": "stream",
     "text": [
      "[Parallel(n_jobs=-1)]: Using backend LokyBackend with 6 concurrent workers.\n",
      "[Parallel(n_jobs=-1)]: Done  19 out of  30 | elapsed:    0.3s remaining:    0.1s\n",
      "[Parallel(n_jobs=-1)]: Done  30 out of  30 | elapsed:    0.6s finished\n"
     ]
    },
    {
     "name": "stdout",
     "output_type": "stream",
     "text": [
      "\n",
      "\n",
      "########################### classification report for 각다귀 KUa ###########################\n",
      "              precision    recall  f1-score   support\n",
      "\n",
      "           0       1.00      0.93      0.96       164\n",
      "           1       0.25      1.00      0.40         4\n",
      "\n",
      "    accuracy                           0.93       168\n",
      "   macro avg       0.62      0.96      0.68       168\n",
      "weighted avg       0.98      0.93      0.95       168\n",
      "\n",
      "ROC/AUC:  0.9634146341463415\n",
      "ACC:  0.9285714285714286\n",
      "PREC:  0.25\n",
      "RECALL:  1.0\n",
      "F1:  0.4\n",
      "MCC:  0.48135986234123296\n",
      "Confusion Matrix: \n",
      " [[152  12]\n",
      " [  0   4]]\n",
      "\n",
      "\n",
      "starting optimizing for 나비날도래류\n",
      "done tuning\n",
      "Fitting 3 folds for each of 10 candidates, totalling 30 fits\n"
     ]
    },
    {
     "name": "stderr",
     "output_type": "stream",
     "text": [
      "[Parallel(n_jobs=-1)]: Using backend LokyBackend with 6 concurrent workers.\n",
      "[Parallel(n_jobs=-1)]: Done  19 out of  30 | elapsed:    0.3s remaining:    0.2s\n",
      "[Parallel(n_jobs=-1)]: Done  30 out of  30 | elapsed:    0.6s finished\n"
     ]
    },
    {
     "name": "stdout",
     "output_type": "stream",
     "text": [
      "starting optimizing for 등에류\n",
      "done tuning\n",
      "Fitting 3 folds for each of 10 candidates, totalling 30 fits\n"
     ]
    },
    {
     "name": "stderr",
     "output_type": "stream",
     "text": [
      "[Parallel(n_jobs=-1)]: Using backend LokyBackend with 6 concurrent workers.\n",
      "[Parallel(n_jobs=-1)]: Done  19 out of  30 | elapsed:    0.3s remaining:    0.2s\n",
      "[Parallel(n_jobs=-1)]: Done  30 out of  30 | elapsed:    0.5s finished\n"
     ]
    },
    {
     "name": "stdout",
     "output_type": "stream",
     "text": [
      "starting optimizing for 두갈래하루살이\n",
      "done tuning\n",
      "Fitting 3 folds for each of 10 candidates, totalling 30 fits\n"
     ]
    },
    {
     "name": "stderr",
     "output_type": "stream",
     "text": [
      "[Parallel(n_jobs=-1)]: Using backend LokyBackend with 6 concurrent workers.\n",
      "[Parallel(n_jobs=-1)]: Done  19 out of  30 | elapsed:    0.4s remaining:    0.2s\n",
      "[Parallel(n_jobs=-1)]: Done  30 out of  30 | elapsed:    0.6s finished\n",
      "[Parallel(n_jobs=-1)]: Using backend LokyBackend with 6 concurrent workers.\n"
     ]
    },
    {
     "name": "stdout",
     "output_type": "stream",
     "text": [
      "\n",
      "\n",
      "########################### classification report for 두갈래하루살이 ###########################\n",
      "              precision    recall  f1-score   support\n",
      "\n",
      "           0       0.98      0.96      0.97       160\n",
      "           1       0.42      0.62      0.50         8\n",
      "\n",
      "    accuracy                           0.94       168\n",
      "   macro avg       0.70      0.79      0.73       168\n",
      "weighted avg       0.95      0.94      0.95       168\n",
      "\n",
      "ROC/AUC:  0.790625\n",
      "ACC:  0.9404761904761905\n",
      "PREC:  0.4166666666666667\n",
      "RECALL:  0.625\n",
      "F1:  0.5\n",
      "MCC:  0.4806345965331828\n",
      "Confusion Matrix: \n",
      " [[153   7]\n",
      " [  3   5]]\n",
      "\n",
      "\n",
      "starting optimizing for 애날도래 Kua\n",
      "done tuning\n",
      "Fitting 3 folds for each of 10 candidates, totalling 30 fits\n"
     ]
    },
    {
     "name": "stderr",
     "output_type": "stream",
     "text": [
      "[Parallel(n_jobs=-1)]: Done  19 out of  30 | elapsed:    0.2s remaining:    0.1s\n",
      "[Parallel(n_jobs=-1)]: Done  30 out of  30 | elapsed:    0.5s finished\n"
     ]
    },
    {
     "name": "stdout",
     "output_type": "stream",
     "text": [
      "\n",
      "\n",
      "########################### classification report for 애날도래 Kua ###########################\n",
      "              precision    recall  f1-score   support\n",
      "\n",
      "           0       0.99      0.96      0.98       164\n",
      "           1       0.25      0.50      0.33         4\n",
      "\n",
      "    accuracy                           0.95       168\n",
      "   macro avg       0.62      0.73      0.65       168\n",
      "weighted avg       0.97      0.95      0.96       168\n",
      "\n",
      "ROC/AUC:  0.7317073170731707\n",
      "ACC:  0.9523809523809523\n",
      "PREC:  0.25\n",
      "RECALL:  0.5\n",
      "F1:  0.3333333333333333\n",
      "MCC:  0.33175439049054967\n",
      "Confusion Matrix: \n",
      " [[158   6]\n",
      " [  2   2]]\n",
      "\n",
      "\n",
      "starting optimizing for 명주각다귀 Kua\n",
      "done tuning\n",
      "Fitting 3 folds for each of 10 candidates, totalling 30 fits\n"
     ]
    },
    {
     "name": "stderr",
     "output_type": "stream",
     "text": [
      "[Parallel(n_jobs=-1)]: Using backend LokyBackend with 6 concurrent workers.\n",
      "[Parallel(n_jobs=-1)]: Done  19 out of  30 | elapsed:    0.3s remaining:    0.2s\n",
      "[Parallel(n_jobs=-1)]: Done  30 out of  30 | elapsed:    0.6s finished\n",
      "[Parallel(n_jobs=-1)]: Using backend LokyBackend with 6 concurrent workers.\n"
     ]
    },
    {
     "name": "stdout",
     "output_type": "stream",
     "text": [
      "\n",
      "\n",
      "########################### classification report for 명주각다귀 Kua ###########################\n",
      "              precision    recall  f1-score   support\n",
      "\n",
      "           0       0.98      0.79      0.87       160\n",
      "           1       0.15      0.75      0.25         8\n",
      "\n",
      "    accuracy                           0.79       168\n",
      "   macro avg       0.57      0.77      0.56       168\n",
      "weighted avg       0.94      0.79      0.85       168\n",
      "\n",
      "ROC/AUC:  0.76875\n",
      "ACC:  0.7857142857142857\n",
      "PREC:  0.15\n",
      "RECALL:  0.75\n",
      "F1:  0.24999999999999997\n",
      "MCC:  0.26875\n",
      "Confusion Matrix: \n",
      " [[126  34]\n",
      " [  2   6]]\n",
      "\n",
      "\n",
      "starting optimizing for 긴무늬왕잠자리\n",
      "done tuning\n",
      "Fitting 3 folds for each of 10 candidates, totalling 30 fits\n"
     ]
    },
    {
     "name": "stderr",
     "output_type": "stream",
     "text": [
      "[Parallel(n_jobs=-1)]: Done  19 out of  30 | elapsed:    0.3s remaining:    0.2s\n",
      "[Parallel(n_jobs=-1)]: Done  30 out of  30 | elapsed:    0.5s finished\n"
     ]
    },
    {
     "name": "stdout",
     "output_type": "stream",
     "text": [
      "\n",
      "\n",
      "########################### classification report for 긴무늬왕잠자리 ###########################\n",
      "              precision    recall  f1-score   support\n",
      "\n",
      "           0       0.99      0.92      0.95       163\n",
      "           1       0.19      0.60      0.29         5\n",
      "\n",
      "    accuracy                           0.91       168\n",
      "   macro avg       0.59      0.76      0.62       168\n",
      "weighted avg       0.96      0.91      0.93       168\n",
      "\n",
      "ROC/AUC:  0.7601226993865031\n",
      "ACC:  0.9107142857142857\n",
      "PREC:  0.1875\n",
      "RECALL:  0.6\n",
      "F1:  0.2857142857142857\n",
      "MCC:  0.3011655326818741\n",
      "Confusion Matrix: \n",
      " [[150  13]\n",
      " [  2   3]]\n",
      "\n",
      "\n",
      "starting optimizing for 큰밀잠자리\n",
      "done tuning\n",
      "Fitting 3 folds for each of 10 candidates, totalling 30 fits\n"
     ]
    },
    {
     "name": "stderr",
     "output_type": "stream",
     "text": [
      "[Parallel(n_jobs=-1)]: Using backend LokyBackend with 6 concurrent workers.\n",
      "[Parallel(n_jobs=-1)]: Done  19 out of  30 | elapsed:    0.3s remaining:    0.2s\n",
      "[Parallel(n_jobs=-1)]: Done  30 out of  30 | elapsed:    0.5s finished\n"
     ]
    },
    {
     "name": "stdout",
     "output_type": "stream",
     "text": [
      "\n",
      "\n",
      "########################### classification report for 큰밀잠자리 ###########################\n",
      "              precision    recall  f1-score   support\n",
      "\n",
      "           0       0.99      1.00      0.99       164\n",
      "           1       1.00      0.50      0.67         4\n",
      "\n",
      "    accuracy                           0.99       168\n",
      "   macro avg       0.99      0.75      0.83       168\n",
      "weighted avg       0.99      0.99      0.99       168\n",
      "\n",
      "ROC/AUC:  0.75\n",
      "ACC:  0.9880952380952381\n",
      "PREC:  1.0\n",
      "RECALL:  0.5\n",
      "F1:  0.6666666666666666\n",
      "MCC:  0.7028341935438669\n",
      "Confusion Matrix: \n",
      " [[164   0]\n",
      " [  2   2]]\n",
      "\n",
      "\n",
      "starting optimizing for 등딱지하루살이 KUa\n",
      "done tuning\n",
      "Fitting 3 folds for each of 10 candidates, totalling 30 fits\n"
     ]
    },
    {
     "name": "stderr",
     "output_type": "stream",
     "text": [
      "[Parallel(n_jobs=-1)]: Using backend LokyBackend with 6 concurrent workers.\n",
      "[Parallel(n_jobs=-1)]: Done  19 out of  30 | elapsed:    0.3s remaining:    0.2s\n",
      "[Parallel(n_jobs=-1)]: Done  30 out of  30 | elapsed:    0.5s finished\n"
     ]
    },
    {
     "name": "stdout",
     "output_type": "stream",
     "text": [
      "starting optimizing for 물맴이\n",
      "done tuning\n",
      "Fitting 3 folds for each of 10 candidates, totalling 30 fits\n"
     ]
    },
    {
     "name": "stderr",
     "output_type": "stream",
     "text": [
      "[Parallel(n_jobs=-1)]: Using backend LokyBackend with 6 concurrent workers.\n",
      "[Parallel(n_jobs=-1)]: Done  19 out of  30 | elapsed:    0.3s remaining:    0.2s\n",
      "[Parallel(n_jobs=-1)]: Done  30 out of  30 | elapsed:    0.5s finished\n"
     ]
    },
    {
     "name": "stdout",
     "output_type": "stream",
     "text": [
      "starting optimizing for 갈색넙적거머리\n",
      "done tuning\n",
      "Fitting 3 folds for each of 10 candidates, totalling 30 fits\n"
     ]
    },
    {
     "name": "stderr",
     "output_type": "stream",
     "text": [
      "[Parallel(n_jobs=-1)]: Using backend LokyBackend with 6 concurrent workers.\n",
      "[Parallel(n_jobs=-1)]: Done  19 out of  30 | elapsed:    0.3s remaining:    0.2s\n",
      "[Parallel(n_jobs=-1)]: Done  30 out of  30 | elapsed:    0.6s finished\n"
     ]
    },
    {
     "name": "stdout",
     "output_type": "stream",
     "text": [
      "starting optimizing for 연가시\n",
      "done tuning\n",
      "Fitting 3 folds for each of 10 candidates, totalling 30 fits\n"
     ]
    },
    {
     "name": "stderr",
     "output_type": "stream",
     "text": [
      "[Parallel(n_jobs=-1)]: Using backend LokyBackend with 6 concurrent workers.\n",
      "[Parallel(n_jobs=-1)]: Done  19 out of  30 | elapsed:    0.3s remaining:    0.2s\n",
      "[Parallel(n_jobs=-1)]: Done  30 out of  30 | elapsed:    0.5s finished\n"
     ]
    },
    {
     "name": "stdout",
     "output_type": "stream",
     "text": [
      "starting optimizing for 잔물땡땡이\n",
      "done tuning\n",
      "Fitting 3 folds for each of 10 candidates, totalling 30 fits\n"
     ]
    },
    {
     "name": "stderr",
     "output_type": "stream",
     "text": [
      "[Parallel(n_jobs=-1)]: Using backend LokyBackend with 6 concurrent workers.\n",
      "[Parallel(n_jobs=-1)]: Done  19 out of  30 | elapsed:    0.2s remaining:    0.1s\n",
      "[Parallel(n_jobs=-1)]: Done  30 out of  30 | elapsed:    0.5s finished\n"
     ]
    },
    {
     "name": "stdout",
     "output_type": "stream",
     "text": [
      "starting optimizing for 늪깔따구류\n",
      "done tuning\n",
      "Fitting 3 folds for each of 10 candidates, totalling 30 fits\n"
     ]
    },
    {
     "name": "stderr",
     "output_type": "stream",
     "text": [
      "[Parallel(n_jobs=-1)]: Using backend LokyBackend with 6 concurrent workers.\n",
      "[Parallel(n_jobs=-1)]: Done  19 out of  30 | elapsed:    0.2s remaining:    0.1s\n",
      "[Parallel(n_jobs=-1)]: Done  30 out of  30 | elapsed:    0.5s finished\n"
     ]
    },
    {
     "name": "stdout",
     "output_type": "stream",
     "text": [
      "\n",
      "\n",
      "########################### classification report for 늪깔따구류 ###########################\n",
      "              precision    recall  f1-score   support\n",
      "\n",
      "           0       0.98      0.98      0.98       161\n",
      "           1       0.57      0.57      0.57         7\n",
      "\n",
      "    accuracy                           0.96       168\n",
      "   macro avg       0.78      0.78      0.78       168\n",
      "weighted avg       0.96      0.96      0.96       168\n",
      "\n",
      "ROC/AUC:  0.7763975155279502\n",
      "ACC:  0.9642857142857143\n",
      "PREC:  0.5714285714285714\n",
      "RECALL:  0.5714285714285714\n",
      "F1:  0.5714285714285714\n",
      "MCC:  0.5527950310559007\n",
      "Confusion Matrix: \n",
      " [[158   3]\n",
      " [  3   4]]\n",
      "\n",
      "\n",
      "starting optimizing for 곤봉물날도래\n",
      "done tuning\n",
      "Fitting 3 folds for each of 10 candidates, totalling 30 fits\n"
     ]
    },
    {
     "name": "stderr",
     "output_type": "stream",
     "text": [
      "[Parallel(n_jobs=-1)]: Using backend LokyBackend with 6 concurrent workers.\n",
      "[Parallel(n_jobs=-1)]: Done  19 out of  30 | elapsed:    0.3s remaining:    0.2s\n",
      "[Parallel(n_jobs=-1)]: Done  30 out of  30 | elapsed:    0.5s finished\n"
     ]
    },
    {
     "name": "stdout",
     "output_type": "stream",
     "text": [
      "starting optimizing for 삼각산골조개\n",
      "done tuning\n",
      "Fitting 3 folds for each of 10 candidates, totalling 30 fits\n"
     ]
    },
    {
     "name": "stderr",
     "output_type": "stream",
     "text": [
      "[Parallel(n_jobs=-1)]: Using backend LokyBackend with 6 concurrent workers.\n",
      "[Parallel(n_jobs=-1)]: Done  19 out of  30 | elapsed:    0.3s remaining:    0.2s\n",
      "[Parallel(n_jobs=-1)]: Done  30 out of  30 | elapsed:    0.5s finished\n"
     ]
    },
    {
     "name": "stdout",
     "output_type": "stream",
     "text": [
      "starting optimizing for 넓은물삿갓벌레 KUa\n",
      "done tuning\n",
      "Fitting 3 folds for each of 10 candidates, totalling 30 fits\n"
     ]
    },
    {
     "name": "stderr",
     "output_type": "stream",
     "text": [
      "[Parallel(n_jobs=-1)]: Using backend LokyBackend with 6 concurrent workers.\n",
      "[Parallel(n_jobs=-1)]: Done  19 out of  30 | elapsed:    0.3s remaining:    0.2s\n",
      "[Parallel(n_jobs=-1)]: Done  30 out of  30 | elapsed:    0.5s finished\n"
     ]
    },
    {
     "name": "stdout",
     "output_type": "stream",
     "text": [
      "\n",
      "\n",
      "########################### classification report for 넓은물삿갓벌레 KUa ###########################\n",
      "              precision    recall  f1-score   support\n",
      "\n",
      "           0       0.98      0.94      0.96       161\n",
      "           1       0.31      0.57      0.40         7\n",
      "\n",
      "    accuracy                           0.93       168\n",
      "   macro avg       0.64      0.76      0.68       168\n",
      "weighted avg       0.95      0.93      0.94       168\n",
      "\n",
      "ROC/AUC:  0.7577639751552795\n",
      "ACC:  0.9285714285714286\n",
      "PREC:  0.3076923076923077\n",
      "RECALL:  0.5714285714285714\n",
      "F1:  0.4\n",
      "MCC:  0.38554639718502076\n",
      "Confusion Matrix: \n",
      " [[152   9]\n",
      " [  3   4]]\n",
      "\n",
      "\n",
      "starting optimizing for 갈색우묵날도래 Kua\n",
      "done tuning\n",
      "Fitting 3 folds for each of 10 candidates, totalling 30 fits\n"
     ]
    },
    {
     "name": "stderr",
     "output_type": "stream",
     "text": [
      "[Parallel(n_jobs=-1)]: Using backend LokyBackend with 6 concurrent workers.\n",
      "[Parallel(n_jobs=-1)]: Done  19 out of  30 | elapsed:    0.2s remaining:    0.1s\n",
      "[Parallel(n_jobs=-1)]: Done  30 out of  30 | elapsed:    0.5s finished\n"
     ]
    },
    {
     "name": "stdout",
     "output_type": "stream",
     "text": [
      "\n",
      "\n",
      "########################### classification report for 갈색우묵날도래 Kua ###########################\n",
      "              precision    recall  f1-score   support\n",
      "\n",
      "           0       0.99      0.96      0.98       164\n",
      "           1       0.30      0.75      0.43         4\n",
      "\n",
      "    accuracy                           0.95       168\n",
      "   macro avg       0.65      0.85      0.70       168\n",
      "weighted avg       0.98      0.95      0.96       168\n",
      "\n",
      "ROC/AUC:  0.8536585365853658\n",
      "ACC:  0.9523809523809523\n",
      "PREC:  0.3\n",
      "RECALL:  0.75\n",
      "F1:  0.4285714285714285\n",
      "MCC:  0.4557613757381113\n",
      "Confusion Matrix: \n",
      " [[157   7]\n",
      " [  1   3]]\n",
      "\n",
      "\n",
      "starting optimizing for 물삿갓벌레류\n",
      "done tuning\n",
      "Fitting 3 folds for each of 10 candidates, totalling 30 fits\n"
     ]
    },
    {
     "name": "stderr",
     "output_type": "stream",
     "text": [
      "[Parallel(n_jobs=-1)]: Using backend LokyBackend with 6 concurrent workers.\n",
      "[Parallel(n_jobs=-1)]: Done  19 out of  30 | elapsed:    0.3s remaining:    0.2s\n",
      "[Parallel(n_jobs=-1)]: Done  30 out of  30 | elapsed:    0.5s finished\n",
      "[Parallel(n_jobs=-1)]: Using backend LokyBackend with 6 concurrent workers.\n"
     ]
    },
    {
     "name": "stdout",
     "output_type": "stream",
     "text": [
      "starting optimizing for 물삿갓벌레\n",
      "done tuning\n",
      "Fitting 3 folds for each of 10 candidates, totalling 30 fits\n"
     ]
    },
    {
     "name": "stderr",
     "output_type": "stream",
     "text": [
      "[Parallel(n_jobs=-1)]: Done  19 out of  30 | elapsed:    0.3s remaining:    0.2s\n",
      "[Parallel(n_jobs=-1)]: Done  30 out of  30 | elapsed:    0.5s finished\n",
      "[Parallel(n_jobs=-1)]: Using backend LokyBackend with 6 concurrent workers.\n"
     ]
    },
    {
     "name": "stdout",
     "output_type": "stream",
     "text": [
      "starting optimizing for 징거미새우\n",
      "done tuning\n",
      "Fitting 3 folds for each of 10 candidates, totalling 30 fits\n"
     ]
    },
    {
     "name": "stderr",
     "output_type": "stream",
     "text": [
      "[Parallel(n_jobs=-1)]: Done  19 out of  30 | elapsed:    0.3s remaining:    0.2s\n",
      "[Parallel(n_jobs=-1)]: Done  30 out of  30 | elapsed:    0.6s finished\n"
     ]
    },
    {
     "name": "stdout",
     "output_type": "stream",
     "text": [
      "\n",
      "\n",
      "########################### classification report for 징거미새우 ###########################\n",
      "              precision    recall  f1-score   support\n",
      "\n",
      "           0       0.98      0.98      0.98       161\n",
      "           1       0.50      0.43      0.46         7\n",
      "\n",
      "    accuracy                           0.96       168\n",
      "   macro avg       0.74      0.70      0.72       168\n",
      "weighted avg       0.96      0.96      0.96       168\n",
      "\n",
      "ROC/AUC:  0.7049689440993788\n",
      "ACC:  0.9583333333333334\n",
      "PREC:  0.5\n",
      "RECALL:  0.42857142857142855\n",
      "F1:  0.4615384615384615\n",
      "MCC:  0.4414147946478204\n",
      "Confusion Matrix: \n",
      " [[158   3]\n",
      " [  4   3]]\n",
      "\n",
      "\n",
      "starting optimizing for 장수잠자리\n",
      "done tuning\n",
      "Fitting 3 folds for each of 10 candidates, totalling 30 fits\n"
     ]
    },
    {
     "name": "stderr",
     "output_type": "stream",
     "text": [
      "[Parallel(n_jobs=-1)]: Using backend LokyBackend with 6 concurrent workers.\n",
      "[Parallel(n_jobs=-1)]: Done  19 out of  30 | elapsed:    0.3s remaining:    0.2s\n",
      "[Parallel(n_jobs=-1)]: Done  30 out of  30 | elapsed:    0.5s finished\n"
     ]
    },
    {
     "name": "stdout",
     "output_type": "stream",
     "text": [
      "starting optimizing for 참거머리\n",
      "done tuning\n",
      "Fitting 3 folds for each of 10 candidates, totalling 30 fits\n"
     ]
    },
    {
     "name": "stderr",
     "output_type": "stream",
     "text": [
      "[Parallel(n_jobs=-1)]: Using backend LokyBackend with 6 concurrent workers.\n",
      "[Parallel(n_jobs=-1)]: Done  19 out of  30 | elapsed:    0.3s remaining:    0.2s\n",
      "[Parallel(n_jobs=-1)]: Done  30 out of  30 | elapsed:    0.5s finished\n"
     ]
    },
    {
     "name": "stdout",
     "output_type": "stream",
     "text": [
      "\n",
      "\n",
      "########################### classification report for 참거머리 ###########################\n",
      "              precision    recall  f1-score   support\n",
      "\n",
      "           0       0.99      0.84      0.91       160\n",
      "           1       0.19      0.75      0.31         8\n",
      "\n",
      "    accuracy                           0.84       168\n",
      "   macro avg       0.59      0.80      0.61       168\n",
      "weighted avg       0.95      0.84      0.88       168\n",
      "\n",
      "ROC/AUC:  0.796875\n",
      "ACC:  0.8392857142857143\n",
      "PREC:  0.1935483870967742\n",
      "RECALL:  0.75\n",
      "F1:  0.30769230769230765\n",
      "MCC:  0.3259623776251346\n",
      "Confusion Matrix: \n",
      " [[135  25]\n",
      " [  2   6]]\n",
      "\n",
      "\n",
      "starting optimizing for 갈색우묵날도래 Kub\n",
      "done tuning\n",
      "Fitting 3 folds for each of 10 candidates, totalling 30 fits\n"
     ]
    },
    {
     "name": "stderr",
     "output_type": "stream",
     "text": [
      "[Parallel(n_jobs=-1)]: Using backend LokyBackend with 6 concurrent workers.\n",
      "[Parallel(n_jobs=-1)]: Done  19 out of  30 | elapsed:    0.3s remaining:    0.1s\n",
      "[Parallel(n_jobs=-1)]: Done  30 out of  30 | elapsed:    0.5s finished\n"
     ]
    },
    {
     "name": "stdout",
     "output_type": "stream",
     "text": [
      "\n",
      "\n",
      "########################### classification report for 갈색우묵날도래 Kub ###########################\n",
      "              precision    recall  f1-score   support\n",
      "\n",
      "           0       0.99      0.93      0.96       164\n",
      "           1       0.15      0.50      0.24         4\n",
      "\n",
      "    accuracy                           0.92       168\n",
      "   macro avg       0.57      0.72      0.60       168\n",
      "weighted avg       0.97      0.92      0.94       168\n",
      "\n",
      "ROC/AUC:  0.7164634146341463\n",
      "ACC:  0.9226190476190477\n",
      "PREC:  0.15384615384615385\n",
      "RECALL:  0.5\n",
      "F1:  0.23529411764705882\n",
      "MCC:  0.24701816723475506\n",
      "Confusion Matrix: \n",
      " [[153  11]\n",
      " [  2   2]]\n",
      "\n",
      "\n",
      "starting optimizing for 청나비날도래 Kua\n",
      "done tuning\n",
      "Fitting 3 folds for each of 10 candidates, totalling 30 fits\n"
     ]
    },
    {
     "name": "stderr",
     "output_type": "stream",
     "text": [
      "[Parallel(n_jobs=-1)]: Using backend LokyBackend with 6 concurrent workers.\n",
      "[Parallel(n_jobs=-1)]: Done  19 out of  30 | elapsed:    0.3s remaining:    0.1s\n",
      "[Parallel(n_jobs=-1)]: Done  30 out of  30 | elapsed:    0.5s finished\n"
     ]
    },
    {
     "name": "stdout",
     "output_type": "stream",
     "text": [
      "starting optimizing for 어리부채장수잠자리\n",
      "done tuning\n",
      "Fitting 3 folds for each of 10 candidates, totalling 30 fits\n"
     ]
    },
    {
     "name": "stderr",
     "output_type": "stream",
     "text": [
      "[Parallel(n_jobs=-1)]: Using backend LokyBackend with 6 concurrent workers.\n",
      "[Parallel(n_jobs=-1)]: Done  19 out of  30 | elapsed:    0.3s remaining:    0.2s\n",
      "[Parallel(n_jobs=-1)]: Done  30 out of  30 | elapsed:    0.6s finished\n"
     ]
    },
    {
     "name": "stdout",
     "output_type": "stream",
     "text": [
      "starting optimizing for 꼬마줄날도래 KUb\n",
      "done tuning\n",
      "Fitting 3 folds for each of 10 candidates, totalling 30 fits\n"
     ]
    },
    {
     "name": "stderr",
     "output_type": "stream",
     "text": [
      "[Parallel(n_jobs=-1)]: Using backend LokyBackend with 6 concurrent workers.\n",
      "[Parallel(n_jobs=-1)]: Done  19 out of  30 | elapsed:    0.3s remaining:    0.2s\n",
      "[Parallel(n_jobs=-1)]: Done  30 out of  30 | elapsed:    0.5s finished\n",
      "[Parallel(n_jobs=-1)]: Using backend LokyBackend with 6 concurrent workers.\n"
     ]
    },
    {
     "name": "stdout",
     "output_type": "stream",
     "text": [
      "starting optimizing for 줄동애등에 KUa\n",
      "done tuning\n",
      "Fitting 3 folds for each of 10 candidates, totalling 30 fits\n"
     ]
    },
    {
     "name": "stderr",
     "output_type": "stream",
     "text": [
      "[Parallel(n_jobs=-1)]: Done  19 out of  30 | elapsed:    0.3s remaining:    0.2s\n",
      "[Parallel(n_jobs=-1)]: Done  30 out of  30 | elapsed:    0.5s finished\n"
     ]
    },
    {
     "name": "stdout",
     "output_type": "stream",
     "text": [
      "starting optimizing for 노랑무늬물방개\n",
      "done tuning\n",
      "Fitting 3 folds for each of 10 candidates, totalling 30 fits\n"
     ]
    },
    {
     "name": "stderr",
     "output_type": "stream",
     "text": [
      "[Parallel(n_jobs=-1)]: Using backend LokyBackend with 6 concurrent workers.\n",
      "[Parallel(n_jobs=-1)]: Done  19 out of  30 | elapsed:    0.3s remaining:    0.2s\n",
      "[Parallel(n_jobs=-1)]: Done  30 out of  30 | elapsed:    0.5s finished\n"
     ]
    },
    {
     "name": "stdout",
     "output_type": "stream",
     "text": [
      "starting optimizing for 감초하루살이\n",
      "done tuning\n",
      "Fitting 3 folds for each of 10 candidates, totalling 30 fits\n"
     ]
    },
    {
     "name": "stderr",
     "output_type": "stream",
     "text": [
      "[Parallel(n_jobs=-1)]: Using backend LokyBackend with 6 concurrent workers.\n",
      "[Parallel(n_jobs=-1)]: Done  19 out of  30 | elapsed:    0.3s remaining:    0.2s\n",
      "[Parallel(n_jobs=-1)]: Done  30 out of  30 | elapsed:    0.5s finished\n"
     ]
    },
    {
     "name": "stdout",
     "output_type": "stream",
     "text": [
      "starting optimizing for 뿔하루살이\n",
      "done tuning\n",
      "Fitting 3 folds for each of 10 candidates, totalling 30 fits\n"
     ]
    },
    {
     "name": "stderr",
     "output_type": "stream",
     "text": [
      "[Parallel(n_jobs=-1)]: Using backend LokyBackend with 6 concurrent workers.\n",
      "[Parallel(n_jobs=-1)]: Done  19 out of  30 | elapsed:    0.3s remaining:    0.1s\n",
      "[Parallel(n_jobs=-1)]: Done  30 out of  30 | elapsed:    0.5s finished\n"
     ]
    },
    {
     "name": "stdout",
     "output_type": "stream",
     "text": [
      "starting optimizing for 참납작하루살이\n",
      "done tuning\n",
      "Fitting 3 folds for each of 10 candidates, totalling 30 fits\n"
     ]
    },
    {
     "name": "stderr",
     "output_type": "stream",
     "text": [
      "[Parallel(n_jobs=-1)]: Using backend LokyBackend with 6 concurrent workers.\n",
      "[Parallel(n_jobs=-1)]: Done  19 out of  30 | elapsed:    0.3s remaining:    0.2s\n",
      "[Parallel(n_jobs=-1)]: Done  30 out of  30 | elapsed:    0.5s finished\n"
     ]
    },
    {
     "name": "stdout",
     "output_type": "stream",
     "text": [
      "starting optimizing for 큰자실잠자리\n",
      "done tuning\n",
      "Fitting 3 folds for each of 10 candidates, totalling 30 fits\n"
     ]
    },
    {
     "name": "stderr",
     "output_type": "stream",
     "text": [
      "[Parallel(n_jobs=-1)]: Using backend LokyBackend with 6 concurrent workers.\n",
      "[Parallel(n_jobs=-1)]: Done  19 out of  30 | elapsed:    0.3s remaining:    0.2s\n",
      "[Parallel(n_jobs=-1)]: Done  30 out of  30 | elapsed:    0.5s finished\n",
      "[Parallel(n_jobs=-1)]: Using backend LokyBackend with 6 concurrent workers.\n"
     ]
    },
    {
     "name": "stdout",
     "output_type": "stream",
     "text": [
      "starting optimizing for 물진드기\n",
      "done tuning\n",
      "Fitting 3 folds for each of 10 candidates, totalling 30 fits\n"
     ]
    },
    {
     "name": "stderr",
     "output_type": "stream",
     "text": [
      "[Parallel(n_jobs=-1)]: Done  19 out of  30 | elapsed:    0.3s remaining:    0.2s\n",
      "[Parallel(n_jobs=-1)]: Done  30 out of  30 | elapsed:    0.5s finished\n",
      "[Parallel(n_jobs=-1)]: Using backend LokyBackend with 6 concurrent workers.\n"
     ]
    },
    {
     "name": "stdout",
     "output_type": "stream",
     "text": [
      "starting optimizing for 땅콩물방개\n",
      "done tuning\n",
      "Fitting 3 folds for each of 10 candidates, totalling 30 fits\n"
     ]
    },
    {
     "name": "stderr",
     "output_type": "stream",
     "text": [
      "[Parallel(n_jobs=-1)]: Done  19 out of  30 | elapsed:    0.3s remaining:    0.2s\n",
      "[Parallel(n_jobs=-1)]: Done  30 out of  30 | elapsed:    0.5s finished\n"
     ]
    },
    {
     "name": "stdout",
     "output_type": "stream",
     "text": [
      "starting optimizing for 꼬마물방개\n",
      "done tuning\n",
      "Fitting 3 folds for each of 10 candidates, totalling 30 fits\n"
     ]
    },
    {
     "name": "stderr",
     "output_type": "stream",
     "text": [
      "[Parallel(n_jobs=-1)]: Using backend LokyBackend with 6 concurrent workers.\n",
      "[Parallel(n_jobs=-1)]: Done  19 out of  30 | elapsed:    0.3s remaining:    0.2s\n",
      "[Parallel(n_jobs=-1)]: Done  30 out of  30 | elapsed:    0.6s finished\n"
     ]
    },
    {
     "name": "stdout",
     "output_type": "stream",
     "text": [
      "starting optimizing for 수염치레날도래\n",
      "done tuning\n",
      "Fitting 3 folds for each of 10 candidates, totalling 30 fits\n"
     ]
    },
    {
     "name": "stderr",
     "output_type": "stream",
     "text": [
      "[Parallel(n_jobs=-1)]: Using backend LokyBackend with 6 concurrent workers.\n",
      "[Parallel(n_jobs=-1)]: Done  19 out of  30 | elapsed:    0.2s remaining:    0.1s\n",
      "[Parallel(n_jobs=-1)]: Done  30 out of  30 | elapsed:    0.5s finished\n"
     ]
    },
    {
     "name": "stdout",
     "output_type": "stream",
     "text": [
      "\n",
      "\n",
      "########################### classification report for 수염치레날도래 ###########################\n",
      "              precision    recall  f1-score   support\n",
      "\n",
      "           0       0.99      0.92      0.95       163\n",
      "           1       0.19      0.60      0.29         5\n",
      "\n",
      "    accuracy                           0.91       168\n",
      "   macro avg       0.59      0.76      0.62       168\n",
      "weighted avg       0.96      0.91      0.93       168\n",
      "\n",
      "ROC/AUC:  0.7601226993865031\n",
      "ACC:  0.9107142857142857\n",
      "PREC:  0.1875\n",
      "RECALL:  0.6\n",
      "F1:  0.2857142857142857\n",
      "MCC:  0.3011655326818741\n",
      "Confusion Matrix: \n",
      " [[150  13]\n",
      " [  2   3]]\n",
      "\n",
      "\n",
      "starting optimizing for 방게아재비\n",
      "done tuning\n",
      "Fitting 3 folds for each of 10 candidates, totalling 30 fits\n"
     ]
    },
    {
     "name": "stderr",
     "output_type": "stream",
     "text": [
      "[Parallel(n_jobs=-1)]: Using backend LokyBackend with 6 concurrent workers.\n",
      "[Parallel(n_jobs=-1)]: Done  19 out of  30 | elapsed:    0.3s remaining:    0.2s\n",
      "[Parallel(n_jobs=-1)]: Done  30 out of  30 | elapsed:    0.6s finished\n",
      "[Parallel(n_jobs=-1)]: Using backend LokyBackend with 6 concurrent workers.\n"
     ]
    },
    {
     "name": "stdout",
     "output_type": "stream",
     "text": [
      "starting optimizing for 알물땡땡이\n",
      "done tuning\n",
      "Fitting 3 folds for each of 10 candidates, totalling 30 fits\n"
     ]
    },
    {
     "name": "stderr",
     "output_type": "stream",
     "text": [
      "[Parallel(n_jobs=-1)]: Done  19 out of  30 | elapsed:    0.3s remaining:    0.2s\n",
      "[Parallel(n_jobs=-1)]: Done  30 out of  30 | elapsed:    0.5s finished\n"
     ]
    },
    {
     "name": "stdout",
     "output_type": "stream",
     "text": [
      "\n",
      "\n",
      "########################### classification report for 알물땡땡이 ###########################\n",
      "              precision    recall  f1-score   support\n",
      "\n",
      "           0       0.99      0.94      0.96       161\n",
      "           1       0.33      0.71      0.45         7\n",
      "\n",
      "    accuracy                           0.93       168\n",
      "   macro avg       0.66      0.83      0.71       168\n",
      "weighted avg       0.96      0.93      0.94       168\n",
      "\n",
      "ROC/AUC:  0.8260869565217392\n",
      "ACC:  0.9285714285714286\n",
      "PREC:  0.3333333333333333\n",
      "RECALL:  0.7142857142857143\n",
      "F1:  0.4545454545454545\n",
      "MCC:  0.4570187689337444\n",
      "Confusion Matrix: \n",
      " [[151  10]\n",
      " [  2   5]]\n",
      "\n",
      "\n",
      "starting optimizing for 고추좀잠자리\n",
      "done tuning\n",
      "Fitting 3 folds for each of 10 candidates, totalling 30 fits\n"
     ]
    },
    {
     "name": "stderr",
     "output_type": "stream",
     "text": [
      "[Parallel(n_jobs=-1)]: Using backend LokyBackend with 6 concurrent workers.\n",
      "[Parallel(n_jobs=-1)]: Done  19 out of  30 | elapsed:    0.3s remaining:    0.2s\n",
      "[Parallel(n_jobs=-1)]: Done  30 out of  30 | elapsed:    0.5s finished\n"
     ]
    },
    {
     "name": "stdout",
     "output_type": "stream",
     "text": [
      "\n",
      "\n",
      "########################### classification report for 고추좀잠자리 ###########################\n",
      "              precision    recall  f1-score   support\n",
      "\n",
      "           0       0.99      0.95      0.97       163\n",
      "           1       0.33      0.80      0.47         5\n",
      "\n",
      "    accuracy                           0.95       168\n",
      "   macro avg       0.66      0.88      0.72       168\n",
      "weighted avg       0.97      0.95      0.96       168\n",
      "\n",
      "ROC/AUC:  0.8754601226993864\n",
      "ACC:  0.9464285714285714\n",
      "PREC:  0.3333333333333333\n",
      "RECALL:  0.8\n",
      "F1:  0.47058823529411764\n",
      "MCC:  0.4954726603452494\n",
      "Confusion Matrix: \n",
      " [[155   8]\n",
      " [  1   4]]\n",
      "\n",
      "\n",
      "starting optimizing for 배치레잠자리\n",
      "done tuning\n",
      "Fitting 3 folds for each of 10 candidates, totalling 30 fits\n"
     ]
    },
    {
     "name": "stderr",
     "output_type": "stream",
     "text": [
      "[Parallel(n_jobs=-1)]: Using backend LokyBackend with 6 concurrent workers.\n",
      "[Parallel(n_jobs=-1)]: Done  19 out of  30 | elapsed:    0.3s remaining:    0.2s\n",
      "[Parallel(n_jobs=-1)]: Done  30 out of  30 | elapsed:    0.5s finished\n"
     ]
    },
    {
     "name": "stdout",
     "output_type": "stream",
     "text": [
      "starting optimizing for 푸른아시아실잠자리\n",
      "done tuning\n",
      "Fitting 3 folds for each of 10 candidates, totalling 30 fits\n"
     ]
    },
    {
     "name": "stderr",
     "output_type": "stream",
     "text": [
      "[Parallel(n_jobs=-1)]: Using backend LokyBackend with 6 concurrent workers.\n",
      "[Parallel(n_jobs=-1)]: Done  19 out of  30 | elapsed:    0.3s remaining:    0.1s\n",
      "[Parallel(n_jobs=-1)]: Done  30 out of  30 | elapsed:    0.5s finished\n",
      "[Parallel(n_jobs=-1)]: Using backend LokyBackend with 6 concurrent workers.\n"
     ]
    },
    {
     "name": "stdout",
     "output_type": "stream",
     "text": [
      "starting optimizing for 물벌레류1\n",
      "done tuning\n",
      "Fitting 3 folds for each of 10 candidates, totalling 30 fits\n"
     ]
    },
    {
     "name": "stderr",
     "output_type": "stream",
     "text": [
      "[Parallel(n_jobs=-1)]: Done  19 out of  30 | elapsed:    0.3s remaining:    0.2s\n",
      "[Parallel(n_jobs=-1)]: Done  30 out of  30 | elapsed:    0.5s finished\n",
      "[Parallel(n_jobs=-1)]: Using backend LokyBackend with 6 concurrent workers.\n"
     ]
    },
    {
     "name": "stdout",
     "output_type": "stream",
     "text": [
      "starting optimizing for 밀잠자리붙이\n",
      "done tuning\n",
      "Fitting 3 folds for each of 10 candidates, totalling 30 fits\n"
     ]
    },
    {
     "name": "stderr",
     "output_type": "stream",
     "text": [
      "[Parallel(n_jobs=-1)]: Done  19 out of  30 | elapsed:    0.3s remaining:    0.2s\n",
      "[Parallel(n_jobs=-1)]: Done  30 out of  30 | elapsed:    0.5s finished\n"
     ]
    },
    {
     "name": "stdout",
     "output_type": "stream",
     "text": [
      "\n",
      "\n",
      "########################### classification report for 밀잠자리붙이 ###########################\n",
      "              precision    recall  f1-score   support\n",
      "\n",
      "           0       0.97      0.96      0.97       160\n",
      "           1       0.40      0.50      0.44         8\n",
      "\n",
      "    accuracy                           0.94       168\n",
      "   macro avg       0.69      0.73      0.71       168\n",
      "weighted avg       0.95      0.94      0.94       168\n",
      "\n",
      "ROC/AUC:  0.7312500000000001\n",
      "ACC:  0.9404761904761905\n",
      "PREC:  0.4\n",
      "RECALL:  0.5\n",
      "F1:  0.4444444444444445\n",
      "MCC:  0.41628252334262883\n",
      "Confusion Matrix: \n",
      " [[154   6]\n",
      " [  4   4]]\n",
      "\n",
      "\n",
      "starting optimizing for 언저리잠자리\n",
      "done tuning\n",
      "Fitting 3 folds for each of 10 candidates, totalling 30 fits\n"
     ]
    },
    {
     "name": "stderr",
     "output_type": "stream",
     "text": [
      "[Parallel(n_jobs=-1)]: Using backend LokyBackend with 6 concurrent workers.\n",
      "[Parallel(n_jobs=-1)]: Done  19 out of  30 | elapsed:    0.3s remaining:    0.1s\n",
      "[Parallel(n_jobs=-1)]: Done  30 out of  30 | elapsed:    0.5s finished\n"
     ]
    },
    {
     "name": "stdout",
     "output_type": "stream",
     "text": [
      "starting optimizing for 둥근날개날도래\n",
      "done tuning\n",
      "Fitting 3 folds for each of 10 candidates, totalling 30 fits\n"
     ]
    },
    {
     "name": "stderr",
     "output_type": "stream",
     "text": [
      "[Parallel(n_jobs=-1)]: Using backend LokyBackend with 6 concurrent workers.\n",
      "[Parallel(n_jobs=-1)]: Done  19 out of  30 | elapsed:    0.3s remaining:    0.1s\n",
      "[Parallel(n_jobs=-1)]: Done  30 out of  30 | elapsed:    0.5s finished\n"
     ]
    },
    {
     "name": "stdout",
     "output_type": "stream",
     "text": [
      "\n",
      "\n",
      "########################### classification report for 둥근날개날도래 ###########################\n",
      "              precision    recall  f1-score   support\n",
      "\n",
      "           0       0.99      0.92      0.96       163\n",
      "           1       0.24      0.80      0.36         5\n",
      "\n",
      "    accuracy                           0.92       168\n",
      "   macro avg       0.61      0.86      0.66       168\n",
      "weighted avg       0.97      0.92      0.94       168\n",
      "\n",
      "ROC/AUC:  0.8601226993865031\n",
      "ACC:  0.9166666666666666\n",
      "PREC:  0.23529411764705882\n",
      "RECALL:  0.8\n",
      "F1:  0.3636363636363636\n",
      "MCC:  0.40583206935342303\n",
      "Confusion Matrix: \n",
      " [[150  13]\n",
      " [  1   4]]\n",
      "\n",
      "\n",
      "starting optimizing for 먹줄왕잠자리\n",
      "done tuning\n",
      "Fitting 3 folds for each of 10 candidates, totalling 30 fits\n"
     ]
    },
    {
     "name": "stderr",
     "output_type": "stream",
     "text": [
      "[Parallel(n_jobs=-1)]: Using backend LokyBackend with 6 concurrent workers.\n",
      "[Parallel(n_jobs=-1)]: Done  19 out of  30 | elapsed:    0.3s remaining:    0.2s\n",
      "[Parallel(n_jobs=-1)]: Done  30 out of  30 | elapsed:    0.5s finished\n"
     ]
    },
    {
     "name": "stdout",
     "output_type": "stream",
     "text": [
      "starting optimizing for 갈색말거머리\n",
      "done tuning\n",
      "Fitting 3 folds for each of 10 candidates, totalling 30 fits\n"
     ]
    },
    {
     "name": "stderr",
     "output_type": "stream",
     "text": [
      "[Parallel(n_jobs=-1)]: Using backend LokyBackend with 6 concurrent workers.\n",
      "[Parallel(n_jobs=-1)]: Done  19 out of  30 | elapsed:    0.3s remaining:    0.2s\n",
      "[Parallel(n_jobs=-1)]: Done  30 out of  30 | elapsed:    0.5s finished\n"
     ]
    },
    {
     "name": "stdout",
     "output_type": "stream",
     "text": [
      "starting optimizing for 뒷가시물땡땡이\n",
      "done tuning\n",
      "Fitting 3 folds for each of 10 candidates, totalling 30 fits\n"
     ]
    },
    {
     "name": "stderr",
     "output_type": "stream",
     "text": [
      "[Parallel(n_jobs=-1)]: Using backend LokyBackend with 6 concurrent workers.\n",
      "[Parallel(n_jobs=-1)]: Done  19 out of  30 | elapsed:    0.3s remaining:    0.2s\n",
      "[Parallel(n_jobs=-1)]: Done  30 out of  30 | elapsed:    0.5s finished\n"
     ]
    },
    {
     "name": "stdout",
     "output_type": "stream",
     "text": [
      "\n",
      "\n",
      "########################### classification report for 뒷가시물땡땡이 ###########################\n",
      "              precision    recall  f1-score   support\n",
      "\n",
      "           0       0.98      0.94      0.96       162\n",
      "           1       0.23      0.50      0.32         6\n",
      "\n",
      "    accuracy                           0.92       168\n",
      "   macro avg       0.61      0.72      0.64       168\n",
      "weighted avg       0.95      0.92      0.94       168\n",
      "\n",
      "ROC/AUC:  0.7191358024691358\n",
      "ACC:  0.9226190476190477\n",
      "PREC:  0.23076923076923078\n",
      "RECALL:  0.5\n",
      "F1:  0.3157894736842105\n",
      "MCC:  0.30439600016259977\n",
      "Confusion Matrix: \n",
      " [[152  10]\n",
      " [  3   3]]\n",
      "\n",
      "\n",
      "starting optimizing for 장다리파리류\n",
      "done tuning\n",
      "Fitting 3 folds for each of 10 candidates, totalling 30 fits\n"
     ]
    },
    {
     "name": "stderr",
     "output_type": "stream",
     "text": [
      "[Parallel(n_jobs=-1)]: Using backend LokyBackend with 6 concurrent workers.\n",
      "[Parallel(n_jobs=-1)]: Done  19 out of  30 | elapsed:    0.3s remaining:    0.2s\n",
      "[Parallel(n_jobs=-1)]: Done  30 out of  30 | elapsed:    0.5s finished\n"
     ]
    },
    {
     "name": "stdout",
     "output_type": "stream",
     "text": [
      "starting optimizing for 몽땅하루살이\n",
      "done tuning\n",
      "Fitting 3 folds for each of 10 candidates, totalling 30 fits\n"
     ]
    },
    {
     "name": "stderr",
     "output_type": "stream",
     "text": [
      "[Parallel(n_jobs=-1)]: Using backend LokyBackend with 6 concurrent workers.\n",
      "[Parallel(n_jobs=-1)]: Done  19 out of  30 | elapsed:    0.3s remaining:    0.2s\n",
      "[Parallel(n_jobs=-1)]: Done  30 out of  30 | elapsed:    0.5s finished\n"
     ]
    },
    {
     "name": "stdout",
     "output_type": "stream",
     "text": [
      "\n",
      "\n",
      "########################### classification report for 몽땅하루살이 ###########################\n",
      "              precision    recall  f1-score   support\n",
      "\n",
      "           0       0.98      0.89      0.94       161\n",
      "           1       0.19      0.57      0.29         7\n",
      "\n",
      "    accuracy                           0.88       168\n",
      "   macro avg       0.59      0.73      0.61       168\n",
      "weighted avg       0.95      0.88      0.91       168\n",
      "\n",
      "ROC/AUC:  0.7329192546583851\n",
      "ACC:  0.8809523809523809\n",
      "PREC:  0.19047619047619047\n",
      "RECALL:  0.5714285714285714\n",
      "F1:  0.2857142857142857\n",
      "MCC:  0.28146800222825025\n",
      "Confusion Matrix: \n",
      " [[144  17]\n",
      " [  3   4]]\n",
      "\n",
      "\n",
      "starting optimizing for 애기물달팽이\n",
      "done tuning\n",
      "Fitting 3 folds for each of 10 candidates, totalling 30 fits\n"
     ]
    },
    {
     "name": "stderr",
     "output_type": "stream",
     "text": [
      "[Parallel(n_jobs=-1)]: Using backend LokyBackend with 6 concurrent workers.\n",
      "[Parallel(n_jobs=-1)]: Done  19 out of  30 | elapsed:    0.3s remaining:    0.2s\n",
      "[Parallel(n_jobs=-1)]: Done  30 out of  30 | elapsed:    0.5s finished\n"
     ]
    }
   ],
   "source": [
    "dir_name = '/Users/shinbo/Desktop/contest/environ/concat_data/bnin/etc/2%~5%/'\n",
    "dir_list = os.listdir(dir_name)\n",
    "dict_model_xgb = {}\n",
    "save_dir = '/Users/shinbo/Desktop/contest/environ/model/bnin/'\n",
    "for _dir in dir_list:\n",
    "    \n",
    "    tmp = pd.read_csv(dir_name + _dir)\n",
    "    X = tmp[['bio1', 'bio2', 'bio3', 'bio4', 'bio5', 'bio6', 'bio7',\n",
    "           'bio8', 'bio9', 'bio10', 'bio11', 'bio12', 'bio13', 'bio14', 'bio15',\n",
    "           'bio16', 'bio17', 'bio18', 'bio19', 'pet', 'rh', 'srad']]\n",
    "    y = tmp['y']\n",
    "    \n",
    "    weight = len(np.where(y == 0)[0]) / len(np.where(y == 1)[0])\n",
    "\n",
    "    X_train, X_test, y_train, y_test = split_train_test(X, y,0.3)\n",
    "\n",
    "        # Create XGB Classifier object\n",
    "    xgb_clf = XGBClassifier(scale_pos_weight = weight)\n",
    "\n",
    "    # Create parameter grid\n",
    "    parameters = {\"learning_rate\": [0.1, 0.01, 0.001],\n",
    "                   \"gamma\" : [0.01, 0.1, 0.3, 0.5, 1, 1.5, 2],\n",
    "                   \"max_depth\": [2, 4, 7, 10],\n",
    "                   \"colsample_bytree\": [0.3, 0.6, 0.8, 1.0],\n",
    "                   \"subsample\": [0.2, 0.4, 0.5, 0.6, 0.7],\n",
    "                   \"reg_alpha\": [0, 0.5, 1],\n",
    "                   \"reg_lambda\": [1, 1.5, 2, 3, 4.5],\n",
    "                   \"min_child_weight\": [1, 3, 5, 7],\n",
    "                   \"n_estimators\": [100, 250, 500, 1000]}\n",
    "\n",
    "    print(f'starting optimizing for {_dir[:-4]}')\n",
    "    # Create RandomizedSearchCV Object\n",
    "    xgb_rscv = RandomizedSearchCV(xgb_clf, param_distributions = parameters, scoring = \"roc_auc\",\n",
    "                                 cv = 3, random_state = 40 , n_jobs = -1, verbose = 2)\n",
    "    print('done tuning')\n",
    "\n",
    "    # Fit the model\n",
    "    model_xgboost = xgb_rscv.fit(X_train, y_train)\n",
    "    \n",
    "    xgb_best = model_xgboost.best_estimator_\n",
    "    \n",
    "    final_xgb = xgb_best.fit(X_train, y_train)\n",
    "    \n",
    "   \n",
    "    \n",
    "    pred = final_xgb.predict(X_test)\n",
    "    roc_score = roc_auc_score(y_test,pred)\n",
    "    if roc_score >= 0.7:        \n",
    "        print('\\n')\n",
    "        print(f'########################### classification report for {_dir[:-4]} ###########################')\n",
    "        print_result(final_xgb,X_test,y_test)\n",
    "        dict_model_xgb[_dir[:-4]] = final_xgb\n",
    "        print('\\n')"
   ]
  },
  {
   "cell_type": "markdown",
   "metadata": {},
   "source": [
    "### xgb 5%~"
   ]
  },
  {
   "cell_type": "code",
   "execution_count": 15,
   "metadata": {
    "scrolled": true
   },
   "outputs": [
    {
     "name": "stdout",
     "output_type": "stream",
     "text": [
      "starting optimizing for 아가미지렁이\n",
      "done tuning\n",
      "Fitting 3 folds for each of 10 candidates, totalling 30 fits\n"
     ]
    },
    {
     "name": "stderr",
     "output_type": "stream",
     "text": [
      "[Parallel(n_jobs=-1)]: Using backend LokyBackend with 6 concurrent workers.\n",
      "[Parallel(n_jobs=-1)]: Done  30 out of  30 | elapsed:    2.0s finished\n"
     ]
    },
    {
     "name": "stdout",
     "output_type": "stream",
     "text": [
      "\n",
      "\n",
      "########################### classification report for 아가미지렁이 ###########################\n",
      "              precision    recall  f1-score   support\n",
      "\n",
      "           0       0.97      0.88      0.92       159\n",
      "           1       0.21      0.56      0.30         9\n",
      "\n",
      "    accuracy                           0.86       168\n",
      "   macro avg       0.59      0.72      0.61       168\n",
      "weighted avg       0.93      0.86      0.89       168\n",
      "\n",
      "ROC/AUC:  0.7180293501048218\n",
      "ACC:  0.8630952380952381\n",
      "PREC:  0.20833333333333334\n",
      "RECALL:  0.5555555555555556\n",
      "F1:  0.30303030303030304\n",
      "MCC:  0.2805936935698763\n",
      "Confusion Matrix: \n",
      " [[140  19]\n",
      " [  4   5]]\n",
      "\n",
      "\n",
      "starting optimizing for 광택날도래 KUa\n",
      "done tuning\n",
      "Fitting 3 folds for each of 10 candidates, totalling 30 fits\n"
     ]
    },
    {
     "name": "stderr",
     "output_type": "stream",
     "text": [
      "[Parallel(n_jobs=-1)]: Using backend LokyBackend with 6 concurrent workers.\n",
      "[Parallel(n_jobs=-1)]: Done  19 out of  30 | elapsed:    0.3s remaining:    0.2s\n",
      "[Parallel(n_jobs=-1)]: Done  30 out of  30 | elapsed:    0.6s finished\n"
     ]
    },
    {
     "name": "stdout",
     "output_type": "stream",
     "text": [
      "\n",
      "\n",
      "########################### classification report for 광택날도래 KUa ###########################\n",
      "              precision    recall  f1-score   support\n",
      "\n",
      "           0       0.99      0.89      0.93       158\n",
      "           1       0.31      0.80      0.44        10\n",
      "\n",
      "    accuracy                           0.88       168\n",
      "   macro avg       0.65      0.84      0.69       168\n",
      "weighted avg       0.95      0.88      0.90       168\n",
      "\n",
      "ROC/AUC:  0.8430379746835444\n",
      "ACC:  0.8809523809523809\n",
      "PREC:  0.3076923076923077\n",
      "RECALL:  0.8\n",
      "F1:  0.4444444444444444\n",
      "MCC:  0.4488176139286078\n",
      "Confusion Matrix: \n",
      " [[140  18]\n",
      " [  2   8]]\n",
      "\n",
      "\n",
      "starting optimizing for 또아리물달팽이\n",
      "done tuning\n",
      "Fitting 3 folds for each of 10 candidates, totalling 30 fits\n"
     ]
    },
    {
     "name": "stderr",
     "output_type": "stream",
     "text": [
      "[Parallel(n_jobs=-1)]: Using backend LokyBackend with 6 concurrent workers.\n",
      "[Parallel(n_jobs=-1)]: Done  19 out of  30 | elapsed:    0.4s remaining:    0.2s\n",
      "[Parallel(n_jobs=-1)]: Done  30 out of  30 | elapsed:    0.8s finished\n"
     ]
    },
    {
     "name": "stdout",
     "output_type": "stream",
     "text": [
      "starting optimizing for 중국물진드기\n",
      "done tuning\n",
      "Fitting 3 folds for each of 10 candidates, totalling 30 fits\n"
     ]
    },
    {
     "name": "stderr",
     "output_type": "stream",
     "text": [
      "[Parallel(n_jobs=-1)]: Using backend LokyBackend with 6 concurrent workers.\n",
      "[Parallel(n_jobs=-1)]: Done  19 out of  30 | elapsed:    0.3s remaining:    0.2s\n",
      "[Parallel(n_jobs=-1)]: Done  30 out of  30 | elapsed:    0.7s finished\n"
     ]
    },
    {
     "name": "stdout",
     "output_type": "stream",
     "text": [
      "starting optimizing for 줄날도래\n",
      "done tuning\n",
      "Fitting 3 folds for each of 10 candidates, totalling 30 fits\n"
     ]
    },
    {
     "name": "stderr",
     "output_type": "stream",
     "text": [
      "[Parallel(n_jobs=-1)]: Using backend LokyBackend with 6 concurrent workers.\n",
      "[Parallel(n_jobs=-1)]: Done  19 out of  30 | elapsed:    0.4s remaining:    0.2s\n",
      "[Parallel(n_jobs=-1)]: Done  30 out of  30 | elapsed:    0.8s finished\n"
     ]
    },
    {
     "name": "stdout",
     "output_type": "stream",
     "text": [
      "starting optimizing for 여울벌레류\n",
      "done tuning\n",
      "Fitting 3 folds for each of 10 candidates, totalling 30 fits\n"
     ]
    },
    {
     "name": "stderr",
     "output_type": "stream",
     "text": [
      "[Parallel(n_jobs=-1)]: Using backend LokyBackend with 6 concurrent workers.\n",
      "[Parallel(n_jobs=-1)]: Done  19 out of  30 | elapsed:    0.3s remaining:    0.2s\n",
      "[Parallel(n_jobs=-1)]: Done  30 out of  30 | elapsed:    0.7s finished\n"
     ]
    },
    {
     "name": "stdout",
     "output_type": "stream",
     "text": [
      "\n",
      "\n",
      "########################### classification report for 여울벌레류 ###########################\n",
      "              precision    recall  f1-score   support\n",
      "\n",
      "           0       0.96      0.88      0.92       155\n",
      "           1       0.27      0.54      0.36        13\n",
      "\n",
      "    accuracy                           0.85       168\n",
      "   macro avg       0.61      0.71      0.64       168\n",
      "weighted avg       0.90      0.85      0.87       168\n",
      "\n",
      "ROC/AUC:  0.707940446650124\n",
      "ACC:  0.8511904761904762\n",
      "PREC:  0.2692307692307692\n",
      "RECALL:  0.5384615384615384\n",
      "F1:  0.3589743589743589\n",
      "MCC:  0.30723850784093976\n",
      "Confusion Matrix: \n",
      " [[136  19]\n",
      " [  6   7]]\n",
      "\n",
      "\n",
      "starting optimizing for 네모집날도래 KUa\n",
      "done tuning\n",
      "Fitting 3 folds for each of 10 candidates, totalling 30 fits\n"
     ]
    },
    {
     "name": "stderr",
     "output_type": "stream",
     "text": [
      "[Parallel(n_jobs=-1)]: Using backend LokyBackend with 6 concurrent workers.\n",
      "[Parallel(n_jobs=-1)]: Done  19 out of  30 | elapsed:    0.3s remaining:    0.2s\n",
      "[Parallel(n_jobs=-1)]: Done  30 out of  30 | elapsed:    0.7s finished\n"
     ]
    },
    {
     "name": "stdout",
     "output_type": "stream",
     "text": [
      "starting optimizing for 게아재비\n",
      "done tuning\n",
      "Fitting 3 folds for each of 10 candidates, totalling 30 fits\n"
     ]
    },
    {
     "name": "stderr",
     "output_type": "stream",
     "text": [
      "[Parallel(n_jobs=-1)]: Using backend LokyBackend with 6 concurrent workers.\n",
      "[Parallel(n_jobs=-1)]: Done  19 out of  30 | elapsed:    0.4s remaining:    0.2s\n",
      "[Parallel(n_jobs=-1)]: Done  30 out of  30 | elapsed:    0.7s finished\n",
      "[Parallel(n_jobs=-1)]: Using backend LokyBackend with 6 concurrent workers.\n"
     ]
    },
    {
     "name": "stdout",
     "output_type": "stream",
     "text": [
      "starting optimizing for 혹외줄물방개\n",
      "done tuning\n",
      "Fitting 3 folds for each of 10 candidates, totalling 30 fits\n"
     ]
    },
    {
     "name": "stderr",
     "output_type": "stream",
     "text": [
      "[Parallel(n_jobs=-1)]: Done  19 out of  30 | elapsed:    0.3s remaining:    0.2s\n",
      "[Parallel(n_jobs=-1)]: Done  30 out of  30 | elapsed:    0.6s finished\n"
     ]
    },
    {
     "name": "stdout",
     "output_type": "stream",
     "text": [
      "starting optimizing for 참재첩\n",
      "done tuning\n",
      "Fitting 3 folds for each of 10 candidates, totalling 30 fits\n"
     ]
    },
    {
     "name": "stderr",
     "output_type": "stream",
     "text": [
      "[Parallel(n_jobs=-1)]: Using backend LokyBackend with 6 concurrent workers.\n",
      "[Parallel(n_jobs=-1)]: Done  19 out of  30 | elapsed:    0.3s remaining:    0.2s\n",
      "[Parallel(n_jobs=-1)]: Done  30 out of  30 | elapsed:    0.6s finished\n"
     ]
    },
    {
     "name": "stdout",
     "output_type": "stream",
     "text": [
      "\n",
      "\n",
      "########################### classification report for 참재첩 ###########################\n",
      "              precision    recall  f1-score   support\n",
      "\n",
      "           0       0.98      0.88      0.93       159\n",
      "           1       0.24      0.67      0.35         9\n",
      "\n",
      "    accuracy                           0.87       168\n",
      "   macro avg       0.61      0.77      0.64       168\n",
      "weighted avg       0.94      0.87      0.90       168\n",
      "\n",
      "ROC/AUC:  0.7735849056603773\n",
      "ACC:  0.8690476190476191\n",
      "PREC:  0.24\n",
      "RECALL:  0.6666666666666666\n",
      "F1:  0.3529411764705882\n",
      "MCC:  0.3461815531858913\n",
      "Confusion Matrix: \n",
      " [[140  19]\n",
      " [  3   6]]\n",
      "\n",
      "\n",
      "starting optimizing for 메추리장구애비\n",
      "done tuning\n",
      "Fitting 3 folds for each of 10 candidates, totalling 30 fits\n"
     ]
    },
    {
     "name": "stderr",
     "output_type": "stream",
     "text": [
      "[Parallel(n_jobs=-1)]: Using backend LokyBackend with 6 concurrent workers.\n",
      "[Parallel(n_jobs=-1)]: Done  19 out of  30 | elapsed:    0.3s remaining:    0.2s\n",
      "[Parallel(n_jobs=-1)]: Done  30 out of  30 | elapsed:    0.6s finished\n"
     ]
    },
    {
     "name": "stdout",
     "output_type": "stream",
     "text": [
      "starting optimizing for 배꼽또아리물달팽이\n",
      "done tuning\n",
      "Fitting 3 folds for each of 10 candidates, totalling 30 fits\n"
     ]
    },
    {
     "name": "stderr",
     "output_type": "stream",
     "text": [
      "[Parallel(n_jobs=-1)]: Using backend LokyBackend with 6 concurrent workers.\n",
      "[Parallel(n_jobs=-1)]: Done  19 out of  30 | elapsed:    0.3s remaining:    0.2s\n",
      "[Parallel(n_jobs=-1)]: Done  30 out of  30 | elapsed:    0.6s finished\n"
     ]
    },
    {
     "name": "stdout",
     "output_type": "stream",
     "text": [
      "starting optimizing for 물잠자리\n",
      "done tuning\n",
      "Fitting 3 folds for each of 10 candidates, totalling 30 fits\n"
     ]
    },
    {
     "name": "stderr",
     "output_type": "stream",
     "text": [
      "[Parallel(n_jobs=-1)]: Using backend LokyBackend with 6 concurrent workers.\n",
      "[Parallel(n_jobs=-1)]: Done  19 out of  30 | elapsed:    0.3s remaining:    0.2s\n",
      "[Parallel(n_jobs=-1)]: Done  30 out of  30 | elapsed:    0.8s finished\n"
     ]
    },
    {
     "name": "stdout",
     "output_type": "stream",
     "text": [
      "starting optimizing for 왼돌이물달팽이\n",
      "done tuning\n",
      "Fitting 3 folds for each of 10 candidates, totalling 30 fits\n"
     ]
    },
    {
     "name": "stderr",
     "output_type": "stream",
     "text": [
      "[Parallel(n_jobs=-1)]: Using backend LokyBackend with 6 concurrent workers.\n",
      "[Parallel(n_jobs=-1)]: Done  19 out of  30 | elapsed:    0.3s remaining:    0.2s\n",
      "[Parallel(n_jobs=-1)]: Done  30 out of  30 | elapsed:    0.8s finished\n"
     ]
    },
    {
     "name": "stdout",
     "output_type": "stream",
     "text": [
      "starting optimizing for 물자라\n",
      "done tuning\n",
      "Fitting 3 folds for each of 10 candidates, totalling 30 fits\n"
     ]
    },
    {
     "name": "stderr",
     "output_type": "stream",
     "text": [
      "[Parallel(n_jobs=-1)]: Using backend LokyBackend with 6 concurrent workers.\n",
      "[Parallel(n_jobs=-1)]: Done  19 out of  30 | elapsed:    0.3s remaining:    0.2s\n",
      "[Parallel(n_jobs=-1)]: Done  30 out of  30 | elapsed:    0.8s finished\n"
     ]
    },
    {
     "name": "stdout",
     "output_type": "stream",
     "text": [
      "\n",
      "\n",
      "########################### classification report for 물자라 ###########################\n",
      "              precision    recall  f1-score   support\n",
      "\n",
      "           0       0.85      0.72      0.78       118\n",
      "           1       0.51      0.70      0.59        50\n",
      "\n",
      "    accuracy                           0.71       168\n",
      "   macro avg       0.68      0.71      0.69       168\n",
      "weighted avg       0.75      0.71      0.72       168\n",
      "\n",
      "ROC/AUC:  0.7101694915254237\n",
      "ACC:  0.7142857142857143\n",
      "PREC:  0.5147058823529411\n",
      "RECALL:  0.7\n",
      "F1:  0.5932203389830508\n",
      "MCC:  0.39153556632941705\n",
      "Confusion Matrix: \n",
      " [[85 33]\n",
      " [15 35]]\n",
      "\n",
      "\n",
      "starting optimizing for 네모집날도래 KUb\n",
      "done tuning\n",
      "Fitting 3 folds for each of 10 candidates, totalling 30 fits\n"
     ]
    },
    {
     "name": "stderr",
     "output_type": "stream",
     "text": [
      "[Parallel(n_jobs=-1)]: Using backend LokyBackend with 6 concurrent workers.\n",
      "[Parallel(n_jobs=-1)]: Done  19 out of  30 | elapsed:    0.3s remaining:    0.2s\n",
      "[Parallel(n_jobs=-1)]: Done  30 out of  30 | elapsed:    0.7s finished\n"
     ]
    },
    {
     "name": "stdout",
     "output_type": "stream",
     "text": [
      "starting optimizing for 실지렁이류\n",
      "done tuning\n",
      "Fitting 3 folds for each of 10 candidates, totalling 30 fits\n"
     ]
    },
    {
     "name": "stderr",
     "output_type": "stream",
     "text": [
      "[Parallel(n_jobs=-1)]: Using backend LokyBackend with 6 concurrent workers.\n",
      "[Parallel(n_jobs=-1)]: Done  19 out of  30 | elapsed:    0.3s remaining:    0.2s\n",
      "[Parallel(n_jobs=-1)]: Done  30 out of  30 | elapsed:    0.6s finished\n"
     ]
    },
    {
     "name": "stdout",
     "output_type": "stream",
     "text": [
      "\n",
      "\n",
      "########################### classification report for 실지렁이류 ###########################\n",
      "              precision    recall  f1-score   support\n",
      "\n",
      "           0       0.99      0.97      0.98       156\n",
      "           1       0.67      0.83      0.74        12\n",
      "\n",
      "    accuracy                           0.96       168\n",
      "   macro avg       0.83      0.90      0.86       168\n",
      "weighted avg       0.96      0.96      0.96       168\n",
      "\n",
      "ROC/AUC:  0.9006410256410257\n",
      "ACC:  0.9583333333333334\n",
      "PREC:  0.6666666666666666\n",
      "RECALL:  0.8333333333333334\n",
      "F1:  0.7407407407407408\n",
      "MCC:  0.7236807023873697\n",
      "Confusion Matrix: \n",
      " [[151   5]\n",
      " [  2  10]]\n",
      "\n",
      "\n",
      "starting optimizing for 왕우렁이\n",
      "done tuning\n",
      "Fitting 3 folds for each of 10 candidates, totalling 30 fits\n"
     ]
    },
    {
     "name": "stderr",
     "output_type": "stream",
     "text": [
      "[Parallel(n_jobs=-1)]: Using backend LokyBackend with 6 concurrent workers.\n",
      "[Parallel(n_jobs=-1)]: Done  19 out of  30 | elapsed:    0.3s remaining:    0.2s\n",
      "[Parallel(n_jobs=-1)]: Done  30 out of  30 | elapsed:    0.7s finished\n"
     ]
    },
    {
     "name": "stdout",
     "output_type": "stream",
     "text": [
      "starting optimizing for 동양줄날도래\n",
      "done tuning\n",
      "Fitting 3 folds for each of 10 candidates, totalling 30 fits\n"
     ]
    },
    {
     "name": "stderr",
     "output_type": "stream",
     "text": [
      "[Parallel(n_jobs=-1)]: Using backend LokyBackend with 6 concurrent workers.\n",
      "[Parallel(n_jobs=-1)]: Done  19 out of  30 | elapsed:    0.3s remaining:    0.2s\n",
      "[Parallel(n_jobs=-1)]: Done  30 out of  30 | elapsed:    0.7s finished\n"
     ]
    },
    {
     "name": "stdout",
     "output_type": "stream",
     "text": [
      "\n",
      "\n",
      "########################### classification report for 동양줄날도래 ###########################\n",
      "              precision    recall  f1-score   support\n",
      "\n",
      "           0       0.96      0.74      0.83       151\n",
      "           1       0.23      0.71      0.35        17\n",
      "\n",
      "    accuracy                           0.73       168\n",
      "   macro avg       0.59      0.72      0.59       168\n",
      "weighted avg       0.88      0.73      0.78       168\n",
      "\n",
      "ROC/AUC:  0.7204908453447605\n",
      "ACC:  0.7321428571428571\n",
      "PREC:  0.23076923076923078\n",
      "RECALL:  0.7058823529411765\n",
      "F1:  0.3478260869565218\n",
      "MCC:  0.28767546653911524\n",
      "Confusion Matrix: \n",
      " [[111  40]\n",
      " [  5  12]]\n",
      "\n",
      "\n",
      "starting optimizing for 장구애비\n",
      "done tuning\n",
      "Fitting 3 folds for each of 10 candidates, totalling 30 fits\n"
     ]
    },
    {
     "name": "stderr",
     "output_type": "stream",
     "text": [
      "[Parallel(n_jobs=-1)]: Using backend LokyBackend with 6 concurrent workers.\n",
      "[Parallel(n_jobs=-1)]: Done  19 out of  30 | elapsed:    0.3s remaining:    0.2s\n",
      "[Parallel(n_jobs=-1)]: Done  30 out of  30 | elapsed:    0.7s finished\n"
     ]
    },
    {
     "name": "stdout",
     "output_type": "stream",
     "text": [
      "starting optimizing for 날개날도래\n",
      "done tuning\n",
      "Fitting 3 folds for each of 10 candidates, totalling 30 fits\n"
     ]
    },
    {
     "name": "stderr",
     "output_type": "stream",
     "text": [
      "[Parallel(n_jobs=-1)]: Using backend LokyBackend with 6 concurrent workers.\n",
      "[Parallel(n_jobs=-1)]: Done  19 out of  30 | elapsed:    0.3s remaining:    0.2s\n",
      "[Parallel(n_jobs=-1)]: Done  30 out of  30 | elapsed:    0.6s finished\n"
     ]
    },
    {
     "name": "stdout",
     "output_type": "stream",
     "text": [
      "starting optimizing for 등에모기류\n",
      "done tuning\n",
      "Fitting 3 folds for each of 10 candidates, totalling 30 fits\n"
     ]
    },
    {
     "name": "stderr",
     "output_type": "stream",
     "text": [
      "[Parallel(n_jobs=-1)]: Using backend LokyBackend with 6 concurrent workers.\n",
      "[Parallel(n_jobs=-1)]: Done  19 out of  30 | elapsed:    0.3s remaining:    0.2s\n",
      "[Parallel(n_jobs=-1)]: Done  30 out of  30 | elapsed:    0.6s finished\n"
     ]
    },
    {
     "name": "stdout",
     "output_type": "stream",
     "text": [
      "starting optimizing for 꼬리치레하루살이\n",
      "done tuning\n",
      "Fitting 3 folds for each of 10 candidates, totalling 30 fits\n"
     ]
    },
    {
     "name": "stderr",
     "output_type": "stream",
     "text": [
      "[Parallel(n_jobs=-1)]: Using backend LokyBackend with 6 concurrent workers.\n",
      "[Parallel(n_jobs=-1)]: Done  19 out of  30 | elapsed:    0.3s remaining:    0.2s\n",
      "[Parallel(n_jobs=-1)]: Done  30 out of  30 | elapsed:    0.6s finished\n"
     ]
    },
    {
     "name": "stdout",
     "output_type": "stream",
     "text": [
      "\n",
      "\n",
      "########################### classification report for 꼬리치레하루살이 ###########################\n",
      "              precision    recall  f1-score   support\n",
      "\n",
      "           0       0.96      0.95      0.96       157\n",
      "           1       0.38      0.45      0.42        11\n",
      "\n",
      "    accuracy                           0.92       168\n",
      "   macro avg       0.67      0.70      0.69       168\n",
      "weighted avg       0.92      0.92      0.92       168\n",
      "\n",
      "ROC/AUC:  0.7017950202663579\n",
      "ACC:  0.9166666666666666\n",
      "PREC:  0.38461538461538464\n",
      "RECALL:  0.45454545454545453\n",
      "F1:  0.41666666666666663\n",
      "MCC:  0.3736363183467894\n",
      "Confusion Matrix: \n",
      " [[149   8]\n",
      " [  6   5]]\n",
      "\n",
      "\n",
      "starting optimizing for 두점박이좀잠자리\n",
      "done tuning\n",
      "Fitting 3 folds for each of 10 candidates, totalling 30 fits\n"
     ]
    },
    {
     "name": "stderr",
     "output_type": "stream",
     "text": [
      "[Parallel(n_jobs=-1)]: Using backend LokyBackend with 6 concurrent workers.\n",
      "[Parallel(n_jobs=-1)]: Done  19 out of  30 | elapsed:    0.4s remaining:    0.2s\n",
      "[Parallel(n_jobs=-1)]: Done  30 out of  30 | elapsed:    0.7s finished\n"
     ]
    },
    {
     "name": "stdout",
     "output_type": "stream",
     "text": [
      "starting optimizing for 세갈래하루살이\n",
      "done tuning\n",
      "Fitting 3 folds for each of 10 candidates, totalling 30 fits\n"
     ]
    },
    {
     "name": "stderr",
     "output_type": "stream",
     "text": [
      "[Parallel(n_jobs=-1)]: Using backend LokyBackend with 6 concurrent workers.\n",
      "[Parallel(n_jobs=-1)]: Done  19 out of  30 | elapsed:    0.3s remaining:    0.2s\n",
      "[Parallel(n_jobs=-1)]: Done  30 out of  30 | elapsed:    0.7s finished\n"
     ]
    },
    {
     "name": "stdout",
     "output_type": "stream",
     "text": [
      "starting optimizing for 돌거머리\n",
      "done tuning\n",
      "Fitting 3 folds for each of 10 candidates, totalling 30 fits\n"
     ]
    },
    {
     "name": "stderr",
     "output_type": "stream",
     "text": [
      "[Parallel(n_jobs=-1)]: Using backend LokyBackend with 6 concurrent workers.\n",
      "[Parallel(n_jobs=-1)]: Done  19 out of  30 | elapsed:    0.4s remaining:    0.2s\n",
      "[Parallel(n_jobs=-1)]: Done  30 out of  30 | elapsed:    0.9s finished\n"
     ]
    },
    {
     "name": "stdout",
     "output_type": "stream",
     "text": [
      "starting optimizing for 민하루살이\n",
      "done tuning\n",
      "Fitting 3 folds for each of 10 candidates, totalling 30 fits\n"
     ]
    },
    {
     "name": "stderr",
     "output_type": "stream",
     "text": [
      "[Parallel(n_jobs=-1)]: Using backend LokyBackend with 6 concurrent workers.\n",
      "[Parallel(n_jobs=-1)]: Done  19 out of  30 | elapsed:    0.3s remaining:    0.2s\n",
      "[Parallel(n_jobs=-1)]: Done  30 out of  30 | elapsed:    0.6s finished\n"
     ]
    },
    {
     "name": "stdout",
     "output_type": "stream",
     "text": [
      "starting optimizing for 깔따구류\n",
      "done tuning\n",
      "Fitting 3 folds for each of 10 candidates, totalling 30 fits\n"
     ]
    },
    {
     "name": "stderr",
     "output_type": "stream",
     "text": [
      "[Parallel(n_jobs=-1)]: Using backend LokyBackend with 6 concurrent workers.\n",
      "[Parallel(n_jobs=-1)]: Done  19 out of  30 | elapsed:    0.2s remaining:    0.1s\n",
      "[Parallel(n_jobs=-1)]: Done  30 out of  30 | elapsed:    0.5s finished\n"
     ]
    },
    {
     "name": "stdout",
     "output_type": "stream",
     "text": [
      "\n",
      "\n",
      "########################### classification report for 깔따구류 ###########################\n",
      "              precision    recall  f1-score   support\n",
      "\n",
      "           0       1.00      0.78      0.88        50\n",
      "           1       0.91      1.00      0.96       118\n",
      "\n",
      "    accuracy                           0.93       168\n",
      "   macro avg       0.96      0.89      0.92       168\n",
      "weighted avg       0.94      0.93      0.93       168\n",
      "\n",
      "ROC/AUC:  0.89\n",
      "ACC:  0.9345238095238095\n",
      "PREC:  0.9147286821705426\n",
      "RECALL:  1.0\n",
      "F1:  0.9554655870445344\n",
      "MCC:  0.844682409011235\n",
      "Confusion Matrix: \n",
      " [[ 39  11]\n",
      " [  0 118]]\n",
      "\n",
      "\n",
      "starting optimizing for 동양하루살이\n",
      "done tuning\n",
      "Fitting 3 folds for each of 10 candidates, totalling 30 fits\n"
     ]
    },
    {
     "name": "stderr",
     "output_type": "stream",
     "text": [
      "[Parallel(n_jobs=-1)]: Using backend LokyBackend with 6 concurrent workers.\n",
      "[Parallel(n_jobs=-1)]: Done  19 out of  30 | elapsed:    0.3s remaining:    0.2s\n",
      "[Parallel(n_jobs=-1)]: Done  30 out of  30 | elapsed:    0.8s finished\n"
     ]
    },
    {
     "name": "stdout",
     "output_type": "stream",
     "text": [
      "starting optimizing for 모기류\n",
      "done tuning\n",
      "Fitting 3 folds for each of 10 candidates, totalling 30 fits\n"
     ]
    },
    {
     "name": "stderr",
     "output_type": "stream",
     "text": [
      "[Parallel(n_jobs=-1)]: Using backend LokyBackend with 6 concurrent workers.\n",
      "[Parallel(n_jobs=-1)]: Done  19 out of  30 | elapsed:    0.3s remaining:    0.2s\n",
      "[Parallel(n_jobs=-1)]: Done  30 out of  30 | elapsed:    0.6s finished\n"
     ]
    },
    {
     "name": "stdout",
     "output_type": "stream",
     "text": [
      "starting optimizing for 곳체다슬기\n",
      "done tuning\n",
      "Fitting 3 folds for each of 10 candidates, totalling 30 fits\n"
     ]
    },
    {
     "name": "stderr",
     "output_type": "stream",
     "text": [
      "[Parallel(n_jobs=-1)]: Using backend LokyBackend with 6 concurrent workers.\n",
      "[Parallel(n_jobs=-1)]: Done  19 out of  30 | elapsed:    0.3s remaining:    0.2s\n",
      "[Parallel(n_jobs=-1)]: Done  30 out of  30 | elapsed:    0.7s finished\n"
     ]
    },
    {
     "name": "stdout",
     "output_type": "stream",
     "text": [
      "starting optimizing for 재첩\n",
      "done tuning\n",
      "Fitting 3 folds for each of 10 candidates, totalling 30 fits\n"
     ]
    },
    {
     "name": "stderr",
     "output_type": "stream",
     "text": [
      "[Parallel(n_jobs=-1)]: Using backend LokyBackend with 6 concurrent workers.\n",
      "[Parallel(n_jobs=-1)]: Done  19 out of  30 | elapsed:    0.3s remaining:    0.2s\n",
      "[Parallel(n_jobs=-1)]: Done  30 out of  30 | elapsed:    0.6s finished\n"
     ]
    },
    {
     "name": "stdout",
     "output_type": "stream",
     "text": [
      "starting optimizing for 별날도래\n",
      "done tuning\n",
      "Fitting 3 folds for each of 10 candidates, totalling 30 fits\n"
     ]
    },
    {
     "name": "stderr",
     "output_type": "stream",
     "text": [
      "[Parallel(n_jobs=-1)]: Using backend LokyBackend with 6 concurrent workers.\n",
      "[Parallel(n_jobs=-1)]: Done  19 out of  30 | elapsed:    0.3s remaining:    0.2s\n",
      "[Parallel(n_jobs=-1)]: Done  30 out of  30 | elapsed:    0.7s finished\n"
     ]
    },
    {
     "name": "stdout",
     "output_type": "stream",
     "text": [
      "starting optimizing for 플라나리아류\n",
      "done tuning\n",
      "Fitting 3 folds for each of 10 candidates, totalling 30 fits\n"
     ]
    },
    {
     "name": "stderr",
     "output_type": "stream",
     "text": [
      "[Parallel(n_jobs=-1)]: Using backend LokyBackend with 6 concurrent workers.\n",
      "[Parallel(n_jobs=-1)]: Done  19 out of  30 | elapsed:    0.3s remaining:    0.2s\n",
      "[Parallel(n_jobs=-1)]: Done  30 out of  30 | elapsed:    0.6s finished\n"
     ]
    },
    {
     "name": "stdout",
     "output_type": "stream",
     "text": [
      "\n",
      "\n",
      "########################### classification report for 플라나리아류 ###########################\n",
      "              precision    recall  f1-score   support\n",
      "\n",
      "           0       0.97      0.92      0.94       156\n",
      "           1       0.35      0.58      0.44        12\n",
      "\n",
      "    accuracy                           0.89       168\n",
      "   macro avg       0.66      0.75      0.69       168\n",
      "weighted avg       0.92      0.89      0.90       168\n",
      "\n",
      "ROC/AUC:  0.7500000000000001\n",
      "ACC:  0.8928571428571429\n",
      "PREC:  0.35\n",
      "RECALL:  0.5833333333333334\n",
      "F1:  0.4375\n",
      "MCC:  0.39762810276451555\n",
      "Confusion Matrix: \n",
      " [[143  13]\n",
      " [  5   7]]\n",
      "\n",
      "\n",
      "starting optimizing for 보통옆새우\n",
      "done tuning\n",
      "Fitting 3 folds for each of 10 candidates, totalling 30 fits\n"
     ]
    },
    {
     "name": "stderr",
     "output_type": "stream",
     "text": [
      "[Parallel(n_jobs=-1)]: Using backend LokyBackend with 6 concurrent workers.\n",
      "[Parallel(n_jobs=-1)]: Done  19 out of  30 | elapsed:    0.3s remaining:    0.2s\n",
      "[Parallel(n_jobs=-1)]: Done  30 out of  30 | elapsed:    0.6s finished\n"
     ]
    },
    {
     "name": "stdout",
     "output_type": "stream",
     "text": [
      "starting optimizing for 조개넙적거머리\n",
      "done tuning\n",
      "Fitting 3 folds for each of 10 candidates, totalling 30 fits\n"
     ]
    },
    {
     "name": "stderr",
     "output_type": "stream",
     "text": [
      "[Parallel(n_jobs=-1)]: Using backend LokyBackend with 6 concurrent workers.\n",
      "[Parallel(n_jobs=-1)]: Done  19 out of  30 | elapsed:    0.4s remaining:    0.2s\n",
      "[Parallel(n_jobs=-1)]: Done  30 out of  30 | elapsed:    0.8s finished\n"
     ]
    },
    {
     "name": "stdout",
     "output_type": "stream",
     "text": [
      "starting optimizing for 애넓적물땡땡이\n",
      "done tuning\n",
      "Fitting 3 folds for each of 10 candidates, totalling 30 fits\n"
     ]
    },
    {
     "name": "stderr",
     "output_type": "stream",
     "text": [
      "[Parallel(n_jobs=-1)]: Using backend LokyBackend with 6 concurrent workers.\n",
      "[Parallel(n_jobs=-1)]: Done  19 out of  30 | elapsed:    0.3s remaining:    0.2s\n",
      "[Parallel(n_jobs=-1)]: Done  30 out of  30 | elapsed:    0.8s finished\n",
      "[Parallel(n_jobs=-1)]: Using backend LokyBackend with 6 concurrent workers.\n"
     ]
    },
    {
     "name": "stdout",
     "output_type": "stream",
     "text": [
      "\n",
      "\n",
      "########################### classification report for 애넓적물땡땡이 ###########################\n",
      "              precision    recall  f1-score   support\n",
      "\n",
      "           0       0.97      0.81      0.88       139\n",
      "           1       0.48      0.86      0.62        29\n",
      "\n",
      "    accuracy                           0.82       168\n",
      "   macro avg       0.72      0.83      0.75       168\n",
      "weighted avg       0.88      0.82      0.83       168\n",
      "\n",
      "ROC/AUC:  0.8339121806003473\n",
      "ACC:  0.8154761904761905\n",
      "PREC:  0.4807692307692308\n",
      "RECALL:  0.8620689655172413\n",
      "F1:  0.6172839506172839\n",
      "MCC:  0.5459312943723881\n",
      "Confusion Matrix: \n",
      " [[112  27]\n",
      " [  4  25]]\n",
      "\n",
      "\n",
      "starting optimizing for 가시측범잠자리\n",
      "done tuning\n",
      "Fitting 3 folds for each of 10 candidates, totalling 30 fits\n"
     ]
    },
    {
     "name": "stderr",
     "output_type": "stream",
     "text": [
      "[Parallel(n_jobs=-1)]: Done  19 out of  30 | elapsed:    0.3s remaining:    0.2s\n",
      "[Parallel(n_jobs=-1)]: Done  30 out of  30 | elapsed:    0.7s finished\n"
     ]
    },
    {
     "name": "stdout",
     "output_type": "stream",
     "text": [
      "starting optimizing for 뾰족쨈물우렁이\n",
      "done tuning\n",
      "Fitting 3 folds for each of 10 candidates, totalling 30 fits\n"
     ]
    },
    {
     "name": "stderr",
     "output_type": "stream",
     "text": [
      "[Parallel(n_jobs=-1)]: Using backend LokyBackend with 6 concurrent workers.\n",
      "[Parallel(n_jobs=-1)]: Done  19 out of  30 | elapsed:    0.4s remaining:    0.2s\n",
      "[Parallel(n_jobs=-1)]: Done  30 out of  30 | elapsed:    0.7s finished\n"
     ]
    },
    {
     "name": "stdout",
     "output_type": "stream",
     "text": [
      "starting optimizing for 개똥하루살이\n",
      "done tuning\n",
      "Fitting 3 folds for each of 10 candidates, totalling 30 fits\n"
     ]
    },
    {
     "name": "stderr",
     "output_type": "stream",
     "text": [
      "[Parallel(n_jobs=-1)]: Using backend LokyBackend with 6 concurrent workers.\n",
      "[Parallel(n_jobs=-1)]: Done  19 out of  30 | elapsed:    0.3s remaining:    0.2s\n",
      "[Parallel(n_jobs=-1)]: Done  30 out of  30 | elapsed:    0.8s finished\n"
     ]
    },
    {
     "name": "stdout",
     "output_type": "stream",
     "text": [
      "\n",
      "\n",
      "########################### classification report for 개똥하루살이 ###########################\n",
      "              precision    recall  f1-score   support\n",
      "\n",
      "           0       0.86      0.62      0.72       112\n",
      "           1       0.51      0.80      0.62        56\n",
      "\n",
      "    accuracy                           0.68       168\n",
      "   macro avg       0.69      0.71      0.67       168\n",
      "weighted avg       0.75      0.68      0.69       168\n",
      "\n",
      "ROC/AUC:  0.7098214285714286\n",
      "ACC:  0.6785714285714286\n",
      "PREC:  0.5113636363636364\n",
      "RECALL:  0.8035714285714286\n",
      "F1:  0.625\n",
      "MCC:  0.3960924191971547\n",
      "Confusion Matrix: \n",
      " [[69 43]\n",
      " [11 45]]\n",
      "\n",
      "\n",
      "starting optimizing for 플라나리아\n",
      "done tuning\n",
      "Fitting 3 folds for each of 10 candidates, totalling 30 fits\n"
     ]
    },
    {
     "name": "stderr",
     "output_type": "stream",
     "text": [
      "[Parallel(n_jobs=-1)]: Using backend LokyBackend with 6 concurrent workers.\n",
      "[Parallel(n_jobs=-1)]: Done  19 out of  30 | elapsed:    0.3s remaining:    0.2s\n",
      "[Parallel(n_jobs=-1)]: Done  30 out of  30 | elapsed:    0.8s finished\n"
     ]
    },
    {
     "name": "stdout",
     "output_type": "stream",
     "text": [
      "starting optimizing for 꼬마줄날도래\n",
      "done tuning\n",
      "Fitting 3 folds for each of 10 candidates, totalling 30 fits\n"
     ]
    },
    {
     "name": "stderr",
     "output_type": "stream",
     "text": [
      "[Parallel(n_jobs=-1)]: Using backend LokyBackend with 6 concurrent workers.\n",
      "[Parallel(n_jobs=-1)]: Done  19 out of  30 | elapsed:    0.3s remaining:    0.2s\n",
      "[Parallel(n_jobs=-1)]: Done  30 out of  30 | elapsed:    0.8s finished\n"
     ]
    },
    {
     "name": "stdout",
     "output_type": "stream",
     "text": [
      "starting optimizing for 노란측범잠자리\n",
      "done tuning\n",
      "Fitting 3 folds for each of 10 candidates, totalling 30 fits\n"
     ]
    },
    {
     "name": "stderr",
     "output_type": "stream",
     "text": [
      "[Parallel(n_jobs=-1)]: Using backend LokyBackend with 6 concurrent workers.\n",
      "[Parallel(n_jobs=-1)]: Done  19 out of  30 | elapsed:    0.3s remaining:    0.2s\n",
      "[Parallel(n_jobs=-1)]: Done  30 out of  30 | elapsed:    0.6s finished\n"
     ]
    },
    {
     "name": "stdout",
     "output_type": "stream",
     "text": [
      "starting optimizing for 여린황등에\n",
      "done tuning\n",
      "Fitting 3 folds for each of 10 candidates, totalling 30 fits\n"
     ]
    },
    {
     "name": "stderr",
     "output_type": "stream",
     "text": [
      "[Parallel(n_jobs=-1)]: Using backend LokyBackend with 6 concurrent workers.\n",
      "[Parallel(n_jobs=-1)]: Done  19 out of  30 | elapsed:    0.3s remaining:    0.2s\n",
      "[Parallel(n_jobs=-1)]: Done  30 out of  30 | elapsed:    0.6s finished\n"
     ]
    },
    {
     "name": "stdout",
     "output_type": "stream",
     "text": [
      "starting optimizing for 논우렁이\n",
      "done tuning\n",
      "Fitting 3 folds for each of 10 candidates, totalling 30 fits\n"
     ]
    },
    {
     "name": "stderr",
     "output_type": "stream",
     "text": [
      "[Parallel(n_jobs=-1)]: Using backend LokyBackend with 6 concurrent workers.\n",
      "[Parallel(n_jobs=-1)]: Done  19 out of  30 | elapsed:    0.3s remaining:    0.2s\n",
      "[Parallel(n_jobs=-1)]: Done  30 out of  30 | elapsed:    0.8s finished\n"
     ]
    },
    {
     "name": "stdout",
     "output_type": "stream",
     "text": [
      "\n",
      "\n",
      "########################### classification report for 논우렁이 ###########################\n",
      "              precision    recall  f1-score   support\n",
      "\n",
      "           0       0.92      0.85      0.88       142\n",
      "           1       0.42      0.62      0.50        26\n",
      "\n",
      "    accuracy                           0.81       168\n",
      "   macro avg       0.67      0.73      0.69       168\n",
      "weighted avg       0.85      0.81      0.82       168\n",
      "\n",
      "ROC/AUC:  0.7302275189599133\n",
      "ACC:  0.8095238095238095\n",
      "PREC:  0.42105263157894735\n",
      "RECALL:  0.6153846153846154\n",
      "F1:  0.5\n",
      "MCC:  0.3980655563326245\n",
      "Confusion Matrix: \n",
      " [[120  22]\n",
      " [ 10  16]]\n",
      "\n",
      "\n",
      "starting optimizing for 쇠측범잠자리\n",
      "done tuning\n",
      "Fitting 3 folds for each of 10 candidates, totalling 30 fits\n"
     ]
    },
    {
     "name": "stderr",
     "output_type": "stream",
     "text": [
      "[Parallel(n_jobs=-1)]: Using backend LokyBackend with 6 concurrent workers.\n",
      "[Parallel(n_jobs=-1)]: Done  19 out of  30 | elapsed:    0.4s remaining:    0.2s\n",
      "[Parallel(n_jobs=-1)]: Done  30 out of  30 | elapsed:    0.8s finished\n"
     ]
    },
    {
     "name": "stdout",
     "output_type": "stream",
     "text": [
      "\n",
      "\n",
      "########################### classification report for 쇠측범잠자리 ###########################\n",
      "              precision    recall  f1-score   support\n",
      "\n",
      "           0       0.92      0.82      0.87       138\n",
      "           1       0.44      0.67      0.53        30\n",
      "\n",
      "    accuracy                           0.79       168\n",
      "   macro avg       0.68      0.74      0.70       168\n",
      "weighted avg       0.83      0.79      0.81       168\n",
      "\n",
      "ROC/AUC:  0.7427536231884058\n",
      "ACC:  0.7916666666666666\n",
      "PREC:  0.4444444444444444\n",
      "RECALL:  0.6666666666666666\n",
      "F1:  0.5333333333333333\n",
      "MCC:  0.4198914913854778\n",
      "Confusion Matrix: \n",
      " [[113  25]\n",
      " [ 10  20]]\n",
      "\n",
      "\n",
      "starting optimizing for 흰부채하루살이\n",
      "done tuning\n",
      "Fitting 3 folds for each of 10 candidates, totalling 30 fits\n"
     ]
    },
    {
     "name": "stderr",
     "output_type": "stream",
     "text": [
      "[Parallel(n_jobs=-1)]: Using backend LokyBackend with 6 concurrent workers.\n",
      "[Parallel(n_jobs=-1)]: Done  19 out of  30 | elapsed:    0.3s remaining:    0.2s\n",
      "[Parallel(n_jobs=-1)]: Done  30 out of  30 | elapsed:    0.7s finished\n"
     ]
    },
    {
     "name": "stdout",
     "output_type": "stream",
     "text": [
      "starting optimizing for 검은머리물날도래\n",
      "done tuning\n",
      "Fitting 3 folds for each of 10 candidates, totalling 30 fits\n"
     ]
    },
    {
     "name": "stderr",
     "output_type": "stream",
     "text": [
      "[Parallel(n_jobs=-1)]: Using backend LokyBackend with 6 concurrent workers.\n",
      "[Parallel(n_jobs=-1)]: Done  19 out of  30 | elapsed:    0.3s remaining:    0.2s\n",
      "[Parallel(n_jobs=-1)]: Done  30 out of  30 | elapsed:    0.7s finished\n"
     ]
    },
    {
     "name": "stdout",
     "output_type": "stream",
     "text": [
      "\n",
      "\n",
      "########################### classification report for 검은머리물날도래 ###########################\n",
      "              precision    recall  f1-score   support\n",
      "\n",
      "           0       0.94      0.82      0.88       142\n",
      "           1       0.43      0.73      0.54        26\n",
      "\n",
      "    accuracy                           0.81       168\n",
      "   macro avg       0.69      0.78      0.71       168\n",
      "weighted avg       0.86      0.81      0.83       168\n",
      "\n",
      "ROC/AUC:  0.7773564463705309\n",
      "ACC:  0.8095238095238095\n",
      "PREC:  0.4318181818181818\n",
      "RECALL:  0.7307692307692307\n",
      "F1:  0.5428571428571428\n",
      "MCC:  0.45631203718629026\n",
      "Confusion Matrix: \n",
      " [[117  25]\n",
      " [  7  19]]\n",
      "\n",
      "\n",
      "starting optimizing for 등줄하루살이\n",
      "done tuning\n",
      "Fitting 3 folds for each of 10 candidates, totalling 30 fits\n"
     ]
    },
    {
     "name": "stderr",
     "output_type": "stream",
     "text": [
      "[Parallel(n_jobs=-1)]: Using backend LokyBackend with 6 concurrent workers.\n",
      "[Parallel(n_jobs=-1)]: Done  19 out of  30 | elapsed:    0.3s remaining:    0.2s\n",
      "[Parallel(n_jobs=-1)]: Done  30 out of  30 | elapsed:    0.8s finished\n"
     ]
    },
    {
     "name": "stdout",
     "output_type": "stream",
     "text": [
      "starting optimizing for 애날도래 KUa\n",
      "done tuning\n",
      "Fitting 3 folds for each of 10 candidates, totalling 30 fits\n"
     ]
    },
    {
     "name": "stderr",
     "output_type": "stream",
     "text": [
      "[Parallel(n_jobs=-1)]: Using backend LokyBackend with 6 concurrent workers.\n",
      "[Parallel(n_jobs=-1)]: Done  19 out of  30 | elapsed:    0.3s remaining:    0.2s\n",
      "[Parallel(n_jobs=-1)]: Done  30 out of  30 | elapsed:    0.6s finished\n"
     ]
    },
    {
     "name": "stdout",
     "output_type": "stream",
     "text": [
      "\n",
      "\n",
      "########################### classification report for 애날도래 KUa ###########################\n",
      "              precision    recall  f1-score   support\n",
      "\n",
      "           0       0.97      0.88      0.92       159\n",
      "           1       0.21      0.56      0.30         9\n",
      "\n",
      "    accuracy                           0.86       168\n",
      "   macro avg       0.59      0.72      0.61       168\n",
      "weighted avg       0.93      0.86      0.89       168\n",
      "\n",
      "ROC/AUC:  0.7180293501048218\n",
      "ACC:  0.8630952380952381\n",
      "PREC:  0.20833333333333334\n",
      "RECALL:  0.5555555555555556\n",
      "F1:  0.30303030303030304\n",
      "MCC:  0.2805936935698763\n",
      "Confusion Matrix: \n",
      " [[140  19]\n",
      " [  4   5]]\n",
      "\n",
      "\n",
      "starting optimizing for 명주각다귀 KUa\n",
      "done tuning\n",
      "Fitting 3 folds for each of 10 candidates, totalling 30 fits\n"
     ]
    },
    {
     "name": "stderr",
     "output_type": "stream",
     "text": [
      "[Parallel(n_jobs=-1)]: Using backend LokyBackend with 6 concurrent workers.\n",
      "[Parallel(n_jobs=-1)]: Done  19 out of  30 | elapsed:    0.3s remaining:    0.2s\n",
      "[Parallel(n_jobs=-1)]: Done  30 out of  30 | elapsed:    0.7s finished\n"
     ]
    },
    {
     "name": "stdout",
     "output_type": "stream",
     "text": [
      "starting optimizing for 연못하루살이\n",
      "done tuning\n",
      "Fitting 3 folds for each of 10 candidates, totalling 30 fits\n"
     ]
    },
    {
     "name": "stderr",
     "output_type": "stream",
     "text": [
      "[Parallel(n_jobs=-1)]: Using backend LokyBackend with 6 concurrent workers.\n",
      "[Parallel(n_jobs=-1)]: Done  19 out of  30 | elapsed:    0.3s remaining:    0.2s\n",
      "[Parallel(n_jobs=-1)]: Done  30 out of  30 | elapsed:    0.8s finished\n"
     ]
    },
    {
     "name": "stdout",
     "output_type": "stream",
     "text": [
      "\n",
      "\n",
      "########################### classification report for 연못하루살이 ###########################\n",
      "              precision    recall  f1-score   support\n",
      "\n",
      "           0       0.77      0.76      0.76       100\n",
      "           1       0.65      0.66      0.66        68\n",
      "\n",
      "    accuracy                           0.72       168\n",
      "   macro avg       0.71      0.71      0.71       168\n",
      "weighted avg       0.72      0.72      0.72       168\n",
      "\n",
      "ROC/AUC:  0.7108823529411765\n",
      "ACC:  0.7202380952380952\n",
      "PREC:  0.6521739130434783\n",
      "RECALL:  0.6617647058823529\n",
      "F1:  0.656934306569343\n",
      "MCC:  0.4208066050675538\n",
      "Confusion Matrix: \n",
      " [[76 24]\n",
      " [23 45]]\n",
      "\n",
      "\n",
      "starting optimizing for 흰점줄날도래\n",
      "done tuning\n",
      "Fitting 3 folds for each of 10 candidates, totalling 30 fits\n"
     ]
    },
    {
     "name": "stderr",
     "output_type": "stream",
     "text": [
      "[Parallel(n_jobs=-1)]: Using backend LokyBackend with 6 concurrent workers.\n",
      "[Parallel(n_jobs=-1)]: Done  19 out of  30 | elapsed:    0.3s remaining:    0.2s\n",
      "[Parallel(n_jobs=-1)]: Done  30 out of  30 | elapsed:    0.7s finished\n",
      "[Parallel(n_jobs=-1)]: Using backend LokyBackend with 6 concurrent workers.\n"
     ]
    },
    {
     "name": "stdout",
     "output_type": "stream",
     "text": [
      "starting optimizing for 실지렁이\n",
      "done tuning\n",
      "Fitting 3 folds for each of 10 candidates, totalling 30 fits\n"
     ]
    },
    {
     "name": "stderr",
     "output_type": "stream",
     "text": [
      "[Parallel(n_jobs=-1)]: Done  19 out of  30 | elapsed:    0.3s remaining:    0.2s\n",
      "[Parallel(n_jobs=-1)]: Done  30 out of  30 | elapsed:    0.8s finished\n"
     ]
    },
    {
     "name": "stdout",
     "output_type": "stream",
     "text": [
      "\n",
      "\n",
      "########################### classification report for 실지렁이 ###########################\n",
      "              precision    recall  f1-score   support\n",
      "\n",
      "           0       0.82      0.67      0.73        93\n",
      "           1       0.66      0.81      0.73        75\n",
      "\n",
      "    accuracy                           0.73       168\n",
      "   macro avg       0.74      0.74      0.73       168\n",
      "weighted avg       0.75      0.73      0.73       168\n",
      "\n",
      "ROC/AUC:  0.7400000000000001\n",
      "ACC:  0.7321428571428571\n",
      "PREC:  0.6630434782608695\n",
      "RECALL:  0.8133333333333334\n",
      "F1:  0.7305389221556886\n",
      "MCC:  0.47941612085289587\n",
      "Confusion Matrix: \n",
      " [[62 31]\n",
      " [14 61]]\n",
      "\n",
      "\n",
      "starting optimizing for 물지렁이\n",
      "done tuning\n",
      "Fitting 3 folds for each of 10 candidates, totalling 30 fits\n"
     ]
    },
    {
     "name": "stderr",
     "output_type": "stream",
     "text": [
      "[Parallel(n_jobs=-1)]: Using backend LokyBackend with 6 concurrent workers.\n",
      "[Parallel(n_jobs=-1)]: Done  19 out of  30 | elapsed:    0.3s remaining:    0.2s\n",
      "[Parallel(n_jobs=-1)]: Done  30 out of  30 | elapsed:    0.7s finished\n"
     ]
    },
    {
     "name": "stdout",
     "output_type": "stream",
     "text": [
      "starting optimizing for 강하루살이\n",
      "done tuning\n",
      "Fitting 3 folds for each of 10 candidates, totalling 30 fits\n"
     ]
    },
    {
     "name": "stderr",
     "output_type": "stream",
     "text": [
      "[Parallel(n_jobs=-1)]: Using backend LokyBackend with 6 concurrent workers.\n",
      "[Parallel(n_jobs=-1)]: Done  19 out of  30 | elapsed:    0.3s remaining:    0.2s\n",
      "[Parallel(n_jobs=-1)]: Done  30 out of  30 | elapsed:    0.6s finished\n"
     ]
    },
    {
     "name": "stdout",
     "output_type": "stream",
     "text": [
      "starting optimizing for 등검은실잠자리\n",
      "done tuning\n",
      "Fitting 3 folds for each of 10 candidates, totalling 30 fits\n"
     ]
    },
    {
     "name": "stderr",
     "output_type": "stream",
     "text": [
      "[Parallel(n_jobs=-1)]: Using backend LokyBackend with 6 concurrent workers.\n",
      "[Parallel(n_jobs=-1)]: Done  19 out of  30 | elapsed:    0.4s remaining:    0.2s\n",
      "[Parallel(n_jobs=-1)]: Done  30 out of  30 | elapsed:    0.9s finished\n"
     ]
    },
    {
     "name": "stdout",
     "output_type": "stream",
     "text": [
      "\n",
      "\n",
      "########################### classification report for 등검은실잠자리 ###########################\n",
      "              precision    recall  f1-score   support\n",
      "\n",
      "           0       0.85      0.78      0.81       118\n",
      "           1       0.57      0.68      0.62        50\n",
      "\n",
      "    accuracy                           0.75       168\n",
      "   macro avg       0.71      0.73      0.72       168\n",
      "weighted avg       0.77      0.75      0.76       168\n",
      "\n",
      "ROC/AUC:  0.7298305084745764\n",
      "ACC:  0.75\n",
      "PREC:  0.5666666666666667\n",
      "RECALL:  0.68\n",
      "F1:  0.6181818181818183\n",
      "MCC:  0.4386076240038184\n",
      "Confusion Matrix: \n",
      " [[92 26]\n",
      " [16 34]]\n",
      "\n",
      "\n",
      "starting optimizing for 꼬마줄물방개\n",
      "done tuning\n",
      "Fitting 3 folds for each of 10 candidates, totalling 30 fits\n"
     ]
    },
    {
     "name": "stderr",
     "output_type": "stream",
     "text": [
      "[Parallel(n_jobs=-1)]: Using backend LokyBackend with 6 concurrent workers.\n",
      "[Parallel(n_jobs=-1)]: Done  19 out of  30 | elapsed:    0.3s remaining:    0.2s\n",
      "[Parallel(n_jobs=-1)]: Done  30 out of  30 | elapsed:    0.6s finished\n",
      "[Parallel(n_jobs=-1)]: Using backend LokyBackend with 6 concurrent workers.\n"
     ]
    },
    {
     "name": "stdout",
     "output_type": "stream",
     "text": [
      "starting optimizing for 갈색우묵날도래 KUa\n",
      "done tuning\n",
      "Fitting 3 folds for each of 10 candidates, totalling 30 fits\n"
     ]
    },
    {
     "name": "stderr",
     "output_type": "stream",
     "text": [
      "[Parallel(n_jobs=-1)]: Done  19 out of  30 | elapsed:    0.3s remaining:    0.2s\n",
      "[Parallel(n_jobs=-1)]: Done  30 out of  30 | elapsed:    0.6s finished\n"
     ]
    },
    {
     "name": "stdout",
     "output_type": "stream",
     "text": [
      "\n",
      "\n",
      "########################### classification report for 갈색우묵날도래 KUa ###########################\n",
      "              precision    recall  f1-score   support\n",
      "\n",
      "           0       0.97      0.96      0.96       156\n",
      "           1       0.50      0.58      0.54        12\n",
      "\n",
      "    accuracy                           0.93       168\n",
      "   macro avg       0.73      0.77      0.75       168\n",
      "weighted avg       0.93      0.93      0.93       168\n",
      "\n",
      "ROC/AUC:  0.7692307692307693\n",
      "ACC:  0.9285714285714286\n",
      "PREC:  0.5\n",
      "RECALL:  0.5833333333333334\n",
      "F1:  0.5384615384615384\n",
      "MCC:  0.5017452060042544\n",
      "Confusion Matrix: \n",
      " [[149   7]\n",
      " [  5   7]]\n",
      "\n",
      "\n",
      "starting optimizing for 등줄실잠자리\n",
      "done tuning\n",
      "Fitting 3 folds for each of 10 candidates, totalling 30 fits\n"
     ]
    },
    {
     "name": "stderr",
     "output_type": "stream",
     "text": [
      "[Parallel(n_jobs=-1)]: Using backend LokyBackend with 6 concurrent workers.\n",
      "[Parallel(n_jobs=-1)]: Done  19 out of  30 | elapsed:    0.3s remaining:    0.2s\n",
      "[Parallel(n_jobs=-1)]: Done  30 out of  30 | elapsed:    0.6s finished\n",
      "[Parallel(n_jobs=-1)]: Using backend LokyBackend with 6 concurrent workers.\n"
     ]
    },
    {
     "name": "stdout",
     "output_type": "stream",
     "text": [
      "starting optimizing for 꼬마물벌레\n",
      "done tuning\n",
      "Fitting 3 folds for each of 10 candidates, totalling 30 fits\n"
     ]
    },
    {
     "name": "stderr",
     "output_type": "stream",
     "text": [
      "[Parallel(n_jobs=-1)]: Done  19 out of  30 | elapsed:    0.4s remaining:    0.2s\n",
      "[Parallel(n_jobs=-1)]: Done  30 out of  30 | elapsed:    0.8s finished\n"
     ]
    },
    {
     "name": "stdout",
     "output_type": "stream",
     "text": [
      "starting optimizing for 물벌레류\n",
      "done tuning\n",
      "Fitting 3 folds for each of 10 candidates, totalling 30 fits\n"
     ]
    },
    {
     "name": "stderr",
     "output_type": "stream",
     "text": [
      "[Parallel(n_jobs=-1)]: Using backend LokyBackend with 6 concurrent workers.\n",
      "[Parallel(n_jobs=-1)]: Done  19 out of  30 | elapsed:    0.3s remaining:    0.2s\n",
      "[Parallel(n_jobs=-1)]: Done  30 out of  30 | elapsed:    0.6s finished\n"
     ]
    },
    {
     "name": "stdout",
     "output_type": "stream",
     "text": [
      "\n",
      "\n",
      "########################### classification report for 물벌레류 ###########################\n",
      "              precision    recall  f1-score   support\n",
      "\n",
      "           0       0.96      0.95      0.96       157\n",
      "           1       0.38      0.45      0.42        11\n",
      "\n",
      "    accuracy                           0.92       168\n",
      "   macro avg       0.67      0.70      0.69       168\n",
      "weighted avg       0.92      0.92      0.92       168\n",
      "\n",
      "ROC/AUC:  0.7017950202663579\n",
      "ACC:  0.9166666666666666\n",
      "PREC:  0.38461538461538464\n",
      "RECALL:  0.45454545454545453\n",
      "F1:  0.41666666666666663\n",
      "MCC:  0.3736363183467894\n",
      "Confusion Matrix: \n",
      " [[149   8]\n",
      " [  6   5]]\n",
      "\n",
      "\n",
      "starting optimizing for 검은물잠자리\n",
      "done tuning\n",
      "Fitting 3 folds for each of 10 candidates, totalling 30 fits\n"
     ]
    },
    {
     "name": "stderr",
     "output_type": "stream",
     "text": [
      "[Parallel(n_jobs=-1)]: Using backend LokyBackend with 6 concurrent workers.\n",
      "[Parallel(n_jobs=-1)]: Done  30 out of  30 | elapsed:    0.7s finished\n"
     ]
    },
    {
     "name": "stdout",
     "output_type": "stream",
     "text": [
      "starting optimizing for 범꼬리하루살이\n",
      "done tuning\n",
      "Fitting 3 folds for each of 10 candidates, totalling 30 fits\n"
     ]
    },
    {
     "name": "stderr",
     "output_type": "stream",
     "text": [
      "[Parallel(n_jobs=-1)]: Using backend LokyBackend with 6 concurrent workers.\n",
      "[Parallel(n_jobs=-1)]: Done  19 out of  30 | elapsed:    0.3s remaining:    0.2s\n",
      "[Parallel(n_jobs=-1)]: Done  30 out of  30 | elapsed:    0.6s finished\n"
     ]
    },
    {
     "name": "stdout",
     "output_type": "stream",
     "text": [
      "starting optimizing for 밀잠자리\n",
      "done tuning\n",
      "Fitting 3 folds for each of 10 candidates, totalling 30 fits\n"
     ]
    },
    {
     "name": "stderr",
     "output_type": "stream",
     "text": [
      "[Parallel(n_jobs=-1)]: Using backend LokyBackend with 6 concurrent workers.\n",
      "[Parallel(n_jobs=-1)]: Done  19 out of  30 | elapsed:    0.3s remaining:    0.2s\n",
      "[Parallel(n_jobs=-1)]: Done  30 out of  30 | elapsed:    0.8s finished\n"
     ]
    },
    {
     "name": "stdout",
     "output_type": "stream",
     "text": [
      "starting optimizing for 강우렁이\n",
      "done tuning\n",
      "Fitting 3 folds for each of 10 candidates, totalling 30 fits\n"
     ]
    },
    {
     "name": "stderr",
     "output_type": "stream",
     "text": [
      "[Parallel(n_jobs=-1)]: Using backend LokyBackend with 6 concurrent workers.\n",
      "[Parallel(n_jobs=-1)]: Done  19 out of  30 | elapsed:    0.3s remaining:    0.2s\n",
      "[Parallel(n_jobs=-1)]: Done  30 out of  30 | elapsed:    0.6s finished\n"
     ]
    },
    {
     "name": "stdout",
     "output_type": "stream",
     "text": [
      "starting optimizing for 청나비날도래 KUa\n",
      "done tuning\n",
      "Fitting 3 folds for each of 10 candidates, totalling 30 fits\n"
     ]
    },
    {
     "name": "stderr",
     "output_type": "stream",
     "text": [
      "[Parallel(n_jobs=-1)]: Using backend LokyBackend with 6 concurrent workers.\n",
      "[Parallel(n_jobs=-1)]: Done  19 out of  30 | elapsed:    0.4s remaining:    0.2s\n",
      "[Parallel(n_jobs=-1)]: Done  30 out of  30 | elapsed:    0.8s finished\n"
     ]
    },
    {
     "name": "stdout",
     "output_type": "stream",
     "text": [
      "starting optimizing for 물벌레1\n",
      "done tuning\n",
      "Fitting 3 folds for each of 10 candidates, totalling 30 fits\n"
     ]
    },
    {
     "name": "stderr",
     "output_type": "stream",
     "text": [
      "[Parallel(n_jobs=-1)]: Using backend LokyBackend with 6 concurrent workers.\n",
      "[Parallel(n_jobs=-1)]: Done  19 out of  30 | elapsed:    0.3s remaining:    0.2s\n",
      "[Parallel(n_jobs=-1)]: Done  30 out of  30 | elapsed:    0.6s finished\n"
     ]
    },
    {
     "name": "stdout",
     "output_type": "stream",
     "text": [
      "\n",
      "\n",
      "########################### classification report for 물벌레1 ###########################\n",
      "              precision    recall  f1-score   support\n",
      "\n",
      "           0       0.98      0.83      0.90       156\n",
      "           1       0.26      0.75      0.38        12\n",
      "\n",
      "    accuracy                           0.83       168\n",
      "   macro avg       0.62      0.79      0.64       168\n",
      "weighted avg       0.93      0.83      0.86       168\n",
      "\n",
      "ROC/AUC:  0.7916666666666667\n",
      "ACC:  0.8273809523809523\n",
      "PREC:  0.2571428571428571\n",
      "RECALL:  0.75\n",
      "F1:  0.3829787234042553\n",
      "MCC:  0.3699217555959069\n",
      "Confusion Matrix: \n",
      " [[130  26]\n",
      " [  3   9]]\n",
      "\n",
      "\n",
      "starting optimizing for 각다귀류\n",
      "done tuning\n",
      "Fitting 3 folds for each of 10 candidates, totalling 30 fits\n"
     ]
    },
    {
     "name": "stderr",
     "output_type": "stream",
     "text": [
      "[Parallel(n_jobs=-1)]: Using backend LokyBackend with 6 concurrent workers.\n",
      "[Parallel(n_jobs=-1)]: Done  19 out of  30 | elapsed:    0.3s remaining:    0.2s\n",
      "[Parallel(n_jobs=-1)]: Done  30 out of  30 | elapsed:    0.6s finished\n",
      "[Parallel(n_jobs=-1)]: Using backend LokyBackend with 6 concurrent workers.\n"
     ]
    },
    {
     "name": "stdout",
     "output_type": "stream",
     "text": [
      "\n",
      "\n",
      "########################### classification report for 각다귀류 ###########################\n",
      "              precision    recall  f1-score   support\n",
      "\n",
      "           0       0.97      0.87      0.92       159\n",
      "           1       0.20      0.56      0.29         9\n",
      "\n",
      "    accuracy                           0.86       168\n",
      "   macro avg       0.59      0.71      0.61       168\n",
      "weighted avg       0.93      0.86      0.89       168\n",
      "\n",
      "ROC/AUC:  0.7148846960167715\n",
      "ACC:  0.8571428571428571\n",
      "PREC:  0.2\n",
      "RECALL:  0.5555555555555556\n",
      "F1:  0.29411764705882354\n",
      "MCC:  0.2719050513529031\n",
      "Confusion Matrix: \n",
      " [[139  20]\n",
      " [  4   5]]\n",
      "\n",
      "\n",
      "starting optimizing for 애기물방개\n",
      "done tuning\n",
      "Fitting 3 folds for each of 10 candidates, totalling 30 fits\n"
     ]
    },
    {
     "name": "stderr",
     "output_type": "stream",
     "text": [
      "[Parallel(n_jobs=-1)]: Done  19 out of  30 | elapsed:    0.4s remaining:    0.2s\n",
      "[Parallel(n_jobs=-1)]: Done  30 out of  30 | elapsed:    0.7s finished\n"
     ]
    },
    {
     "name": "stdout",
     "output_type": "stream",
     "text": [
      "starting optimizing for 수정또아리물달팽이\n",
      "done tuning\n",
      "Fitting 3 folds for each of 10 candidates, totalling 30 fits\n"
     ]
    },
    {
     "name": "stderr",
     "output_type": "stream",
     "text": [
      "[Parallel(n_jobs=-1)]: Using backend LokyBackend with 6 concurrent workers.\n",
      "[Parallel(n_jobs=-1)]: Done  19 out of  30 | elapsed:    0.4s remaining:    0.2s\n",
      "[Parallel(n_jobs=-1)]: Done  30 out of  30 | elapsed:    0.8s finished\n"
     ]
    },
    {
     "name": "stdout",
     "output_type": "stream",
     "text": [
      "starting optimizing for 갈고리하루살이\n",
      "done tuning\n",
      "Fitting 3 folds for each of 10 candidates, totalling 30 fits\n"
     ]
    },
    {
     "name": "stderr",
     "output_type": "stream",
     "text": [
      "[Parallel(n_jobs=-1)]: Using backend LokyBackend with 6 concurrent workers.\n",
      "[Parallel(n_jobs=-1)]: Done  19 out of  30 | elapsed:    0.4s remaining:    0.2s\n",
      "[Parallel(n_jobs=-1)]: Done  30 out of  30 | elapsed:    0.7s finished\n",
      "[Parallel(n_jobs=-1)]: Using backend LokyBackend with 6 concurrent workers.\n"
     ]
    },
    {
     "name": "stdout",
     "output_type": "stream",
     "text": [
      "starting optimizing for 말조개\n",
      "done tuning\n",
      "Fitting 3 folds for each of 10 candidates, totalling 30 fits\n"
     ]
    },
    {
     "name": "stderr",
     "output_type": "stream",
     "text": [
      "[Parallel(n_jobs=-1)]: Done  19 out of  30 | elapsed:    0.3s remaining:    0.2s\n",
      "[Parallel(n_jobs=-1)]: Done  30 out of  30 | elapsed:    0.6s finished\n"
     ]
    },
    {
     "name": "stdout",
     "output_type": "stream",
     "text": [
      "\n",
      "\n",
      "########################### classification report for 말조개 ###########################\n",
      "              precision    recall  f1-score   support\n",
      "\n",
      "           0       0.97      0.93      0.95       159\n",
      "           1       0.31      0.56      0.40         9\n",
      "\n",
      "    accuracy                           0.91       168\n",
      "   macro avg       0.64      0.74      0.68       168\n",
      "weighted avg       0.94      0.91      0.92       168\n",
      "\n",
      "ROC/AUC:  0.7431865828092243\n",
      "ACC:  0.9107142857142857\n",
      "PREC:  0.3125\n",
      "RECALL:  0.5555555555555556\n",
      "F1:  0.39999999999999997\n",
      "MCC:  0.37308487026908604\n",
      "Confusion Matrix: \n",
      " [[148  11]\n",
      " [  4   5]]\n",
      "\n",
      "\n",
      "starting optimizing for 좀물땡땡이\n",
      "done tuning\n",
      "Fitting 3 folds for each of 10 candidates, totalling 30 fits\n"
     ]
    },
    {
     "name": "stderr",
     "output_type": "stream",
     "text": [
      "[Parallel(n_jobs=-1)]: Using backend LokyBackend with 6 concurrent workers.\n",
      "[Parallel(n_jobs=-1)]: Done  19 out of  30 | elapsed:    0.4s remaining:    0.2s\n",
      "[Parallel(n_jobs=-1)]: Done  30 out of  30 | elapsed:    0.7s finished\n"
     ]
    },
    {
     "name": "stdout",
     "output_type": "stream",
     "text": [
      "starting optimizing for 네점하루살이\n",
      "done tuning\n",
      "Fitting 3 folds for each of 10 candidates, totalling 30 fits\n"
     ]
    },
    {
     "name": "stderr",
     "output_type": "stream",
     "text": [
      "[Parallel(n_jobs=-1)]: Using backend LokyBackend with 6 concurrent workers.\n",
      "[Parallel(n_jobs=-1)]: Done  19 out of  30 | elapsed:    0.4s remaining:    0.2s\n",
      "[Parallel(n_jobs=-1)]: Done  30 out of  30 | elapsed:    0.8s finished\n"
     ]
    },
    {
     "name": "stdout",
     "output_type": "stream",
     "text": [
      "starting optimizing for 띠무늬우묵날도래\n",
      "done tuning\n",
      "Fitting 3 folds for each of 10 candidates, totalling 30 fits\n"
     ]
    },
    {
     "name": "stderr",
     "output_type": "stream",
     "text": [
      "[Parallel(n_jobs=-1)]: Using backend LokyBackend with 6 concurrent workers.\n",
      "[Parallel(n_jobs=-1)]: Done  19 out of  30 | elapsed:    0.3s remaining:    0.2s\n",
      "[Parallel(n_jobs=-1)]: Done  30 out of  30 | elapsed:    0.6s finished\n"
     ]
    },
    {
     "name": "stdout",
     "output_type": "stream",
     "text": [
      "starting optimizing for 소금쟁이\n",
      "done tuning\n",
      "Fitting 3 folds for each of 10 candidates, totalling 30 fits\n"
     ]
    },
    {
     "name": "stderr",
     "output_type": "stream",
     "text": [
      "[Parallel(n_jobs=-1)]: Using backend LokyBackend with 6 concurrent workers.\n",
      "[Parallel(n_jobs=-1)]: Done  19 out of  30 | elapsed:    0.4s remaining:    0.2s\n",
      "[Parallel(n_jobs=-1)]: Done  30 out of  30 | elapsed:    0.7s finished\n",
      "[Parallel(n_jobs=-1)]: Using backend LokyBackend with 6 concurrent workers.\n"
     ]
    },
    {
     "name": "stdout",
     "output_type": "stream",
     "text": [
      "\n",
      "\n",
      "########################### classification report for 소금쟁이 ###########################\n",
      "              precision    recall  f1-score   support\n",
      "\n",
      "           0       0.98      0.66      0.79       145\n",
      "           1       0.30      0.91      0.45        23\n",
      "\n",
      "    accuracy                           0.70       168\n",
      "   macro avg       0.64      0.79      0.62       168\n",
      "weighted avg       0.89      0.70      0.74       168\n",
      "\n",
      "ROC/AUC:  0.7875562218890555\n",
      "ACC:  0.6964285714285714\n",
      "PREC:  0.3\n",
      "RECALL:  0.9130434782608695\n",
      "F1:  0.45161290322580644\n",
      "MCC:  0.40099469383634045\n",
      "Confusion Matrix: \n",
      " [[96 49]\n",
      " [ 2 21]]\n",
      "\n",
      "\n",
      "starting optimizing for 일본가시날도래\n",
      "done tuning\n",
      "Fitting 3 folds for each of 10 candidates, totalling 30 fits\n"
     ]
    },
    {
     "name": "stderr",
     "output_type": "stream",
     "text": [
      "[Parallel(n_jobs=-1)]: Done  19 out of  30 | elapsed:    0.3s remaining:    0.2s\n",
      "[Parallel(n_jobs=-1)]: Done  30 out of  30 | elapsed:    0.6s finished\n"
     ]
    },
    {
     "name": "stdout",
     "output_type": "stream",
     "text": [
      "starting optimizing for 부채하루살이\n",
      "done tuning\n",
      "Fitting 3 folds for each of 10 candidates, totalling 30 fits\n"
     ]
    },
    {
     "name": "stderr",
     "output_type": "stream",
     "text": [
      "[Parallel(n_jobs=-1)]: Using backend LokyBackend with 6 concurrent workers.\n",
      "[Parallel(n_jobs=-1)]: Done  19 out of  30 | elapsed:    0.3s remaining:    0.2s\n",
      "[Parallel(n_jobs=-1)]: Done  30 out of  30 | elapsed:    0.8s finished\n"
     ]
    },
    {
     "name": "stdout",
     "output_type": "stream",
     "text": [
      "starting optimizing for 얼룩날개모기류\n",
      "done tuning\n",
      "Fitting 3 folds for each of 10 candidates, totalling 30 fits\n"
     ]
    },
    {
     "name": "stderr",
     "output_type": "stream",
     "text": [
      "[Parallel(n_jobs=-1)]: Using backend LokyBackend with 6 concurrent workers.\n",
      "[Parallel(n_jobs=-1)]: Done  19 out of  30 | elapsed:    0.3s remaining:    0.2s\n",
      "[Parallel(n_jobs=-1)]: Done  30 out of  30 | elapsed:    0.6s finished\n",
      "[Parallel(n_jobs=-1)]: Using backend LokyBackend with 6 concurrent workers.\n"
     ]
    },
    {
     "name": "stdout",
     "output_type": "stream",
     "text": [
      "\n",
      "\n",
      "########################### classification report for 얼룩날개모기류 ###########################\n",
      "              precision    recall  f1-score   support\n",
      "\n",
      "           0       0.99      0.91      0.95       158\n",
      "           1       0.36      0.80      0.50        10\n",
      "\n",
      "    accuracy                           0.90       168\n",
      "   macro avg       0.67      0.86      0.72       168\n",
      "weighted avg       0.95      0.90      0.92       168\n",
      "\n",
      "ROC/AUC:  0.8556962025316456\n",
      "ACC:  0.9047619047619048\n",
      "PREC:  0.36363636363636365\n",
      "RECALL:  0.8\n",
      "F1:  0.5000000000000001\n",
      "MCC:  0.4989419263366419\n",
      "Confusion Matrix: \n",
      " [[144  14]\n",
      " [  2   8]]\n",
      "\n",
      "\n",
      "starting optimizing for 둥근물삿갓벌레 KUa\n",
      "done tuning\n",
      "Fitting 3 folds for each of 10 candidates, totalling 30 fits\n"
     ]
    },
    {
     "name": "stderr",
     "output_type": "stream",
     "text": [
      "[Parallel(n_jobs=-1)]: Done  19 out of  30 | elapsed:    0.3s remaining:    0.2s\n",
      "[Parallel(n_jobs=-1)]: Done  30 out of  30 | elapsed:    0.6s finished\n",
      "[Parallel(n_jobs=-1)]: Using backend LokyBackend with 6 concurrent workers.\n"
     ]
    },
    {
     "name": "stdout",
     "output_type": "stream",
     "text": [
      "starting optimizing for 물달팽이\n",
      "done tuning\n",
      "Fitting 3 folds for each of 10 candidates, totalling 30 fits\n"
     ]
    },
    {
     "name": "stderr",
     "output_type": "stream",
     "text": [
      "[Parallel(n_jobs=-1)]: Done  19 out of  30 | elapsed:    0.3s remaining:    0.2s\n",
      "[Parallel(n_jobs=-1)]: Done  30 out of  30 | elapsed:    0.7s finished\n"
     ]
    },
    {
     "name": "stdout",
     "output_type": "stream",
     "text": [
      "\n",
      "\n",
      "########################### classification report for 물달팽이 ###########################\n",
      "              precision    recall  f1-score   support\n",
      "\n",
      "           0       0.76      0.74      0.75        88\n",
      "           1       0.72      0.75      0.74        80\n",
      "\n",
      "    accuracy                           0.74       168\n",
      "   macro avg       0.74      0.74      0.74       168\n",
      "weighted avg       0.74      0.74      0.74       168\n",
      "\n",
      "ROC/AUC:  0.7443181818181819\n",
      "ACC:  0.7440476190476191\n",
      "PREC:  0.7228915662650602\n",
      "RECALL:  0.75\n",
      "F1:  0.7361963190184048\n",
      "MCC:  0.4881166297219025\n",
      "Confusion Matrix: \n",
      " [[65 23]\n",
      " [20 60]]\n",
      "\n",
      "\n",
      "starting optimizing for 애아이노각다귀\n",
      "done tuning\n",
      "Fitting 3 folds for each of 10 candidates, totalling 30 fits\n"
     ]
    },
    {
     "name": "stderr",
     "output_type": "stream",
     "text": [
      "[Parallel(n_jobs=-1)]: Using backend LokyBackend with 6 concurrent workers.\n",
      "[Parallel(n_jobs=-1)]: Done  19 out of  30 | elapsed:    0.4s remaining:    0.2s\n",
      "[Parallel(n_jobs=-1)]: Done  30 out of  30 | elapsed:    0.7s finished\n"
     ]
    },
    {
     "name": "stdout",
     "output_type": "stream",
     "text": [
      "starting optimizing for 고추잠자리\n",
      "done tuning\n",
      "Fitting 3 folds for each of 10 candidates, totalling 30 fits\n"
     ]
    },
    {
     "name": "stderr",
     "output_type": "stream",
     "text": [
      "[Parallel(n_jobs=-1)]: Using backend LokyBackend with 6 concurrent workers.\n",
      "[Parallel(n_jobs=-1)]: Done  19 out of  30 | elapsed:    0.3s remaining:    0.2s\n",
      "[Parallel(n_jobs=-1)]: Done  30 out of  30 | elapsed:    0.7s finished\n",
      "[Parallel(n_jobs=-1)]: Using backend LokyBackend with 6 concurrent workers.\n"
     ]
    },
    {
     "name": "stdout",
     "output_type": "stream",
     "text": [
      "\n",
      "\n",
      "########################### classification report for 고추잠자리 ###########################\n",
      "              precision    recall  f1-score   support\n",
      "\n",
      "           0       0.95      0.77      0.85       148\n",
      "           1       0.29      0.70      0.41        20\n",
      "\n",
      "    accuracy                           0.76       168\n",
      "   macro avg       0.62      0.74      0.63       168\n",
      "weighted avg       0.87      0.76      0.80       168\n",
      "\n",
      "ROC/AUC:  0.7351351351351352\n",
      "ACC:  0.7619047619047619\n",
      "PREC:  0.2916666666666667\n",
      "RECALL:  0.7\n",
      "F1:  0.4117647058823529\n",
      "MCC:  0.33711815235707593\n",
      "Confusion Matrix: \n",
      " [[114  34]\n",
      " [  6  14]]\n",
      "\n",
      "\n",
      "starting optimizing for 줄동애등에\n",
      "done tuning\n",
      "Fitting 3 folds for each of 10 candidates, totalling 30 fits\n"
     ]
    },
    {
     "name": "stderr",
     "output_type": "stream",
     "text": [
      "[Parallel(n_jobs=-1)]: Done  19 out of  30 | elapsed:    0.3s remaining:    0.2s\n",
      "[Parallel(n_jobs=-1)]: Done  30 out of  30 | elapsed:    0.5s finished\n"
     ]
    },
    {
     "name": "stdout",
     "output_type": "stream",
     "text": [
      "\n",
      "\n",
      "########################### classification report for 줄동애등에 ###########################\n",
      "              precision    recall  f1-score   support\n",
      "\n",
      "           0       0.97      0.94      0.96       159\n",
      "           1       0.36      0.56      0.43         9\n",
      "\n",
      "    accuracy                           0.92       168\n",
      "   macro avg       0.67      0.75      0.70       168\n",
      "weighted avg       0.94      0.92      0.93       168\n",
      "\n",
      "ROC/AUC:  0.749475890985325\n",
      "ACC:  0.9226190476190477\n",
      "PREC:  0.35714285714285715\n",
      "RECALL:  0.5555555555555556\n",
      "F1:  0.43478260869565216\n",
      "MCC:  0.40649388487998883\n",
      "Confusion Matrix: \n",
      " [[150   9]\n",
      " [  4   5]]\n",
      "\n",
      "\n",
      "starting optimizing for 어리장수잠자리\n",
      "done tuning\n",
      "Fitting 3 folds for each of 10 candidates, totalling 30 fits\n"
     ]
    },
    {
     "name": "stderr",
     "output_type": "stream",
     "text": [
      "[Parallel(n_jobs=-1)]: Using backend LokyBackend with 6 concurrent workers.\n",
      "[Parallel(n_jobs=-1)]: Done  19 out of  30 | elapsed:    0.3s remaining:    0.2s\n",
      "[Parallel(n_jobs=-1)]: Done  30 out of  30 | elapsed:    0.7s finished\n"
     ]
    },
    {
     "name": "stdout",
     "output_type": "stream",
     "text": [
      "starting optimizing for 애소금쟁이\n",
      "done tuning\n",
      "Fitting 3 folds for each of 10 candidates, totalling 30 fits\n"
     ]
    },
    {
     "name": "stderr",
     "output_type": "stream",
     "text": [
      "[Parallel(n_jobs=-1)]: Using backend LokyBackend with 6 concurrent workers.\n",
      "[Parallel(n_jobs=-1)]: Done  19 out of  30 | elapsed:    0.3s remaining:    0.2s\n",
      "[Parallel(n_jobs=-1)]: Done  30 out of  30 | elapsed:    0.7s finished\n",
      "[Parallel(n_jobs=-1)]: Using backend LokyBackend with 6 concurrent workers.\n"
     ]
    },
    {
     "name": "stdout",
     "output_type": "stream",
     "text": [
      "starting optimizing for 두점하루살이\n",
      "done tuning\n",
      "Fitting 3 folds for each of 10 candidates, totalling 30 fits\n"
     ]
    },
    {
     "name": "stderr",
     "output_type": "stream",
     "text": [
      "[Parallel(n_jobs=-1)]: Done  19 out of  30 | elapsed:    0.3s remaining:    0.2s\n",
      "[Parallel(n_jobs=-1)]: Done  30 out of  30 | elapsed:    0.7s finished\n"
     ]
    },
    {
     "name": "stdout",
     "output_type": "stream",
     "text": [
      "starting optimizing for 집모기류\n",
      "done tuning\n",
      "Fitting 3 folds for each of 10 candidates, totalling 30 fits\n"
     ]
    },
    {
     "name": "stderr",
     "output_type": "stream",
     "text": [
      "[Parallel(n_jobs=-1)]: Using backend LokyBackend with 6 concurrent workers.\n",
      "[Parallel(n_jobs=-1)]: Done  19 out of  30 | elapsed:    0.3s remaining:    0.2s\n",
      "[Parallel(n_jobs=-1)]: Done  30 out of  30 | elapsed:    0.6s finished\n"
     ]
    },
    {
     "name": "stdout",
     "output_type": "stream",
     "text": [
      "starting optimizing for 옆새우류\n",
      "done tuning\n",
      "Fitting 3 folds for each of 10 candidates, totalling 30 fits\n"
     ]
    },
    {
     "name": "stderr",
     "output_type": "stream",
     "text": [
      "[Parallel(n_jobs=-1)]: Using backend LokyBackend with 6 concurrent workers.\n",
      "[Parallel(n_jobs=-1)]: Done  30 out of  30 | elapsed:    0.7s finished\n"
     ]
    },
    {
     "name": "stdout",
     "output_type": "stream",
     "text": [
      "starting optimizing for 잔산잠자리\n",
      "done tuning\n",
      "Fitting 3 folds for each of 10 candidates, totalling 30 fits\n"
     ]
    },
    {
     "name": "stderr",
     "output_type": "stream",
     "text": [
      "[Parallel(n_jobs=-1)]: Using backend LokyBackend with 6 concurrent workers.\n",
      "[Parallel(n_jobs=-1)]: Done  19 out of  30 | elapsed:    0.3s remaining:    0.2s\n",
      "[Parallel(n_jobs=-1)]: Done  30 out of  30 | elapsed:    0.7s finished\n"
     ]
    },
    {
     "name": "stdout",
     "output_type": "stream",
     "text": [
      "\n",
      "\n",
      "########################### classification report for 잔산잠자리 ###########################\n",
      "              precision    recall  f1-score   support\n",
      "\n",
      "           0       0.96      0.83      0.89       154\n",
      "           1       0.24      0.57      0.33        14\n",
      "\n",
      "    accuracy                           0.81       168\n",
      "   macro avg       0.60      0.70      0.61       168\n",
      "weighted avg       0.90      0.81      0.84       168\n",
      "\n",
      "ROC/AUC:  0.7012987012987013\n",
      "ACC:  0.8095238095238095\n",
      "PREC:  0.23529411764705882\n",
      "RECALL:  0.5714285714285714\n",
      "F1:  0.3333333333333333\n",
      "MCC:  0.27695135175896973\n",
      "Confusion Matrix: \n",
      " [[128  26]\n",
      " [  6   8]]\n",
      "\n",
      "\n",
      "starting optimizing for 송장헤엄치게\n",
      "done tuning\n",
      "Fitting 3 folds for each of 10 candidates, totalling 30 fits\n"
     ]
    },
    {
     "name": "stderr",
     "output_type": "stream",
     "text": [
      "[Parallel(n_jobs=-1)]: Using backend LokyBackend with 6 concurrent workers.\n",
      "[Parallel(n_jobs=-1)]: Done  19 out of  30 | elapsed:    0.3s remaining:    0.2s\n",
      "[Parallel(n_jobs=-1)]: Done  30 out of  30 | elapsed:    0.8s finished\n"
     ]
    },
    {
     "name": "stdout",
     "output_type": "stream",
     "text": [
      "starting optimizing for 주름다슬기\n",
      "done tuning\n",
      "Fitting 3 folds for each of 10 candidates, totalling 30 fits\n"
     ]
    },
    {
     "name": "stderr",
     "output_type": "stream",
     "text": [
      "[Parallel(n_jobs=-1)]: Using backend LokyBackend with 6 concurrent workers.\n",
      "[Parallel(n_jobs=-1)]: Done  19 out of  30 | elapsed:    0.4s remaining:    0.2s\n",
      "[Parallel(n_jobs=-1)]: Done  30 out of  30 | elapsed:    0.8s finished\n"
     ]
    },
    {
     "name": "stdout",
     "output_type": "stream",
     "text": [
      "starting optimizing for 알락하루살이\n",
      "done tuning\n",
      "Fitting 3 folds for each of 10 candidates, totalling 30 fits\n"
     ]
    },
    {
     "name": "stderr",
     "output_type": "stream",
     "text": [
      "[Parallel(n_jobs=-1)]: Using backend LokyBackend with 6 concurrent workers.\n",
      "[Parallel(n_jobs=-1)]: Done  19 out of  30 | elapsed:    0.3s remaining:    0.2s\n",
      "[Parallel(n_jobs=-1)]: Done  30 out of  30 | elapsed:    0.6s finished\n"
     ]
    },
    {
     "name": "stdout",
     "output_type": "stream",
     "text": [
      "starting optimizing for 아시아실잠자리\n",
      "done tuning\n",
      "Fitting 3 folds for each of 10 candidates, totalling 30 fits\n"
     ]
    },
    {
     "name": "stderr",
     "output_type": "stream",
     "text": [
      "[Parallel(n_jobs=-1)]: Using backend LokyBackend with 6 concurrent workers.\n",
      "[Parallel(n_jobs=-1)]: Done  19 out of  30 | elapsed:    0.3s remaining:    0.2s\n",
      "[Parallel(n_jobs=-1)]: Done  30 out of  30 | elapsed:    0.8s finished\n"
     ]
    },
    {
     "name": "stdout",
     "output_type": "stream",
     "text": [
      "\n",
      "\n",
      "########################### classification report for 아시아실잠자리 ###########################\n",
      "              precision    recall  f1-score   support\n",
      "\n",
      "           0       0.82      0.75      0.79       102\n",
      "           1       0.66      0.74      0.70        66\n",
      "\n",
      "    accuracy                           0.75       168\n",
      "   macro avg       0.74      0.75      0.74       168\n",
      "weighted avg       0.76      0.75      0.75       168\n",
      "\n",
      "ROC/AUC:  0.7486631016042781\n",
      "ACC:  0.75\n",
      "PREC:  0.6621621621621622\n",
      "RECALL:  0.7424242424242424\n",
      "F1:  0.7000000000000001\n",
      "MCC:  0.48925312579050534\n",
      "Confusion Matrix: \n",
      " [[77 25]\n",
      " [17 49]]\n",
      "\n",
      "\n",
      "starting optimizing for 무늬하루살이\n",
      "done tuning\n",
      "Fitting 3 folds for each of 10 candidates, totalling 30 fits\n"
     ]
    },
    {
     "name": "stderr",
     "output_type": "stream",
     "text": [
      "[Parallel(n_jobs=-1)]: Using backend LokyBackend with 6 concurrent workers.\n",
      "[Parallel(n_jobs=-1)]: Done  19 out of  30 | elapsed:    0.3s remaining:    0.2s\n",
      "[Parallel(n_jobs=-1)]: Done  30 out of  30 | elapsed:    0.7s finished\n"
     ]
    },
    {
     "name": "stdout",
     "output_type": "stream",
     "text": [
      "\n",
      "\n",
      "########################### classification report for 무늬하루살이 ###########################\n",
      "              precision    recall  f1-score   support\n",
      "\n",
      "           0       0.95      0.86      0.90       148\n",
      "           1       0.40      0.70      0.51        20\n",
      "\n",
      "    accuracy                           0.84       168\n",
      "   macro avg       0.68      0.78      0.71       168\n",
      "weighted avg       0.89      0.84      0.86       168\n",
      "\n",
      "ROC/AUC:  0.779054054054054\n",
      "ACC:  0.8392857142857143\n",
      "PREC:  0.4\n",
      "RECALL:  0.7\n",
      "F1:  0.509090909090909\n",
      "MCC:  0.44504542897878135\n",
      "Confusion Matrix: \n",
      " [[127  21]\n",
      " [  6  14]]\n",
      "\n",
      "\n",
      "starting optimizing for 입술하루살이\n",
      "done tuning\n",
      "Fitting 3 folds for each of 10 candidates, totalling 30 fits\n"
     ]
    },
    {
     "name": "stderr",
     "output_type": "stream",
     "text": [
      "[Parallel(n_jobs=-1)]: Using backend LokyBackend with 6 concurrent workers.\n",
      "[Parallel(n_jobs=-1)]: Done  19 out of  30 | elapsed:    0.3s remaining:    0.2s\n",
      "[Parallel(n_jobs=-1)]: Done  30 out of  30 | elapsed:    0.8s finished\n",
      "[Parallel(n_jobs=-1)]: Using backend LokyBackend with 6 concurrent workers.\n"
     ]
    },
    {
     "name": "stdout",
     "output_type": "stream",
     "text": [
      "starting optimizing for 쇠우렁이\n",
      "done tuning\n",
      "Fitting 3 folds for each of 10 candidates, totalling 30 fits\n"
     ]
    },
    {
     "name": "stderr",
     "output_type": "stream",
     "text": [
      "[Parallel(n_jobs=-1)]: Done  19 out of  30 | elapsed:    0.3s remaining:    0.2s\n",
      "[Parallel(n_jobs=-1)]: Done  30 out of  30 | elapsed:    0.6s finished\n"
     ]
    },
    {
     "name": "stdout",
     "output_type": "stream",
     "text": [
      "starting optimizing for 새뱅이\n",
      "done tuning\n",
      "Fitting 3 folds for each of 10 candidates, totalling 30 fits\n"
     ]
    },
    {
     "name": "stderr",
     "output_type": "stream",
     "text": [
      "[Parallel(n_jobs=-1)]: Using backend LokyBackend with 6 concurrent workers.\n",
      "[Parallel(n_jobs=-1)]: Done  19 out of  30 | elapsed:    0.4s remaining:    0.2s\n",
      "[Parallel(n_jobs=-1)]: Done  30 out of  30 | elapsed:    0.8s finished\n"
     ]
    },
    {
     "name": "stdout",
     "output_type": "stream",
     "text": [
      "\n",
      "\n",
      "########################### classification report for 새뱅이 ###########################\n",
      "              precision    recall  f1-score   support\n",
      "\n",
      "           0       0.85      0.74      0.79       120\n",
      "           1       0.51      0.67      0.58        48\n",
      "\n",
      "    accuracy                           0.72       168\n",
      "   macro avg       0.68      0.70      0.68       168\n",
      "weighted avg       0.75      0.72      0.73       168\n",
      "\n",
      "ROC/AUC:  0.7041666666666667\n",
      "ACC:  0.7202380952380952\n",
      "PREC:  0.5079365079365079\n",
      "RECALL:  0.6666666666666666\n",
      "F1:  0.5765765765765767\n",
      "MCC:  0.38103173776627214\n",
      "Confusion Matrix: \n",
      " [[89 31]\n",
      " [16 32]]\n",
      "\n",
      "\n",
      "starting optimizing for 방울하루살이\n",
      "done tuning\n",
      "Fitting 3 folds for each of 10 candidates, totalling 30 fits\n"
     ]
    },
    {
     "name": "stderr",
     "output_type": "stream",
     "text": [
      "[Parallel(n_jobs=-1)]: Using backend LokyBackend with 6 concurrent workers.\n",
      "[Parallel(n_jobs=-1)]: Done  19 out of  30 | elapsed:    0.3s remaining:    0.2s\n",
      "[Parallel(n_jobs=-1)]: Done  30 out of  30 | elapsed:    0.7s finished\n"
     ]
    },
    {
     "name": "stdout",
     "output_type": "stream",
     "text": [
      "starting optimizing for 다슬기\n",
      "done tuning\n",
      "Fitting 3 folds for each of 10 candidates, totalling 30 fits\n"
     ]
    },
    {
     "name": "stderr",
     "output_type": "stream",
     "text": [
      "[Parallel(n_jobs=-1)]: Using backend LokyBackend with 6 concurrent workers.\n",
      "[Parallel(n_jobs=-1)]: Done  19 out of  30 | elapsed:    0.4s remaining:    0.2s\n",
      "[Parallel(n_jobs=-1)]: Done  30 out of  30 | elapsed:    0.8s finished\n"
     ]
    },
    {
     "name": "stdout",
     "output_type": "stream",
     "text": [
      "\n",
      "\n",
      "########################### classification report for 다슬기 ###########################\n",
      "              precision    recall  f1-score   support\n",
      "\n",
      "           0       0.91      0.77      0.84       124\n",
      "           1       0.56      0.80      0.65        44\n",
      "\n",
      "    accuracy                           0.78       168\n",
      "   macro avg       0.73      0.78      0.75       168\n",
      "weighted avg       0.82      0.78      0.79       168\n",
      "\n",
      "ROC/AUC:  0.7848240469208211\n",
      "ACC:  0.7797619047619048\n",
      "PREC:  0.5555555555555556\n",
      "RECALL:  0.7954545454545454\n",
      "F1:  0.6542056074766356\n",
      "MCC:  0.5173433905765261\n",
      "Confusion Matrix: \n",
      " [[96 28]\n",
      " [ 9 35]]\n",
      "\n",
      "\n",
      "starting optimizing for 애물땡땡이\n",
      "done tuning\n",
      "Fitting 3 folds for each of 10 candidates, totalling 30 fits\n"
     ]
    },
    {
     "name": "stderr",
     "output_type": "stream",
     "text": [
      "[Parallel(n_jobs=-1)]: Using backend LokyBackend with 6 concurrent workers.\n",
      "[Parallel(n_jobs=-1)]: Done  19 out of  30 | elapsed:    0.3s remaining:    0.2s\n",
      "[Parallel(n_jobs=-1)]: Done  30 out of  30 | elapsed:    0.7s finished\n"
     ]
    },
    {
     "name": "stdout",
     "output_type": "stream",
     "text": [
      "starting optimizing for 애호랑하루살이\n",
      "done tuning\n",
      "Fitting 3 folds for each of 10 candidates, totalling 30 fits\n"
     ]
    },
    {
     "name": "stderr",
     "output_type": "stream",
     "text": [
      "[Parallel(n_jobs=-1)]: Using backend LokyBackend with 6 concurrent workers.\n",
      "[Parallel(n_jobs=-1)]: Done  19 out of  30 | elapsed:    0.3s remaining:    0.2s\n",
      "[Parallel(n_jobs=-1)]: Done  30 out of  30 | elapsed:    0.6s finished\n",
      "[Parallel(n_jobs=-1)]: Using backend LokyBackend with 6 concurrent workers.\n"
     ]
    },
    {
     "name": "stdout",
     "output_type": "stream",
     "text": [
      "starting optimizing for 줄새우\n",
      "done tuning\n",
      "Fitting 3 folds for each of 10 candidates, totalling 30 fits\n"
     ]
    },
    {
     "name": "stderr",
     "output_type": "stream",
     "text": [
      "[Parallel(n_jobs=-1)]: Done  19 out of  30 | elapsed:    0.4s remaining:    0.2s\n",
      "[Parallel(n_jobs=-1)]: Done  30 out of  30 | elapsed:    0.7s finished\n"
     ]
    },
    {
     "name": "stdout",
     "output_type": "stream",
     "text": [
      "starting optimizing for 등딱지하루살이\n",
      "done tuning\n",
      "Fitting 3 folds for each of 10 candidates, totalling 30 fits\n"
     ]
    },
    {
     "name": "stderr",
     "output_type": "stream",
     "text": [
      "[Parallel(n_jobs=-1)]: Using backend LokyBackend with 6 concurrent workers.\n",
      "[Parallel(n_jobs=-1)]: Done  19 out of  30 | elapsed:    0.4s remaining:    0.2s\n",
      "[Parallel(n_jobs=-1)]: Done  30 out of  30 | elapsed:    0.7s finished\n"
     ]
    },
    {
     "name": "stdout",
     "output_type": "stream",
     "text": [
      "starting optimizing for 깜장하루살이\n",
      "done tuning\n",
      "Fitting 3 folds for each of 10 candidates, totalling 30 fits\n"
     ]
    },
    {
     "name": "stderr",
     "output_type": "stream",
     "text": [
      "[Parallel(n_jobs=-1)]: Using backend LokyBackend with 6 concurrent workers.\n",
      "[Parallel(n_jobs=-1)]: Done  19 out of  30 | elapsed:    0.3s remaining:    0.2s\n",
      "[Parallel(n_jobs=-1)]: Done  30 out of  30 | elapsed:    0.7s finished\n"
     ]
    },
    {
     "name": "stdout",
     "output_type": "stream",
     "text": [
      "starting optimizing for 방물벌레\n",
      "done tuning\n",
      "Fitting 3 folds for each of 10 candidates, totalling 30 fits\n"
     ]
    },
    {
     "name": "stderr",
     "output_type": "stream",
     "text": [
      "[Parallel(n_jobs=-1)]: Using backend LokyBackend with 6 concurrent workers.\n",
      "[Parallel(n_jobs=-1)]: Done  19 out of  30 | elapsed:    0.3s remaining:    0.2s\n",
      "[Parallel(n_jobs=-1)]: Done  30 out of  30 | elapsed:    0.7s finished\n"
     ]
    },
    {
     "name": "stdout",
     "output_type": "stream",
     "text": [
      "starting optimizing for 뱀잠자리붙이\n",
      "done tuning\n",
      "Fitting 3 folds for each of 10 candidates, totalling 30 fits\n"
     ]
    },
    {
     "name": "stderr",
     "output_type": "stream",
     "text": [
      "[Parallel(n_jobs=-1)]: Using backend LokyBackend with 6 concurrent workers.\n",
      "[Parallel(n_jobs=-1)]: Done  19 out of  30 | elapsed:    0.3s remaining:    0.2s\n",
      "[Parallel(n_jobs=-1)]: Done  30 out of  30 | elapsed:    0.6s finished\n",
      "[Parallel(n_jobs=-1)]: Using backend LokyBackend with 6 concurrent workers.\n"
     ]
    },
    {
     "name": "stdout",
     "output_type": "stream",
     "text": [
      "\n",
      "\n",
      "########################### classification report for 뱀잠자리붙이 ###########################\n",
      "              precision    recall  f1-score   support\n",
      "\n",
      "           0       0.97      0.93      0.95       159\n",
      "           1       0.31      0.56      0.40         9\n",
      "\n",
      "    accuracy                           0.91       168\n",
      "   macro avg       0.64      0.74      0.68       168\n",
      "weighted avg       0.94      0.91      0.92       168\n",
      "\n",
      "ROC/AUC:  0.7431865828092243\n",
      "ACC:  0.9107142857142857\n",
      "PREC:  0.3125\n",
      "RECALL:  0.5555555555555556\n",
      "F1:  0.39999999999999997\n",
      "MCC:  0.37308487026908604\n",
      "Confusion Matrix: \n",
      " [[148  11]\n",
      " [  4   5]]\n",
      "\n",
      "\n",
      "starting optimizing for 물가파리류\n",
      "done tuning\n",
      "Fitting 3 folds for each of 10 candidates, totalling 30 fits\n"
     ]
    },
    {
     "name": "stderr",
     "output_type": "stream",
     "text": [
      "[Parallel(n_jobs=-1)]: Done  19 out of  30 | elapsed:    0.3s remaining:    0.2s\n",
      "[Parallel(n_jobs=-1)]: Done  30 out of  30 | elapsed:    0.6s finished\n"
     ]
    },
    {
     "name": "stdout",
     "output_type": "stream",
     "text": [
      "starting optimizing for 먹파리류\n",
      "done tuning\n",
      "Fitting 3 folds for each of 10 candidates, totalling 30 fits\n"
     ]
    },
    {
     "name": "stderr",
     "output_type": "stream",
     "text": [
      "[Parallel(n_jobs=-1)]: Using backend LokyBackend with 6 concurrent workers.\n",
      "[Parallel(n_jobs=-1)]: Done  19 out of  30 | elapsed:    0.3s remaining:    0.2s\n",
      "[Parallel(n_jobs=-1)]: Done  30 out of  30 | elapsed:    0.8s finished\n"
     ]
    },
    {
     "name": "stdout",
     "output_type": "stream",
     "text": [
      "starting optimizing for 큰줄날도래\n",
      "done tuning\n",
      "Fitting 3 folds for each of 10 candidates, totalling 30 fits\n"
     ]
    },
    {
     "name": "stderr",
     "output_type": "stream",
     "text": [
      "[Parallel(n_jobs=-1)]: Using backend LokyBackend with 6 concurrent workers.\n",
      "[Parallel(n_jobs=-1)]: Done  19 out of  30 | elapsed:    0.3s remaining:    0.2s\n",
      "[Parallel(n_jobs=-1)]: Done  30 out of  30 | elapsed:    0.6s finished\n"
     ]
    },
    {
     "name": "stdout",
     "output_type": "stream",
     "text": [
      "starting optimizing for 왕잠자리\n",
      "done tuning\n",
      "Fitting 3 folds for each of 10 candidates, totalling 30 fits\n"
     ]
    },
    {
     "name": "stderr",
     "output_type": "stream",
     "text": [
      "[Parallel(n_jobs=-1)]: Using backend LokyBackend with 6 concurrent workers.\n",
      "[Parallel(n_jobs=-1)]: Done  19 out of  30 | elapsed:    0.3s remaining:    0.2s\n",
      "[Parallel(n_jobs=-1)]: Done  30 out of  30 | elapsed:    0.7s finished\n"
     ]
    },
    {
     "name": "stdout",
     "output_type": "stream",
     "text": [
      "\n",
      "\n",
      "########################### classification report for 왕잠자리 ###########################\n",
      "              precision    recall  f1-score   support\n",
      "\n",
      "           0       0.93      0.87      0.90       142\n",
      "           1       0.47      0.62      0.53        26\n",
      "\n",
      "    accuracy                           0.83       168\n",
      "   macro avg       0.70      0.74      0.72       168\n",
      "weighted avg       0.85      0.83      0.84       168\n",
      "\n",
      "ROC/AUC:  0.7443120260021668\n",
      "ACC:  0.8333333333333334\n",
      "PREC:  0.47058823529411764\n",
      "RECALL:  0.6153846153846154\n",
      "F1:  0.5333333333333333\n",
      "MCC:  0.43985935122732117\n",
      "Confusion Matrix: \n",
      " [[124  18]\n",
      " [ 10  16]]\n",
      "\n",
      "\n",
      "starting optimizing for 방울실잠자리\n",
      "done tuning\n",
      "Fitting 3 folds for each of 10 candidates, totalling 30 fits\n"
     ]
    },
    {
     "name": "stderr",
     "output_type": "stream",
     "text": [
      "[Parallel(n_jobs=-1)]: Using backend LokyBackend with 6 concurrent workers.\n",
      "[Parallel(n_jobs=-1)]: Done  19 out of  30 | elapsed:    0.3s remaining:    0.2s\n",
      "[Parallel(n_jobs=-1)]: Done  30 out of  30 | elapsed:    0.8s finished\n"
     ]
    },
    {
     "name": "stdout",
     "output_type": "stream",
     "text": [
      "\n",
      "\n",
      "########################### classification report for 방울실잠자리 ###########################\n",
      "              precision    recall  f1-score   support\n",
      "\n",
      "           0       0.86      0.77      0.81       120\n",
      "           1       0.54      0.69      0.61        48\n",
      "\n",
      "    accuracy                           0.74       168\n",
      "   macro avg       0.70      0.73      0.71       168\n",
      "weighted avg       0.77      0.74      0.75       168\n",
      "\n",
      "ROC/AUC:  0.7270833333333333\n",
      "ACC:  0.7440476190476191\n",
      "PREC:  0.5409836065573771\n",
      "RECALL:  0.6875\n",
      "F1:  0.6055045871559634\n",
      "MCC:  0.4266479778604488\n",
      "Confusion Matrix: \n",
      " [[92 28]\n",
      " [15 33]]\n",
      "\n",
      "\n"
     ]
    }
   ],
   "source": [
    "# 이거 다시 시작하면 됨! 위에거랑 같이.\n",
    "dir_name = '/Users/shinbo/Desktop/contest/environ/concat_data/bnin/etc/5%~/'\n",
    "dir_list = os.listdir(dir_name)\n",
    "save_dir = '/Users/shinbo/Desktop/contest/environ/model/bnin/'\n",
    "for _dir in dir_list:\n",
    "    \n",
    "    tmp = pd.read_csv(dir_name + _dir)\n",
    "    X = tmp[['bio1', 'bio2', 'bio3', 'bio4', 'bio5', 'bio6', 'bio7',\n",
    "           'bio8', 'bio9', 'bio10', 'bio11', 'bio12', 'bio13', 'bio14', 'bio15',\n",
    "           'bio16', 'bio17', 'bio18', 'bio19', 'pet', 'rh', 'srad']]\n",
    "    y = tmp['y']\n",
    "    \n",
    "    weight = len(np.where(y == 0)[0]) / len(np.where(y == 1)[0])\n",
    "\n",
    "    X_train, X_test, y_train, y_test = split_train_test(X, y,0.3)\n",
    "\n",
    "        # Create XGB Classifier object\n",
    "    xgb_clf = XGBClassifier(scale_pos_weight = weight)\n",
    "\n",
    "    # Create parameter grid\n",
    "    parameters = {\"learning_rate\": [0.1, 0.01, 0.001],\n",
    "                   \"gamma\" : [0.01, 0.1, 0.3, 0.5, 1, 1.5, 2],\n",
    "                   \"max_depth\": [2, 4, 7, 10],\n",
    "                   \"colsample_bytree\": [0.3, 0.6, 0.8, 1.0],\n",
    "                   \"subsample\": [0.2, 0.4, 0.5, 0.6, 0.7],\n",
    "                   \"reg_alpha\": [0, 0.5, 1],\n",
    "                   \"reg_lambda\": [1, 1.5, 2, 3, 4.5],\n",
    "                   \"min_child_weight\": [1, 3, 5, 7],\n",
    "                   \"n_estimators\": [100, 250, 500, 1000]}\n",
    "\n",
    "    print(f'starting optimizing for {_dir[:-4]}')\n",
    "    # Create RandomizedSearchCV Object\n",
    "    xgb_rscv = RandomizedSearchCV(xgb_clf, param_distributions = parameters, scoring = \"roc_auc\",\n",
    "                                 cv = 3, random_state = 40 , n_jobs = -1, verbose = 2)\n",
    "    print('done tuning')\n",
    "\n",
    "    # Fit the model\n",
    "    model_xgboost = xgb_rscv.fit(X_train, y_train)\n",
    "    \n",
    "    xgb_best = model_xgboost.best_estimator_\n",
    "    \n",
    "    final_xgb = xgb_best.fit(X_train, y_train)\n",
    "    \n",
    "   \n",
    "    \n",
    "    pred = final_xgb.predict(X_test)\n",
    "    roc_score = roc_auc_score(y_test,pred)\n",
    "    if roc_score >= 0.7:        \n",
    "        print('\\n')\n",
    "        print(f'########################### classification report for {_dir[:-4]} ###########################')\n",
    "        print_result(final_xgb,X_test,y_test)\n",
    "        dict_model_xgb[_dir[:-4]] = final_xgb\n",
    "        print('\\n')"
   ]
  },
  {
   "cell_type": "code",
   "execution_count": 19,
   "metadata": {},
   "outputs": [],
   "source": [
    "pickle.dump(dict_model_xgb, open('../model_dict_weight_adj/bnin_xgb_exclude.pickle', 'wb'))"
   ]
  },
  {
   "cell_type": "code",
   "execution_count": 17,
   "metadata": {},
   "outputs": [],
   "source": [
    "# etc 2% ~ 5%\n",
    "dir_name = '/Users/shinbo/Desktop/contest/environ/concat_data/bnin/etc/2%~5%/'\n",
    "dir_list = os.listdir(dir_name)\n",
    "\n",
    "bnin_data_dict = {}\n",
    "for _dir in dir_list:\n",
    "    \n",
    "    if _dir[:-4] in list(dict_model_xgb.keys()):\n",
    "        tmp = pd.read_csv('/Users/shinbo/Desktop/contest/environ/concat_data/bnin/etc/2%~5%/' + _dir)\n",
    "        X = tmp[['bio1', 'bio2', 'bio3', 'bio4', 'bio5', 'bio6', 'bio7',\n",
    "               'bio8', 'bio9', 'bio10', 'bio11', 'bio12', 'bio13', 'bio14', 'bio15',\n",
    "               'bio16', 'bio17', 'bio18', 'bio19', 'pet', 'rh', 'srad']]\n",
    "        y = tmp['y']\n",
    "\n",
    "        X_train, X_test, y_train, y_test = split_train_test(X, y,0.3)\n",
    "        bnin_data_dict[_dir[:-4]] = {'X_train':X_train, 'X_test':X_test, 'y_train':y_train, 'y_test':y_test}\n",
    "        \n",
    "        \n",
    "dir_name = '/Users/shinbo/Desktop/contest/environ/concat_data/bnin/etc/5%~/'\n",
    "dir_list = os.listdir(dir_name)\n",
    "\n",
    "for _dir in dir_list:\n",
    "    \n",
    "    if _dir[:-4] in list(dict_model_xgb.keys()):\n",
    "        tmp = pd.read_csv('/Users/shinbo/Desktop/contest/environ/concat_data/bnin/etc/5%~/' + _dir)\n",
    "        X = tmp[['bio1', 'bio2', 'bio3', 'bio4', 'bio5', 'bio6', 'bio7',\n",
    "               'bio8', 'bio9', 'bio10', 'bio11', 'bio12', 'bio13', 'bio14', 'bio15',\n",
    "               'bio16', 'bio17', 'bio18', 'bio19', 'pet', 'rh', 'srad']]\n",
    "        y = tmp['y']\n",
    "\n",
    "        X_train, X_test, y_train, y_test = split_train_test(X, y,0.3)\n",
    "        bnin_data_dict[_dir[:-4]] = {'X_train':X_train, 'X_test':X_test, 'y_train':y_train, 'y_test':y_test}"
   ]
  },
  {
   "cell_type": "code",
   "execution_count": 18,
   "metadata": {},
   "outputs": [],
   "source": [
    "pickle.dump(bnin_data_dict, open('../model_dict_weight_adj/bnin_data_exclude.pickle','wb'))"
   ]
  },
  {
   "cell_type": "code",
   "execution_count": 64,
   "metadata": {},
   "outputs": [
    {
     "name": "stdout",
     "output_type": "stream",
     "text": [
      "   variable     value\n",
      "0      bio1  0.021753\n",
      "1      bio2  0.155192\n",
      "2      bio3  0.088527\n",
      "3      bio4  0.052141\n",
      "4      bio5  0.022832\n",
      "5      bio6  0.010413\n",
      "6      bio7  0.078137\n",
      "7      bio8  0.014526\n",
      "8      bio9  0.003649\n",
      "9     bio10  0.011510\n",
      "10    bio11  0.004090\n",
      "11    bio12  0.067246\n",
      "12    bio13  0.039275\n",
      "13    bio14  0.008402\n",
      "14    bio15  0.033015\n",
      "15    bio16  0.057057\n",
      "16    bio17  0.041290\n",
      "17    bio18  0.066841\n",
      "18    bio19  0.039692\n",
      "19      pet  0.095198\n",
      "20       rh  0.015424\n",
      "21     srad  0.010134\n",
      "22      lon  0.031316\n",
      "23      lat  0.011033\n",
      "24      alt  0.021309\n",
      "\n",
      "\n",
      "   variable     value\n",
      "0      bio1  0.056430\n",
      "1      bio2  0.018890\n",
      "2      bio3  0.068435\n",
      "3      bio4  0.021959\n",
      "4      bio5  0.026972\n",
      "5      bio6  0.079514\n",
      "6      bio7  0.042256\n",
      "7      bio8  0.017603\n",
      "8      bio9  0.121257\n",
      "9     bio10  0.026162\n",
      "10    bio11  0.011415\n",
      "11    bio12  0.036673\n",
      "12    bio13  0.035157\n",
      "13    bio14  0.033581\n",
      "14    bio15  0.054458\n",
      "15    bio16  0.026342\n",
      "16    bio17  0.023607\n",
      "17    bio18  0.043770\n",
      "18    bio19  0.000000\n",
      "19      pet  0.027025\n",
      "20       rh  0.039164\n",
      "21     srad  0.028278\n",
      "22      lon  0.057947\n",
      "23      lat  0.077179\n",
      "24      alt  0.025923\n",
      "\n",
      "\n",
      "   variable     value\n",
      "0      bio1  0.017180\n",
      "1      bio2  0.017214\n",
      "2      bio3  0.026884\n",
      "3      bio4  0.032137\n",
      "4      bio5  0.050047\n",
      "5      bio6  0.044777\n",
      "6      bio7  0.045085\n",
      "7      bio8  0.023245\n",
      "8      bio9  0.065550\n",
      "9     bio10  0.038150\n",
      "10    bio11  0.092869\n",
      "11    bio12  0.057716\n",
      "12    bio13  0.029873\n",
      "13    bio14  0.037807\n",
      "14    bio15  0.035634\n",
      "15    bio16  0.029523\n",
      "16    bio17  0.050486\n",
      "17    bio18  0.003613\n",
      "18    bio19  0.058421\n",
      "19      pet  0.033504\n",
      "20       rh  0.031810\n",
      "21     srad  0.019836\n",
      "22      lon  0.053677\n",
      "23      lat  0.041774\n",
      "24      alt  0.063188\n",
      "\n",
      "\n",
      "   variable     value\n",
      "0      bio1  0.029263\n",
      "1      bio2  0.033118\n",
      "2      bio3  0.040436\n",
      "3      bio4  0.028384\n",
      "4      bio5  0.024849\n",
      "5      bio6  0.023629\n",
      "6      bio7  0.035617\n",
      "7      bio8  0.062828\n",
      "8      bio9  0.018391\n",
      "9     bio10  0.085673\n",
      "10    bio11  0.023308\n",
      "11    bio12  0.043731\n",
      "12    bio13  0.053632\n",
      "13    bio14  0.030074\n",
      "14    bio15  0.034378\n",
      "15    bio16  0.073808\n",
      "16    bio17  0.030360\n",
      "17    bio18  0.069447\n",
      "18    bio19  0.023540\n",
      "19      pet  0.016278\n",
      "20       rh  0.037323\n",
      "21     srad  0.041656\n",
      "22      lon  0.040190\n",
      "23      lat  0.024957\n",
      "24      alt  0.075133\n",
      "\n",
      "\n",
      "   variable     value\n",
      "0      bio1  0.027895\n",
      "1      bio2  0.007556\n",
      "2      bio3  0.021569\n",
      "3      bio4  0.061159\n",
      "4      bio5  0.113548\n",
      "5      bio6  0.011322\n",
      "6      bio7  0.054629\n",
      "7      bio8  0.010824\n",
      "8      bio9  0.036596\n",
      "9     bio10  0.005053\n",
      "10    bio11  0.000000\n",
      "11    bio12  0.040926\n",
      "12    bio13  0.019129\n",
      "13    bio14  0.069167\n",
      "14    bio15  0.009325\n",
      "15    bio16  0.028926\n",
      "16    bio17  0.014248\n",
      "17    bio18  0.021631\n",
      "18    bio19  0.000000\n",
      "19      pet  0.078641\n",
      "20       rh  0.089722\n",
      "21     srad  0.005447\n",
      "22      lon  0.115375\n",
      "23      lat  0.121641\n",
      "24      alt  0.035674\n",
      "\n",
      "\n",
      "   variable     value\n",
      "0      bio1  0.012830\n",
      "1      bio2  0.153411\n",
      "2      bio3  0.148603\n",
      "3      bio4  0.035685\n",
      "4      bio5  0.045487\n",
      "5      bio6  0.035618\n",
      "6      bio7  0.028055\n",
      "7      bio8  0.021684\n",
      "8      bio9  0.024070\n",
      "9     bio10  0.006301\n",
      "10    bio11  0.009024\n",
      "11    bio12  0.011962\n",
      "12    bio13  0.022315\n",
      "13    bio14  0.045387\n",
      "14    bio15  0.034094\n",
      "15    bio16  0.011207\n",
      "16    bio17  0.030565\n",
      "17    bio18  0.012010\n",
      "18    bio19  0.054138\n",
      "19      pet  0.124201\n",
      "20       rh  0.022880\n",
      "21     srad  0.031023\n",
      "22      lon  0.028027\n",
      "23      lat  0.029138\n",
      "24      alt  0.022287\n",
      "\n",
      "\n",
      "   variable     value\n",
      "0      bio1  0.018892\n",
      "1      bio2  0.044898\n",
      "2      bio3  0.046076\n",
      "3      bio4  0.047027\n",
      "4      bio5  0.038338\n",
      "5      bio6  0.034569\n",
      "6      bio7  0.048161\n",
      "7      bio8  0.039963\n",
      "8      bio9  0.037499\n",
      "9     bio10  0.022633\n",
      "10    bio11  0.044902\n",
      "11    bio12  0.029828\n",
      "12    bio13  0.048952\n",
      "13    bio14  0.062143\n",
      "14    bio15  0.037718\n",
      "15    bio16  0.036859\n",
      "16    bio17  0.041850\n",
      "17    bio18  0.040093\n",
      "18    bio19  0.045060\n",
      "19      pet  0.047778\n",
      "20       rh  0.032492\n",
      "21     srad  0.033185\n",
      "22      lon  0.047656\n",
      "23      lat  0.056192\n",
      "24      alt  0.017236\n",
      "\n",
      "\n",
      "   variable     value\n",
      "0      bio1  0.032105\n",
      "1      bio2  0.023361\n",
      "2      bio3  0.026462\n",
      "3      bio4  0.030486\n",
      "4      bio5  0.027946\n",
      "5      bio6  0.033484\n",
      "6      bio7  0.102601\n",
      "7      bio8  0.023255\n",
      "8      bio9  0.004511\n",
      "9     bio10  0.199941\n",
      "10    bio11  0.000000\n",
      "11    bio12  0.071922\n",
      "12    bio13  0.107450\n",
      "13    bio14  0.024721\n",
      "14    bio15  0.034647\n",
      "15    bio16  0.008487\n",
      "16    bio17  0.022603\n",
      "17    bio18  0.049911\n",
      "18    bio19  0.000000\n",
      "19      pet  0.000000\n",
      "20       rh  0.017277\n",
      "21     srad  0.043989\n",
      "22      lon  0.052303\n",
      "23      lat  0.028114\n",
      "24      alt  0.034423\n",
      "\n",
      "\n",
      "   variable     value\n",
      "0      bio1  0.007648\n",
      "1      bio2  0.002782\n",
      "2      bio3  0.018732\n",
      "3      bio4  0.011132\n",
      "4      bio5  0.122833\n",
      "5      bio6  0.011191\n",
      "6      bio7  0.010393\n",
      "7      bio8  0.007293\n",
      "8      bio9  0.006565\n",
      "9     bio10  0.000000\n",
      "10    bio11  0.000000\n",
      "11    bio12  0.253594\n",
      "12    bio13  0.020138\n",
      "13    bio14  0.005534\n",
      "14    bio15  0.010077\n",
      "15    bio16  0.150439\n",
      "16    bio17  0.002373\n",
      "17    bio18  0.000000\n",
      "18    bio19  0.000000\n",
      "19      pet  0.056502\n",
      "20       rh  0.000000\n",
      "21     srad  0.102071\n",
      "22      lon  0.150966\n",
      "23      lat  0.042471\n",
      "24      alt  0.007266\n",
      "\n",
      "\n",
      "   variable     value\n",
      "0      bio1  0.031473\n",
      "1      bio2  0.020247\n",
      "2      bio3  0.027832\n",
      "3      bio4  0.019640\n",
      "4      bio5  0.061586\n",
      "5      bio6  0.032252\n",
      "6      bio7  0.017623\n",
      "7      bio8  0.020829\n",
      "8      bio9  0.029777\n",
      "9     bio10  0.029356\n",
      "10    bio11  0.031872\n",
      "11    bio12  0.035716\n",
      "12    bio13  0.033856\n",
      "13    bio14  0.132879\n",
      "14    bio15  0.027605\n",
      "15    bio16  0.032183\n",
      "16    bio17  0.077204\n",
      "17    bio18  0.028197\n",
      "18    bio19  0.074013\n",
      "19      pet  0.028608\n",
      "20       rh  0.016263\n",
      "21     srad  0.029398\n",
      "22      lon  0.091121\n",
      "23      lat  0.028831\n",
      "24      alt  0.041637\n",
      "\n",
      "\n",
      "   variable     value\n",
      "0      bio1  0.008572\n",
      "1      bio2  0.038812\n",
      "2      bio3  0.222896\n",
      "3      bio4  0.026645\n",
      "4      bio5  0.053957\n",
      "5      bio6  0.014024\n",
      "6      bio7  0.055060\n",
      "7      bio8  0.020182\n",
      "8      bio9  0.019388\n",
      "9     bio10  0.035551\n",
      "10    bio11  0.071661\n",
      "11    bio12  0.025097\n",
      "12    bio13  0.031680\n",
      "13    bio14  0.030753\n",
      "14    bio15  0.014987\n",
      "15    bio16  0.029878\n",
      "16    bio17  0.029461\n",
      "17    bio18  0.006818\n",
      "18    bio19  0.000000\n",
      "19      pet  0.043409\n",
      "20       rh  0.021770\n",
      "21     srad  0.040188\n",
      "22      lon  0.118817\n",
      "23      lat  0.028990\n",
      "24      alt  0.011404\n",
      "\n",
      "\n",
      "   variable     value\n",
      "0      bio1  0.029291\n",
      "1      bio2  0.037450\n",
      "2      bio3  0.059049\n",
      "3      bio4  0.063243\n",
      "4      bio5  0.041467\n",
      "5      bio6  0.038990\n",
      "6      bio7  0.041268\n",
      "7      bio8  0.020978\n",
      "8      bio9  0.048348\n",
      "9     bio10  0.021435\n",
      "10    bio11  0.040924\n",
      "11    bio12  0.039074\n",
      "12    bio13  0.040003\n",
      "13    bio14  0.027052\n",
      "14    bio15  0.015897\n",
      "15    bio16  0.033170\n",
      "16    bio17  0.054829\n",
      "17    bio18  0.018774\n",
      "18    bio19  0.053360\n",
      "19      pet  0.028839\n",
      "20       rh  0.038234\n",
      "21     srad  0.028391\n",
      "22      lon  0.062471\n",
      "23      lat  0.054469\n",
      "24      alt  0.062994\n",
      "\n",
      "\n",
      "   variable     value\n",
      "0      bio1  0.023539\n",
      "1      bio2  0.028472\n",
      "2      bio3  0.039519\n",
      "3      bio4  0.020045\n",
      "4      bio5  0.141060\n",
      "5      bio6  0.032080\n",
      "6      bio7  0.033782\n",
      "7      bio8  0.102113\n",
      "8      bio9  0.008727\n",
      "9     bio10  0.057656\n",
      "10    bio11  0.022488\n",
      "11    bio12  0.145846\n",
      "12    bio13  0.029733\n",
      "13    bio14  0.033076\n",
      "14    bio15  0.039285\n",
      "15    bio16  0.022954\n",
      "16    bio17  0.020683\n",
      "17    bio18  0.006377\n",
      "18    bio19  0.000000\n",
      "19      pet  0.082885\n",
      "20       rh  0.022869\n",
      "21     srad  0.038118\n",
      "22      lon  0.022533\n",
      "23      lat  0.001434\n",
      "24      alt  0.024726\n",
      "\n",
      "\n",
      "   variable     value\n",
      "0      bio1  0.038010\n",
      "1      bio2  0.000000\n",
      "2      bio3  0.022917\n",
      "3      bio4  0.045600\n",
      "4      bio5  0.040194\n",
      "5      bio6  0.177359\n",
      "6      bio7  0.032611\n",
      "7      bio8  0.025747\n",
      "8      bio9  0.137814\n",
      "9     bio10  0.035576\n",
      "10    bio11  0.041847\n",
      "11    bio12  0.032943\n",
      "12    bio13  0.043055\n",
      "13    bio14  0.031215\n",
      "14    bio15  0.035718\n",
      "15    bio16  0.013071\n",
      "16    bio17  0.031372\n",
      "17    bio18  0.000000\n",
      "18    bio19  0.000000\n",
      "19      pet  0.022160\n",
      "20       rh  0.039269\n",
      "21     srad  0.020699\n",
      "22      lon  0.055719\n",
      "23      lat  0.053827\n",
      "24      alt  0.023277\n",
      "\n",
      "\n",
      "   variable     value\n",
      "0      bio1  0.049700\n",
      "1      bio2  0.035233\n",
      "2      bio3  0.030827\n",
      "3      bio4  0.017781\n",
      "4      bio5  0.070633\n",
      "5      bio6  0.041660\n",
      "6      bio7  0.022565\n",
      "7      bio8  0.046577\n",
      "8      bio9  0.049724\n",
      "9     bio10  0.075385\n",
      "10    bio11  0.031504\n",
      "11    bio12  0.035924\n",
      "12    bio13  0.048112\n",
      "13    bio14  0.052068\n",
      "14    bio15  0.027986\n",
      "15    bio16  0.032962\n",
      "16    bio17  0.025796\n",
      "17    bio18  0.058659\n",
      "18    bio19  0.000000\n",
      "19      pet  0.025081\n",
      "20       rh  0.047020\n",
      "21     srad  0.048529\n",
      "22      lon  0.056533\n",
      "23      lat  0.000000\n",
      "24      alt  0.069743\n",
      "\n",
      "\n",
      "   variable     value\n",
      "0      bio1  0.031890\n",
      "1      bio2  0.025951\n",
      "2      bio3  0.050476\n",
      "3      bio4  0.043517\n",
      "4      bio5  0.045067\n",
      "5      bio6  0.021635\n",
      "6      bio7  0.056299\n",
      "7      bio8  0.044840\n",
      "8      bio9  0.043817\n",
      "9     bio10  0.030011\n",
      "10    bio11  0.045125\n",
      "11    bio12  0.048698\n",
      "12    bio13  0.034348\n",
      "13    bio14  0.030881\n",
      "14    bio15  0.036308\n",
      "15    bio16  0.034155\n",
      "16    bio17  0.029424\n",
      "17    bio18  0.039960\n",
      "18    bio19  0.000000\n",
      "19      pet  0.058746\n",
      "20       rh  0.042283\n",
      "21     srad  0.045133\n",
      "22      lon  0.054678\n",
      "23      lat  0.054798\n",
      "24      alt  0.051959\n",
      "\n",
      "\n",
      "   variable     value\n",
      "0      bio1  0.014415\n",
      "1      bio2  0.014109\n",
      "2      bio3  0.098158\n",
      "3      bio4  0.011117\n",
      "4      bio5  0.205638\n",
      "5      bio6  0.013508\n",
      "6      bio7  0.000000\n",
      "7      bio8  0.047366\n",
      "8      bio9  0.015513\n",
      "9     bio10  0.080858\n",
      "10    bio11  0.000000\n",
      "11    bio12  0.126369\n",
      "12    bio13  0.011761\n",
      "13    bio14  0.011118\n",
      "14    bio15  0.009417\n",
      "15    bio16  0.021360\n",
      "16    bio17  0.066118\n",
      "17    bio18  0.000000\n",
      "18    bio19  0.000000\n",
      "19      pet  0.149760\n",
      "20       rh  0.013375\n",
      "21     srad  0.027454\n",
      "22      lon  0.005040\n",
      "23      lat  0.051539\n",
      "24      alt  0.006008\n",
      "\n",
      "\n",
      "   variable     value\n",
      "0      bio1  0.008098\n",
      "1      bio2  0.036403\n",
      "2      bio3  0.034512\n",
      "3      bio4  0.070232\n",
      "4      bio5  0.050922\n",
      "5      bio6  0.022081\n",
      "6      bio7  0.113965\n",
      "7      bio8  0.033595\n",
      "8      bio9  0.059262\n",
      "9     bio10  0.027804\n",
      "10    bio11  0.055339\n",
      "11    bio12  0.069081\n",
      "12    bio13  0.058034\n",
      "13    bio14  0.063618\n",
      "14    bio15  0.046977\n",
      "15    bio16  0.016982\n",
      "16    bio17  0.077513\n",
      "17    bio18  0.018149\n",
      "18    bio19  0.000000\n",
      "19      pet  0.014507\n",
      "20       rh  0.009574\n",
      "21     srad  0.026034\n",
      "22      lon  0.024212\n",
      "23      lat  0.033894\n",
      "24      alt  0.029211\n",
      "\n",
      "\n",
      "   variable     value\n",
      "0      bio1  0.030318\n",
      "1      bio2  0.098618\n",
      "2      bio3  0.014199\n",
      "3      bio4  0.046001\n",
      "4      bio5  0.091479\n",
      "5      bio6  0.105983\n",
      "6      bio7  0.023045\n",
      "7      bio8  0.028418\n",
      "8      bio9  0.068155\n",
      "9     bio10  0.011695\n",
      "10    bio11  0.000000\n",
      "11    bio12  0.029113\n",
      "12    bio13  0.092034\n",
      "13    bio14  0.022598\n",
      "14    bio15  0.022323\n",
      "15    bio16  0.017126\n",
      "16    bio17  0.023748\n",
      "17    bio18  0.023000\n",
      "18    bio19  0.000000\n",
      "19      pet  0.079887\n",
      "20       rh  0.048586\n",
      "21     srad  0.012136\n",
      "22      lon  0.068810\n",
      "23      lat  0.026397\n",
      "24      alt  0.016332\n",
      "\n",
      "\n",
      "   variable     value\n",
      "0      bio1  0.076076\n",
      "1      bio2  0.089991\n",
      "2      bio3  0.089903\n",
      "3      bio4  0.026320\n",
      "4      bio5  0.038192\n",
      "5      bio6  0.024444\n",
      "6      bio7  0.017409\n",
      "7      bio8  0.035069\n",
      "8      bio9  0.037003\n",
      "9     bio10  0.017587\n",
      "10    bio11  0.055666\n",
      "11    bio12  0.018717\n",
      "12    bio13  0.018817\n",
      "13    bio14  0.069769\n",
      "14    bio15  0.027316\n",
      "15    bio16  0.011233\n",
      "16    bio17  0.070163\n",
      "17    bio18  0.027010\n",
      "18    bio19  0.071559\n",
      "19      pet  0.046726\n",
      "20       rh  0.021250\n",
      "21     srad  0.011562\n",
      "22      lon  0.058441\n",
      "23      lat  0.014538\n",
      "24      alt  0.025238\n",
      "\n",
      "\n",
      "   variable     value\n",
      "0      bio1  0.075072\n",
      "1      bio2  0.061477\n",
      "2      bio3  0.091453\n",
      "3      bio4  0.008404\n",
      "4      bio5  0.039429\n",
      "5      bio6  0.048343\n",
      "6      bio7  0.012155\n",
      "7      bio8  0.015611\n",
      "8      bio9  0.073764\n",
      "9     bio10  0.048374\n",
      "10    bio11  0.000000\n",
      "11    bio12  0.027084\n",
      "12    bio13  0.023695\n",
      "13    bio14  0.035001\n",
      "14    bio15  0.026010\n",
      "15    bio16  0.014082\n",
      "16    bio17  0.043260\n",
      "17    bio18  0.091147\n",
      "18    bio19  0.000000\n",
      "19      pet  0.024082\n",
      "20       rh  0.007354\n",
      "21     srad  0.026855\n",
      "22      lon  0.088155\n",
      "23      lat  0.014870\n",
      "24      alt  0.104325\n",
      "\n",
      "\n",
      "   variable     value\n",
      "0      bio1  0.037439\n",
      "1      bio2  0.106887\n",
      "2      bio3  0.044638\n",
      "3      bio4  0.005198\n",
      "4      bio5  0.096885\n",
      "5      bio6  0.012802\n",
      "6      bio7  0.010253\n",
      "7      bio8  0.088416\n",
      "8      bio9  0.019170\n",
      "9     bio10  0.023969\n",
      "10    bio11  0.036091\n",
      "11    bio12  0.026276\n",
      "12    bio13  0.025746\n",
      "13    bio14  0.021120\n",
      "14    bio15  0.038154\n",
      "15    bio16  0.041593\n",
      "16    bio17  0.026563\n",
      "17    bio18  0.043412\n",
      "18    bio19  0.000000\n",
      "19      pet  0.080026\n",
      "20       rh  0.050573\n",
      "21     srad  0.029912\n",
      "22      lon  0.055626\n",
      "23      lat  0.036666\n",
      "24      alt  0.042586\n",
      "\n",
      "\n",
      "   variable     value\n",
      "0      bio1  0.041653\n",
      "1      bio2  0.040080\n",
      "2      bio3  0.047111\n",
      "3      bio4  0.034733\n",
      "4      bio5  0.027932\n",
      "5      bio6  0.017549\n",
      "6      bio7  0.015098\n",
      "7      bio8  0.033910\n",
      "8      bio9  0.025075\n",
      "9     bio10  0.028438\n",
      "10    bio11  0.037396\n",
      "11    bio12  0.049240\n",
      "12    bio13  0.046641\n",
      "13    bio14  0.057333\n",
      "14    bio15  0.037700\n",
      "15    bio16  0.059074\n",
      "16    bio17  0.057969\n",
      "17    bio18  0.036303\n",
      "18    bio19  0.000000\n",
      "19      pet  0.055965\n",
      "20       rh  0.042906\n",
      "21     srad  0.034908\n",
      "22      lon  0.108707\n",
      "23      lat  0.006448\n",
      "24      alt  0.057832\n",
      "\n",
      "\n",
      "   variable     value\n",
      "0      bio1  0.053221\n",
      "1      bio2  0.046461\n",
      "2      bio3  0.184396\n",
      "3      bio4  0.014290\n",
      "4      bio5  0.033199\n",
      "5      bio6  0.023653\n",
      "6      bio7  0.034781\n",
      "7      bio8  0.000000\n",
      "8      bio9  0.035491\n",
      "9     bio10  0.000000\n",
      "10    bio11  0.000000\n",
      "11    bio12  0.067690\n",
      "12    bio13  0.082916\n",
      "13    bio14  0.037850\n",
      "14    bio15  0.017000\n",
      "15    bio16  0.055592\n",
      "16    bio17  0.058243\n",
      "17    bio18  0.082538\n",
      "18    bio19  0.000000\n",
      "19      pet  0.033800\n",
      "20       rh  0.025251\n",
      "21     srad  0.018447\n",
      "22      lon  0.046783\n",
      "23      lat  0.020637\n",
      "24      alt  0.027760\n",
      "\n",
      "\n",
      "   variable     value\n",
      "0      bio1  0.014422\n",
      "1      bio2  0.023406\n",
      "2      bio3  0.017916\n",
      "3      bio4  0.037071\n",
      "4      bio5  0.056892\n",
      "5      bio6  0.051047\n",
      "6      bio7  0.047804\n",
      "7      bio8  0.023749\n",
      "8      bio9  0.046419\n",
      "9     bio10  0.103403\n",
      "10    bio11  0.065228\n",
      "11    bio12  0.033820\n",
      "12    bio13  0.020342\n",
      "13    bio14  0.027118\n",
      "14    bio15  0.020963\n",
      "15    bio16  0.016691\n",
      "16    bio17  0.027561\n",
      "17    bio18  0.032332\n",
      "18    bio19  0.027673\n",
      "19      pet  0.036898\n",
      "20       rh  0.020773\n",
      "21     srad  0.091340\n",
      "22      lon  0.065785\n",
      "23      lat  0.022175\n",
      "24      alt  0.069174\n",
      "\n",
      "\n",
      "   variable     value\n",
      "0      bio1  0.024630\n",
      "1      bio2  0.024695\n",
      "2      bio3  0.019273\n",
      "3      bio4  0.013537\n",
      "4      bio5  0.028684\n",
      "5      bio6  0.026128\n",
      "6      bio7  0.038279\n",
      "7      bio8  0.128597\n",
      "8      bio9  0.031445\n",
      "9     bio10  0.098723\n",
      "10    bio11  0.022155\n",
      "11    bio12  0.057510\n",
      "12    bio13  0.027751\n",
      "13    bio14  0.020004\n",
      "14    bio15  0.033915\n",
      "15    bio16  0.027843\n",
      "16    bio17  0.031640\n",
      "17    bio18  0.033629\n",
      "18    bio19  0.038771\n",
      "19      pet  0.049274\n",
      "20       rh  0.029054\n",
      "21     srad  0.030780\n",
      "22      lon  0.037149\n",
      "23      lat  0.020450\n",
      "24      alt  0.106085\n",
      "\n",
      "\n",
      "   variable     value\n",
      "0      bio1  0.042450\n",
      "1      bio2  0.041187\n",
      "2      bio3  0.031248\n",
      "3      bio4  0.033162\n",
      "4      bio5  0.065338\n",
      "5      bio6  0.025123\n",
      "6      bio7  0.029994\n",
      "7      bio8  0.027759\n",
      "8      bio9  0.025074\n",
      "9     bio10  0.058720\n",
      "10    bio11  0.043895\n",
      "11    bio12  0.027135\n",
      "12    bio13  0.043103\n",
      "13    bio14  0.057137\n",
      "14    bio15  0.031294\n",
      "15    bio16  0.045036\n",
      "16    bio17  0.045509\n",
      "17    bio18  0.053864\n",
      "18    bio19  0.029170\n",
      "19      pet  0.035928\n",
      "20       rh  0.030492\n",
      "21     srad  0.031573\n",
      "22      lon  0.066022\n",
      "23      lat  0.019999\n",
      "24      alt  0.059788\n",
      "\n",
      "\n",
      "   variable     value\n",
      "0      bio1  0.023995\n",
      "1      bio2  0.010077\n",
      "2      bio3  0.040178\n",
      "3      bio4  0.048851\n",
      "4      bio5  0.052759\n",
      "5      bio6  0.025357\n",
      "6      bio7  0.064544\n",
      "7      bio8  0.010465\n",
      "8      bio9  0.046144\n",
      "9     bio10  0.045786\n",
      "10    bio11  0.045061\n",
      "11    bio12  0.026440\n",
      "12    bio13  0.040263\n",
      "13    bio14  0.054620\n",
      "14    bio15  0.047909\n",
      "15    bio16  0.047486\n",
      "16    bio17  0.046821\n",
      "17    bio18  0.049902\n",
      "18    bio19  0.035076\n",
      "19      pet  0.052356\n",
      "20       rh  0.042491\n",
      "21     srad  0.009850\n",
      "22      lon  0.047213\n",
      "23      lat  0.054257\n",
      "24      alt  0.032099\n",
      "\n",
      "\n",
      "   variable     value\n",
      "0      bio1  0.046884\n",
      "1      bio2  0.013348\n",
      "2      bio3  0.040115\n",
      "3      bio4  0.022113\n",
      "4      bio5  0.025636\n",
      "5      bio6  0.032630\n",
      "6      bio7  0.055723\n",
      "7      bio8  0.077239\n",
      "8      bio9  0.020048\n",
      "9     bio10  0.109492\n",
      "10    bio11  0.064668\n",
      "11    bio12  0.028466\n",
      "12    bio13  0.048371\n",
      "13    bio14  0.023690\n",
      "14    bio15  0.027538\n",
      "15    bio16  0.030716\n",
      "16    bio17  0.017460\n",
      "17    bio18  0.029917\n",
      "18    bio19  0.028245\n",
      "19      pet  0.032411\n",
      "20       rh  0.052721\n",
      "21     srad  0.026041\n",
      "22      lon  0.065403\n",
      "23      lat  0.047922\n",
      "24      alt  0.033203\n",
      "\n",
      "\n",
      "   variable     value\n",
      "0      bio1  0.025295\n",
      "1      bio2  0.043487\n",
      "2      bio3  0.059189\n",
      "3      bio4  0.043030\n",
      "4      bio5  0.040199\n",
      "5      bio6  0.040028\n",
      "6      bio7  0.047043\n",
      "7      bio8  0.020225\n",
      "8      bio9  0.042850\n",
      "9     bio10  0.034476\n",
      "10    bio11  0.013715\n",
      "11    bio12  0.043257\n",
      "12    bio13  0.043217\n",
      "13    bio14  0.023561\n",
      "14    bio15  0.040252\n",
      "15    bio16  0.024565\n",
      "16    bio17  0.046648\n",
      "17    bio18  0.026696\n",
      "18    bio19  0.048170\n",
      "19      pet  0.035692\n",
      "20       rh  0.053221\n",
      "21     srad  0.032930\n",
      "22      lon  0.064455\n",
      "23      lat  0.052763\n",
      "24      alt  0.055034\n",
      "\n",
      "\n"
     ]
    },
    {
     "name": "stdout",
     "output_type": "stream",
     "text": [
      "   variable     value\n",
      "0      bio1  0.022598\n",
      "1      bio2  0.023004\n",
      "2      bio3  0.023290\n",
      "3      bio4  0.019975\n",
      "4      bio5  0.031297\n",
      "5      bio6  0.030177\n",
      "6      bio7  0.038542\n",
      "7      bio8  0.035169\n",
      "8      bio9  0.017079\n",
      "9     bio10  0.076745\n",
      "10    bio11  0.034287\n",
      "11    bio12  0.077200\n",
      "12    bio13  0.102610\n",
      "13    bio14  0.023610\n",
      "14    bio15  0.029724\n",
      "15    bio16  0.096341\n",
      "16    bio17  0.032938\n",
      "17    bio18  0.086804\n",
      "18    bio19  0.024609\n",
      "19      pet  0.019923\n",
      "20       rh  0.028368\n",
      "21     srad  0.025961\n",
      "22      lon  0.032081\n",
      "23      lat  0.024969\n",
      "24      alt  0.042699\n",
      "\n",
      "\n",
      "   variable     value\n",
      "0      bio1  0.015125\n",
      "1      bio2  0.052891\n",
      "2      bio3  0.054557\n",
      "3      bio4  0.063778\n",
      "4      bio5  0.051347\n",
      "5      bio6  0.012560\n",
      "6      bio7  0.043973\n",
      "7      bio8  0.015510\n",
      "8      bio9  0.015192\n",
      "9     bio10  0.016672\n",
      "10    bio11  0.015768\n",
      "11    bio12  0.018089\n",
      "12    bio13  0.063897\n",
      "13    bio14  0.067049\n",
      "14    bio15  0.018291\n",
      "15    bio16  0.018382\n",
      "16    bio17  0.046270\n",
      "17    bio18  0.029005\n",
      "18    bio19  0.053530\n",
      "19      pet  0.036340\n",
      "20       rh  0.045913\n",
      "21     srad  0.034176\n",
      "22      lon  0.084297\n",
      "23      lat  0.090047\n",
      "24      alt  0.037341\n",
      "\n",
      "\n",
      "   variable     value\n",
      "0      bio1  0.029825\n",
      "1      bio2  0.038557\n",
      "2      bio3  0.039896\n",
      "3      bio4  0.048222\n",
      "4      bio5  0.033374\n",
      "5      bio6  0.053538\n",
      "6      bio7  0.065583\n",
      "7      bio8  0.030764\n",
      "8      bio9  0.046798\n",
      "9     bio10  0.049684\n",
      "10    bio11  0.039727\n",
      "11    bio12  0.050567\n",
      "12    bio13  0.036623\n",
      "13    bio14  0.032513\n",
      "14    bio15  0.027065\n",
      "15    bio16  0.041225\n",
      "16    bio17  0.031952\n",
      "17    bio18  0.033048\n",
      "18    bio19  0.042574\n",
      "19      pet  0.037192\n",
      "20       rh  0.031592\n",
      "21     srad  0.029222\n",
      "22      lon  0.041525\n",
      "23      lat  0.046554\n",
      "24      alt  0.042380\n",
      "\n",
      "\n",
      "   variable     value\n",
      "0      bio1  0.027993\n",
      "1      bio2  0.032267\n",
      "2      bio3  0.034639\n",
      "3      bio4  0.086109\n",
      "4      bio5  0.022568\n",
      "5      bio6  0.036502\n",
      "6      bio7  0.058484\n",
      "7      bio8  0.039741\n",
      "8      bio9  0.061266\n",
      "9     bio10  0.030117\n",
      "10    bio11  0.090988\n",
      "11    bio12  0.036276\n",
      "12    bio13  0.063918\n",
      "13    bio14  0.041704\n",
      "14    bio15  0.018428\n",
      "15    bio16  0.027411\n",
      "16    bio17  0.074637\n",
      "17    bio18  0.000000\n",
      "18    bio19  0.000000\n",
      "19      pet  0.043024\n",
      "20       rh  0.020208\n",
      "21     srad  0.045476\n",
      "22      lon  0.060090\n",
      "23      lat  0.021891\n",
      "24      alt  0.026260\n",
      "\n",
      "\n",
      "   variable     value\n",
      "0      bio1  0.063740\n",
      "1      bio2  0.152130\n",
      "2      bio3  0.037662\n",
      "3      bio4  0.100337\n",
      "4      bio5  0.005267\n",
      "5      bio6  0.064505\n",
      "6      bio7  0.116093\n",
      "7      bio8  0.018362\n",
      "8      bio9  0.060169\n",
      "9     bio10  0.031281\n",
      "10    bio11  0.052991\n",
      "11    bio12  0.010159\n",
      "12    bio13  0.014046\n",
      "13    bio14  0.013689\n",
      "14    bio15  0.015957\n",
      "15    bio16  0.014538\n",
      "16    bio17  0.004547\n",
      "17    bio18  0.013128\n",
      "18    bio19  0.022420\n",
      "19      pet  0.024455\n",
      "20       rh  0.010534\n",
      "21     srad  0.016940\n",
      "22      lon  0.090446\n",
      "23      lat  0.036629\n",
      "24      alt  0.009975\n",
      "\n",
      "\n",
      "   variable     value\n",
      "0      bio1  0.055758\n",
      "1      bio2  0.061908\n",
      "2      bio3  0.063257\n",
      "3      bio4  0.030519\n",
      "4      bio5  0.040491\n",
      "5      bio6  0.034752\n",
      "6      bio7  0.028684\n",
      "7      bio8  0.029151\n",
      "8      bio9  0.056701\n",
      "9     bio10  0.033343\n",
      "10    bio11  0.048126\n",
      "11    bio12  0.031914\n",
      "12    bio13  0.024847\n",
      "13    bio14  0.033308\n",
      "14    bio15  0.023638\n",
      "15    bio16  0.023330\n",
      "16    bio17  0.047313\n",
      "17    bio18  0.029544\n",
      "18    bio19  0.026108\n",
      "19      pet  0.047747\n",
      "20       rh  0.042860\n",
      "21     srad  0.022692\n",
      "22      lon  0.067873\n",
      "23      lat  0.049009\n",
      "24      alt  0.047126\n",
      "\n",
      "\n",
      "   variable     value\n",
      "0      bio1  0.029172\n",
      "1      bio2  0.030293\n",
      "2      bio3  0.028973\n",
      "3      bio4  0.049829\n",
      "4      bio5  0.012609\n",
      "5      bio6  0.073131\n",
      "6      bio7  0.050172\n",
      "7      bio8  0.023585\n",
      "8      bio9  0.048452\n",
      "9     bio10  0.013417\n",
      "10    bio11  0.048688\n",
      "11    bio12  0.017702\n",
      "12    bio13  0.090398\n",
      "13    bio14  0.045174\n",
      "14    bio15  0.013339\n",
      "15    bio16  0.054747\n",
      "16    bio17  0.041935\n",
      "17    bio18  0.065256\n",
      "18    bio19  0.089239\n",
      "19      pet  0.026118\n",
      "20       rh  0.020863\n",
      "21     srad  0.021342\n",
      "22      lon  0.050895\n",
      "23      lat  0.040041\n",
      "24      alt  0.014630\n",
      "\n",
      "\n",
      "   variable     value\n",
      "0      bio1  0.031242\n",
      "1      bio2  0.035341\n",
      "2      bio3  0.053354\n",
      "3      bio4  0.048925\n",
      "4      bio5  0.038157\n",
      "5      bio6  0.029924\n",
      "6      bio7  0.028120\n",
      "7      bio8  0.024369\n",
      "8      bio9  0.068070\n",
      "9     bio10  0.040869\n",
      "10    bio11  0.065490\n",
      "11    bio12  0.034118\n",
      "12    bio13  0.023941\n",
      "13    bio14  0.024839\n",
      "14    bio15  0.025368\n",
      "15    bio16  0.020606\n",
      "16    bio17  0.053647\n",
      "17    bio18  0.019073\n",
      "18    bio19  0.053156\n",
      "19      pet  0.034519\n",
      "20       rh  0.030968\n",
      "21     srad  0.019864\n",
      "22      lon  0.059401\n",
      "23      lat  0.080613\n",
      "24      alt  0.056028\n",
      "\n",
      "\n",
      "   variable     value\n",
      "0      bio1  0.015147\n",
      "1      bio2  0.119963\n",
      "2      bio3  0.077793\n",
      "3      bio4  0.051662\n",
      "4      bio5  0.017070\n",
      "5      bio6  0.020755\n",
      "6      bio7  0.032469\n",
      "7      bio8  0.014300\n",
      "8      bio9  0.018883\n",
      "9     bio10  0.017975\n",
      "10    bio11  0.020799\n",
      "11    bio12  0.022632\n",
      "12    bio13  0.016676\n",
      "13    bio14  0.051498\n",
      "14    bio15  0.016896\n",
      "15    bio16  0.025010\n",
      "16    bio17  0.144396\n",
      "17    bio18  0.023415\n",
      "18    bio19  0.138311\n",
      "19      pet  0.023930\n",
      "20       rh  0.028953\n",
      "21     srad  0.028455\n",
      "22      lon  0.028231\n",
      "23      lat  0.019553\n",
      "24      alt  0.025228\n",
      "\n",
      "\n",
      "   variable     value\n",
      "0      bio1  0.022352\n",
      "1      bio2  0.038402\n",
      "2      bio3  0.021377\n",
      "3      bio4  0.100563\n",
      "4      bio5  0.023871\n",
      "5      bio6  0.054471\n",
      "6      bio7  0.084653\n",
      "7      bio8  0.017945\n",
      "8      bio9  0.117025\n",
      "9     bio10  0.019901\n",
      "10    bio11  0.082361\n",
      "11    bio12  0.019234\n",
      "12    bio13  0.028347\n",
      "13    bio14  0.031089\n",
      "14    bio15  0.030711\n",
      "15    bio16  0.028746\n",
      "16    bio17  0.027251\n",
      "17    bio18  0.022780\n",
      "18    bio19  0.028469\n",
      "19      pet  0.071576\n",
      "20       rh  0.029644\n",
      "21     srad  0.017355\n",
      "22      lon  0.023335\n",
      "23      lat  0.027836\n",
      "24      alt  0.030705\n",
      "\n",
      "\n",
      "   variable     value\n",
      "0      bio1  0.033654\n",
      "1      bio2  0.076685\n",
      "2      bio3  0.054955\n",
      "3      bio4  0.033481\n",
      "4      bio5  0.071172\n",
      "5      bio6  0.032807\n",
      "6      bio7  0.048299\n",
      "7      bio8  0.032025\n",
      "8      bio9  0.000000\n",
      "9     bio10  0.075182\n",
      "10    bio11  0.000000\n",
      "11    bio12  0.052659\n",
      "12    bio13  0.062213\n",
      "13    bio14  0.040498\n",
      "14    bio15  0.025287\n",
      "15    bio16  0.021266\n",
      "16    bio17  0.058489\n",
      "17    bio18  0.000000\n",
      "18    bio19  0.000000\n",
      "19      pet  0.043129\n",
      "20       rh  0.037984\n",
      "21     srad  0.036667\n",
      "22      lon  0.045443\n",
      "23      lat  0.023106\n",
      "24      alt  0.094998\n",
      "\n",
      "\n",
      "   variable     value\n",
      "0      bio1  0.040371\n",
      "1      bio2  0.036055\n",
      "2      bio3  0.000000\n",
      "3      bio4  0.043537\n",
      "4      bio5  0.042566\n",
      "5      bio6  0.000000\n",
      "6      bio7  0.040002\n",
      "7      bio8  0.043776\n",
      "8      bio9  0.045010\n",
      "9     bio10  0.055575\n",
      "10    bio11  0.037652\n",
      "11    bio12  0.052034\n",
      "12    bio13  0.035780\n",
      "13    bio14  0.045876\n",
      "14    bio15  0.042137\n",
      "15    bio16  0.050274\n",
      "16    bio17  0.038565\n",
      "17    bio18  0.054834\n",
      "18    bio19  0.045762\n",
      "19      pet  0.035631\n",
      "20       rh  0.048963\n",
      "21     srad  0.038512\n",
      "22      lon  0.047889\n",
      "23      lat  0.051234\n",
      "24      alt  0.027964\n",
      "\n",
      "\n",
      "   variable     value\n",
      "0      bio1  0.047541\n",
      "1      bio2  0.044062\n",
      "2      bio3  0.050528\n",
      "3      bio4  0.038335\n",
      "4      bio5  0.014404\n",
      "5      bio6  0.066665\n",
      "6      bio7  0.083214\n",
      "7      bio8  0.015203\n",
      "8      bio9  0.091996\n",
      "9     bio10  0.021021\n",
      "10    bio11  0.096098\n",
      "11    bio12  0.016956\n",
      "12    bio13  0.016770\n",
      "13    bio14  0.014484\n",
      "14    bio15  0.014439\n",
      "15    bio16  0.022674\n",
      "16    bio17  0.021545\n",
      "17    bio18  0.015977\n",
      "18    bio19  0.025714\n",
      "19      pet  0.031768\n",
      "20       rh  0.102635\n",
      "21     srad  0.017176\n",
      "22      lon  0.078763\n",
      "23      lat  0.032954\n",
      "24      alt  0.019078\n",
      "\n",
      "\n",
      "   variable     value\n",
      "0      bio1  0.015232\n",
      "1      bio2  0.040351\n",
      "2      bio3  0.029606\n",
      "3      bio4  0.017097\n",
      "4      bio5  0.054307\n",
      "5      bio6  0.034776\n",
      "6      bio7  0.033335\n",
      "7      bio8  0.019751\n",
      "8      bio9  0.102987\n",
      "9     bio10  0.028605\n",
      "10    bio11  0.038482\n",
      "11    bio12  0.015553\n",
      "12    bio13  0.013146\n",
      "13    bio14  0.053985\n",
      "14    bio15  0.023427\n",
      "15    bio16  0.017313\n",
      "16    bio17  0.077861\n",
      "17    bio18  0.024122\n",
      "18    bio19  0.062777\n",
      "19      pet  0.034754\n",
      "20       rh  0.034020\n",
      "21     srad  0.027025\n",
      "22      lon  0.141095\n",
      "23      lat  0.020300\n",
      "24      alt  0.040093\n",
      "\n",
      "\n",
      "   variable     value\n",
      "0      bio1  0.041907\n",
      "1      bio2  0.042034\n",
      "2      bio3  0.034615\n",
      "3      bio4  0.057166\n",
      "4      bio5  0.046182\n",
      "5      bio6  0.000000\n",
      "6      bio7  0.066401\n",
      "7      bio8  0.037914\n",
      "8      bio9  0.035111\n",
      "9     bio10  0.073250\n",
      "10    bio11  0.000000\n",
      "11    bio12  0.048751\n",
      "12    bio13  0.030423\n",
      "13    bio14  0.052716\n",
      "14    bio15  0.036478\n",
      "15    bio16  0.029432\n",
      "16    bio17  0.036967\n",
      "17    bio18  0.041112\n",
      "18    bio19  0.000000\n",
      "19      pet  0.039513\n",
      "20       rh  0.034077\n",
      "21     srad  0.038796\n",
      "22      lon  0.077868\n",
      "23      lat  0.032485\n",
      "24      alt  0.066800\n",
      "\n",
      "\n",
      "   variable     value\n",
      "0      bio1  0.019432\n",
      "1      bio2  0.057280\n",
      "2      bio3  0.028924\n",
      "3      bio4  0.059402\n",
      "4      bio5  0.062472\n",
      "5      bio6  0.041890\n",
      "6      bio7  0.038756\n",
      "7      bio8  0.028978\n",
      "8      bio9  0.097932\n",
      "9     bio10  0.034468\n",
      "10    bio11  0.016812\n",
      "11    bio12  0.027531\n",
      "12    bio13  0.025289\n",
      "13    bio14  0.060731\n",
      "14    bio15  0.022650\n",
      "15    bio16  0.014783\n",
      "16    bio17  0.065275\n",
      "17    bio18  0.008950\n",
      "18    bio19  0.000000\n",
      "19      pet  0.015173\n",
      "20       rh  0.036510\n",
      "21     srad  0.024742\n",
      "22      lon  0.067153\n",
      "23      lat  0.075219\n",
      "24      alt  0.069647\n",
      "\n",
      "\n",
      "   variable     value\n",
      "0      bio1  0.021349\n",
      "1      bio2  0.049699\n",
      "2      bio3  0.043444\n",
      "3      bio4  0.041213\n",
      "4      bio5  0.045884\n",
      "5      bio6  0.027862\n",
      "6      bio7  0.025618\n",
      "7      bio8  0.034916\n",
      "8      bio9  0.076014\n",
      "9     bio10  0.049083\n",
      "10    bio11  0.027276\n",
      "11    bio12  0.019111\n",
      "12    bio13  0.013691\n",
      "13    bio14  0.025982\n",
      "14    bio15  0.025238\n",
      "15    bio16  0.011928\n",
      "16    bio17  0.041600\n",
      "17    bio18  0.010640\n",
      "18    bio19  0.037590\n",
      "19      pet  0.015784\n",
      "20       rh  0.055566\n",
      "21     srad  0.013300\n",
      "22      lon  0.108382\n",
      "23      lat  0.087476\n",
      "24      alt  0.091357\n",
      "\n",
      "\n",
      "   variable     value\n",
      "0      bio1  0.048621\n",
      "1      bio2  0.055723\n",
      "2      bio3  0.043333\n",
      "3      bio4  0.023210\n",
      "4      bio5  0.095537\n",
      "5      bio6  0.095933\n",
      "6      bio7  0.016930\n",
      "7      bio8  0.004800\n",
      "8      bio9  0.091545\n",
      "9     bio10  0.021150\n",
      "10    bio11  0.050789\n",
      "11    bio12  0.004616\n",
      "12    bio13  0.000000\n",
      "13    bio14  0.046477\n",
      "14    bio15  0.004718\n",
      "15    bio16  0.009032\n",
      "16    bio17  0.096169\n",
      "17    bio18  0.007503\n",
      "18    bio19  0.039665\n",
      "19      pet  0.016586\n",
      "20       rh  0.038983\n",
      "21     srad  0.007983\n",
      "22      lon  0.088513\n",
      "23      lat  0.087089\n",
      "24      alt  0.005096\n",
      "\n",
      "\n"
     ]
    },
    {
     "name": "stdout",
     "output_type": "stream",
     "text": [
      "   variable     value\n",
      "0      bio1  0.039293\n",
      "1      bio2  0.049591\n",
      "2      bio3  0.045530\n",
      "3      bio4  0.036158\n",
      "4      bio5  0.050289\n",
      "5      bio6  0.038475\n",
      "6      bio7  0.033937\n",
      "7      bio8  0.037225\n",
      "8      bio9  0.045747\n",
      "9     bio10  0.040448\n",
      "10    bio11  0.034274\n",
      "11    bio12  0.031341\n",
      "12    bio13  0.031947\n",
      "13    bio14  0.035792\n",
      "14    bio15  0.030831\n",
      "15    bio16  0.033094\n",
      "16    bio17  0.050454\n",
      "17    bio18  0.034178\n",
      "18    bio19  0.052036\n",
      "19      pet  0.038111\n",
      "20       rh  0.042885\n",
      "21     srad  0.032911\n",
      "22      lon  0.048128\n",
      "23      lat  0.049099\n",
      "24      alt  0.038229\n",
      "\n",
      "\n",
      "   variable     value\n",
      "0      bio1  0.015058\n",
      "1      bio2  0.081968\n",
      "2      bio3  0.104028\n",
      "3      bio4  0.026493\n",
      "4      bio5  0.016440\n",
      "5      bio6  0.023401\n",
      "6      bio7  0.022202\n",
      "7      bio8  0.024309\n",
      "8      bio9  0.048559\n",
      "9     bio10  0.023850\n",
      "10    bio11  0.021798\n",
      "11    bio12  0.014093\n",
      "12    bio13  0.016801\n",
      "13    bio14  0.011183\n",
      "14    bio15  0.008602\n",
      "15    bio16  0.017209\n",
      "16    bio17  0.179261\n",
      "17    bio18  0.013067\n",
      "18    bio19  0.183903\n",
      "19      pet  0.053006\n",
      "20       rh  0.025617\n",
      "21     srad  0.014703\n",
      "22      lon  0.020538\n",
      "23      lat  0.024378\n",
      "24      alt  0.009532\n",
      "\n",
      "\n",
      "   variable     value\n",
      "0      bio1  0.053982\n",
      "1      bio2  0.017951\n",
      "2      bio3  0.028215\n",
      "3      bio4  0.033322\n",
      "4      bio5  0.098700\n",
      "5      bio6  0.072029\n",
      "6      bio7  0.045053\n",
      "7      bio8  0.017799\n",
      "8      bio9  0.030218\n",
      "9     bio10  0.085045\n",
      "10    bio11  0.028321\n",
      "11    bio12  0.031766\n",
      "12    bio13  0.032970\n",
      "13    bio14  0.028553\n",
      "14    bio15  0.020989\n",
      "15    bio16  0.034276\n",
      "16    bio17  0.081796\n",
      "17    bio18  0.017781\n",
      "18    bio19  0.000000\n",
      "19      pet  0.023440\n",
      "20       rh  0.034529\n",
      "21     srad  0.025621\n",
      "22      lon  0.083868\n",
      "23      lat  0.024669\n",
      "24      alt  0.049104\n",
      "\n",
      "\n",
      "   variable     value\n",
      "0      bio1  0.024209\n",
      "1      bio2  0.026190\n",
      "2      bio3  0.035420\n",
      "3      bio4  0.059392\n",
      "4      bio5  0.048376\n",
      "5      bio6  0.030680\n",
      "6      bio7  0.048631\n",
      "7      bio8  0.024190\n",
      "8      bio9  0.042403\n",
      "9     bio10  0.042411\n",
      "10    bio11  0.037492\n",
      "11    bio12  0.033391\n",
      "12    bio13  0.041128\n",
      "13    bio14  0.058220\n",
      "14    bio15  0.021753\n",
      "15    bio16  0.032039\n",
      "16    bio17  0.046278\n",
      "17    bio18  0.028519\n",
      "18    bio19  0.047028\n",
      "19      pet  0.033176\n",
      "20       rh  0.031187\n",
      "21     srad  0.023671\n",
      "22      lon  0.049797\n",
      "23      lat  0.086918\n",
      "24      alt  0.047501\n",
      "\n",
      "\n",
      "   variable     value\n",
      "0      bio1  0.033008\n",
      "1      bio2  0.027456\n",
      "2      bio3  0.018988\n",
      "3      bio4  0.037441\n",
      "4      bio5  0.022886\n",
      "5      bio6  0.082153\n",
      "6      bio7  0.028325\n",
      "7      bio8  0.054400\n",
      "8      bio9  0.014369\n",
      "9     bio10  0.208348\n",
      "10    bio11  0.000000\n",
      "11    bio12  0.012484\n",
      "12    bio13  0.129532\n",
      "13    bio14  0.022104\n",
      "14    bio15  0.006107\n",
      "15    bio16  0.023098\n",
      "16    bio17  0.016273\n",
      "17    bio18  0.023955\n",
      "18    bio19  0.000000\n",
      "19      pet  0.024483\n",
      "20       rh  0.022302\n",
      "21     srad  0.022413\n",
      "22      lon  0.045058\n",
      "23      lat  0.070594\n",
      "24      alt  0.054223\n",
      "\n",
      "\n",
      "   variable     value\n",
      "0      bio1  0.017443\n",
      "1      bio2  0.034248\n",
      "2      bio3  0.036406\n",
      "3      bio4  0.023289\n",
      "4      bio5  0.042843\n",
      "5      bio6  0.031589\n",
      "6      bio7  0.015968\n",
      "7      bio8  0.009562\n",
      "8      bio9  0.068108\n",
      "9     bio10  0.010717\n",
      "10    bio11  0.079204\n",
      "11    bio12  0.037589\n",
      "12    bio13  0.040681\n",
      "13    bio14  0.014697\n",
      "14    bio15  0.013294\n",
      "15    bio16  0.010936\n",
      "16    bio17  0.114554\n",
      "17    bio18  0.007785\n",
      "18    bio19  0.023383\n",
      "19      pet  0.020541\n",
      "20       rh  0.149352\n",
      "21     srad  0.022191\n",
      "22      lon  0.111175\n",
      "23      lat  0.049822\n",
      "24      alt  0.014622\n",
      "\n",
      "\n",
      "   variable     value\n",
      "0      bio1  0.078065\n",
      "1      bio2  0.026784\n",
      "2      bio3  0.022618\n",
      "3      bio4  0.024242\n",
      "4      bio5  0.043751\n",
      "5      bio6  0.093039\n",
      "6      bio7  0.018276\n",
      "7      bio8  0.034853\n",
      "8      bio9  0.063371\n",
      "9     bio10  0.027191\n",
      "10    bio11  0.089111\n",
      "11    bio12  0.028967\n",
      "12    bio13  0.025617\n",
      "13    bio14  0.044690\n",
      "14    bio15  0.044855\n",
      "15    bio16  0.000000\n",
      "16    bio17  0.042663\n",
      "17    bio18  0.020684\n",
      "18    bio19  0.038658\n",
      "19      pet  0.033527\n",
      "20       rh  0.069038\n",
      "21     srad  0.029019\n",
      "22      lon  0.026849\n",
      "23      lat  0.041816\n",
      "24      alt  0.032316\n",
      "\n",
      "\n",
      "   variable     value\n",
      "0      bio1  0.019950\n",
      "1      bio2  0.032870\n",
      "2      bio3  0.020990\n",
      "3      bio4  0.030793\n",
      "4      bio5  0.022978\n",
      "5      bio6  0.063598\n",
      "6      bio7  0.029132\n",
      "7      bio8  0.016269\n",
      "8      bio9  0.015079\n",
      "9     bio10  0.036658\n",
      "10    bio11  0.063680\n",
      "11    bio12  0.025629\n",
      "12    bio13  0.147889\n",
      "13    bio14  0.035801\n",
      "14    bio15  0.021578\n",
      "15    bio16  0.084614\n",
      "16    bio17  0.026607\n",
      "17    bio18  0.069046\n",
      "18    bio19  0.018120\n",
      "19      pet  0.041286\n",
      "20       rh  0.055396\n",
      "21     srad  0.026926\n",
      "22      lon  0.053328\n",
      "23      lat  0.024801\n",
      "24      alt  0.016982\n",
      "\n",
      "\n",
      "   variable     value\n",
      "0      bio1  0.017009\n",
      "1      bio2  0.034519\n",
      "2      bio3  0.037249\n",
      "3      bio4  0.036097\n",
      "4      bio5  0.049561\n",
      "5      bio6  0.044729\n",
      "6      bio7  0.032859\n",
      "7      bio8  0.029880\n",
      "8      bio9  0.049869\n",
      "9     bio10  0.038132\n",
      "10    bio11  0.032839\n",
      "11    bio12  0.023202\n",
      "12    bio13  0.018099\n",
      "13    bio14  0.023007\n",
      "14    bio15  0.020493\n",
      "15    bio16  0.020095\n",
      "16    bio17  0.060784\n",
      "17    bio18  0.017412\n",
      "18    bio19  0.048743\n",
      "19      pet  0.028777\n",
      "20       rh  0.089242\n",
      "21     srad  0.022394\n",
      "22      lon  0.129303\n",
      "23      lat  0.047834\n",
      "24      alt  0.047871\n",
      "\n",
      "\n",
      "   variable     value\n",
      "0      bio1  0.020464\n",
      "1      bio2  0.015703\n",
      "2      bio3  0.100514\n",
      "3      bio4  0.043269\n",
      "4      bio5  0.224092\n",
      "5      bio6  0.020674\n",
      "6      bio7  0.020979\n",
      "7      bio8  0.040999\n",
      "8      bio9  0.032065\n",
      "9     bio10  0.022573\n",
      "10    bio11  0.042543\n",
      "11    bio12  0.027573\n",
      "12    bio13  0.032948\n",
      "13    bio14  0.028361\n",
      "14    bio15  0.016118\n",
      "15    bio16  0.022150\n",
      "16    bio17  0.027115\n",
      "17    bio18  0.029067\n",
      "18    bio19  0.026394\n",
      "19      pet  0.071066\n",
      "20       rh  0.015314\n",
      "21     srad  0.012875\n",
      "22      lon  0.030744\n",
      "23      lat  0.056103\n",
      "24      alt  0.020295\n",
      "\n",
      "\n",
      "   variable     value\n",
      "0      bio1  0.023568\n",
      "1      bio2  0.028694\n",
      "2      bio3  0.028408\n",
      "3      bio4  0.024497\n",
      "4      bio5  0.080456\n",
      "5      bio6  0.029139\n",
      "6      bio7  0.027356\n",
      "7      bio8  0.041940\n",
      "8      bio9  0.021842\n",
      "9     bio10  0.139880\n",
      "10    bio11  0.036344\n",
      "11    bio12  0.036738\n",
      "12    bio13  0.046086\n",
      "13    bio14  0.019612\n",
      "14    bio15  0.027390\n",
      "15    bio16  0.039726\n",
      "16    bio17  0.026621\n",
      "17    bio18  0.044581\n",
      "18    bio19  0.027420\n",
      "19      pet  0.029410\n",
      "20       rh  0.030696\n",
      "21     srad  0.065889\n",
      "22      lon  0.025400\n",
      "23      lat  0.022139\n",
      "24      alt  0.076168\n",
      "\n",
      "\n",
      "   variable     value\n",
      "0      bio1  0.010809\n",
      "1      bio2  0.046366\n",
      "2      bio3  0.044495\n",
      "3      bio4  0.038597\n",
      "4      bio5  0.071482\n",
      "5      bio6  0.036949\n",
      "6      bio7  0.032476\n",
      "7      bio8  0.044446\n",
      "8      bio9  0.031471\n",
      "9     bio10  0.048996\n",
      "10    bio11  0.056702\n",
      "11    bio12  0.047092\n",
      "12    bio13  0.012198\n",
      "13    bio14  0.065782\n",
      "14    bio15  0.009120\n",
      "15    bio16  0.006145\n",
      "16    bio17  0.054287\n",
      "17    bio18  0.013021\n",
      "18    bio19  0.050689\n",
      "19      pet  0.048422\n",
      "20       rh  0.055211\n",
      "21     srad  0.022633\n",
      "22      lon  0.055285\n",
      "23      lat  0.055400\n",
      "24      alt  0.041927\n",
      "\n",
      "\n",
      "   variable     value\n",
      "0      bio1  0.060224\n",
      "1      bio2  0.007495\n",
      "2      bio3  0.024874\n",
      "3      bio4  0.062425\n",
      "4      bio5  0.142762\n",
      "5      bio6  0.014028\n",
      "6      bio7  0.015878\n",
      "7      bio8  0.145329\n",
      "8      bio9  0.048127\n",
      "9     bio10  0.081164\n",
      "10    bio11  0.039390\n",
      "11    bio12  0.025983\n",
      "12    bio13  0.028641\n",
      "13    bio14  0.029958\n",
      "14    bio15  0.025554\n",
      "15    bio16  0.023556\n",
      "16    bio17  0.036741\n",
      "17    bio18  0.017780\n",
      "18    bio19  0.000000\n",
      "19      pet  0.040167\n",
      "20       rh  0.014010\n",
      "21     srad  0.012000\n",
      "22      lon  0.014338\n",
      "23      lat  0.066055\n",
      "24      alt  0.023521\n",
      "\n",
      "\n",
      "   variable     value\n",
      "0      bio1  0.030293\n",
      "1      bio2  0.019111\n",
      "2      bio3  0.032591\n",
      "3      bio4  0.033304\n",
      "4      bio5  0.034871\n",
      "5      bio6  0.032531\n",
      "6      bio7  0.035398\n",
      "7      bio8  0.043952\n",
      "8      bio9  0.033970\n",
      "9     bio10  0.053735\n",
      "10    bio11  0.038235\n",
      "11    bio12  0.058836\n",
      "12    bio13  0.062462\n",
      "13    bio14  0.053488\n",
      "14    bio15  0.023596\n",
      "15    bio16  0.064368\n",
      "16    bio17  0.055864\n",
      "17    bio18  0.052376\n",
      "18    bio19  0.052014\n",
      "19      pet  0.024118\n",
      "20       rh  0.027501\n",
      "21     srad  0.031535\n",
      "22      lon  0.051275\n",
      "23      lat  0.030621\n",
      "24      alt  0.023958\n",
      "\n",
      "\n",
      "   variable     value\n",
      "0      bio1  0.031486\n",
      "1      bio2  0.032865\n",
      "2      bio3  0.034145\n",
      "3      bio4  0.028575\n",
      "4      bio5  0.054600\n",
      "5      bio6  0.030211\n",
      "6      bio7  0.034745\n",
      "7      bio8  0.014094\n",
      "8      bio9  0.027462\n",
      "9     bio10  0.080592\n",
      "10    bio11  0.030876\n",
      "11    bio12  0.040327\n",
      "12    bio13  0.056162\n",
      "13    bio14  0.040673\n",
      "14    bio15  0.025533\n",
      "15    bio16  0.067194\n",
      "16    bio17  0.029991\n",
      "17    bio18  0.062229\n",
      "18    bio19  0.028359\n",
      "19      pet  0.036920\n",
      "20       rh  0.025261\n",
      "21     srad  0.066904\n",
      "22      lon  0.062866\n",
      "23      lat  0.023709\n",
      "24      alt  0.034223\n",
      "\n",
      "\n",
      "   variable     value\n",
      "0      bio1  0.054064\n",
      "1      bio2  0.037598\n",
      "2      bio3  0.085564\n",
      "3      bio4  0.052692\n",
      "4      bio5  0.052682\n",
      "5      bio6  0.050766\n",
      "6      bio7  0.050650\n",
      "7      bio8  0.045489\n",
      "8      bio9  0.040800\n",
      "9     bio10  0.031948\n",
      "10    bio11  0.041005\n",
      "11    bio12  0.031835\n",
      "12    bio13  0.027057\n",
      "13    bio14  0.026045\n",
      "14    bio15  0.014809\n",
      "15    bio16  0.020264\n",
      "16    bio17  0.036679\n",
      "17    bio18  0.027769\n",
      "18    bio19  0.031118\n",
      "19      pet  0.020386\n",
      "20       rh  0.020667\n",
      "21     srad  0.012291\n",
      "22      lon  0.072239\n",
      "23      lat  0.044244\n",
      "24      alt  0.071339\n",
      "\n",
      "\n",
      "   variable     value\n",
      "0      bio1  0.070116\n",
      "1      bio2  0.014079\n",
      "2      bio3  0.016658\n",
      "3      bio4  0.080786\n",
      "4      bio5  0.031597\n",
      "5      bio6  0.123842\n",
      "6      bio7  0.051962\n",
      "7      bio8  0.052266\n",
      "8      bio9  0.051989\n",
      "9     bio10  0.000000\n",
      "10    bio11  0.000000\n",
      "11    bio12  0.042051\n",
      "12    bio13  0.030028\n",
      "13    bio14  0.044693\n",
      "14    bio15  0.032599\n",
      "15    bio16  0.032298\n",
      "16    bio17  0.024468\n",
      "17    bio18  0.030971\n",
      "18    bio19  0.000000\n",
      "19      pet  0.024208\n",
      "20       rh  0.030566\n",
      "21     srad  0.033744\n",
      "22      lon  0.053941\n",
      "23      lat  0.078296\n",
      "24      alt  0.048844\n",
      "\n",
      "\n",
      "   variable     value\n",
      "0      bio1  0.035835\n",
      "1      bio2  0.000000\n",
      "2      bio3  0.101311\n",
      "3      bio4  0.026708\n",
      "4      bio5  0.035924\n",
      "5      bio6  0.024969\n",
      "6      bio7  0.049813\n",
      "7      bio8  0.021346\n",
      "8      bio9  0.096066\n",
      "9     bio10  0.018760\n",
      "10    bio11  0.153203\n",
      "11    bio12  0.028276\n",
      "12    bio13  0.044372\n",
      "13    bio14  0.034449\n",
      "14    bio15  0.020801\n",
      "15    bio16  0.026194\n",
      "16    bio17  0.047883\n",
      "17    bio18  0.030830\n",
      "18    bio19  0.000000\n",
      "19      pet  0.031150\n",
      "20       rh  0.018895\n",
      "21     srad  0.038253\n",
      "22      lon  0.019616\n",
      "23      lat  0.044172\n",
      "24      alt  0.051174\n",
      "\n",
      "\n",
      "   variable     value\n",
      "0      bio1  0.036121\n",
      "1      bio2  0.043265\n",
      "2      bio3  0.030048\n",
      "3      bio4  0.065873\n",
      "4      bio5  0.161556\n",
      "5      bio6  0.072004\n",
      "6      bio7  0.097797\n",
      "7      bio8  0.035626\n",
      "8      bio9  0.039508\n",
      "9     bio10  0.054080\n",
      "10    bio11  0.022811\n",
      "11    bio12  0.019236\n",
      "12    bio13  0.027230\n",
      "13    bio14  0.011389\n",
      "14    bio15  0.010954\n",
      "15    bio16  0.016422\n",
      "16    bio17  0.042945\n",
      "17    bio18  0.021751\n",
      "18    bio19  0.012204\n",
      "19      pet  0.022552\n",
      "20       rh  0.030283\n",
      "21     srad  0.010185\n",
      "22      lon  0.021823\n",
      "23      lat  0.027017\n",
      "24      alt  0.067322\n",
      "\n",
      "\n",
      "   variable     value\n",
      "0      bio1  0.059517\n",
      "1      bio2  0.076021\n",
      "2      bio3  0.027191\n",
      "3      bio4  0.055109\n",
      "4      bio5  0.053090\n",
      "5      bio6  0.044741\n",
      "6      bio7  0.026701\n",
      "7      bio8  0.041467\n",
      "8      bio9  0.046328\n",
      "9     bio10  0.041068\n",
      "10    bio11  0.057947\n",
      "11    bio12  0.043110\n",
      "12    bio13  0.031825\n",
      "13    bio14  0.027060\n",
      "14    bio15  0.032559\n",
      "15    bio16  0.021787\n",
      "16    bio17  0.079930\n",
      "17    bio18  0.032392\n",
      "18    bio19  0.000000\n",
      "19      pet  0.042446\n",
      "20       rh  0.027062\n",
      "21     srad  0.060046\n",
      "22      lon  0.025006\n",
      "23      lat  0.028388\n",
      "24      alt  0.019209\n",
      "\n",
      "\n",
      "   variable     value\n",
      "0      bio1  0.030704\n",
      "1      bio2  0.036989\n",
      "2      bio3  0.046835\n",
      "3      bio4  0.042393\n",
      "4      bio5  0.067826\n",
      "5      bio6  0.024980\n",
      "6      bio7  0.047484\n",
      "7      bio8  0.035369\n",
      "8      bio9  0.037444\n",
      "9     bio10  0.034987\n",
      "10    bio11  0.026801\n",
      "11    bio12  0.047166\n",
      "12    bio13  0.021476\n",
      "13    bio14  0.027863\n",
      "14    bio15  0.031184\n",
      "15    bio16  0.022239\n",
      "16    bio17  0.046405\n",
      "17    bio18  0.029224\n",
      "18    bio19  0.000000\n",
      "19      pet  0.027617\n",
      "20       rh  0.036637\n",
      "21     srad  0.045411\n",
      "22      lon  0.106580\n",
      "23      lat  0.044314\n",
      "24      alt  0.082069\n",
      "\n",
      "\n"
     ]
    },
    {
     "name": "stdout",
     "output_type": "stream",
     "text": [
      "   variable     value\n",
      "0      bio1  0.031164\n",
      "1      bio2  0.028194\n",
      "2      bio3  0.035158\n",
      "3      bio4  0.034675\n",
      "4      bio5  0.036888\n",
      "5      bio6  0.035205\n",
      "6      bio7  0.035593\n",
      "7      bio8  0.047201\n",
      "8      bio9  0.035129\n",
      "9     bio10  0.045377\n",
      "10    bio11  0.057203\n",
      "11    bio12  0.041151\n",
      "12    bio13  0.044191\n",
      "13    bio14  0.046566\n",
      "14    bio15  0.031479\n",
      "15    bio16  0.043516\n",
      "16    bio17  0.038533\n",
      "17    bio18  0.041774\n",
      "18    bio19  0.041599\n",
      "19      pet  0.038313\n",
      "20       rh  0.036729\n",
      "21     srad  0.052927\n",
      "22      lon  0.051650\n",
      "23      lat  0.038157\n",
      "24      alt  0.031626\n",
      "\n",
      "\n",
      "   variable     value\n",
      "0      bio1  0.011771\n",
      "1      bio2  0.019979\n",
      "2      bio3  0.015251\n",
      "3      bio4  0.011962\n",
      "4      bio5  0.094941\n",
      "5      bio6  0.083842\n",
      "6      bio7  0.058675\n",
      "7      bio8  0.044316\n",
      "8      bio9  0.065424\n",
      "9     bio10  0.008178\n",
      "10    bio11  0.092111\n",
      "11    bio12  0.034161\n",
      "12    bio13  0.012812\n",
      "13    bio14  0.009956\n",
      "14    bio15  0.007524\n",
      "15    bio16  0.029436\n",
      "16    bio17  0.091912\n",
      "17    bio18  0.043647\n",
      "18    bio19  0.101934\n",
      "19      pet  0.068722\n",
      "20       rh  0.031064\n",
      "21     srad  0.009427\n",
      "22      lon  0.018334\n",
      "23      lat  0.018710\n",
      "24      alt  0.015910\n",
      "\n",
      "\n"
     ]
    }
   ],
   "source": [
    "for key in list(dict_model_xgb.keys()):\n",
    "    print(pd.DataFrame({'variable': X.columns, 'value': dict_model_xgb[key].feature_importances_}))\n",
    "    print('\\n')"
   ]
  },
  {
   "cell_type": "code",
   "execution_count": null,
   "metadata": {},
   "outputs": [],
   "source": []
  }
 ],
 "metadata": {
  "kernelspec": {
   "display_name": "Python 3",
   "language": "python",
   "name": "python3"
  },
  "language_info": {
   "codemirror_mode": {
    "name": "ipython",
    "version": 3
   },
   "file_extension": ".py",
   "mimetype": "text/x-python",
   "name": "python",
   "nbconvert_exporter": "python",
   "pygments_lexer": "ipython3",
   "version": "3.7.6"
  }
 },
 "nbformat": 4,
 "nbformat_minor": 4
}
