{
 "cells": [
  {
   "cell_type": "markdown",
   "metadata": {},
   "source": [
    "## Bird Modeling"
   ]
  },
  {
   "cell_type": "code",
   "execution_count": 11,
   "metadata": {},
   "outputs": [],
   "source": [
    "import pandas as pd\n",
    "import numpy as np\n",
    "import os\n",
    "import pickle\n",
    "\n",
    "import matplotlib.pyplot as plt\n",
    "\n",
    "from sklearn.model_selection import cross_val_score\n",
    "from sklearn.model_selection import RepeatedStratifiedKFold\n",
    "from sklearn.linear_model import LogisticRegression\n",
    "from sklearn.model_selection import train_test_split\n",
    "from sklearn.model_selection import StratifiedShuffleSplit\n",
    "from sklearn.model_selection import GridSearchCV\n",
    "from sklearn.ensemble import RandomForestClassifier\n",
    "\n",
    "from sklearn.model_selection import RandomizedSearchCV\n",
    "from sklearn.metrics import classification_report, roc_curve, roc_auc_score, accuracy_score, precision_score, recall_score, f1_score, confusion_matrix\n",
    "\n",
    "from xgboost import XGBClassifier\n",
    "\n",
    "def split_train_test(X,y, test_ratio):\n",
    "    split = StratifiedShuffleSplit(n_splits=1, test_size=test_ratio, random_state=1)\n",
    "    for train_idx, test_idx in split.split(X, y):\n",
    "        X_train = X.loc[train_idx]\n",
    "        X_test = X.loc[test_idx]\n",
    "        y_train = y.loc[train_idx]\n",
    "        y_test = y.loc[test_idx]\n",
    "    return X_train, X_test, y_train, y_test"
   ]
  },
  {
   "cell_type": "markdown",
   "metadata": {},
   "source": [
    "### logistic regression"
   ]
  },
  {
   "cell_type": "code",
   "execution_count": 42,
   "metadata": {
    "scrolled": true
   },
   "outputs": [
    {
     "name": "stdout",
     "output_type": "stream",
     "text": [
      "########################### classification report for 수리부엉이 ###########################\n",
      "              precision    recall  f1-score   support\n",
      "\n",
      "           0       1.00      0.81      0.89       930\n",
      "           1       0.01      0.40      0.02         5\n",
      "\n",
      "    accuracy                           0.81       935\n",
      "   macro avg       0.50      0.61      0.46       935\n",
      "weighted avg       0.99      0.81      0.89       935\n",
      "\n",
      "\n",
      "\n",
      "########################### classification report for 팔색조 ###########################\n",
      "              precision    recall  f1-score   support\n",
      "\n",
      "           0       1.00      0.84      0.91       924\n",
      "           1       0.06      0.82      0.11        11\n",
      "\n",
      "    accuracy                           0.84       935\n",
      "   macro avg       0.53      0.83      0.51       935\n",
      "weighted avg       0.99      0.84      0.90       935\n",
      "\n",
      "\n",
      "\n",
      "########################### classification report for 큰고니 ###########################\n",
      "              precision    recall  f1-score   support\n",
      "\n",
      "           0       1.00      0.85      0.92       927\n",
      "           1       0.03      0.62      0.06         8\n",
      "\n",
      "    accuracy                           0.85       935\n",
      "   macro avg       0.52      0.74      0.49       935\n",
      "weighted avg       0.99      0.85      0.91       935\n",
      "\n",
      "\n",
      "\n",
      "########################### classification report for 독수리 ###########################\n",
      "              precision    recall  f1-score   support\n",
      "\n",
      "           0       0.99      0.59      0.74       923\n",
      "           1       0.02      0.58      0.04        12\n",
      "\n",
      "    accuracy                           0.59       935\n",
      "   macro avg       0.50      0.59      0.39       935\n",
      "weighted avg       0.98      0.59      0.73       935\n",
      "\n",
      "\n",
      "\n",
      "########################### classification report for 큰기러기 ###########################\n",
      "              precision    recall  f1-score   support\n",
      "\n",
      "           0       1.00      0.84      0.91       925\n",
      "           1       0.06      0.90      0.11        10\n",
      "\n",
      "    accuracy                           0.84       935\n",
      "   macro avg       0.53      0.87      0.51       935\n",
      "weighted avg       0.99      0.84      0.90       935\n",
      "\n",
      "\n",
      "\n",
      "########################### classification report for 참매 ###########################\n",
      "              precision    recall  f1-score   support\n",
      "\n",
      "           0       0.97      0.32      0.48       913\n",
      "           1       0.02      0.64      0.04        22\n",
      "\n",
      "    accuracy                           0.32       935\n",
      "   macro avg       0.50      0.48      0.26       935\n",
      "weighted avg       0.95      0.32      0.47       935\n",
      "\n",
      "\n",
      "\n",
      "########################### classification report for 흰목물떼새 ###########################\n",
      "              precision    recall  f1-score   support\n",
      "\n",
      "           0       0.99      0.46      0.63       909\n",
      "           1       0.04      0.88      0.09        26\n",
      "\n",
      "    accuracy                           0.47       935\n",
      "   macro avg       0.52      0.67      0.36       935\n",
      "weighted avg       0.97      0.47      0.61       935\n",
      "\n",
      "\n",
      "\n",
      "########################### classification report for 말똥가리 ###########################\n",
      "              precision    recall  f1-score   support\n",
      "\n",
      "           0       0.00      0.00      0.00       788\n",
      "           1       0.16      1.00      0.27       147\n",
      "\n",
      "    accuracy                           0.16       935\n",
      "   macro avg       0.08      0.50      0.14       935\n",
      "weighted avg       0.02      0.16      0.04       935\n",
      "\n",
      "\n",
      "\n"
     ]
    },
    {
     "name": "stderr",
     "output_type": "stream",
     "text": [
      "/Users/shinbo/opt/anaconda3/lib/python3.7/site-packages/sklearn/metrics/_classification.py:1272: UndefinedMetricWarning: Precision and F-score are ill-defined and being set to 0.0 in labels with no predicted samples. Use `zero_division` parameter to control this behavior.\n",
      "  _warn_prf(average, modifier, msg_start, len(result))\n"
     ]
    }
   ],
   "source": [
    "dict_model = {}\n",
    "\n",
    "for name in list(dict_data.keys()):\n",
    "\n",
    "    X = dict_data[name][['bio1', 'bio2', 'bio3', 'bio4', 'bio5', 'bio6', 'bio7',\n",
    "           'bio8', 'bio9', 'bio10', 'bio11', 'bio12', 'bio13', 'bio14', 'bio15',\n",
    "           'bio16', 'bio17', 'bio18', 'bio19', 'pet', 'rh', 'srad', 'lon', 'lat',\n",
    "           'alt']]\n",
    "    y = dict_data[name]['y']\n",
    "\n",
    "    X_train, X_test, y_train, y_test = split_train_test(X, y,0.3)\n",
    "\n",
    "\n",
    "    # define model\n",
    "    weights = {0:0.01, 1:1.0}\n",
    "    model = LogisticRegression(solver='lbfgs', class_weight=weights, max_iter=10000)\n",
    "    model.fit(X_train, y_train)\n",
    "    print(f'########################### classification report for {name} ###########################')\n",
    "    print(classification_report(y_test, model.predict(X_test)))\n",
    "    print('\\n')\n",
    "    \n",
    "    dict_model[name] = model"
   ]
  },
  {
   "cell_type": "markdown",
   "metadata": {},
   "source": [
    "## random forest"
   ]
  },
  {
   "cell_type": "code",
   "execution_count": 2,
   "metadata": {},
   "outputs": [],
   "source": [
    "def rf_gridSearch_train(X_train, y_train, save, file_dir=None):\n",
    "    param_grid = {'bootstrap': [True, False],\n",
    "     'max_depth': [ 80, 90, 100, None],\n",
    "     'max_features': ['auto', 'sqrt'],\n",
    "     'min_samples_leaf': [1, 2, 4],\n",
    "     'min_samples_split': [2, 5, 10],\n",
    "     'n_estimators': [600, 800, 1000]\n",
    "                 }\n",
    "\n",
    "    # Create a based model\n",
    "    rf = RandomForestClassifier()\n",
    "    # Instantiate the grid search model\n",
    "    grid_search = GridSearchCV(estimator = rf, param_grid = param_grid, \n",
    "                              cv = 3, n_jobs = -1, verbose = 2)\n",
    "\n",
    "    # Fit the grid search to the data\n",
    "    grid_search.fit(X_train, y_train)\n",
    "\n",
    "    # best params\n",
    "\n",
    "    rf_best_est = grid_search.best_estimator_\n",
    "    rf = rf_best_est.fit(X_train, y_train)\n",
    "\n",
    "    rf.fit(X_train, y_train)\n",
    "    \n",
    "    if save:\n",
    "        pickle.dump(rf, open(file_dir, 'wb'))\n",
    "    \n",
    "    return rf\n",
    "\n",
    "def print_result(model, X_test, y_test):\n",
    "    pred = model.predict(X_test)\n",
    "\n",
    "    print(classification_report(y_test, pred))\n",
    "    \n",
    "    print('ROC/AUC: ', roc_auc_score(y_test, pred))\n",
    "    print('ACC: ', accuracy_score(y_test, pred))\n",
    "    print('PREC: ', precision_score(y_test, pred))\n",
    "    print('RECALL: ', recall_score(y_test, pred))\n",
    "    print('F1: ', f1_score(y_test, pred))\n",
    "\n",
    "    print('Confusion Matrix: \\n', confusion_matrix(y_test, pred))"
   ]
  },
  {
   "cell_type": "markdown",
   "metadata": {},
   "source": [
    "### RF with 2% ~ 5% \n",
    "* with randomized grid search\n",
    "* adjusting class_weight\n",
    "* save models with roc_auc_score over 0.7"
   ]
  },
  {
   "cell_type": "code",
   "execution_count": 17,
   "metadata": {
    "scrolled": true
   },
   "outputs": [
    {
     "name": "stdout",
     "output_type": "stream",
     "text": [
      "Fitting 3 folds for each of 10 candidates, totalling 30 fits\n"
     ]
    },
    {
     "name": "stderr",
     "output_type": "stream",
     "text": [
      "[Parallel(n_jobs=-1)]: Using backend LokyBackend with 6 concurrent workers.\n",
      "[Parallel(n_jobs=-1)]: Done  30 out of  30 | elapsed:   18.7s finished\n"
     ]
    },
    {
     "name": "stdout",
     "output_type": "stream",
     "text": [
      "Fitting 3 folds for each of 10 candidates, totalling 30 fits\n"
     ]
    },
    {
     "name": "stderr",
     "output_type": "stream",
     "text": [
      "[Parallel(n_jobs=-1)]: Using backend LokyBackend with 6 concurrent workers.\n",
      "[Parallel(n_jobs=-1)]: Done  30 out of  30 | elapsed:   15.6s finished\n"
     ]
    },
    {
     "name": "stdout",
     "output_type": "stream",
     "text": [
      "\n",
      "\n",
      "########################### classification report for 까치 ###########################\n",
      "              precision    recall  f1-score   support\n",
      "\n",
      "           0       0.99      0.98      0.99       901\n",
      "           1       0.62      0.85      0.72        34\n",
      "\n",
      "    accuracy                           0.98       935\n",
      "   macro avg       0.81      0.92      0.85       935\n",
      "weighted avg       0.98      0.98      0.98       935\n",
      "\n",
      "ROC/AUC:  0.9164816870144284\n",
      "ACC:  0.9754010695187165\n",
      "PREC:  0.6170212765957447\n",
      "RECALL:  0.8529411764705882\n",
      "F1:  0.7160493827160493\n",
      "Confusion Matrix: \n",
      " [[883  18]\n",
      " [  5  29]]\n",
      "\n",
      "\n",
      "Fitting 3 folds for each of 10 candidates, totalling 30 fits\n"
     ]
    },
    {
     "name": "stderr",
     "output_type": "stream",
     "text": [
      "[Parallel(n_jobs=-1)]: Using backend LokyBackend with 6 concurrent workers.\n",
      "[Parallel(n_jobs=-1)]: Done  30 out of  30 | elapsed:   14.2s finished\n"
     ]
    },
    {
     "name": "stdout",
     "output_type": "stream",
     "text": [
      "Fitting 3 folds for each of 10 candidates, totalling 30 fits\n"
     ]
    },
    {
     "name": "stderr",
     "output_type": "stream",
     "text": [
      "[Parallel(n_jobs=-1)]: Using backend LokyBackend with 6 concurrent workers.\n",
      "[Parallel(n_jobs=-1)]: Done  30 out of  30 | elapsed:   10.8s finished\n"
     ]
    },
    {
     "name": "stdout",
     "output_type": "stream",
     "text": [
      "\n",
      "\n",
      "########################### classification report for 동박새 ###########################\n",
      "              precision    recall  f1-score   support\n",
      "\n",
      "           0       0.99      0.99      0.99       914\n",
      "           1       0.63      0.57      0.60        21\n",
      "\n",
      "    accuracy                           0.98       935\n",
      "   macro avg       0.81      0.78      0.80       935\n",
      "weighted avg       0.98      0.98      0.98       935\n",
      "\n",
      "ROC/AUC:  0.781884964051266\n",
      "ACC:  0.9828877005347594\n",
      "PREC:  0.631578947368421\n",
      "RECALL:  0.5714285714285714\n",
      "F1:  0.6\n",
      "Confusion Matrix: \n",
      " [[907   7]\n",
      " [  9  12]]\n",
      "\n",
      "\n",
      "Fitting 3 folds for each of 10 candidates, totalling 30 fits\n"
     ]
    },
    {
     "name": "stderr",
     "output_type": "stream",
     "text": [
      "[Parallel(n_jobs=-1)]: Using backend LokyBackend with 6 concurrent workers.\n",
      "[Parallel(n_jobs=-1)]: Done  30 out of  30 | elapsed:   17.6s finished\n"
     ]
    },
    {
     "name": "stdout",
     "output_type": "stream",
     "text": [
      "Fitting 3 folds for each of 10 candidates, totalling 30 fits\n"
     ]
    },
    {
     "name": "stderr",
     "output_type": "stream",
     "text": [
      "[Parallel(n_jobs=-1)]: Using backend LokyBackend with 6 concurrent workers.\n",
      "[Parallel(n_jobs=-1)]: Done  30 out of  30 | elapsed:   16.0s finished\n"
     ]
    },
    {
     "name": "stdout",
     "output_type": "stream",
     "text": [
      "\n",
      "\n",
      "########################### classification report for 멧비둘기 ###########################\n",
      "              precision    recall  f1-score   support\n",
      "\n",
      "           0       0.99      0.98      0.99       901\n",
      "           1       0.67      0.82      0.74        34\n",
      "\n",
      "    accuracy                           0.98       935\n",
      "   macro avg       0.83      0.90      0.86       935\n",
      "weighted avg       0.98      0.98      0.98       935\n",
      "\n",
      "ROC/AUC:  0.9039955604883464\n",
      "ACC:  0.9786096256684492\n",
      "PREC:  0.6666666666666666\n",
      "RECALL:  0.8235294117647058\n",
      "F1:  0.7368421052631577\n",
      "Confusion Matrix: \n",
      " [[887  14]\n",
      " [  6  28]]\n",
      "\n",
      "\n",
      "Fitting 3 folds for each of 10 candidates, totalling 30 fits\n"
     ]
    },
    {
     "name": "stderr",
     "output_type": "stream",
     "text": [
      "[Parallel(n_jobs=-1)]: Using backend LokyBackend with 6 concurrent workers.\n",
      "[Parallel(n_jobs=-1)]: Done  30 out of  30 | elapsed:   15.5s finished\n"
     ]
    },
    {
     "name": "stdout",
     "output_type": "stream",
     "text": [
      "\n",
      "\n",
      "########################### classification report for 박새 ###########################\n",
      "              precision    recall  f1-score   support\n",
      "\n",
      "           0       0.98      0.98      0.98       900\n",
      "           1       0.55      0.51      0.53        35\n",
      "\n",
      "    accuracy                           0.97       935\n",
      "   macro avg       0.76      0.75      0.76       935\n",
      "weighted avg       0.96      0.97      0.97       935\n",
      "\n",
      "ROC/AUC:  0.7488095238095238\n",
      "ACC:  0.9657754010695188\n",
      "PREC:  0.5454545454545454\n",
      "RECALL:  0.5142857142857142\n",
      "F1:  0.5294117647058822\n",
      "Confusion Matrix: \n",
      " [[885  15]\n",
      " [ 17  18]]\n",
      "\n",
      "\n",
      "Fitting 3 folds for each of 10 candidates, totalling 30 fits\n"
     ]
    },
    {
     "name": "stderr",
     "output_type": "stream",
     "text": [
      "[Parallel(n_jobs=-1)]: Using backend LokyBackend with 6 concurrent workers.\n",
      "[Parallel(n_jobs=-1)]: Done  30 out of  30 | elapsed:   19.9s finished\n"
     ]
    },
    {
     "name": "stdout",
     "output_type": "stream",
     "text": [
      "Fitting 3 folds for each of 10 candidates, totalling 30 fits\n"
     ]
    },
    {
     "name": "stderr",
     "output_type": "stream",
     "text": [
      "[Parallel(n_jobs=-1)]: Using backend LokyBackend with 6 concurrent workers.\n",
      "[Parallel(n_jobs=-1)]: Done  30 out of  30 | elapsed:   20.5s finished\n"
     ]
    },
    {
     "name": "stdout",
     "output_type": "stream",
     "text": [
      "Fitting 3 folds for each of 10 candidates, totalling 30 fits\n"
     ]
    },
    {
     "name": "stderr",
     "output_type": "stream",
     "text": [
      "[Parallel(n_jobs=-1)]: Using backend LokyBackend with 6 concurrent workers.\n",
      "[Parallel(n_jobs=-1)]: Done  30 out of  30 | elapsed:   20.0s finished\n"
     ]
    },
    {
     "name": "stdout",
     "output_type": "stream",
     "text": [
      "Fitting 3 folds for each of 10 candidates, totalling 30 fits\n"
     ]
    },
    {
     "name": "stderr",
     "output_type": "stream",
     "text": [
      "[Parallel(n_jobs=-1)]: Using backend LokyBackend with 6 concurrent workers.\n",
      "[Parallel(n_jobs=-1)]: Done  30 out of  30 | elapsed:   23.0s finished\n"
     ]
    },
    {
     "name": "stdout",
     "output_type": "stream",
     "text": [
      "Fitting 3 folds for each of 10 candidates, totalling 30 fits\n"
     ]
    },
    {
     "name": "stderr",
     "output_type": "stream",
     "text": [
      "[Parallel(n_jobs=-1)]: Using backend LokyBackend with 6 concurrent workers.\n",
      "[Parallel(n_jobs=-1)]: Done  30 out of  30 | elapsed:   23.5s finished\n"
     ]
    },
    {
     "name": "stdout",
     "output_type": "stream",
     "text": [
      "Fitting 3 folds for each of 10 candidates, totalling 30 fits\n"
     ]
    },
    {
     "name": "stderr",
     "output_type": "stream",
     "text": [
      "[Parallel(n_jobs=-1)]: Using backend LokyBackend with 6 concurrent workers.\n",
      "[Parallel(n_jobs=-1)]: Done  30 out of  30 | elapsed:   11.4s finished\n"
     ]
    },
    {
     "name": "stdout",
     "output_type": "stream",
     "text": [
      "\n",
      "\n",
      "########################### classification report for 섬휘파람새 ###########################\n",
      "              precision    recall  f1-score   support\n",
      "\n",
      "           0       1.00      0.99      1.00       912\n",
      "           1       0.73      0.96      0.83        23\n",
      "\n",
      "    accuracy                           0.99       935\n",
      "   macro avg       0.87      0.97      0.91       935\n",
      "weighted avg       0.99      0.99      0.99       935\n",
      "\n",
      "ROC/AUC:  0.9738749046529367\n",
      "ACC:  0.9903743315508021\n",
      "PREC:  0.7333333333333333\n",
      "RECALL:  0.9565217391304348\n",
      "F1:  0.8301886792452831\n",
      "Confusion Matrix: \n",
      " [[904   8]\n",
      " [  1  22]]\n",
      "\n",
      "\n",
      "Fitting 3 folds for each of 10 candidates, totalling 30 fits\n"
     ]
    },
    {
     "name": "stderr",
     "output_type": "stream",
     "text": [
      "[Parallel(n_jobs=-1)]: Using backend LokyBackend with 6 concurrent workers.\n",
      "[Parallel(n_jobs=-1)]: Done  30 out of  30 | elapsed:   20.8s finished\n"
     ]
    },
    {
     "name": "stdout",
     "output_type": "stream",
     "text": [
      "Fitting 3 folds for each of 10 candidates, totalling 30 fits\n"
     ]
    },
    {
     "name": "stderr",
     "output_type": "stream",
     "text": [
      "[Parallel(n_jobs=-1)]: Using backend LokyBackend with 6 concurrent workers.\n",
      "[Parallel(n_jobs=-1)]: Done  30 out of  30 | elapsed:   15.9s finished\n"
     ]
    },
    {
     "name": "stdout",
     "output_type": "stream",
     "text": [
      "\n",
      "\n",
      "########################### classification report for 직박구리 ###########################\n",
      "              precision    recall  f1-score   support\n",
      "\n",
      "           0       0.99      0.99      0.99       888\n",
      "           1       0.80      0.85      0.82        47\n",
      "\n",
      "    accuracy                           0.98       935\n",
      "   macro avg       0.90      0.92      0.91       935\n",
      "weighted avg       0.98      0.98      0.98       935\n",
      "\n",
      "ROC/AUC:  0.9199012842629863\n",
      "ACC:  0.9818181818181818\n",
      "PREC:  0.8\n",
      "RECALL:  0.851063829787234\n",
      "F1:  0.8247422680412372\n",
      "Confusion Matrix: \n",
      " [[878  10]\n",
      " [  7  40]]\n",
      "\n",
      "\n",
      "Fitting 3 folds for each of 10 candidates, totalling 30 fits\n"
     ]
    },
    {
     "name": "stderr",
     "output_type": "stream",
     "text": [
      "[Parallel(n_jobs=-1)]: Using backend LokyBackend with 6 concurrent workers.\n",
      "[Parallel(n_jobs=-1)]: Done  30 out of  30 | elapsed:   15.1s finished\n"
     ]
    },
    {
     "name": "stdout",
     "output_type": "stream",
     "text": [
      "Fitting 3 folds for each of 10 candidates, totalling 30 fits\n"
     ]
    },
    {
     "name": "stderr",
     "output_type": "stream",
     "text": [
      "[Parallel(n_jobs=-1)]: Using backend LokyBackend with 6 concurrent workers.\n",
      "[Parallel(n_jobs=-1)]: Done  30 out of  30 | elapsed:   20.2s finished\n"
     ]
    },
    {
     "name": "stdout",
     "output_type": "stream",
     "text": [
      "\n",
      "\n",
      "########################### classification report for 큰부리까마귀 ###########################\n",
      "              precision    recall  f1-score   support\n",
      "\n",
      "           0       0.98      0.99      0.99       905\n",
      "           1       0.55      0.53      0.54        30\n",
      "\n",
      "    accuracy                           0.97       935\n",
      "   macro avg       0.77      0.76      0.76       935\n",
      "weighted avg       0.97      0.97      0.97       935\n",
      "\n",
      "ROC/AUC:  0.7594843462246776\n",
      "ACC:  0.9711229946524064\n",
      "PREC:  0.5517241379310345\n",
      "RECALL:  0.5333333333333333\n",
      "F1:  0.5423728813559322\n",
      "Confusion Matrix: \n",
      " [[892  13]\n",
      " [ 14  16]]\n",
      "\n",
      "\n",
      "Fitting 3 folds for each of 10 candidates, totalling 30 fits\n"
     ]
    },
    {
     "name": "stderr",
     "output_type": "stream",
     "text": [
      "[Parallel(n_jobs=-1)]: Using backend LokyBackend with 6 concurrent workers.\n",
      "[Parallel(n_jobs=-1)]: Done  30 out of  30 | elapsed:   24.1s finished\n"
     ]
    }
   ],
   "source": [
    "dir_name = '/Users/shinbo/Desktop/contest/environ/concat_data/bird/etc/2%~5%/'\n",
    "dir_list = sorted(os.listdir(dir_name))[1:]\n",
    "dict_model_rf = {}\n",
    "save_dir = '/Users/shinbo/Desktop/contest/environ/model/bird/'\n",
    "\n",
    "\n",
    "# Number of trees in random forest\n",
    "n_estimators = [int(x) for x in np.linspace(start = 200, stop = 2000, num = 10)]\n",
    "# Number of features to consider at every split\n",
    "max_features = ['auto', 'sqrt']\n",
    "# Maximum number of levels in tree\n",
    "max_depth = [int(x) for x in np.linspace(10, 110, num = 11)]\n",
    "max_depth.append(None)\n",
    "# Minimum number of samples required to split a node\n",
    "min_samples_split = [2, 5, 10]\n",
    "# Minimum number of samples required at each leaf node\n",
    "min_samples_leaf = [1, 2, 4]\n",
    "# Method of selecting samples for training each tree\n",
    "bootstrap = [True, False]\n",
    "# Create the random grid\n",
    "params = {'n_estimators': n_estimators,\n",
    "               'max_features': max_features,\n",
    "               'max_depth': max_depth,\n",
    "               'min_samples_split': min_samples_split,\n",
    "               'min_samples_leaf': min_samples_leaf,\n",
    "               'bootstrap': bootstrap}\n",
    "\n",
    "\n",
    "for _dir in dir_list:\n",
    "    \n",
    "    tmp = pd.read_csv(dir_name + _dir)\n",
    "    X = tmp[['bio1', 'bio2', 'bio3', 'bio4', 'bio5', 'bio6', 'bio7',\n",
    "           'bio8', 'bio9', 'bio10', 'bio11', 'bio12', 'bio13', 'bio14', 'bio15',\n",
    "           'bio16', 'bio17', 'bio18', 'bio19', 'pet', 'rh', 'srad']]\n",
    "    y = tmp['y']\n",
    "    \n",
    "    weight = len(np.where(y == 0)[0]) / len(np.where(y == 1)[0])\n",
    "\n",
    "    X_train, X_test, y_train, y_test = split_train_test(X, y,0.3)\n",
    "    \n",
    "    # Create a based model\n",
    "    rf = RandomForestClassifier(class_weight={0:1,1:weight})\n",
    "    # Instantiate the grid search model\n",
    "    grid_search = RandomizedSearchCV(estimator = rf, param_distributions = params, \n",
    "                                     cv = 3, verbose=2, random_state=42, n_jobs = -1)\n",
    "\n",
    "    # Fit the grid search to the data\n",
    "    grid_search.fit(X_train, y_train)\n",
    "\n",
    "    # best params\n",
    "\n",
    "    rf_best_est = grid_search.best_estimator_\n",
    "    rf = rf_best_est.fit(X_train, y_train)\n",
    "\n",
    "    rf.fit(X_train, y_train)\n",
    "   \n",
    "    \n",
    "    pred = rf.predict(X_test)\n",
    "    roc_score = roc_auc_score(y_test,pred)\n",
    "    if roc_score >= 0.7:        \n",
    "        print('\\n')\n",
    "        print(f'########################### classification report for {_dir[:-4]} ###########################')\n",
    "        print_result(rf,X_test,y_test)\n",
    "        dict_model_rf[_dir[:-4]] = rf\n",
    "        print('\\n')"
   ]
  },
  {
   "cell_type": "markdown",
   "metadata": {},
   "source": [
    "### random forest 5%~\n",
    "* with randomized grid search\n",
    "* adjusting class_weight\n",
    "* save models with roc_auc_score over 0.7"
   ]
  },
  {
   "cell_type": "code",
   "execution_count": 21,
   "metadata": {
    "scrolled": true
   },
   "outputs": [
    {
     "name": "stdout",
     "output_type": "stream",
     "text": [
      "Fitting 3 folds for each of 10 candidates, totalling 30 fits\n"
     ]
    },
    {
     "name": "stderr",
     "output_type": "stream",
     "text": [
      "[Parallel(n_jobs=-1)]: Using backend LokyBackend with 6 concurrent workers.\n",
      "[Parallel(n_jobs=-1)]: Done  30 out of  30 | elapsed:   24.7s finished\n"
     ]
    },
    {
     "name": "stdout",
     "output_type": "stream",
     "text": [
      "Fitting 3 folds for each of 10 candidates, totalling 30 fits\n"
     ]
    },
    {
     "name": "stderr",
     "output_type": "stream",
     "text": [
      "[Parallel(n_jobs=-1)]: Using backend LokyBackend with 6 concurrent workers.\n",
      "[Parallel(n_jobs=-1)]: Done  30 out of  30 | elapsed:   32.1s finished\n"
     ]
    },
    {
     "name": "stdout",
     "output_type": "stream",
     "text": [
      "Fitting 3 folds for each of 10 candidates, totalling 30 fits\n"
     ]
    },
    {
     "name": "stderr",
     "output_type": "stream",
     "text": [
      "[Parallel(n_jobs=-1)]: Using backend LokyBackend with 6 concurrent workers.\n",
      "[Parallel(n_jobs=-1)]: Done  30 out of  30 | elapsed:   23.8s finished\n"
     ]
    },
    {
     "name": "stdout",
     "output_type": "stream",
     "text": [
      "Fitting 3 folds for each of 10 candidates, totalling 30 fits\n"
     ]
    },
    {
     "name": "stderr",
     "output_type": "stream",
     "text": [
      "[Parallel(n_jobs=-1)]: Using backend LokyBackend with 6 concurrent workers.\n",
      "[Parallel(n_jobs=-1)]: Done  30 out of  30 | elapsed:   27.4s finished\n"
     ]
    },
    {
     "name": "stdout",
     "output_type": "stream",
     "text": [
      "Fitting 3 folds for each of 10 candidates, totalling 30 fits\n"
     ]
    },
    {
     "name": "stderr",
     "output_type": "stream",
     "text": [
      "[Parallel(n_jobs=-1)]: Using backend LokyBackend with 6 concurrent workers.\n",
      "[Parallel(n_jobs=-1)]: Done  30 out of  30 | elapsed:   39.6s finished\n"
     ]
    },
    {
     "name": "stdout",
     "output_type": "stream",
     "text": [
      "Fitting 3 folds for each of 10 candidates, totalling 30 fits\n"
     ]
    },
    {
     "name": "stderr",
     "output_type": "stream",
     "text": [
      "[Parallel(n_jobs=-1)]: Using backend LokyBackend with 6 concurrent workers.\n",
      "[Parallel(n_jobs=-1)]: Done  30 out of  30 | elapsed:   25.0s finished\n"
     ]
    },
    {
     "name": "stdout",
     "output_type": "stream",
     "text": [
      "Fitting 3 folds for each of 10 candidates, totalling 30 fits\n"
     ]
    },
    {
     "name": "stderr",
     "output_type": "stream",
     "text": [
      "[Parallel(n_jobs=-1)]: Using backend LokyBackend with 6 concurrent workers.\n",
      "[Parallel(n_jobs=-1)]: Done  30 out of  30 | elapsed:   26.2s finished\n"
     ]
    },
    {
     "name": "stdout",
     "output_type": "stream",
     "text": [
      "Fitting 3 folds for each of 10 candidates, totalling 30 fits\n"
     ]
    },
    {
     "name": "stderr",
     "output_type": "stream",
     "text": [
      "[Parallel(n_jobs=-1)]: Using backend LokyBackend with 6 concurrent workers.\n",
      "[Parallel(n_jobs=-1)]: Done  30 out of  30 | elapsed:   29.1s finished\n"
     ]
    },
    {
     "name": "stdout",
     "output_type": "stream",
     "text": [
      "Fitting 3 folds for each of 10 candidates, totalling 30 fits\n"
     ]
    },
    {
     "name": "stderr",
     "output_type": "stream",
     "text": [
      "[Parallel(n_jobs=-1)]: Using backend LokyBackend with 6 concurrent workers.\n",
      "[Parallel(n_jobs=-1)]: Done  30 out of  30 | elapsed:   29.6s finished\n"
     ]
    },
    {
     "name": "stdout",
     "output_type": "stream",
     "text": [
      "Fitting 3 folds for each of 10 candidates, totalling 30 fits\n"
     ]
    },
    {
     "name": "stderr",
     "output_type": "stream",
     "text": [
      "[Parallel(n_jobs=-1)]: Using backend LokyBackend with 6 concurrent workers.\n",
      "[Parallel(n_jobs=-1)]: Done  30 out of  30 | elapsed:   27.4s finished\n"
     ]
    }
   ],
   "source": [
    "dir_name = '/Users/shinbo/Desktop/contest/environ/concat_data/bird/etc/5%~/'\n",
    "dir_list = sorted(os.listdir(dir_name))[1:]\n",
    "save_dir = '/Users/shinbo/Desktop/contest/environ/model/bird/'\n",
    "\n",
    "\n",
    "# Number of trees in random forest\n",
    "n_estimators = [int(x) for x in np.linspace(start = 200, stop = 2000, num = 10)]\n",
    "# Number of features to consider at every split\n",
    "max_features = ['auto', 'sqrt']\n",
    "# Maximum number of levels in tree\n",
    "max_depth = [int(x) for x in np.linspace(10, 110, num = 11)]\n",
    "max_depth.append(None)\n",
    "# Minimum number of samples required to split a node\n",
    "min_samples_split = [2, 5, 10]\n",
    "# Minimum number of samples required at each leaf node\n",
    "min_samples_leaf = [1, 2, 4]\n",
    "# Method of selecting samples for training each tree\n",
    "bootstrap = [True, False]\n",
    "# Create the random grid\n",
    "params = {'n_estimators': n_estimators,\n",
    "               'max_features': max_features,\n",
    "               'max_depth': max_depth,\n",
    "               'min_samples_split': min_samples_split,\n",
    "               'min_samples_leaf': min_samples_leaf,\n",
    "               'bootstrap': bootstrap}\n",
    "\n",
    "\n",
    "for _dir in dir_list:\n",
    "    \n",
    "    tmp = pd.read_csv(dir_name + _dir)\n",
    "    X = tmp[['bio1', 'bio2', 'bio3', 'bio4', 'bio5', 'bio6', 'bio7',\n",
    "           'bio8', 'bio9', 'bio10', 'bio11', 'bio12', 'bio13', 'bio14', 'bio15',\n",
    "           'bio16', 'bio17', 'bio18', 'bio19', 'pet', 'rh', 'srad']]\n",
    "    y = tmp['y']\n",
    "    \n",
    "    weight = len(np.where(y == 0)[0]) / len(np.where(y == 1)[0])\n",
    "\n",
    "    X_train, X_test, y_train, y_test = split_train_test(X, y,0.3)\n",
    "    \n",
    "    # Create a based model\n",
    "    rf = RandomForestClassifier(class_weight={0:1,1:weight})\n",
    "    # Instantiate the grid search model\n",
    "    grid_search = RandomizedSearchCV(estimator = rf, param_distributions = params, \n",
    "                                     cv = 3, verbose=2, random_state=42, n_jobs = -1)\n",
    "\n",
    "    # Fit the grid search to the data\n",
    "    grid_search.fit(X_train, y_train)\n",
    "\n",
    "    # best params\n",
    "\n",
    "    rf_best_est = grid_search.best_estimator_\n",
    "    rf = rf_best_est.fit(X_train, y_train)\n",
    "\n",
    "    rf.fit(X_train, y_train)\n",
    "   \n",
    "    \n",
    "    pred = rf.predict(X_test)\n",
    "    roc_score = roc_auc_score(y_test,pred)\n",
    "    if roc_score >= 0.7:        \n",
    "        print('\\n')\n",
    "        print(f'########################### classification report for {_dir[:-4]} ###########################')\n",
    "        print_result(rf,X_test,y_test)\n",
    "        dict_model_rf[_dir[:-4]] = rf\n",
    "        print('\\n')"
   ]
  },
  {
   "cell_type": "code",
   "execution_count": 22,
   "metadata": {},
   "outputs": [],
   "source": [
    "pickle.dump(dict_model_rf, open('../model_dict_weight_adj/bird_rf.pickle', 'wb'))"
   ]
  },
  {
   "cell_type": "markdown",
   "metadata": {},
   "source": [
    "### XG boosting with 2%~5%\n",
    "* with randomized grid search\n",
    "* adjusting scale_pos_weigh\n",
    "* save models with roc_auc_score over 0.7"
   ]
  },
  {
   "cell_type": "code",
   "execution_count": 24,
   "metadata": {
    "scrolled": true
   },
   "outputs": [
    {
     "name": "stdout",
     "output_type": "stream",
     "text": [
      "starting optimizing for 검은딱새\n",
      "done tuning\n",
      "Fitting 5 folds for each of 10 candidates, totalling 50 fits\n"
     ]
    },
    {
     "name": "stderr",
     "output_type": "stream",
     "text": [
      "[Parallel(n_jobs=-1)]: Using backend LokyBackend with 6 concurrent workers.\n",
      "[Parallel(n_jobs=-1)]: Done  29 tasks      | elapsed:    4.2s\n",
      "[Parallel(n_jobs=-1)]: Done  50 out of  50 | elapsed:    8.1s finished\n"
     ]
    },
    {
     "name": "stdout",
     "output_type": "stream",
     "text": [
      "starting optimizing for 까치\n",
      "done tuning\n",
      "Fitting 5 folds for each of 10 candidates, totalling 50 fits\n"
     ]
    },
    {
     "name": "stderr",
     "output_type": "stream",
     "text": [
      "[Parallel(n_jobs=-1)]: Using backend LokyBackend with 6 concurrent workers.\n",
      "[Parallel(n_jobs=-1)]: Done  50 out of  50 | elapsed:    6.2s finished\n"
     ]
    },
    {
     "name": "stdout",
     "output_type": "stream",
     "text": [
      "\n",
      "\n",
      "########################### classification report for 까치 ###########################\n",
      "              precision    recall  f1-score   support\n",
      "\n",
      "           0       0.99      0.98      0.99       901\n",
      "           1       0.60      0.82      0.69        34\n",
      "\n",
      "    accuracy                           0.97       935\n",
      "   macro avg       0.79      0.90      0.84       935\n",
      "weighted avg       0.98      0.97      0.98       935\n",
      "\n",
      "ROC/AUC:  0.9012208657047724\n",
      "ACC:  0.9732620320855615\n",
      "PREC:  0.5957446808510638\n",
      "RECALL:  0.8235294117647058\n",
      "F1:  0.691358024691358\n",
      "Confusion Matrix: \n",
      " [[882  19]\n",
      " [  6  28]]\n",
      "\n",
      "\n",
      "starting optimizing for 꿩\n",
      "done tuning\n",
      "Fitting 5 folds for each of 10 candidates, totalling 50 fits\n"
     ]
    },
    {
     "name": "stderr",
     "output_type": "stream",
     "text": [
      "[Parallel(n_jobs=-1)]: Using backend LokyBackend with 6 concurrent workers.\n",
      "[Parallel(n_jobs=-1)]: Done  50 out of  50 | elapsed:    5.8s finished\n"
     ]
    },
    {
     "name": "stdout",
     "output_type": "stream",
     "text": [
      "\n",
      "\n",
      "########################### classification report for 꿩 ###########################\n",
      "              precision    recall  f1-score   support\n",
      "\n",
      "           0       0.99      0.96      0.98       910\n",
      "           1       0.37      0.80      0.51        25\n",
      "\n",
      "    accuracy                           0.96       935\n",
      "   macro avg       0.68      0.88      0.74       935\n",
      "weighted avg       0.98      0.96      0.97       935\n",
      "\n",
      "ROC/AUC:  0.8813186813186813\n",
      "ACC:  0.9582887700534759\n",
      "PREC:  0.37037037037037035\n",
      "RECALL:  0.8\n",
      "F1:  0.5063291139240506\n",
      "Confusion Matrix: \n",
      " [[876  34]\n",
      " [  5  20]]\n",
      "\n",
      "\n",
      "starting optimizing for 동박새\n",
      "done tuning\n",
      "Fitting 5 folds for each of 10 candidates, totalling 50 fits\n"
     ]
    },
    {
     "name": "stderr",
     "output_type": "stream",
     "text": [
      "[Parallel(n_jobs=-1)]: Using backend LokyBackend with 6 concurrent workers.\n",
      "[Parallel(n_jobs=-1)]: Done  50 out of  50 | elapsed:    3.8s finished\n"
     ]
    },
    {
     "name": "stdout",
     "output_type": "stream",
     "text": [
      "\n",
      "\n",
      "########################### classification report for 동박새 ###########################\n",
      "              precision    recall  f1-score   support\n",
      "\n",
      "           0       0.99      0.99      0.99       914\n",
      "           1       0.64      0.67      0.65        21\n",
      "\n",
      "    accuracy                           0.98       935\n",
      "   macro avg       0.81      0.83      0.82       935\n",
      "weighted avg       0.98      0.98      0.98       935\n",
      "\n",
      "ROC/AUC:  0.8289569657184537\n",
      "ACC:  0.983957219251337\n",
      "PREC:  0.6363636363636364\n",
      "RECALL:  0.6666666666666666\n",
      "F1:  0.6511627906976744\n",
      "Confusion Matrix: \n",
      " [[906   8]\n",
      " [  7  14]]\n",
      "\n",
      "\n",
      "starting optimizing for 두견이\n",
      "done tuning\n",
      "Fitting 5 folds for each of 10 candidates, totalling 50 fits\n"
     ]
    },
    {
     "name": "stderr",
     "output_type": "stream",
     "text": [
      "[Parallel(n_jobs=-1)]: Using backend LokyBackend with 6 concurrent workers.\n",
      "[Parallel(n_jobs=-1)]: Done  50 out of  50 | elapsed:    6.0s finished\n"
     ]
    },
    {
     "name": "stdout",
     "output_type": "stream",
     "text": [
      "\n",
      "\n",
      "########################### classification report for 두견이 ###########################\n",
      "              precision    recall  f1-score   support\n",
      "\n",
      "           0       0.98      0.92      0.95       906\n",
      "           1       0.18      0.52      0.27        29\n",
      "\n",
      "    accuracy                           0.91       935\n",
      "   macro avg       0.58      0.72      0.61       935\n",
      "weighted avg       0.96      0.91      0.93       935\n",
      "\n",
      "ROC/AUC:  0.7205412194564969\n",
      "ACC:  0.9112299465240642\n",
      "PREC:  0.17857142857142858\n",
      "RECALL:  0.5172413793103449\n",
      "F1:  0.26548672566371684\n",
      "Confusion Matrix: \n",
      " [[837  69]\n",
      " [ 14  15]]\n",
      "\n",
      "\n",
      "starting optimizing for 멧비둘기\n",
      "done tuning\n",
      "Fitting 5 folds for each of 10 candidates, totalling 50 fits\n"
     ]
    },
    {
     "name": "stderr",
     "output_type": "stream",
     "text": [
      "[Parallel(n_jobs=-1)]: Using backend LokyBackend with 6 concurrent workers.\n",
      "[Parallel(n_jobs=-1)]: Done  50 out of  50 | elapsed:    6.2s finished\n"
     ]
    },
    {
     "name": "stdout",
     "output_type": "stream",
     "text": [
      "\n",
      "\n",
      "########################### classification report for 멧비둘기 ###########################\n",
      "              precision    recall  f1-score   support\n",
      "\n",
      "           0       1.00      0.98      0.99       901\n",
      "           1       0.60      0.97      0.74        34\n",
      "\n",
      "    accuracy                           0.98       935\n",
      "   macro avg       0.80      0.97      0.86       935\n",
      "weighted avg       0.98      0.98      0.98       935\n",
      "\n",
      "ROC/AUC:  0.9730854605993342\n",
      "ACC:  0.9754010695187165\n",
      "PREC:  0.6\n",
      "RECALL:  0.9705882352941176\n",
      "F1:  0.7415730337078651\n",
      "Confusion Matrix: \n",
      " [[879  22]\n",
      " [  1  33]]\n",
      "\n",
      "\n",
      "starting optimizing for 박새\n",
      "done tuning\n",
      "Fitting 5 folds for each of 10 candidates, totalling 50 fits\n"
     ]
    },
    {
     "name": "stderr",
     "output_type": "stream",
     "text": [
      "[Parallel(n_jobs=-1)]: Using backend LokyBackend with 6 concurrent workers.\n",
      "[Parallel(n_jobs=-1)]: Done  50 out of  50 | elapsed:    6.0s finished\n"
     ]
    },
    {
     "name": "stdout",
     "output_type": "stream",
     "text": [
      "\n",
      "\n",
      "########################### classification report for 박새 ###########################\n",
      "              precision    recall  f1-score   support\n",
      "\n",
      "           0       0.99      0.98      0.98       900\n",
      "           1       0.60      0.69      0.64        35\n",
      "\n",
      "    accuracy                           0.97       935\n",
      "   macro avg       0.79      0.83      0.81       935\n",
      "weighted avg       0.97      0.97      0.97       935\n",
      "\n",
      "ROC/AUC:  0.8339682539682539\n",
      "ACC:  0.9711229946524064\n",
      "PREC:  0.6\n",
      "RECALL:  0.6857142857142857\n",
      "F1:  0.64\n",
      "Confusion Matrix: \n",
      " [[884  16]\n",
      " [ 11  24]]\n",
      "\n",
      "\n",
      "starting optimizing for 벙어리뻐꾸기\n",
      "done tuning\n",
      "Fitting 5 folds for each of 10 candidates, totalling 50 fits\n"
     ]
    },
    {
     "name": "stderr",
     "output_type": "stream",
     "text": [
      "[Parallel(n_jobs=-1)]: Using backend LokyBackend with 6 concurrent workers.\n",
      "[Parallel(n_jobs=-1)]: Done  50 out of  50 | elapsed:    6.8s finished\n"
     ]
    },
    {
     "name": "stdout",
     "output_type": "stream",
     "text": [
      "starting optimizing for 붉은배새매\n",
      "done tuning\n",
      "Fitting 5 folds for each of 10 candidates, totalling 50 fits\n"
     ]
    },
    {
     "name": "stderr",
     "output_type": "stream",
     "text": [
      "[Parallel(n_jobs=-1)]: Using backend LokyBackend with 6 concurrent workers.\n",
      "[Parallel(n_jobs=-1)]: Done  50 out of  50 | elapsed:    7.7s finished\n"
     ]
    },
    {
     "name": "stdout",
     "output_type": "stream",
     "text": [
      "starting optimizing for 뿔논병아리\n",
      "done tuning\n",
      "Fitting 5 folds for each of 10 candidates, totalling 50 fits\n"
     ]
    },
    {
     "name": "stderr",
     "output_type": "stream",
     "text": [
      "[Parallel(n_jobs=-1)]: Using backend LokyBackend with 6 concurrent workers.\n",
      "[Parallel(n_jobs=-1)]: Done  50 out of  50 | elapsed:    7.0s finished\n"
     ]
    },
    {
     "name": "stdout",
     "output_type": "stream",
     "text": [
      "starting optimizing for 새매\n",
      "done tuning\n",
      "Fitting 5 folds for each of 10 candidates, totalling 50 fits\n"
     ]
    },
    {
     "name": "stderr",
     "output_type": "stream",
     "text": [
      "[Parallel(n_jobs=-1)]: Using backend LokyBackend with 6 concurrent workers.\n",
      "[Parallel(n_jobs=-1)]: Done  50 out of  50 | elapsed:    8.2s finished\n"
     ]
    },
    {
     "name": "stdout",
     "output_type": "stream",
     "text": [
      "starting optimizing for 새호리기\n",
      "done tuning\n",
      "Fitting 5 folds for each of 10 candidates, totalling 50 fits\n"
     ]
    },
    {
     "name": "stderr",
     "output_type": "stream",
     "text": [
      "[Parallel(n_jobs=-1)]: Using backend LokyBackend with 6 concurrent workers.\n",
      "[Parallel(n_jobs=-1)]: Done  50 out of  50 | elapsed:    8.3s finished\n"
     ]
    },
    {
     "name": "stdout",
     "output_type": "stream",
     "text": [
      "starting optimizing for 섬휘파람새\n",
      "done tuning\n",
      "Fitting 5 folds for each of 10 candidates, totalling 50 fits\n"
     ]
    },
    {
     "name": "stderr",
     "output_type": "stream",
     "text": [
      "[Parallel(n_jobs=-1)]: Using backend LokyBackend with 6 concurrent workers.\n",
      "[Parallel(n_jobs=-1)]: Done  50 out of  50 | elapsed:    3.7s finished\n"
     ]
    },
    {
     "name": "stdout",
     "output_type": "stream",
     "text": [
      "\n",
      "\n",
      "########################### classification report for 섬휘파람새 ###########################\n",
      "              precision    recall  f1-score   support\n",
      "\n",
      "           0       1.00      0.99      0.99       912\n",
      "           1       0.71      0.96      0.81        23\n",
      "\n",
      "    accuracy                           0.99       935\n",
      "   macro avg       0.85      0.97      0.90       935\n",
      "weighted avg       0.99      0.99      0.99       935\n",
      "\n",
      "ROC/AUC:  0.9733266590389017\n",
      "ACC:  0.9893048128342246\n",
      "PREC:  0.7096774193548387\n",
      "RECALL:  0.9565217391304348\n",
      "F1:  0.8148148148148149\n",
      "Confusion Matrix: \n",
      " [[903   9]\n",
      " [  1  22]]\n",
      "\n",
      "\n",
      "starting optimizing for 소쩍새\n",
      "done tuning\n",
      "Fitting 5 folds for each of 10 candidates, totalling 50 fits\n"
     ]
    },
    {
     "name": "stderr",
     "output_type": "stream",
     "text": [
      "[Parallel(n_jobs=-1)]: Using backend LokyBackend with 6 concurrent workers.\n",
      "[Parallel(n_jobs=-1)]: Done  50 out of  50 | elapsed:    7.2s finished\n"
     ]
    },
    {
     "name": "stdout",
     "output_type": "stream",
     "text": [
      "starting optimizing for 직박구리\n",
      "done tuning\n",
      "Fitting 5 folds for each of 10 candidates, totalling 50 fits\n"
     ]
    },
    {
     "name": "stderr",
     "output_type": "stream",
     "text": [
      "[Parallel(n_jobs=-1)]: Using backend LokyBackend with 6 concurrent workers.\n",
      "[Parallel(n_jobs=-1)]: Done  50 out of  50 | elapsed:    5.9s finished\n"
     ]
    },
    {
     "name": "stdout",
     "output_type": "stream",
     "text": [
      "\n",
      "\n",
      "########################### classification report for 직박구리 ###########################\n",
      "              precision    recall  f1-score   support\n",
      "\n",
      "           0       0.99      0.99      0.99       888\n",
      "           1       0.82      0.89      0.86        47\n",
      "\n",
      "    accuracy                           0.99       935\n",
      "   macro avg       0.91      0.94      0.92       935\n",
      "weighted avg       0.99      0.99      0.99       935\n",
      "\n",
      "ROC/AUC:  0.9417409430707303\n",
      "ACC:  0.9850267379679144\n",
      "PREC:  0.8235294117647058\n",
      "RECALL:  0.8936170212765957\n",
      "F1:  0.8571428571428571\n",
      "Confusion Matrix: \n",
      " [[879   9]\n",
      " [  5  42]]\n",
      "\n",
      "\n",
      "starting optimizing for 참새\n",
      "done tuning\n",
      "Fitting 5 folds for each of 10 candidates, totalling 50 fits\n"
     ]
    },
    {
     "name": "stderr",
     "output_type": "stream",
     "text": [
      "[Parallel(n_jobs=-1)]: Using backend LokyBackend with 6 concurrent workers.\n",
      "[Parallel(n_jobs=-1)]: Done  50 out of  50 | elapsed:    6.0s finished\n"
     ]
    },
    {
     "name": "stdout",
     "output_type": "stream",
     "text": [
      "\n",
      "\n",
      "########################### classification report for 참새 ###########################\n",
      "              precision    recall  f1-score   support\n",
      "\n",
      "           0       0.99      0.99      0.99       912\n",
      "           1       0.54      0.65      0.59        23\n",
      "\n",
      "    accuracy                           0.98       935\n",
      "   macro avg       0.76      0.82      0.79       935\n",
      "weighted avg       0.98      0.98      0.98       935\n",
      "\n",
      "ROC/AUC:  0.818959763539283\n",
      "ACC:  0.9775401069518717\n",
      "PREC:  0.5357142857142857\n",
      "RECALL:  0.6521739130434783\n",
      "F1:  0.5882352941176471\n",
      "Confusion Matrix: \n",
      " [[899  13]\n",
      " [  8  15]]\n",
      "\n",
      "\n",
      "starting optimizing for 큰부리까마귀\n",
      "done tuning\n",
      "Fitting 5 folds for each of 10 candidates, totalling 50 fits\n"
     ]
    },
    {
     "name": "stderr",
     "output_type": "stream",
     "text": [
      "[Parallel(n_jobs=-1)]: Using backend LokyBackend with 6 concurrent workers.\n",
      "[Parallel(n_jobs=-1)]: Done  50 out of  50 | elapsed:    6.0s finished\n"
     ]
    },
    {
     "name": "stdout",
     "output_type": "stream",
     "text": [
      "\n",
      "\n",
      "########################### classification report for 큰부리까마귀 ###########################\n",
      "              precision    recall  f1-score   support\n",
      "\n",
      "           0       0.99      0.98      0.98       905\n",
      "           1       0.51      0.77      0.61        30\n",
      "\n",
      "    accuracy                           0.97       935\n",
      "   macro avg       0.75      0.87      0.80       935\n",
      "weighted avg       0.98      0.97      0.97       935\n",
      "\n",
      "ROC/AUC:  0.8711786372007366\n",
      "ACC:  0.9689839572192513\n",
      "PREC:  0.5111111111111111\n",
      "RECALL:  0.7666666666666667\n",
      "F1:  0.6133333333333334\n",
      "Confusion Matrix: \n",
      " [[883  22]\n",
      " [  7  23]]\n",
      "\n",
      "\n",
      "starting optimizing for 큰오색딱다구리\n",
      "done tuning\n",
      "Fitting 5 folds for each of 10 candidates, totalling 50 fits\n"
     ]
    },
    {
     "name": "stderr",
     "output_type": "stream",
     "text": [
      "[Parallel(n_jobs=-1)]: Using backend LokyBackend with 6 concurrent workers.\n",
      "[Parallel(n_jobs=-1)]: Done  50 out of  50 | elapsed:    8.3s finished\n"
     ]
    }
   ],
   "source": [
    "# etc 2% ~ 5%\n",
    "dir_list = sorted(os.listdir('/Users/shinbo/Desktop/contest/environ/concat_data/bird/etc/2%~5%'))[1:]\n",
    "dict_model_xgb = {}\n",
    "for _dir in dir_list:\n",
    "    \n",
    "    tmp = pd.read_csv('/Users/shinbo/Desktop/contest/environ/concat_data/bird/etc/2%~5%/' + _dir)\n",
    "    X = tmp[['bio1', 'bio2', 'bio3', 'bio4', 'bio5', 'bio6', 'bio7',\n",
    "           'bio8', 'bio9', 'bio10', 'bio11', 'bio12', 'bio13', 'bio14', 'bio15',\n",
    "           'bio16', 'bio17', 'bio18', 'bio19', 'pet', 'rh', 'srad']]\n",
    "    y = tmp['y']\n",
    "    \n",
    "    weight = len(np.where(y == 0)[0]) / len(np.where(y == 1)[0])\n",
    "\n",
    "    X_train, X_test, y_train, y_test = split_train_test(X, y,0.3)\n",
    "\n",
    "        # Create XGB Classifier object\n",
    "    xgb_clf = XGBClassifier(scale_pos_weight = weight)\n",
    "\n",
    "    # Create parameter grid\n",
    "    parameters = {\"learning_rate\": [0.1, 0.01, 0.001],\n",
    "                   \"gamma\" : [0.01, 0.1, 0.3, 0.5, 1, 1.5, 2],\n",
    "                   \"max_depth\": [2, 4, 7, 10],\n",
    "                   \"colsample_bytree\": [0.3, 0.6, 0.8, 1.0],\n",
    "                   \"subsample\": [0.2, 0.4, 0.5, 0.6, 0.7],\n",
    "                   \"reg_alpha\": [0, 0.5, 1],\n",
    "                   \"reg_lambda\": [1, 1.5, 2, 3, 4.5],\n",
    "                   \"min_child_weight\": [1, 3, 5, 7],\n",
    "                   \"n_estimators\": [100, 250, 500, 1000]}\n",
    "\n",
    "    print(f'starting optimizing for {_dir[:-4]}')\n",
    "    # Create RandomizedSearchCV Object\n",
    "    xgb_rscv = RandomizedSearchCV(xgb_clf, param_distributions = parameters, scoring = \"roc_auc\",\n",
    "                                 cv = 5, random_state = 40 , n_jobs = -1, verbose = 2)\n",
    "    print('done tuning')\n",
    "\n",
    "    # Fit the model\n",
    "    model_xgboost = xgb_rscv.fit(X_train, y_train)\n",
    "    \n",
    "    xgb_best = model_xgboost.best_estimator_\n",
    "    \n",
    "    final_xgb = xgb_best.fit(X_train, y_train)\n",
    "    \n",
    "    pred = final_xgb.predict(X_test)\n",
    "    roc_score = roc_auc_score(y_test,pred)\n",
    "    if roc_score >= 0.7:        \n",
    "        print('\\n')\n",
    "        print(f'########################### classification report for {_dir[:-4]} ###########################')\n",
    "        print_result(final_xgb,X_test,y_test)\n",
    "        dict_model_xgb[_dir[:-4]] = final_xgb\n",
    "        print('\\n')"
   ]
  },
  {
   "cell_type": "code",
   "execution_count": 160,
   "metadata": {},
   "outputs": [
    {
     "data": {
      "image/png": "[encoded data removed]",
      "text/plain": [
       "<Figure size 864x576 with 1 Axes>"
      ]
     },
     "metadata": {
      "needs_background": "light"
     },
     "output_type": "display_data"
    }
   ],
   "source": [
    "xgb_pred = dict_model_xgb['섬휘파람새'].predict(X_test)\n",
    "log_fpr, log_tpr, log_thresold = roc_curve(y_test, xgb_pred)\n",
    "\n",
    "def logistic_roc_curve(log_fpr, log_tpr):\n",
    "    plt.figure(figsize=(12,8))\n",
    "    plt.title('XGB Classifier ROC Curve', fontsize=16)\n",
    "    plt.plot(log_fpr, log_tpr, 'b-', linewidth=2)\n",
    "    plt.plot([0, 1], [0, 1], 'r--')\n",
    "    plt.xlabel('False Positive Rate', fontsize=16)\n",
    "    plt.ylabel('True Positive Rate', fontsize=16)\n",
    "    plt.axis([-0.01,1,0,1])\n",
    "    \n",
    "    \n",
    "logistic_roc_curve(log_fpr, log_tpr)\n",
    "plt.show()"
   ]
  },
  {
   "cell_type": "markdown",
   "metadata": {},
   "source": [
    "### xgb over 5%~\n",
    "* with randomized grid search\n",
    "* adjusting scale_pos_weigh\n",
    "* save models with roc_auc_score over 0.7"
   ]
  },
  {
   "cell_type": "code",
   "execution_count": 25,
   "metadata": {
    "scrolled": true
   },
   "outputs": [
    {
     "name": "stdout",
     "output_type": "stream",
     "text": [
      "starting optimizing for 검은등뻐꾸기\n",
      "done tuning\n",
      "Fitting 5 folds for each of 10 candidates, totalling 50 fits\n"
     ]
    },
    {
     "name": "stderr",
     "output_type": "stream",
     "text": [
      "[Parallel(n_jobs=-1)]: Using backend LokyBackend with 6 concurrent workers.\n",
      "[Parallel(n_jobs=-1)]: Done  50 out of  50 | elapsed:    8.4s finished\n"
     ]
    },
    {
     "name": "stdout",
     "output_type": "stream",
     "text": [
      "starting optimizing for 꾀꼬리\n",
      "done tuning\n",
      "Fitting 5 folds for each of 10 candidates, totalling 50 fits\n"
     ]
    },
    {
     "name": "stderr",
     "output_type": "stream",
     "text": [
      "[Parallel(n_jobs=-1)]: Using backend LokyBackend with 6 concurrent workers.\n",
      "[Parallel(n_jobs=-1)]: Done  50 out of  50 | elapsed:    9.5s finished\n"
     ]
    },
    {
     "name": "stdout",
     "output_type": "stream",
     "text": [
      "starting optimizing for 되지빠귀\n",
      "done tuning\n",
      "Fitting 5 folds for each of 10 candidates, totalling 50 fits\n"
     ]
    },
    {
     "name": "stderr",
     "output_type": "stream",
     "text": [
      "[Parallel(n_jobs=-1)]: Using backend LokyBackend with 6 concurrent workers.\n",
      "[Parallel(n_jobs=-1)]: Done  50 out of  50 | elapsed:    8.3s finished\n"
     ]
    },
    {
     "name": "stdout",
     "output_type": "stream",
     "text": [
      "starting optimizing for 물총새\n",
      "done tuning\n",
      "Fitting 5 folds for each of 10 candidates, totalling 50 fits\n"
     ]
    },
    {
     "name": "stderr",
     "output_type": "stream",
     "text": [
      "[Parallel(n_jobs=-1)]: Using backend LokyBackend with 6 concurrent workers.\n",
      "[Parallel(n_jobs=-1)]: Done  50 out of  50 | elapsed:    8.9s finished\n"
     ]
    },
    {
     "name": "stdout",
     "output_type": "stream",
     "text": [
      "starting optimizing for 뻐꾸기\n",
      "done tuning\n",
      "Fitting 5 folds for each of 10 candidates, totalling 50 fits\n"
     ]
    },
    {
     "name": "stderr",
     "output_type": "stream",
     "text": [
      "[Parallel(n_jobs=-1)]: Using backend LokyBackend with 6 concurrent workers.\n",
      "[Parallel(n_jobs=-1)]: Done  50 out of  50 | elapsed:    9.1s finished\n"
     ]
    },
    {
     "name": "stdout",
     "output_type": "stream",
     "text": [
      "starting optimizing for 오색딱다구리\n",
      "done tuning\n",
      "Fitting 5 folds for each of 10 candidates, totalling 50 fits\n"
     ]
    },
    {
     "name": "stderr",
     "output_type": "stream",
     "text": [
      "[Parallel(n_jobs=-1)]: Using backend LokyBackend with 6 concurrent workers.\n",
      "[Parallel(n_jobs=-1)]: Done  50 out of  50 | elapsed:    8.9s finished\n"
     ]
    },
    {
     "name": "stdout",
     "output_type": "stream",
     "text": [
      "starting optimizing for 원앙\n",
      "done tuning\n",
      "Fitting 5 folds for each of 10 candidates, totalling 50 fits\n"
     ]
    },
    {
     "name": "stderr",
     "output_type": "stream",
     "text": [
      "[Parallel(n_jobs=-1)]: Using backend LokyBackend with 6 concurrent workers.\n",
      "[Parallel(n_jobs=-1)]: Done  50 out of  50 | elapsed:    9.0s finished\n"
     ]
    },
    {
     "name": "stdout",
     "output_type": "stream",
     "text": [
      "starting optimizing for 청딱다구리\n",
      "done tuning\n",
      "Fitting 5 folds for each of 10 candidates, totalling 50 fits\n"
     ]
    },
    {
     "name": "stderr",
     "output_type": "stream",
     "text": [
      "[Parallel(n_jobs=-1)]: Using backend LokyBackend with 6 concurrent workers.\n",
      "[Parallel(n_jobs=-1)]: Done  50 out of  50 | elapsed:    9.2s finished\n"
     ]
    },
    {
     "name": "stdout",
     "output_type": "stream",
     "text": [
      "starting optimizing for 파랑새\n",
      "done tuning\n",
      "Fitting 5 folds for each of 10 candidates, totalling 50 fits\n"
     ]
    },
    {
     "name": "stderr",
     "output_type": "stream",
     "text": [
      "[Parallel(n_jobs=-1)]: Using backend LokyBackend with 6 concurrent workers.\n",
      "[Parallel(n_jobs=-1)]: Done  50 out of  50 | elapsed:    9.2s finished\n"
     ]
    },
    {
     "name": "stdout",
     "output_type": "stream",
     "text": [
      "starting optimizing for 황조롱이\n",
      "done tuning\n",
      "Fitting 5 folds for each of 10 candidates, totalling 50 fits\n"
     ]
    },
    {
     "name": "stderr",
     "output_type": "stream",
     "text": [
      "[Parallel(n_jobs=-1)]: Using backend LokyBackend with 6 concurrent workers.\n",
      "[Parallel(n_jobs=-1)]: Done  50 out of  50 | elapsed:    9.0s finished\n"
     ]
    }
   ],
   "source": [
    "# etc 2% ~ 5%\n",
    "dir_list = sorted(os.listdir('/Users/shinbo/Desktop/contest/environ/concat_data/bird/etc/5%~'))[1:]\n",
    "from sklearn.model_selection import RandomizedSearchCV\n",
    "for _dir in dir_list:\n",
    "    \n",
    "    tmp = pd.read_csv('/Users/shinbo/Desktop/contest/environ/concat_data/bird/etc/5%~/' + _dir)\n",
    "    X = tmp[['bio1', 'bio2', 'bio3', 'bio4', 'bio5', 'bio6', 'bio7',\n",
    "           'bio8', 'bio9', 'bio10', 'bio11', 'bio12', 'bio13', 'bio14', 'bio15',\n",
    "           'bio16', 'bio17', 'bio18', 'bio19', 'pet', 'rh', 'srad']]\n",
    "    y = tmp['y']\n",
    "    \n",
    "    weight = len(np.where(y == 0)[0]) / len(np.where(y == 1)[0])\n",
    "\n",
    "    X_train, X_test, y_train, y_test = split_train_test(X, y,0.3)\n",
    "\n",
    "        # Create XGB Classifier object\n",
    "    xgb_clf = XGBClassifier(scale_pos_weight = weight)\n",
    "\n",
    "    # Create parameter grid\n",
    "    parameters = {\"learning_rate\": [0.1, 0.01, 0.001],\n",
    "                   \"gamma\" : [0.01, 0.1, 0.3, 0.5, 1, 1.5, 2],\n",
    "                   \"max_depth\": [2, 4, 7, 10],\n",
    "                   \"colsample_bytree\": [0.3, 0.6, 0.8, 1.0],\n",
    "                   \"subsample\": [0.2, 0.4, 0.5, 0.6, 0.7],\n",
    "                   \"reg_alpha\": [0, 0.5, 1],\n",
    "                   \"reg_lambda\": [1, 1.5, 2, 3, 4.5],\n",
    "                   \"min_child_weight\": [1, 3, 5, 7],\n",
    "                   \"n_estimators\": [100, 250, 500, 1000]}\n",
    "\n",
    "    print(f'starting optimizing for {_dir[:-4]}')\n",
    "    # Create RandomizedSearchCV Object\n",
    "    xgb_rscv = RandomizedSearchCV(xgb_clf, param_distributions = parameters, scoring = \"roc_auc\",\n",
    "                                 cv = 5, random_state = 40 , n_jobs = -1, verbose = 2)\n",
    "    print('done tuning')\n",
    "\n",
    "    # Fit the model\n",
    "    model_xgboost = xgb_rscv.fit(X_train, y_train)\n",
    "    \n",
    "    xgb_best = model_xgboost.best_estimator_\n",
    "    \n",
    "    final_xgb = xgb_best.fit(X_train, y_train)\n",
    "    \n",
    "    pred = final_xgb.predict(X_test)\n",
    "    roc_score = roc_auc_score(y_test,pred)\n",
    "    if roc_score >= 0.7:        \n",
    "        print('\\n')\n",
    "        print(f'########################### classification report for {_dir[:-4]} ###########################')\n",
    "        print_result(final_xgb,X_test,y_test)\n",
    "        dict_model_xgb[_dir[:-4]] = final_xgb\n",
    "        print('\\n')"
   ]
  },
  {
   "cell_type": "markdown",
   "metadata": {},
   "source": [
    "### xgb with 멸종위기"
   ]
  },
  {
   "cell_type": "code",
   "execution_count": 26,
   "metadata": {},
   "outputs": [],
   "source": [
    "dir_list = [\n",
    "    '/Users/shinbo/Desktop/contest/environ/concat_data/bird/second/2%~5%/참매.csv',\n",
    "    '/Users/shinbo/Desktop/contest/environ/concat_data/bird/second/2%~5%/흰목물떼새.csv',\n",
    "    '/Users/shinbo/Desktop/contest/environ/concat_data/bird/second/5%~/말똥가리.csv'\n",
    "]\n",
    "name = ['참매','흰목물떼새','말똥가리']"
   ]
  },
  {
   "cell_type": "code",
   "execution_count": 27,
   "metadata": {},
   "outputs": [
    {
     "name": "stdout",
     "output_type": "stream",
     "text": [
      "starting optimizing for /Users/shinbo/Desktop/contest/environ/concat_data/bird/second/2%~5%/참매\n",
      "done tuning\n",
      "Fitting 5 folds for each of 10 candidates, totalling 50 fits\n"
     ]
    },
    {
     "name": "stderr",
     "output_type": "stream",
     "text": [
      "[Parallel(n_jobs=-1)]: Using backend LokyBackend with 6 concurrent workers.\n",
      "[Parallel(n_jobs=-1)]: Done  50 out of  50 | elapsed:    7.2s finished\n"
     ]
    },
    {
     "name": "stdout",
     "output_type": "stream",
     "text": [
      "starting optimizing for /Users/shinbo/Desktop/contest/environ/concat_data/bird/second/2%~5%/흰목물떼새\n",
      "done tuning\n",
      "Fitting 5 folds for each of 10 candidates, totalling 50 fits\n"
     ]
    },
    {
     "name": "stderr",
     "output_type": "stream",
     "text": [
      "[Parallel(n_jobs=-1)]: Using backend LokyBackend with 6 concurrent workers.\n",
      "[Parallel(n_jobs=-1)]: Done  50 out of  50 | elapsed:    6.9s finished\n"
     ]
    },
    {
     "name": "stdout",
     "output_type": "stream",
     "text": [
      "starting optimizing for /Users/shinbo/Desktop/contest/environ/concat_data/bird/second/5%~/말똥가리\n",
      "done tuning\n",
      "Fitting 5 folds for each of 10 candidates, totalling 50 fits\n"
     ]
    },
    {
     "name": "stderr",
     "output_type": "stream",
     "text": [
      "[Parallel(n_jobs=-1)]: Using backend LokyBackend with 6 concurrent workers.\n",
      "[Parallel(n_jobs=-1)]: Done  50 out of  50 | elapsed:    9.2s finished\n"
     ]
    }
   ],
   "source": [
    "# etc 2% ~ 5%\n",
    "for n,_dir in zip(name, dir_list):\n",
    "    \n",
    "    tmp = pd.read_csv(_dir)\n",
    "    X = tmp[['bio1', 'bio2', 'bio3', 'bio4', 'bio5', 'bio6', 'bio7',\n",
    "           'bio8', 'bio9', 'bio10', 'bio11', 'bio12', 'bio13', 'bio14', 'bio15',\n",
    "           'bio16', 'bio17', 'bio18', 'bio19', 'pet', 'rh', 'srad']]\n",
    "    y = tmp['y']\n",
    "    \n",
    "    weight = len(np.where(y == 0)[0]) / len(np.where(y == 1)[0])\n",
    "\n",
    "    X_train, X_test, y_train, y_test = split_train_test(X, y,0.3)\n",
    "\n",
    "        # Create XGB Classifier object\n",
    "    xgb_clf = XGBClassifier(scale_pos_weight = weight)\n",
    "\n",
    "    # Create parameter grid\n",
    "    parameters = {\"learning_rate\": [0.1, 0.01, 0.001],\n",
    "                   \"gamma\" : [0.01, 0.1, 0.3, 0.5, 1, 1.5, 2],\n",
    "                   \"max_depth\": [2, 4, 7, 10],\n",
    "                   \"colsample_bytree\": [0.3, 0.6, 0.8, 1.0],\n",
    "                   \"subsample\": [0.2, 0.4, 0.5, 0.6, 0.7],\n",
    "                   \"reg_alpha\": [0, 0.5, 1],\n",
    "                   \"reg_lambda\": [1, 1.5, 2, 3, 4.5],\n",
    "                   \"min_child_weight\": [1, 3, 5, 7],\n",
    "                   \"n_estimators\": [100, 250, 500, 1000]}\n",
    "\n",
    "    print(f'starting optimizing for {_dir[:-4]}')\n",
    "    # Create RandomizedSearchCV Object\n",
    "    xgb_rscv = RandomizedSearchCV(xgb_clf, param_distributions = parameters, scoring = \"roc_auc\",\n",
    "                                 cv = 5, random_state = 40 , n_jobs = -1, verbose = 2)\n",
    "    print('done tuning')\n",
    "\n",
    "    # Fit the model\n",
    "    model_xgboost = xgb_rscv.fit(X_train, y_train)\n",
    "    \n",
    "    xgb_best = model_xgboost.best_estimator_\n",
    "    \n",
    "    final_xgb = xgb_best.fit(X_train, y_train)\n",
    "    \n",
    "    pred = final_xgb.predict(X_test)\n",
    "    roc_score = roc_auc_score(y_test,pred)\n",
    "    if roc_score >= 0.7:        \n",
    "        print('\\n')\n",
    "        print(f'########################### classification report for {n} ###########################')\n",
    "        print_result(final_xgb,X_test,y_test)\n",
    "        dict_model_xgb[n] = final_xgb\n",
    "        print('\\n')"
   ]
  },
  {
   "cell_type": "code",
   "execution_count": 28,
   "metadata": {},
   "outputs": [],
   "source": [
    "pickle.dump(dict_model_xgb, open('../model_dict_weight_adj/bird_xgb_exclude.pickle','wb'))"
   ]
  },
  {
   "cell_type": "markdown",
   "metadata": {},
   "source": [
    "### data saving"
   ]
  },
  {
   "cell_type": "code",
   "execution_count": 29,
   "metadata": {},
   "outputs": [],
   "source": [
    "# etc 2% ~ 5%\n",
    "dir_list = sorted(os.listdir('/Users/shinbo/Desktop/contest/environ/concat_data/bird/etc/2%~5%'))[1:]\n",
    "bird_data_dict = {}\n",
    "for _dir in dir_list:\n",
    "    \n",
    "    if _dir[:-4] in list(dict_model_xgb.keys()):\n",
    "        tmp = pd.read_csv('/Users/shinbo/Desktop/contest/environ/concat_data/bird/etc/2%~5%/' + _dir)\n",
    "        X = tmp[['bio1', 'bio2', 'bio3', 'bio4', 'bio5', 'bio6', 'bio7',\n",
    "               'bio8', 'bio9', 'bio10', 'bio11', 'bio12', 'bio13', 'bio14', 'bio15',\n",
    "               'bio16', 'bio17', 'bio18', 'bio19', 'pet', 'rh', 'srad']]\n",
    "        y = tmp['y']\n",
    "\n",
    "        X_train, X_test, y_train, y_test = split_train_test(X, y,0.3)\n",
    "        bird_data_dict[_dir[:-4]] = {'X_train':X_train, 'X_test':X_test, 'y_train':y_train, 'y_test':y_test}"
   ]
  },
  {
   "cell_type": "code",
   "execution_count": 30,
   "metadata": {},
   "outputs": [],
   "source": [
    "pickle.dump(bird_data_dict, open('../model_dict_weight_adj/bird_data.pickle','wb'))"
   ]
  },
  {
   "cell_type": "markdown",
   "metadata": {},
   "source": [
    "## with SMOTE: Not Done"
   ]
  },
  {
   "cell_type": "code",
   "execution_count": 56,
   "metadata": {},
   "outputs": [],
   "source": [
    "from sklearn.model_selection import train_test_split, StratifiedKFold, StratifiedShuffleSplit, cross_val_predict, RandomizedSearchCV\n",
    "\n",
    "# Other Libraries\n",
    "from sklearn.model_selection import train_test_split\n",
    "from sklearn.pipeline import make_pipeline\n",
    "from imblearn.pipeline import make_pipeline as imbalanced_make_pipeline\n",
    "from imblearn.over_sampling import SMOTE\n",
    "from imblearn.under_sampling import NearMiss\n",
    "from imblearn.metrics import classification_report_imbalanced\n",
    "from sklearn.metrics import precision_score, recall_score, f1_score, roc_auc_score, accuracy_score, classification_report, confusion_matrix\n",
    "from collections import Counter\n",
    "from sklearn.model_selection import KFold, StratifiedKFold"
   ]
  },
  {
   "cell_type": "markdown",
   "metadata": {},
   "source": [
    "### SMOTE RF with 2% ~ 5%"
   ]
  },
  {
   "cell_type": "code",
   "execution_count": 126,
   "metadata": {
    "scrolled": true
   },
   "outputs": [
    {
     "name": "stdout",
     "output_type": "stream",
     "text": [
      "Train: [  72   73   76 ... 3113 3114 3115] Test: [   0    1    2 ... 1068 1069 1070]\n",
      "Train: [   0    1    2 ... 3113 3114 3115] Test: [  72   73   76 ... 2115 2116 2117]\n",
      "Train: [   0    1    2 ... 2115 2116 2117] Test: [1971 1990 1991 ... 3113 3114 3115]\n",
      "Label Distributions: \n",
      "\n",
      "[0.94995188 0.05004812]\n",
      "[0.95086705 0.04913295]\n",
      "Fitting 3 folds for each of 432 candidates, totalling 1296 fits\n"
     ]
    },
    {
     "name": "stderr",
     "output_type": "stream",
     "text": [
      "[Parallel(n_jobs=-1)]: Using backend LokyBackend with 6 concurrent workers.\n",
      "[Parallel(n_jobs=-1)]: Done  29 tasks      | elapsed:   19.8s\n",
      "[Parallel(n_jobs=-1)]: Done 150 tasks      | elapsed:  1.3min\n",
      "[Parallel(n_jobs=-1)]: Done 353 tasks      | elapsed:  2.9min\n",
      "[Parallel(n_jobs=-1)]: Done 636 tasks      | elapsed:  5.0min\n",
      "[Parallel(n_jobs=-1)]: Done 1001 tasks      | elapsed:  8.4min\n",
      "[Parallel(n_jobs=-1)]: Done 1296 out of 1296 | elapsed: 11.2min finished\n"
     ]
    },
    {
     "name": "stdout",
     "output_type": "stream",
     "text": [
      "Fitting 3 folds for each of 432 candidates, totalling 1296 fits\n"
     ]
    },
    {
     "name": "stderr",
     "output_type": "stream",
     "text": [
      "[Parallel(n_jobs=-1)]: Using backend LokyBackend with 6 concurrent workers.\n",
      "[Parallel(n_jobs=-1)]: Done  29 tasks      | elapsed:   16.1s\n",
      "[Parallel(n_jobs=-1)]: Done 150 tasks      | elapsed:  1.3min\n",
      "[Parallel(n_jobs=-1)]: Done 353 tasks      | elapsed:  3.1min\n",
      "[Parallel(n_jobs=-1)]: Done 636 tasks      | elapsed:  5.6min\n",
      "[Parallel(n_jobs=-1)]: Done 1001 tasks      | elapsed:  9.9min\n",
      "[Parallel(n_jobs=-1)]: Done 1296 out of 1296 | elapsed: 13.4min finished\n"
     ]
    },
    {
     "name": "stdout",
     "output_type": "stream",
     "text": [
      "Fitting 3 folds for each of 432 candidates, totalling 1296 fits\n"
     ]
    },
    {
     "name": "stderr",
     "output_type": "stream",
     "text": [
      "[Parallel(n_jobs=-1)]: Using backend LokyBackend with 6 concurrent workers.\n",
      "[Parallel(n_jobs=-1)]: Done  29 tasks      | elapsed:   13.1s\n",
      "[Parallel(n_jobs=-1)]: Done 150 tasks      | elapsed:  1.1min\n",
      "[Parallel(n_jobs=-1)]: Done 353 tasks      | elapsed:  2.5min\n",
      "[Parallel(n_jobs=-1)]: Done 636 tasks      | elapsed:  4.5min\n",
      "[Parallel(n_jobs=-1)]: Done 1001 tasks      | elapsed:  8.0min\n",
      "[Parallel(n_jobs=-1)]: Done 1296 out of 1296 | elapsed: 10.8min finished\n"
     ]
    },
    {
     "name": "stdout",
     "output_type": "stream",
     "text": [
      "********************validation result********************\n",
      "accuracy: 0.9384090005477289\n",
      "precision: 0.6161438326931284\n",
      "recall: 0.6478991596638655\n",
      "f1: 0.4100073777018094\n",
      "********************test result********************\n",
      "              precision    recall  f1-score   support\n",
      "\n",
      "           0       0.95      1.00      0.97       987\n",
      "           1       0.00      0.00      0.00        51\n",
      "\n",
      "    accuracy                           0.95      1038\n",
      "   macro avg       0.48      0.50      0.49      1038\n",
      "weighted avg       0.90      0.95      0.93      1038\n",
      "\n",
      "ROC/AUC:  0.5\n",
      "ACC:  0.9508670520231214\n",
      "PREC:  0.0\n",
      "RECALL:  0.0\n",
      "F1:  0.0\n",
      "Confusion Matrix: \n",
      " [[987   0]\n",
      " [ 51   0]]\n",
      "Train: [  85   86   88 ... 3113 3114 3115] Test: [   0    1    2 ... 1058 1059 1060]\n",
      "Train: [   0    1    2 ... 3113 3114 3115] Test: [  85   86   88 ... 2099 2100 2105]\n",
      "Train: [   0    1    2 ... 2099 2100 2105] Test: [1993 1996 1999 ... 3113 3114 3115]\n",
      "Label Distributions: \n",
      "\n",
      "[0.96342637 0.03657363]\n",
      "[0.96435453 0.03564547]\n",
      "Fitting 3 folds for each of 432 candidates, totalling 1296 fits\n"
     ]
    },
    {
     "name": "stderr",
     "output_type": "stream",
     "text": [
      "/Users/shinbo/opt/anaconda3/lib/python3.7/site-packages/sklearn/metrics/_classification.py:1221: UndefinedMetricWarning: Precision and F-score are ill-defined and being set to 0.0 in labels with no predicted samples. Use `zero_division` parameter to control this behavior.\n",
      "  _warn_prf(average, modifier, msg_start, len(result))\n",
      "/Users/shinbo/opt/anaconda3/lib/python3.7/site-packages/sklearn/metrics/_classification.py:1221: UndefinedMetricWarning: Precision is ill-defined and being set to 0.0 due to no predicted samples. Use `zero_division` parameter to control this behavior.\n",
      "  _warn_prf(average, modifier, msg_start, len(result))\n",
      "[Parallel(n_jobs=-1)]: Using backend LokyBackend with 6 concurrent workers.\n",
      "[Parallel(n_jobs=-1)]: Done  29 tasks      | elapsed:   13.7s\n",
      "[Parallel(n_jobs=-1)]: Done 150 tasks      | elapsed:  1.2min\n",
      "[Parallel(n_jobs=-1)]: Done 353 tasks      | elapsed:  2.6min\n",
      "[Parallel(n_jobs=-1)]: Done 636 tasks      | elapsed:  4.8min\n",
      "[Parallel(n_jobs=-1)]: Done 1001 tasks      | elapsed:  8.1min\n",
      "[Parallel(n_jobs=-1)]: Done 1296 out of 1296 | elapsed: 10.8min finished\n"
     ]
    },
    {
     "name": "stdout",
     "output_type": "stream",
     "text": [
      "Fitting 3 folds for each of 432 candidates, totalling 1296 fits\n"
     ]
    },
    {
     "name": "stderr",
     "output_type": "stream",
     "text": [
      "[Parallel(n_jobs=-1)]: Using backend LokyBackend with 6 concurrent workers.\n",
      "[Parallel(n_jobs=-1)]: Done  29 tasks      | elapsed:   16.7s\n",
      "[Parallel(n_jobs=-1)]: Done 150 tasks      | elapsed:  1.4min\n",
      "[Parallel(n_jobs=-1)]: Done 353 tasks      | elapsed:  3.2min\n",
      "[Parallel(n_jobs=-1)]: Done 636 tasks      | elapsed:  5.7min\n",
      "[Parallel(n_jobs=-1)]: Done 1001 tasks      | elapsed: 10.1min\n"
     ]
    },
    {
     "ename": "KeyboardInterrupt",
     "evalue": "",
     "output_type": "error",
     "traceback": [
      "\u001b[0;31m---------------------------------------------------------------------------\u001b[0m",
      "\u001b[0;31mKeyboardInterrupt\u001b[0m                         Traceback (most recent call last)",
      "\u001b[0;32m<ipython-input-126-1044dedd1af5>\u001b[0m in \u001b[0;36m<module>\u001b[0;34m\u001b[0m\n\u001b[1;32m     57\u001b[0m     \u001b[0;32mfor\u001b[0m \u001b[0mtrain\u001b[0m\u001b[0;34m,\u001b[0m \u001b[0mtest\u001b[0m \u001b[0;32min\u001b[0m \u001b[0msss\u001b[0m\u001b[0;34m.\u001b[0m\u001b[0msplit\u001b[0m\u001b[0;34m(\u001b[0m\u001b[0moriginal_Xtrain\u001b[0m\u001b[0;34m,\u001b[0m \u001b[0moriginal_ytrain\u001b[0m\u001b[0;34m)\u001b[0m\u001b[0;34m:\u001b[0m\u001b[0;34m\u001b[0m\u001b[0;34m\u001b[0m\u001b[0m\n\u001b[1;32m     58\u001b[0m         \u001b[0mpipeline\u001b[0m \u001b[0;34m=\u001b[0m \u001b[0mimbalanced_make_pipeline\u001b[0m\u001b[0;34m(\u001b[0m\u001b[0mSMOTE\u001b[0m\u001b[0;34m(\u001b[0m\u001b[0msampling_strategy\u001b[0m\u001b[0;34m=\u001b[0m\u001b[0;34m'minority'\u001b[0m\u001b[0;34m)\u001b[0m\u001b[0;34m,\u001b[0m \u001b[0mgrid_search\u001b[0m\u001b[0;34m)\u001b[0m \u001b[0;31m# SMOTE happens during Cross Validation not before..\u001b[0m\u001b[0;34m\u001b[0m\u001b[0;34m\u001b[0m\u001b[0m\n\u001b[0;32m---> 59\u001b[0;31m         \u001b[0mmodel\u001b[0m \u001b[0;34m=\u001b[0m \u001b[0mpipeline\u001b[0m\u001b[0;34m.\u001b[0m\u001b[0mfit\u001b[0m\u001b[0;34m(\u001b[0m\u001b[0moriginal_Xtrain\u001b[0m\u001b[0;34m[\u001b[0m\u001b[0mtrain\u001b[0m\u001b[0;34m]\u001b[0m\u001b[0;34m,\u001b[0m \u001b[0moriginal_ytrain\u001b[0m\u001b[0;34m[\u001b[0m\u001b[0mtrain\u001b[0m\u001b[0;34m]\u001b[0m\u001b[0;34m)\u001b[0m\u001b[0;34m\u001b[0m\u001b[0;34m\u001b[0m\u001b[0m\n\u001b[0m\u001b[1;32m     60\u001b[0m         \u001b[0mbest_est\u001b[0m \u001b[0;34m=\u001b[0m \u001b[0mgrid_search\u001b[0m\u001b[0;34m.\u001b[0m\u001b[0mbest_estimator_\u001b[0m\u001b[0;34m\u001b[0m\u001b[0;34m\u001b[0m\u001b[0m\n\u001b[1;32m     61\u001b[0m         \u001b[0mprediction\u001b[0m \u001b[0;34m=\u001b[0m \u001b[0mbest_est\u001b[0m\u001b[0;34m.\u001b[0m\u001b[0mpredict\u001b[0m\u001b[0;34m(\u001b[0m\u001b[0moriginal_Xtrain\u001b[0m\u001b[0;34m[\u001b[0m\u001b[0mtest\u001b[0m\u001b[0;34m]\u001b[0m\u001b[0;34m)\u001b[0m\u001b[0;34m\u001b[0m\u001b[0;34m\u001b[0m\u001b[0m\n",
      "\u001b[0;32m~/opt/anaconda3/lib/python3.7/site-packages/imblearn/pipeline.py\u001b[0m in \u001b[0;36mfit\u001b[0;34m(self, X, y, **fit_params)\u001b[0m\n\u001b[1;32m    279\u001b[0m                                  self._log_message(len(self.steps) - 1)):\n\u001b[1;32m    280\u001b[0m             \u001b[0;32mif\u001b[0m \u001b[0mself\u001b[0m\u001b[0;34m.\u001b[0m\u001b[0m_final_estimator\u001b[0m \u001b[0;34m!=\u001b[0m \u001b[0;34m\"passthrough\"\u001b[0m\u001b[0;34m:\u001b[0m\u001b[0;34m\u001b[0m\u001b[0;34m\u001b[0m\u001b[0m\n\u001b[0;32m--> 281\u001b[0;31m                 \u001b[0mself\u001b[0m\u001b[0;34m.\u001b[0m\u001b[0m_final_estimator\u001b[0m\u001b[0;34m.\u001b[0m\u001b[0mfit\u001b[0m\u001b[0;34m(\u001b[0m\u001b[0mXt\u001b[0m\u001b[0;34m,\u001b[0m \u001b[0myt\u001b[0m\u001b[0;34m,\u001b[0m \u001b[0;34m**\u001b[0m\u001b[0mfit_params\u001b[0m\u001b[0;34m)\u001b[0m\u001b[0;34m\u001b[0m\u001b[0;34m\u001b[0m\u001b[0m\n\u001b[0m\u001b[1;32m    282\u001b[0m         \u001b[0;32mreturn\u001b[0m \u001b[0mself\u001b[0m\u001b[0;34m\u001b[0m\u001b[0;34m\u001b[0m\u001b[0m\n\u001b[1;32m    283\u001b[0m \u001b[0;34m\u001b[0m\u001b[0m\n",
      "\u001b[0;32m~/opt/anaconda3/lib/python3.7/site-packages/sklearn/utils/validation.py\u001b[0m in \u001b[0;36minner_f\u001b[0;34m(*args, **kwargs)\u001b[0m\n\u001b[1;32m     71\u001b[0m                           FutureWarning)\n\u001b[1;32m     72\u001b[0m         \u001b[0mkwargs\u001b[0m\u001b[0;34m.\u001b[0m\u001b[0mupdate\u001b[0m\u001b[0;34m(\u001b[0m\u001b[0;34m{\u001b[0m\u001b[0mk\u001b[0m\u001b[0;34m:\u001b[0m \u001b[0marg\u001b[0m \u001b[0;32mfor\u001b[0m \u001b[0mk\u001b[0m\u001b[0;34m,\u001b[0m \u001b[0marg\u001b[0m \u001b[0;32min\u001b[0m \u001b[0mzip\u001b[0m\u001b[0;34m(\u001b[0m\u001b[0msig\u001b[0m\u001b[0;34m.\u001b[0m\u001b[0mparameters\u001b[0m\u001b[0;34m,\u001b[0m \u001b[0margs\u001b[0m\u001b[0;34m)\u001b[0m\u001b[0;34m}\u001b[0m\u001b[0;34m)\u001b[0m\u001b[0;34m\u001b[0m\u001b[0;34m\u001b[0m\u001b[0m\n\u001b[0;32m---> 73\u001b[0;31m         \u001b[0;32mreturn\u001b[0m \u001b[0mf\u001b[0m\u001b[0;34m(\u001b[0m\u001b[0;34m**\u001b[0m\u001b[0mkwargs\u001b[0m\u001b[0;34m)\u001b[0m\u001b[0;34m\u001b[0m\u001b[0;34m\u001b[0m\u001b[0m\n\u001b[0m\u001b[1;32m     74\u001b[0m     \u001b[0;32mreturn\u001b[0m \u001b[0minner_f\u001b[0m\u001b[0;34m\u001b[0m\u001b[0;34m\u001b[0m\u001b[0m\n\u001b[1;32m     75\u001b[0m \u001b[0;34m\u001b[0m\u001b[0m\n",
      "\u001b[0;32m~/opt/anaconda3/lib/python3.7/site-packages/sklearn/model_selection/_search.py\u001b[0m in \u001b[0;36mfit\u001b[0;34m(self, X, y, groups, **fit_params)\u001b[0m\n\u001b[1;32m    734\u001b[0m                 \u001b[0;32mreturn\u001b[0m \u001b[0mresults\u001b[0m\u001b[0;34m\u001b[0m\u001b[0;34m\u001b[0m\u001b[0m\n\u001b[1;32m    735\u001b[0m \u001b[0;34m\u001b[0m\u001b[0m\n\u001b[0;32m--> 736\u001b[0;31m             \u001b[0mself\u001b[0m\u001b[0;34m.\u001b[0m\u001b[0m_run_search\u001b[0m\u001b[0;34m(\u001b[0m\u001b[0mevaluate_candidates\u001b[0m\u001b[0;34m)\u001b[0m\u001b[0;34m\u001b[0m\u001b[0;34m\u001b[0m\u001b[0m\n\u001b[0m\u001b[1;32m    737\u001b[0m \u001b[0;34m\u001b[0m\u001b[0m\n\u001b[1;32m    738\u001b[0m         \u001b[0;31m# For multi-metric evaluation, store the best_index_, best_params_ and\u001b[0m\u001b[0;34m\u001b[0m\u001b[0;34m\u001b[0m\u001b[0;34m\u001b[0m\u001b[0m\n",
      "\u001b[0;32m~/opt/anaconda3/lib/python3.7/site-packages/sklearn/model_selection/_search.py\u001b[0m in \u001b[0;36m_run_search\u001b[0;34m(self, evaluate_candidates)\u001b[0m\n\u001b[1;32m   1186\u001b[0m     \u001b[0;32mdef\u001b[0m \u001b[0m_run_search\u001b[0m\u001b[0;34m(\u001b[0m\u001b[0mself\u001b[0m\u001b[0;34m,\u001b[0m \u001b[0mevaluate_candidates\u001b[0m\u001b[0;34m)\u001b[0m\u001b[0;34m:\u001b[0m\u001b[0;34m\u001b[0m\u001b[0;34m\u001b[0m\u001b[0m\n\u001b[1;32m   1187\u001b[0m         \u001b[0;34m\"\"\"Search all candidates in param_grid\"\"\"\u001b[0m\u001b[0;34m\u001b[0m\u001b[0;34m\u001b[0m\u001b[0m\n\u001b[0;32m-> 1188\u001b[0;31m         \u001b[0mevaluate_candidates\u001b[0m\u001b[0;34m(\u001b[0m\u001b[0mParameterGrid\u001b[0m\u001b[0;34m(\u001b[0m\u001b[0mself\u001b[0m\u001b[0;34m.\u001b[0m\u001b[0mparam_grid\u001b[0m\u001b[0;34m)\u001b[0m\u001b[0;34m)\u001b[0m\u001b[0;34m\u001b[0m\u001b[0;34m\u001b[0m\u001b[0m\n\u001b[0m\u001b[1;32m   1189\u001b[0m \u001b[0;34m\u001b[0m\u001b[0m\n\u001b[1;32m   1190\u001b[0m \u001b[0;34m\u001b[0m\u001b[0m\n",
      "\u001b[0;32m~/opt/anaconda3/lib/python3.7/site-packages/sklearn/model_selection/_search.py\u001b[0m in \u001b[0;36mevaluate_candidates\u001b[0;34m(candidate_params)\u001b[0m\n\u001b[1;32m    713\u001b[0m                                \u001b[0;32mfor\u001b[0m \u001b[0mparameters\u001b[0m\u001b[0;34m,\u001b[0m \u001b[0;34m(\u001b[0m\u001b[0mtrain\u001b[0m\u001b[0;34m,\u001b[0m \u001b[0mtest\u001b[0m\u001b[0;34m)\u001b[0m\u001b[0;34m\u001b[0m\u001b[0;34m\u001b[0m\u001b[0m\n\u001b[1;32m    714\u001b[0m                                in product(candidate_params,\n\u001b[0;32m--> 715\u001b[0;31m                                           cv.split(X, y, groups)))\n\u001b[0m\u001b[1;32m    716\u001b[0m \u001b[0;34m\u001b[0m\u001b[0m\n\u001b[1;32m    717\u001b[0m                 \u001b[0;32mif\u001b[0m \u001b[0mlen\u001b[0m\u001b[0;34m(\u001b[0m\u001b[0mout\u001b[0m\u001b[0;34m)\u001b[0m \u001b[0;34m<\u001b[0m \u001b[0;36m1\u001b[0m\u001b[0;34m:\u001b[0m\u001b[0;34m\u001b[0m\u001b[0;34m\u001b[0m\u001b[0m\n",
      "\u001b[0;32m~/opt/anaconda3/lib/python3.7/site-packages/joblib/parallel.py\u001b[0m in \u001b[0;36m__call__\u001b[0;34m(self, iterable)\u001b[0m\n\u001b[1;32m   1015\u001b[0m \u001b[0;34m\u001b[0m\u001b[0m\n\u001b[1;32m   1016\u001b[0m             \u001b[0;32mwith\u001b[0m \u001b[0mself\u001b[0m\u001b[0;34m.\u001b[0m\u001b[0m_backend\u001b[0m\u001b[0;34m.\u001b[0m\u001b[0mretrieval_context\u001b[0m\u001b[0;34m(\u001b[0m\u001b[0;34m)\u001b[0m\u001b[0;34m:\u001b[0m\u001b[0;34m\u001b[0m\u001b[0;34m\u001b[0m\u001b[0m\n\u001b[0;32m-> 1017\u001b[0;31m                 \u001b[0mself\u001b[0m\u001b[0;34m.\u001b[0m\u001b[0mretrieve\u001b[0m\u001b[0;34m(\u001b[0m\u001b[0;34m)\u001b[0m\u001b[0;34m\u001b[0m\u001b[0;34m\u001b[0m\u001b[0m\n\u001b[0m\u001b[1;32m   1018\u001b[0m             \u001b[0;31m# Make sure that we get a last message telling us we are done\u001b[0m\u001b[0;34m\u001b[0m\u001b[0;34m\u001b[0m\u001b[0;34m\u001b[0m\u001b[0m\n\u001b[1;32m   1019\u001b[0m             \u001b[0melapsed_time\u001b[0m \u001b[0;34m=\u001b[0m \u001b[0mtime\u001b[0m\u001b[0;34m.\u001b[0m\u001b[0mtime\u001b[0m\u001b[0;34m(\u001b[0m\u001b[0;34m)\u001b[0m \u001b[0;34m-\u001b[0m \u001b[0mself\u001b[0m\u001b[0;34m.\u001b[0m\u001b[0m_start_time\u001b[0m\u001b[0;34m\u001b[0m\u001b[0;34m\u001b[0m\u001b[0m\n",
      "\u001b[0;32m~/opt/anaconda3/lib/python3.7/site-packages/joblib/parallel.py\u001b[0m in \u001b[0;36mretrieve\u001b[0;34m(self)\u001b[0m\n\u001b[1;32m    907\u001b[0m             \u001b[0;32mtry\u001b[0m\u001b[0;34m:\u001b[0m\u001b[0;34m\u001b[0m\u001b[0;34m\u001b[0m\u001b[0m\n\u001b[1;32m    908\u001b[0m                 \u001b[0;32mif\u001b[0m \u001b[0mgetattr\u001b[0m\u001b[0;34m(\u001b[0m\u001b[0mself\u001b[0m\u001b[0;34m.\u001b[0m\u001b[0m_backend\u001b[0m\u001b[0;34m,\u001b[0m \u001b[0;34m'supports_timeout'\u001b[0m\u001b[0;34m,\u001b[0m \u001b[0;32mFalse\u001b[0m\u001b[0;34m)\u001b[0m\u001b[0;34m:\u001b[0m\u001b[0;34m\u001b[0m\u001b[0;34m\u001b[0m\u001b[0m\n\u001b[0;32m--> 909\u001b[0;31m                     \u001b[0mself\u001b[0m\u001b[0;34m.\u001b[0m\u001b[0m_output\u001b[0m\u001b[0;34m.\u001b[0m\u001b[0mextend\u001b[0m\u001b[0;34m(\u001b[0m\u001b[0mjob\u001b[0m\u001b[0;34m.\u001b[0m\u001b[0mget\u001b[0m\u001b[0;34m(\u001b[0m\u001b[0mtimeout\u001b[0m\u001b[0;34m=\u001b[0m\u001b[0mself\u001b[0m\u001b[0;34m.\u001b[0m\u001b[0mtimeout\u001b[0m\u001b[0;34m)\u001b[0m\u001b[0;34m)\u001b[0m\u001b[0;34m\u001b[0m\u001b[0;34m\u001b[0m\u001b[0m\n\u001b[0m\u001b[1;32m    910\u001b[0m                 \u001b[0;32melse\u001b[0m\u001b[0;34m:\u001b[0m\u001b[0;34m\u001b[0m\u001b[0;34m\u001b[0m\u001b[0m\n\u001b[1;32m    911\u001b[0m                     \u001b[0mself\u001b[0m\u001b[0;34m.\u001b[0m\u001b[0m_output\u001b[0m\u001b[0;34m.\u001b[0m\u001b[0mextend\u001b[0m\u001b[0;34m(\u001b[0m\u001b[0mjob\u001b[0m\u001b[0;34m.\u001b[0m\u001b[0mget\u001b[0m\u001b[0;34m(\u001b[0m\u001b[0;34m)\u001b[0m\u001b[0;34m)\u001b[0m\u001b[0;34m\u001b[0m\u001b[0;34m\u001b[0m\u001b[0m\n",
      "\u001b[0;32m~/opt/anaconda3/lib/python3.7/site-packages/joblib/_parallel_backends.py\u001b[0m in \u001b[0;36mwrap_future_result\u001b[0;34m(future, timeout)\u001b[0m\n\u001b[1;32m    560\u001b[0m         AsyncResults.get from multiprocessing.\"\"\"\n\u001b[1;32m    561\u001b[0m         \u001b[0;32mtry\u001b[0m\u001b[0;34m:\u001b[0m\u001b[0;34m\u001b[0m\u001b[0;34m\u001b[0m\u001b[0m\n\u001b[0;32m--> 562\u001b[0;31m             \u001b[0;32mreturn\u001b[0m \u001b[0mfuture\u001b[0m\u001b[0;34m.\u001b[0m\u001b[0mresult\u001b[0m\u001b[0;34m(\u001b[0m\u001b[0mtimeout\u001b[0m\u001b[0;34m=\u001b[0m\u001b[0mtimeout\u001b[0m\u001b[0;34m)\u001b[0m\u001b[0;34m\u001b[0m\u001b[0;34m\u001b[0m\u001b[0m\n\u001b[0m\u001b[1;32m    563\u001b[0m         \u001b[0;32mexcept\u001b[0m \u001b[0mLokyTimeoutError\u001b[0m\u001b[0;34m:\u001b[0m\u001b[0;34m\u001b[0m\u001b[0;34m\u001b[0m\u001b[0m\n\u001b[1;32m    564\u001b[0m             \u001b[0;32mraise\u001b[0m \u001b[0mTimeoutError\u001b[0m\u001b[0;34m(\u001b[0m\u001b[0;34m)\u001b[0m\u001b[0;34m\u001b[0m\u001b[0;34m\u001b[0m\u001b[0m\n",
      "\u001b[0;32m~/opt/anaconda3/lib/python3.7/concurrent/futures/_base.py\u001b[0m in \u001b[0;36mresult\u001b[0;34m(self, timeout)\u001b[0m\n\u001b[1;32m    428\u001b[0m                 \u001b[0;32mreturn\u001b[0m \u001b[0mself\u001b[0m\u001b[0;34m.\u001b[0m\u001b[0m__get_result\u001b[0m\u001b[0;34m(\u001b[0m\u001b[0;34m)\u001b[0m\u001b[0;34m\u001b[0m\u001b[0;34m\u001b[0m\u001b[0m\n\u001b[1;32m    429\u001b[0m \u001b[0;34m\u001b[0m\u001b[0m\n\u001b[0;32m--> 430\u001b[0;31m             \u001b[0mself\u001b[0m\u001b[0;34m.\u001b[0m\u001b[0m_condition\u001b[0m\u001b[0;34m.\u001b[0m\u001b[0mwait\u001b[0m\u001b[0;34m(\u001b[0m\u001b[0mtimeout\u001b[0m\u001b[0;34m)\u001b[0m\u001b[0;34m\u001b[0m\u001b[0;34m\u001b[0m\u001b[0m\n\u001b[0m\u001b[1;32m    431\u001b[0m \u001b[0;34m\u001b[0m\u001b[0m\n\u001b[1;32m    432\u001b[0m             \u001b[0;32mif\u001b[0m \u001b[0mself\u001b[0m\u001b[0;34m.\u001b[0m\u001b[0m_state\u001b[0m \u001b[0;32min\u001b[0m \u001b[0;34m[\u001b[0m\u001b[0mCANCELLED\u001b[0m\u001b[0;34m,\u001b[0m \u001b[0mCANCELLED_AND_NOTIFIED\u001b[0m\u001b[0;34m]\u001b[0m\u001b[0;34m:\u001b[0m\u001b[0;34m\u001b[0m\u001b[0;34m\u001b[0m\u001b[0m\n",
      "\u001b[0;32m~/opt/anaconda3/lib/python3.7/threading.py\u001b[0m in \u001b[0;36mwait\u001b[0;34m(self, timeout)\u001b[0m\n\u001b[1;32m    294\u001b[0m         \u001b[0;32mtry\u001b[0m\u001b[0;34m:\u001b[0m    \u001b[0;31m# restore state no matter what (e.g., KeyboardInterrupt)\u001b[0m\u001b[0;34m\u001b[0m\u001b[0;34m\u001b[0m\u001b[0m\n\u001b[1;32m    295\u001b[0m             \u001b[0;32mif\u001b[0m \u001b[0mtimeout\u001b[0m \u001b[0;32mis\u001b[0m \u001b[0;32mNone\u001b[0m\u001b[0;34m:\u001b[0m\u001b[0;34m\u001b[0m\u001b[0;34m\u001b[0m\u001b[0m\n\u001b[0;32m--> 296\u001b[0;31m                 \u001b[0mwaiter\u001b[0m\u001b[0;34m.\u001b[0m\u001b[0macquire\u001b[0m\u001b[0;34m(\u001b[0m\u001b[0;34m)\u001b[0m\u001b[0;34m\u001b[0m\u001b[0;34m\u001b[0m\u001b[0m\n\u001b[0m\u001b[1;32m    297\u001b[0m                 \u001b[0mgotit\u001b[0m \u001b[0;34m=\u001b[0m \u001b[0;32mTrue\u001b[0m\u001b[0;34m\u001b[0m\u001b[0;34m\u001b[0m\u001b[0m\n\u001b[1;32m    298\u001b[0m             \u001b[0;32melse\u001b[0m\u001b[0;34m:\u001b[0m\u001b[0;34m\u001b[0m\u001b[0;34m\u001b[0m\u001b[0m\n",
      "\u001b[0;31mKeyboardInterrupt\u001b[0m: "
     ]
    }
   ],
   "source": [
    "# etc 2% ~ 5%\n",
    "dir_list = sorted(os.listdir('/Users/shinbo/Desktop/contest/environ/concat_data/bird/etc/2%~5%'))[1:]\n",
    "dir_list = ['직박구리.csv','까치.csv','꿩.csv']\n",
    "dict_model_rf_smote = {}\n",
    "for _dir in dir_list:\n",
    "    tmp = pd.read_csv('/Users/shinbo/Desktop/contest/environ/concat_data/bird/etc/2%~5%/' + _dir)\n",
    "    X = tmp[['bio1', 'bio2', 'bio3', 'bio4', 'bio5', 'bio6', 'bio7',\n",
    "           'bio8', 'bio9', 'bio10', 'bio11', 'bio12', 'bio13', 'bio14', 'bio15',\n",
    "           'bio16', 'bio17', 'bio18', 'bio19', 'pet', 'rh', 'srad', 'lon', 'lat',\n",
    "           'alt']]\n",
    "    y = tmp['y']\n",
    "\n",
    "\n",
    "    sss = StratifiedKFold(n_splits=3, random_state=None, shuffle=False)\n",
    "\n",
    "    for train_index, test_index in sss.split(X, y):\n",
    "        print(\"Train:\", train_index, \"Test:\", test_index)\n",
    "        original_Xtrain, original_Xtest = X.iloc[train_index], X.iloc[test_index]\n",
    "        original_ytrain, original_ytest = y.iloc[train_index], y.iloc[test_index]\n",
    "\n",
    "    # Turn into an array\n",
    "    original_Xtrain = original_Xtrain.values\n",
    "    original_Xtest = original_Xtest.values\n",
    "    original_ytrain = original_ytrain.values\n",
    "    original_ytest = original_ytest.values\n",
    "\n",
    "    # See if both the train and test label distribution are similarly distributed\n",
    "    train_unique_label, train_counts_label = np.unique(original_ytrain, return_counts=True)\n",
    "    test_unique_label, test_counts_label = np.unique(original_ytest, return_counts=True)\n",
    "    # print('-' * 100)\n",
    "\n",
    "    print('Label Distributions: \\n')\n",
    "    print(train_counts_label/ len(original_ytrain))\n",
    "    print(test_counts_label/ len(original_ytest))\n",
    "\n",
    "\n",
    "    accuracy_lst = []\n",
    "    precision_lst = []\n",
    "    recall_lst = []\n",
    "    f1_lst = []\n",
    "    auc_lst = []\n",
    "\n",
    "    param_grid = {'bootstrap': [True, False],\n",
    "         'max_depth': [ 80, 90, 100, None],\n",
    "         'max_features': ['auto', 'sqrt'],\n",
    "         'min_samples_leaf': [1, 2, 4],\n",
    "         'min_samples_split': [2, 5, 10],\n",
    "         'n_estimators': [600, 800, 1000]\n",
    "                     }\n",
    "\n",
    "    # Create a based model\n",
    "    rf = RandomForestClassifier()\n",
    "    # Instantiate the grid search model\n",
    "    grid_search = GridSearchCV(estimator = rf, param_grid = param_grid, \n",
    "                              cv = 3, n_jobs = -1, verbose = 2)\n",
    "\n",
    "    for train, test in sss.split(original_Xtrain, original_ytrain):\n",
    "        pipeline = imbalanced_make_pipeline(SMOTE(sampling_strategy='minority'), grid_search) # SMOTE happens during Cross Validation not before..\n",
    "        model = pipeline.fit(original_Xtrain[train], original_ytrain[train])\n",
    "        best_est = grid_search.best_estimator_\n",
    "        prediction = best_est.predict(original_Xtrain[test])\n",
    "\n",
    "        accuracy_lst.append(pipeline.score(original_Xtrain[test], original_ytrain[test]))\n",
    "        precision_lst.append(precision_score(original_ytrain[test], prediction))\n",
    "        recall_lst.append(recall_score(original_ytrain[test], prediction))\n",
    "        f1_lst.append(f1_score(original_ytrain[test], prediction))\n",
    "        auc_lst.append(roc_auc_score(original_ytrain[test], prediction))\n",
    "        \n",
    "    dict_model_rf_smote[_dir[:-4]] = best_est\n",
    "\n",
    "    print('*'*20 + 'validation result' + '*'*20)\n",
    "    print(\"accuracy: {}\".format(np.mean(accuracy_lst)))\n",
    "    print(\"precision: {}\".format(np.mean(precision_lst)))\n",
    "    print(\"recall: {}\".format(np.mean(recall_lst)))\n",
    "    print(\"f1: {}\".format(np.mean(f1_lst)))\n",
    "\n",
    "    print('*'*20 + 'test result' + '*'*20)\n",
    "    print_result(best_est, original_Xtest, original_ytest)"
   ]
  }
 ],
 "metadata": {
  "kernelspec": {
   "display_name": "Python 3",
   "language": "python",
   "name": "python3"
  },
  "language_info": {
   "codemirror_mode": {
    "name": "ipython",
    "version": 3
   },
   "file_extension": ".py",
   "mimetype": "text/x-python",
   "name": "python",
   "nbconvert_exporter": "python",
   "pygments_lexer": "ipython3",
   "version": "3.7.6"
  }
 },
 "nbformat": 4,
 "nbformat_minor": 4
}
