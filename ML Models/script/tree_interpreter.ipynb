{
 "cells": [
  {
   "cell_type": "code",
   "execution_count": 1,
   "metadata": {},
   "outputs": [
    {
     "name": "stderr",
     "output_type": "stream",
     "text": [
      "/Users/shinbo/opt/anaconda3/lib/python3.7/site-packages/sklearn/utils/deprecation.py:143: FutureWarning: The sklearn.ensemble.forest module is  deprecated in version 0.22 and will be removed in version 0.24. The corresponding classes / functions should instead be imported from sklearn.ensemble. Anything that cannot be imported from sklearn.ensemble is now part of the private API.\n",
      "  warnings.warn(message, FutureWarning)\n"
     ]
    }
   ],
   "source": [
    "import pandas as pd\n",
    "import numpy as np\n",
    "import pickle\n",
    "import os\n",
    "from treeinterpreter import treeinterpreter as ti\n",
    "\n",
    "from sklearn.metrics import classification_report, roc_auc_score"
   ]
  },
  {
   "cell_type": "code",
   "execution_count": 130,
   "metadata": {},
   "outputs": [
    {
     "data": {
      "text/plain": [
       "dict_keys(['늪깔따구아과류', '네모집날도래 Kub', '민강도래 KUb', '둥근입기수우렁이', '큰애우묵날도래', '청나비날도래', '애모기 KUa', '금빛하루살이', '깔따구류 sp.1', '작은강하루살이', '각다귀 KUa', '두갈래하루살이', '애날도래 Kua', '명주각다귀 Kua', '긴무늬왕잠자리', '큰밀잠자리', '늪깔따구류', '넓은물삿갓벌레 KUa', '참거머리', '갈색우묵날도래 Kub', '뿔하루살이', '큰자실잠자리', '꼬마물방개', '수염치레날도래', '알물땡땡이', '고추좀잠자리', '밀잠자리붙이', '둥근날개날도래', '뒷가시물땡땡이', '몽땅하루살이', '아가미지렁이', '광택날도래 KUa', '중국물진드기', '참재첩', '실지렁이류', '동양줄날도래', '꼬리치레하루살이', '민하루살이', '깔따구류', '곳체다슬기', '별날도래', '보통옆새우', '애넓적물땡땡이', '개똥하루살이', '쇠측범잠자리', '흰부채하루살이', '검은머리물날도래', '애날도래 KUa', '연못하루살이', '실지렁이', '등검은실잠자리', '갈색우묵날도래 KUa', '물벌레류', '물벌레1', '각다귀류', '말조개', '네점하루살이', '소금쟁이', '얼룩날개모기류', '둥근물삿갓벌레 KUa', '물달팽이', '고추잠자리', '줄동애등에', '어리장수잠자리', '두점하루살이', '잔산잠자리', '아시아실잠자리', '새뱅이', '다슬기', '왕잠자리', '방울실잠자리'])"
      ]
     },
     "execution_count": 130,
     "metadata": {},
     "output_type": "execute_result"
    }
   ],
   "source": [
    "aa.keys()"
   ]
  },
  {
   "cell_type": "code",
   "execution_count": 136,
   "metadata": {},
   "outputs": [],
   "source": [
    "bird_xgb = pickle.load(open('../model_dict_weight_adj/bird_xgb_exclude.pickle','rb'))\n",
    "flr_xgb = pickle.load(open('../model_dict_weight_adj/flr_xgb.pickle','rb'))\n",
    "bnin_xgb = pickle.load(open('../model_dict_weight_adj/bnin_xgb_exclude.pickle','rb'))\n",
    "insect_xgb = pickle.load(open('../model_dict_weight_adj/insect_xgb_exclude.pickle','rb'))\n",
    "\n",
    "# bird_rf = pickle.load(open('../model_dict_weight_adj/bird_rf.pickle','rb'))\n",
    "# flr_rf = pickle.load(open('../model_dict_weight_adj/flr_rf.pickle','rb'))\n",
    "# bnin_rf = pickle.load(open('../model_dict_weight_adj/bnin_rf.pickle','rb'))\n",
    "# insect_rf = pickle.load(open('../model_dict_weight_adj/insect_rf.pickle','rb'))\n",
    "\n",
    "bird_data = pickle.load(open('../model_dict_weight_adj/bird_data.pickle','rb'))\n",
    "flr_data = pickle.load(open('../model_dict_weight_adj/flr_data.pickle','rb'))\n",
    "bnin_data = pickle.load(open('../model_dict_weight_adj/bnin_data_exclude.pickle','rb'))\n",
    "insect_data = pickle.load(open('../model_dict_weight_adj/insect_data.pickle','rb'))"
   ]
  },
  {
   "cell_type": "code",
   "execution_count": 133,
   "metadata": {},
   "outputs": [
    {
     "data": {
      "text/plain": [
       "(10, 80, 68, 59)"
      ]
     },
     "execution_count": 133,
     "metadata": {},
     "output_type": "execute_result"
    }
   ],
   "source": [
    "len(bird_xgb.keys()), len(flr_xgb.keys()), len(bnin_xgb.keys()), len(insect_xgb.keys()) "
   ]
  },
  {
   "cell_type": "code",
   "execution_count": 146,
   "metadata": {},
   "outputs": [],
   "source": [
    "dict_model_list = [bird_xgb, flr_xgb, bnin_xgb, insect_xgb]\n",
    "dict_data_list = [bird_data, flr_data, bnin_data, insect_data]\n",
    "dict_roc_auc = {}\n",
    "cat = ['bird','flr','bnin','insect']\n",
    "for c in cat:\n",
    "    dict_roc_auc[c] = []\n",
    "\n",
    "for n, m, d in zip(cat, dict_model_list, dict_data_list):\n",
    "    for key in list(m.keys()):\n",
    "        model = m[key]\n",
    "        X_test = d[key]['X_test']\n",
    "        y_test = d[key]['y_test']\n",
    "        pred = model.predict(X_test)\n",
    "        score = roc_auc_score(y_test, pred)\n",
    "        dict_roc_auc[n].append(score)"
   ]
  },
  {
   "cell_type": "code",
   "execution_count": 147,
   "metadata": {},
   "outputs": [
    {
     "name": "stdout",
     "output_type": "stream",
     "text": [
      "bird에서 최대값은 0.9733266590389017, 평균은 0.8744297449615643\n",
      "종은 섬휘파람새\n",
      "flr에서 최대값은 0.9673076923076923, 평균은 0.7819836339918538\n",
      "종은 참식나무\n",
      "bnin에서 최대값은 0.9938650306748466, 평균은 0.7734038892599281\n",
      "종은 늪깔따구아과류\n",
      "insect에서 최대값은 0.9191629955947136, 평균은 0.7723515877176464\n",
      "종은 제주왕딱정벌레\n"
     ]
    }
   ],
   "source": [
    "for i, key in enumerate(list(dict_roc_auc.keys())):\n",
    "    print(f'{key}에서 최대값은 {max(dict_roc_auc[key])}, 평균은 {np.mean(dict_roc_auc[key])}')\n",
    "    print(f'종은 { list(dict_model_list[i].keys())[np.where(dict_roc_auc[key] == max(dict_roc_auc[key]))[0][0]] }')"
   ]
  },
  {
   "cell_type": "markdown",
   "metadata": {},
   "source": [
    "## prediction time!"
   ]
  },
  {
   "cell_type": "code",
   "execution_count": 113,
   "metadata": {},
   "outputs": [],
   "source": [
    "pred_grid = pd.read_csv('../concat_data/pred_grid/final_test_data.csv')"
   ]
  },
  {
   "cell_type": "code",
   "execution_count": 124,
   "metadata": {},
   "outputs": [],
   "source": [
    "## incheon\n",
    "inch = pd.read_csv('../concat_data/pred_grid/inch_final.csv')\n",
    "inch = inch.fillna(0)\n",
    "model = bnin_xgb['깔따구류']\n",
    "y_pred = model.predict(inch)\n",
    "y_prob = model.predict_proba(inch)\n",
    "inch['y_pred'] = y_pred\n",
    "inch['y_prob'] = y_prob[:,1]\n",
    "inch.to_csv('../concat_data/pred_grid/inch_final_pred.csv', index=False)"
   ]
  },
  {
   "cell_type": "code",
   "execution_count": 137,
   "metadata": {},
   "outputs": [],
   "source": [
    "## bnin\n",
    "df_pred = pd.DataFrame()\n",
    "df_prob = pd.DataFrame()\n",
    "\n",
    "# for key in list(bnin_xgb.keys()):\n",
    "#     model = bnin_xgb[key]\n",
    "#     y_pred = model.predict(pred_grid.iloc[:,:-2])\n",
    "#     y_prob = model.predict_proba(pred_grid.iloc[:,:-2])\n",
    "    \n",
    "#     df_pred[key] = y_pred\n",
    "#     df_prob[key] = y_prob[:,1]\n",
    "    \n",
    "# df_pred['location'] = pred_grid['location']\n",
    "# df_pred['grid_index'] = pred_grid['grid_index']\n",
    "\n",
    "# df_prob['location'] = pred_grid['location']\n",
    "# df_prob['grid_index'] = pred_grid['grid_index']\n",
    "\n",
    "# df_pred = pd.DataFrame()\n",
    "# df_prob = pd.DataFrame()\n",
    "\n",
    "## bird\n",
    "for key in list(insect_xgb.keys()):\n",
    "    model = insect_xgb[key]\n",
    "    y_pred = model.predict(pred_grid.iloc[:,:-2])\n",
    "    y_prob = model.predict_proba(pred_grid.iloc[:,:-2])\n",
    "    \n",
    "    df_pred[key] = y_pred\n",
    "    df_prob[key] = y_prob[:,1]\n",
    "    \n",
    "df_pred['location'] = pred_grid['location']\n",
    "df_pred['grid_index'] = pred_grid['grid_index']\n",
    "\n",
    "df_prob['location'] = pred_grid['location']\n",
    "df_prob['grid_index'] = pred_grid['grid_index']"
   ]
  },
  {
   "cell_type": "code",
   "execution_count": 139,
   "metadata": {},
   "outputs": [],
   "source": [
    "df_pred.to_csv('../concat_data/pred_grid/insect/df_pred.csv', index=False)\n",
    "df_prob.to_csv('../concat_data/pred_grid/insect/df_prob.csv', index=False)"
   ]
  },
  {
   "cell_type": "code",
   "execution_count": 145,
   "metadata": {},
   "outputs": [
    {
     "data": {
      "text/plain": [
       "0.39338257908821106"
      ]
     },
     "execution_count": 145,
     "metadata": {},
     "output_type": "execute_result"
    }
   ],
   "source": [
    "df_prob['알락하늘소'].min()"
   ]
  },
  {
   "cell_type": "markdown",
   "metadata": {},
   "source": [
    "## tree interpreter"
   ]
  },
  {
   "cell_type": "code",
   "execution_count": 113,
   "metadata": {},
   "outputs": [
    {
     "name": "stdout",
     "output_type": "stream",
     "text": [
      "                129  contribution_variable\n",
      "bio19    289.130000                  0.155\n",
      "bio4    6977.800000                  0.126\n",
      "bio6      28.090000                  0.082\n",
      "bio17    232.820000                  0.081\n",
      "bio12   1910.610000                  0.077\n",
      "bio14     64.560000                  0.076\n",
      "bio3      82.000000                  0.071\n",
      "bio9      83.540000                  0.068\n",
      "lon      126.695000                  0.061\n",
      "bio2      18.800000                  0.060\n",
      "rh      6386.545833                  0.036\n",
      "lat       33.462500                  0.023\n",
      "bio8     239.250000                  0.021\n",
      "pet       38.402346                  0.020\n",
      "bio5     254.840000                  0.011\n",
      "bio11     47.090000                  0.005\n",
      "alt      338.181818                  0.004\n",
      "bio7     226.300000                  0.004\n",
      "bio10    243.840000                  0.001\n",
      "bio1     140.930000                 -0.000\n",
      "srad   17364.866667                 -0.001\n",
      "bio15     43.800000                 -0.015\n",
      "bio16    791.340000                 -0.033\n",
      "bio18    789.150000                 -0.046\n",
      "bio13    275.390000                 -0.049\n",
      "                 88  contribution_variable\n",
      "bio4    6939.350000                  0.099\n",
      "bio19    187.000000                  0.068\n",
      "bio7     225.000000                  0.042\n",
      "bio9      93.900000                  0.042\n",
      "bio18    932.600000                  0.030\n",
      "bio13    332.100000                  0.016\n",
      "bio3      79.850000                  0.015\n",
      "rh      6345.116667                  0.013\n",
      "bio17    148.700000                  0.011\n",
      "bio16    949.950000                  0.009\n",
      "bio2      18.000000                  0.008\n",
      "bio6      38.200000                  0.007\n",
      "bio12   1770.250000                  0.003\n",
      "lat       33.357500                  0.002\n",
      "pet       38.786029                 -0.003\n",
      "alt      195.051136                 -0.006\n",
      "bio14     40.850000                 -0.006\n",
      "lon      126.735000                 -0.017\n",
      "bio8     229.900000                 -0.020\n",
      "bio11     57.050000                 -0.021\n",
      "bio5     263.200000                 -0.023\n",
      "bio1     150.200000                 -0.025\n",
      "bio10    252.550000                 -0.026\n",
      "srad   17933.587500                 -0.026\n",
      "bio15     68.150000                 -0.041\n"
     ]
    }
   ],
   "source": [
    "X = train_test_specs_dict['섬휘파람새'][2].iloc[np.array([26,298]),:]\n",
    "rf_model = bird_rf['섬휘파람새']\n",
    "for i,row in X.iterrows():\n",
    "\n",
    "    data_point = pd.DataFrame([row])\n",
    "    data_point.set_axis(['value_variable']) # Once transposed, it will be the column name\n",
    "    prediction, bias, contributions = ti.predict(rf_model, data_point)\n",
    "    local_interpretation = data_point.append(\n",
    "    pd.DataFrame([[round(c[1],3) for c in contributions[0]]], columns=data_point.columns.tolist(), index=['contribution_variable'])\n",
    "    ).T.sort_values('contribution_variable', ascending=False)\n",
    "    print(local_interpretation)"
   ]
  },
  {
   "cell_type": "code",
   "execution_count": 28,
   "metadata": {},
   "outputs": [],
   "source": [
    "temp = rf_model.predict_proba(train_test_specs_dict['섬휘파람새'][2])"
   ]
  },
  {
   "cell_type": "code",
   "execution_count": 38,
   "metadata": {},
   "outputs": [
    {
     "data": {
      "text/plain": [
       "array([0.0074821 , 0.03411768, 0.04002737, 0.14879243, 0.01609369,\n",
       "       0.08697278, 0.06995571, 0.01122642, 0.08495232, 0.00707675,\n",
       "       0.01268287, 0.04364165, 0.03355293, 0.01958289, 0.01721572,\n",
       "       0.02932447, 0.03529473, 0.03176939, 0.09955532, 0.0381396 ,\n",
       "       0.05003838, 0.01543903, 0.03007981, 0.02960651, 0.00737943])"
      ]
     },
     "execution_count": 38,
     "metadata": {},
     "output_type": "execute_result"
    }
   ],
   "source": [
    "rf_model.feature_importances_"
   ]
  },
  {
   "cell_type": "code",
   "execution_count": 123,
   "metadata": {},
   "outputs": [
    {
     "name": "stdout",
     "output_type": "stream",
     "text": [
      "Instance 0 prediction: 1\n",
      "Instance 1 prediction: 0\n"
     ]
    }
   ],
   "source": [
    "instances = train_test_specs_dict['섬휘파람새'][2].iloc[np.array([26,298]),:]\n",
    "rf = bird_rf['섬휘파람새']\n",
    "\n",
    "pred_label = rf.predict(instances)\n",
    "print(\"Instance 0 prediction:\", pred_label[0])\n",
    "print(\"Instance 1 prediction:\", pred_label[1])\n",
    "prediction, bias, contributions = ti.predict(rf, instances)"
   ]
  },
  {
   "cell_type": "code",
   "execution_count": 128,
   "metadata": {},
   "outputs": [
    {
     "name": "stdout",
     "output_type": "stream",
     "text": [
      "Instance 0\n",
      "Bias (trainset mean) [0.97478221 0.02521779]\n",
      "Predicted label:  1\n",
      "Feature Contribution Observed\n",
      "bio19      0.15      289.13\n",
      "bio4      0.13      6977.8\n",
      "bio6      0.08      28.09\n",
      "bio17      0.08      232.82\n",
      "bio12      0.08      1910.61\n",
      "bio14      0.08      64.56\n",
      "bio3      0.07      82.0\n",
      "bio9      0.07      83.54\n",
      "lon      0.06      126.695\n",
      "bio2      0.06      18.8\n",
      "bio13      -0.05      275.39\n",
      "bio18      -0.05      789.15\n",
      "rh      0.04      6386.54583333333\n",
      "bio16      -0.03      791.34\n",
      "lat      0.02      33.4625\n",
      "bio8      0.02      239.25\n",
      "pet      0.02      38.4023456637065\n",
      "bio15      -0.01      43.8\n",
      "bio5      0.01      254.84\n",
      "bio11      0.0      47.09\n",
      "bio7      0.0      226.3\n",
      "alt      0.0      338.181818181818\n",
      "srad      -0.0      17364.866666666698\n",
      "bio10      0.0      243.84\n",
      "bio1      -0.0      140.93\n",
      "--------------------\n",
      "Instance 1\n",
      "Bias (trainset mean) [0.97478221 0.02521779]\n",
      "Predicted label:  0\n",
      "Feature Contribution Observed\n",
      "bio4      -0.1      6939.35\n",
      "bio19      -0.07      187.0\n",
      "bio7      -0.04      225.0\n",
      "bio9      -0.04      93.9\n",
      "bio15      0.04      68.15\n",
      "bio18      -0.03      932.6\n",
      "srad      0.03      17933.5875\n",
      "bio10      0.03      252.55\n",
      "bio1      0.03      150.2\n",
      "bio5      0.02      263.2\n",
      "bio11      0.02      57.05\n",
      "bio8      0.02      229.9\n",
      "lon      0.02      126.735\n",
      "bio13      -0.02      332.1\n",
      "bio3      -0.01      79.85\n",
      "rh      -0.01      6345.1166666666695\n",
      "bio17      -0.01      148.7\n",
      "bio16      -0.01      949.95\n",
      "bio2      -0.01      18.0\n",
      "bio6      -0.01      38.2\n",
      "bio14      0.01      40.85\n",
      "alt      0.01      195.051136363636\n",
      "pet      0.0      38.7860294898351\n",
      "bio12      -0.0      1770.25\n",
      "lat      -0.0      33.3575\n",
      "--------------------\n"
     ]
    }
   ],
   "source": [
    "for i in range(len(instances)):\n",
    "    print(\"Instance\", i)\n",
    "    print(\"Bias (trainset mean)\", bias[i])\n",
    "    print('Predicted label: ', pred_label[i])\n",
    "    print(\"Feature Contribution Observed\")\n",
    "    for c, feature, y in sorted(zip(contributions[i][:,pred_label[i]], list(instances.columns),instances.iloc[i,:]), key=lambda x: -abs(x[0]) ):\n",
    "        print(feature, '    ', round(c, 2), '    ', y)\n",
    "    print(\"-\"*20 )"
   ]
  },
  {
   "cell_type": "code",
   "execution_count": 78,
   "metadata": {},
   "outputs": [
    {
     "data": {
      "text/plain": [
       "array([[0.1375  , 0.8625  ],\n",
       "       [0.825625, 0.174375]])"
      ]
     },
     "execution_count": 78,
     "metadata": {},
     "output_type": "execute_result"
    }
   ],
   "source": [
    "prediction"
   ]
  },
  {
   "cell_type": "code",
   "execution_count": 80,
   "metadata": {},
   "outputs": [
    {
     "data": {
      "text/plain": [
       "array([[0.1375  , 0.8625  ],\n",
       "       [0.825625, 0.174375]])"
      ]
     },
     "execution_count": 80,
     "metadata": {},
     "output_type": "execute_result"
    }
   ],
   "source": [
    "bias + np.sum(contributions, axis=1)"
   ]
  },
  {
   "cell_type": "code",
   "execution_count": 82,
   "metadata": {},
   "outputs": [
    {
     "data": {
      "text/plain": [
       "array([[-0.83728221,  0.83728221],\n",
       "       [-0.14915721,  0.14915721]])"
      ]
     },
     "execution_count": 82,
     "metadata": {},
     "output_type": "execute_result"
    }
   ],
   "source": [
    "np.sum(contributions, axis=1)"
   ]
  },
  {
   "cell_type": "code",
   "execution_count": 83,
   "metadata": {},
   "outputs": [
    {
     "data": {
      "text/plain": [
       "array([[[ 0.00038901, -0.00038901],\n",
       "        [-0.06003856,  0.06003856],\n",
       "        [-0.07087924,  0.07087924],\n",
       "        [-0.12598187,  0.12598187],\n",
       "        [-0.01064621,  0.01064621],\n",
       "        [-0.08204883,  0.08204883],\n",
       "        [-0.00415856,  0.00415856],\n",
       "        [-0.0210451 ,  0.0210451 ],\n",
       "        [-0.06778061,  0.06778061],\n",
       "        [-0.00087039,  0.00087039],\n",
       "        [-0.00455097,  0.00455097],\n",
       "        [-0.07656193,  0.07656193],\n",
       "        [ 0.04854684, -0.04854684],\n",
       "        [-0.07557645,  0.07557645],\n",
       "        [ 0.01498187, -0.01498187],\n",
       "        [ 0.03322052, -0.03322052],\n",
       "        [-0.08136622,  0.08136622],\n",
       "        [ 0.0455013 , -0.0455013 ],\n",
       "        [-0.15462545,  0.15462545],\n",
       "        [-0.02032675,  0.02032675],\n",
       "        [-0.03645668,  0.03645668],\n",
       "        [ 0.00090102, -0.00090102],\n",
       "        [-0.06118081,  0.06118081],\n",
       "        [-0.02287675,  0.02287675],\n",
       "        [-0.00385139,  0.00385139]],\n",
       "\n",
       "       [[ 0.02520104, -0.02520104],\n",
       "        [-0.00819968,  0.00819968],\n",
       "        [-0.01468639,  0.01468639],\n",
       "        [-0.09861526,  0.09861526],\n",
       "        [ 0.02289415, -0.02289415],\n",
       "        [-0.00650072,  0.00650072],\n",
       "        [-0.04203016,  0.04203016],\n",
       "        [ 0.01986242, -0.01986242],\n",
       "        [-0.04161412,  0.04161412],\n",
       "        [ 0.02575849, -0.02575849],\n",
       "        [ 0.02088651, -0.02088651],\n",
       "        [-0.00303083,  0.00303083],\n",
       "        [-0.01566219,  0.01566219],\n",
       "        [ 0.00600886, -0.00600886],\n",
       "        [ 0.04060928, -0.04060928],\n",
       "        [-0.00901506,  0.00901506],\n",
       "        [-0.01110339,  0.01110339],\n",
       "        [-0.03036859,  0.03036859],\n",
       "        [-0.06759134,  0.06759134],\n",
       "        [ 0.0030531 , -0.0030531 ],\n",
       "        [-0.01261853,  0.01261853],\n",
       "        [ 0.02613739, -0.02613739],\n",
       "        [ 0.01725655, -0.01725655],\n",
       "        [-0.0017537 ,  0.0017537 ],\n",
       "        [ 0.00596496, -0.00596496]]])"
      ]
     },
     "execution_count": 83,
     "metadata": {},
     "output_type": "execute_result"
    }
   ],
   "source": [
    "contributions"
   ]
  },
  {
   "cell_type": "markdown",
   "metadata": {},
   "source": [
    "## confidence interval?"
   ]
  },
  {
   "cell_type": "code",
   "execution_count": 109,
   "metadata": {},
   "outputs": [],
   "source": [
    "#Pseudo code: \n",
    "def pred_ci(model, x_val, y_val, percentile = 95):   \n",
    "    \n",
    "    \"\"\"\n",
    "    x_val = validation input\n",
    "    percentile = required confidence level\n",
    "    model = random forest model\n",
    "    \"\"\"\n",
    "\n",
    "    allTree_preds = np.stack([t.predict(x_val) for t in model.estimators_], axis = 0)\n",
    "#     return allTree_preds\n",
    "    \n",
    "    err_down = np.percentile(allTree_preds, (100 - percentile) / 2.0  ,axis=0)\n",
    "    err_up = np.percentile(allTree_preds, 100- (100 - percentile) / 2.0  ,axis=0)\n",
    "    \n",
    "    ci = err_up - err_down\n",
    "    yhat = model.predict(x_val)\n",
    "    y = y_val\n",
    "    \n",
    "    df = pd.DataFrame()\n",
    "    df['down'] = err_down \n",
    "    df['up'] = err_up\n",
    "    df['y'] = y\n",
    "    df['yhat'] = yhat\n",
    "    df['deviation'] = (df['up'] - df['down'])/df['yhat']\n",
    "    df.reset_index(inplace=True)\n",
    "    df_sorted = df.iloc[np.argsort(df['deviation'])[::-1]]\n",
    "    return df_sorted"
   ]
  },
  {
   "cell_type": "code",
   "execution_count": 110,
   "metadata": {},
   "outputs": [],
   "source": [
    "a = pred_ci(model=rf, x_val=instances, y_val=np.array([1,0]))"
   ]
  },
  {
   "cell_type": "code",
   "execution_count": 111,
   "metadata": {},
   "outputs": [
    {
     "data": {
      "text/html": [
       "<div>\n",
       "<style scoped>\n",
       "    .dataframe tbody tr th:only-of-type {\n",
       "        vertical-align: middle;\n",
       "    }\n",
       "\n",
       "    .dataframe tbody tr th {\n",
       "        vertical-align: top;\n",
       "    }\n",
       "\n",
       "    .dataframe thead th {\n",
       "        text-align: right;\n",
       "    }\n",
       "</style>\n",
       "<table border=\"1\" class=\"dataframe\">\n",
       "  <thead>\n",
       "    <tr style=\"text-align: right;\">\n",
       "      <th></th>\n",
       "      <th>index</th>\n",
       "      <th>down</th>\n",
       "      <th>up</th>\n",
       "      <th>y</th>\n",
       "      <th>yhat</th>\n",
       "      <th>deviation</th>\n",
       "    </tr>\n",
       "  </thead>\n",
       "  <tbody>\n",
       "    <tr>\n",
       "      <th>1</th>\n",
       "      <td>1</td>\n",
       "      <td>0.0</td>\n",
       "      <td>1.0</td>\n",
       "      <td>0</td>\n",
       "      <td>0</td>\n",
       "      <td>inf</td>\n",
       "    </tr>\n",
       "    <tr>\n",
       "      <th>0</th>\n",
       "      <td>0</td>\n",
       "      <td>0.0</td>\n",
       "      <td>1.0</td>\n",
       "      <td>1</td>\n",
       "      <td>1</td>\n",
       "      <td>1.0</td>\n",
       "    </tr>\n",
       "  </tbody>\n",
       "</table>\n",
       "</div>"
      ],
      "text/plain": [
       "   index  down   up  y  yhat  deviation\n",
       "1      1   0.0  1.0  0     0        inf\n",
       "0      0   0.0  1.0  1     1        1.0"
      ]
     },
     "execution_count": 111,
     "metadata": {},
     "output_type": "execute_result"
    }
   ],
   "source": [
    "a"
   ]
  },
  {
   "cell_type": "code",
   "execution_count": null,
   "metadata": {},
   "outputs": [],
   "source": []
  }
 ],
 "metadata": {
  "kernelspec": {
   "display_name": "Python 3",
   "language": "python",
   "name": "python3"
  },
  "language_info": {
   "codemirror_mode": {
    "name": "ipython",
    "version": 3
   },
   "file_extension": ".py",
   "mimetype": "text/x-python",
   "name": "python",
   "nbconvert_exporter": "python",
   "pygments_lexer": "ipython3",
   "version": "3.7.6"
  }
 },
 "nbformat": 4,
 "nbformat_minor": 4
}
