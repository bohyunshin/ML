{
 "cells": [
  {
   "cell_type": "markdown",
   "metadata": {},
   "source": [
    "#### 아래 구현은 ratsgo님의 블로그를 참고하였음을 밝혀둡니다."
   ]
  },
  {
   "cell_type": "code",
   "execution_count": 173,
   "metadata": {},
   "outputs": [],
   "source": [
    "import pandas as pd\n",
    "import numpy as np\n",
    "pd.set_option('display.max_rows',50)\n",
    "\n",
    "from sklearn.feature_extraction.text import CountVectorizer\n",
    "from sklearn.decomposition import LatentDirichletAllocation\n",
    "from sklearn.model_selection import GridSearchCV\n",
    "\n",
    "\n",
    "#matplotlib을 주피터 화면 내에 띄우도록 해주는 주피터 명령어\n",
    "%matplotlib inline\n",
    "import pandas as pd\n",
    "#matplotlib을 이용해 그래프를 그릴 수 있는 pyplot (인터페이스 역할)과, 설정을 바꾸는데 사용되는 matplotlib 둘 다 import 합니다.\n",
    "import matplotlib as mpl\n",
    "import matplotlib.pyplot as plt\n",
    "import matplotlib.font_manager as fm\n",
    "# seaborn은 matplotlib보다 더 이쁘고 쉽게 그래프를 그릴 수 있는 라이브러리입니다. matplotlib을 이용해 동작하고, 자유도는 matplotlib에 비해 낮습니다.\n",
    "import seaborn as sns\n",
    "\n",
    "sns.set_style('whitegrid')"
   ]
  },
  {
   "cell_type": "code",
   "execution_count": 88,
   "metadata": {},
   "outputs": [],
   "source": [
    "# define an empty list\n",
    "noun_list = []\n",
    "\n",
    "# open file and read the content in a list\n",
    "with open('dat.txt', 'r') as filehandle:\n",
    "    for line in filehandle:\n",
    "        # remove linebreak which is the last character of the string\n",
    "        currentPlace = line[:-1]\n",
    "\n",
    "        # add item to the list\n",
    "        noun_list.append(currentPlace)\n",
    "        \n",
    "documents = []\n",
    "for i in range(len(noun_list)):\n",
    "    documents.append(noun_list[i].split(' '))"
   ]
  },
  {
   "cell_type": "code",
   "execution_count": 89,
   "metadata": {},
   "outputs": [],
   "source": [
    "from collections import Counter\n",
    "\n",
    "'''\n",
    "Counter는 리스트에 있는 요소들이 몇개씩 있는지, 개수가 많은 것부터 반환을 한다.\n",
    "예를 들어 ['a','a','c','b','b']라는 리스트에 대해서는\n",
    "Counter({'a':2, 'b':2, 'c':1})\n",
    "을 반환한다.\n",
    "'''\n",
    "\n",
    "\n",
    "document_topic_counts = [Counter() for _ in documents]\n",
    "'''\n",
    "문서별로 K개의 토픽 분포를 보여준다.\n",
    "만약 단어가 N개 있다면, 그 문서의 N개 단어 각각의 토픽 분포를 보여준다.\n",
    "예를 들어 첫 번째 문서의 단어들의 분포를 보고 싶으면\n",
    "document_topic_counts[0]에서\n",
    "Counter({1: 4, 0: 1, 2: 0})가 나오고\n",
    "첫 번째 문서는 총 5개의 단어로 구성되는데, 그 중 네 개의 단어가 첫 번째 주제에 해당된다는 뜻이다.\n",
    "'''\n",
    "\n",
    "\n",
    "topic_word_counts = [Counter() for _ in range(K)]\n",
    "'''\n",
    "토픽별로 V개의 단어 분포를 보여준다.\n",
    "한 토픽에서 V개의 단어 각각의 토픽 분포를 보여준다.\n",
    "topic_word_counts[0]에서\n",
    "Counter({'A':3, 'B':5, 'C':2})가 나오고\n",
    "0번째 토픽에서 A가 3번, B가 5번 나옴을 의미한다.\n",
    "'''\n",
    "\n",
    "\n",
    "topic_counts = [0 for _ in range(K)]\n",
    "'''\n",
    "토픽별로 할당된 총 단어수를 의미한다.\n",
    "'''\n",
    "\n",
    "\n",
    "document_lengths = [len(document) for document in documents]\n",
    "'''\n",
    "각 문서를 구성하는 단어의 총 개수.\n",
    "'''\n",
    "\n",
    "\n",
    "distinct_words = set(word for document in documents for word in document)\n",
    "V = len(distinct_words)\n",
    "'''\n",
    "코퍼스에서 unique 단어 수\n",
    "'''\n",
    "\n",
    "\n",
    "D = len(documents)\n",
    "'''\n",
    "문서의 총 개수\n",
    "'''"
   ]
  },
  {
   "cell_type": "code",
   "execution_count": 90,
   "metadata": {},
   "outputs": [],
   "source": [
    "def p_topic_given_document(topic, d, alpha=0.1):\n",
    "    '''\n",
    "    - alpha는 미리 정하는 hpyer-parameter\n",
    "    - document_topic_counts[d][topic]은 노테이션상 n_d,k을 의미\n",
    "    - document_lengths[d]는 sum(n_d,i)을 의미\n",
    "    - alpha는 n_d,k가 0일 경우 0을 곱하는 것을 방지하는 smoothing 역할\n",
    "    '''\n",
    "    return ((document_topic_counts[d][topic] + alpha) /\n",
    "            (document_lengths[d] + K * alpha))\n",
    "\n",
    "def p_word_given_topic(word, topic, beta=0.1):\n",
    "    '''\n",
    "    - beta는 미리 정하는 hyper-parameter\n",
    "    - topic_word_counts[topic][word]은 노테이션상 v_k,w을 의미\n",
    "    - topic_counts[topic]은 sum(v_k,j)을 의미\n",
    "    - beta는 v_k,w가 0일 경우 0을 곱하는 것을 방지하는 smoothing 역할\n",
    "    '''\n",
    "    return ((topic_word_counts[topic][word] + beta) /\n",
    "            (topic_counts[topic] + V * beta))\n",
    "\n",
    "def topic_weight(d, word, k):\n",
    "    '''\n",
    "    - conditional probability\n",
    "    - 정리 문서에서 (2)에 해당\n",
    "    '''\n",
    "    return p_word_given_topic(word, k) * p_topic_given_document(k, d)"
   ]
  },
  {
   "cell_type": "code",
   "execution_count": 91,
   "metadata": {},
   "outputs": [],
   "source": [
    "def choose_new_topic(d, word):\n",
    "    return sample_from([topic_weight(d, word, k) for k in range(K)])\n",
    "\n",
    "import random\n",
    "def sample_from(weights):\n",
    "    '''\n",
    "    - input은 weights로써, z_d,i에 대한 조건부 확률에 해당한다.\n",
    "    - K개의 토픽에 대해서 계산하므로 길이는 K이다.\n",
    "    - 즉, z_d,i (d번째 문서의 i번째 단어의 토픽)가 1부터 K까지의 값을 가질 확률을 담고 있는 리스트이다.\n",
    "    - 예를 들어 [0.2,0.3,0.5]라면 z_d,i는 세 번째 토픽에 배정될 확률이 0.5로 가장 크다.\n",
    "    '''\n",
    "    # i를 weights[i] / sum(weights)\n",
    "    # 확률로 반환\n",
    "    total = sum(weights)\n",
    "    # 0과 total 사이를 균일하게 선택\n",
    "    rnd = total * random.random()\n",
    "    # 아래 식을 만족하는 가장 작은 i를 반환\n",
    "    # weights[0] + ... + weights[i] >= rnd\n",
    "    for i, w in enumerate(weights):\n",
    "        rnd -= w\n",
    "        if rnd <= 0:\n",
    "            return i"
   ]
  },
  {
   "cell_type": "code",
   "execution_count": 92,
   "metadata": {},
   "outputs": [],
   "source": [
    "random.seed(0)\n",
    "\n",
    "# topic 수 지정\n",
    "K=3\n",
    "\n",
    "# 처음 iteration 시작 이전에 각 단어의 토픽을 random assignment\n",
    "document_topics = [[random.randrange(K) for word in document] \n",
    "                   # 한 문서안에 있는 단어의 수 만큼 0 ~ K-1의 정수를 random generate\n",
    "                   # 즉, 각 단어의 토픽을 임의로 배정하겠다는 의미.\n",
    "                    for document in documents]\n",
    "\n",
    "# 위와 같이 랜덤 초기화한 상태에서 \n",
    "# AB를 구하는 데 필요한 숫자를 세어봄\n",
    "for d in range(D):\n",
    "    for word, topic in zip(documents[d], document_topics[d]):\n",
    "        document_topic_counts[d][topic] += 1\n",
    "        topic_word_counts[topic][word] += 1\n",
    "        topic_counts[topic] += 1"
   ]
  },
  {
   "cell_type": "code",
   "execution_count": 155,
   "metadata": {},
   "outputs": [
    {
     "data": {
      "text/plain": [
       "[0, 1, 1, 1, 1]"
      ]
     },
     "execution_count": 155,
     "metadata": {},
     "output_type": "execute_result"
    }
   ],
   "source": [
    "document_topics[0]"
   ]
  },
  {
   "cell_type": "code",
   "execution_count": 94,
   "metadata": {},
   "outputs": [],
   "source": [
    "for iter in range(10000):\n",
    "    for d in range(D):\n",
    "        for i, (word, topic) in enumerate(zip(documents[d],\n",
    "                                              document_topics[d])):\n",
    "            # 깁스 샘플링 수행을 위해\n",
    "            # 샘플링 대상 word와 topic을 제외하고 세어봄\n",
    "            document_topic_counts[d][topic] -= 1\n",
    "            topic_word_counts[topic][word] -= 1\n",
    "            topic_counts[topic] -= 1\n",
    "            document_lengths[d] -= 1\n",
    "\n",
    "            # 깁스 샘플링 대상 word와 topic을 제외한 \n",
    "            # 말뭉치 모든 word의 topic 정보를 토대로\n",
    "            # 샘플링 대상 word의 새로운 topic을 선택\n",
    "            new_topic = choose_new_topic(d, word)\n",
    "            document_topics[d][i] = new_topic\n",
    "\n",
    "            # 샘플링 대상 word의 새로운 topic을 반영해 \n",
    "            # 말뭉치 정보 업데이트\n",
    "            document_topic_counts[d][new_topic] += 1\n",
    "            topic_word_counts[new_topic][word] += 1\n",
    "            topic_counts[new_topic] += 1\n",
    "            document_lengths[d] += 1"
   ]
  },
  {
   "cell_type": "code",
   "execution_count": 95,
   "metadata": {},
   "outputs": [],
   "source": [
    "from sklearn.feature_extraction.text import CountVectorizer\n",
    "cv = CountVectorizer(stop_words=\"english\", max_features=1000)\n",
    "transformed = cv.fit_transform(noun_list)"
   ]
  },
  {
   "cell_type": "code",
   "execution_count": 96,
   "metadata": {},
   "outputs": [
    {
     "name": "stderr",
     "output_type": "stream",
     "text": [
      "C:\\Users\\sbh0613\\anaconda\\lib\\site-packages\\sklearn\\model_selection\\_split.py:1978: FutureWarning: The default value of cv will change from 3 to 5 in version 0.22. Specify it explicitly to silence this warning.\n",
      "  warnings.warn(CV_WARNING, FutureWarning)\n"
     ]
    },
    {
     "data": {
      "text/plain": [
       "GridSearchCV(cv='warn', error_score='raise-deprecating',\n",
       "             estimator=LatentDirichletAllocation(batch_size=128,\n",
       "                                                 doc_topic_prior=None,\n",
       "                                                 evaluate_every=-1,\n",
       "                                                 learning_decay=0.7,\n",
       "                                                 learning_method='batch',\n",
       "                                                 learning_offset=10.0,\n",
       "                                                 max_doc_update_iter=100,\n",
       "                                                 max_iter=10,\n",
       "                                                 mean_change_tol=0.001,\n",
       "                                                 n_components=10, n_jobs=None,\n",
       "                                                 perp_tol=0.1,\n",
       "                                                 random_state=None,\n",
       "                                                 topic_word_prior=None,\n",
       "                                                 total_samples=1000000.0,\n",
       "                                                 verbose=0),\n",
       "             iid='warn', n_jobs=None,\n",
       "             param_grid={'learning_decay': [0.5, 0.7, 0.9],\n",
       "                         'n_components': [3, 5, 7], 'random_state': [43]},\n",
       "             pre_dispatch='2*n_jobs', refit=True, return_train_score=False,\n",
       "             scoring=None, verbose=0)"
      ]
     },
     "execution_count": 96,
     "metadata": {},
     "output_type": "execute_result"
    }
   ],
   "source": [
    "# Define Search Param\n",
    "search_params = {'n_components': [3, 5, 7], 'learning_decay': [.5, .7, .9],'random_state' : [43]}\n",
    "\n",
    "# Basic Model\n",
    "lda = LatentDirichletAllocation()\n",
    "\n",
    "# Initialize Grid Search\n",
    "model = GridSearchCV(lda, param_grid=search_params)\n",
    "\n",
    "# Do the Grid Search\n",
    "model.fit(transformed)"
   ]
  },
  {
   "cell_type": "code",
   "execution_count": 97,
   "metadata": {},
   "outputs": [
    {
     "data": {
      "text/html": [
       "<div>\n",
       "<style scoped>\n",
       "    .dataframe tbody tr th:only-of-type {\n",
       "        vertical-align: middle;\n",
       "    }\n",
       "\n",
       "    .dataframe tbody tr th {\n",
       "        vertical-align: top;\n",
       "    }\n",
       "\n",
       "    .dataframe thead th {\n",
       "        text-align: right;\n",
       "    }\n",
       "</style>\n",
       "<table border=\"1\" class=\"dataframe\">\n",
       "  <thead>\n",
       "    <tr style=\"text-align: right;\">\n",
       "      <th></th>\n",
       "      <th>Topic0</th>\n",
       "      <th>Topic1</th>\n",
       "      <th>Topic2</th>\n",
       "      <th>dominant_topic</th>\n",
       "    </tr>\n",
       "  </thead>\n",
       "  <tbody>\n",
       "    <tr>\n",
       "      <th>Doc0</th>\n",
       "      <td>0.08</td>\n",
       "      <td>0.07</td>\n",
       "      <td>0.85</td>\n",
       "      <td>2</td>\n",
       "    </tr>\n",
       "    <tr>\n",
       "      <th>Doc1</th>\n",
       "      <td>0.12</td>\n",
       "      <td>0.11</td>\n",
       "      <td>0.77</td>\n",
       "      <td>2</td>\n",
       "    </tr>\n",
       "    <tr>\n",
       "      <th>Doc2</th>\n",
       "      <td>0.05</td>\n",
       "      <td>0.05</td>\n",
       "      <td>0.89</td>\n",
       "      <td>2</td>\n",
       "    </tr>\n",
       "    <tr>\n",
       "      <th>Doc3</th>\n",
       "      <td>0.04</td>\n",
       "      <td>0.04</td>\n",
       "      <td>0.92</td>\n",
       "      <td>2</td>\n",
       "    </tr>\n",
       "    <tr>\n",
       "      <th>Doc4</th>\n",
       "      <td>0.31</td>\n",
       "      <td>0.65</td>\n",
       "      <td>0.04</td>\n",
       "      <td>1</td>\n",
       "    </tr>\n",
       "  </tbody>\n",
       "</table>\n",
       "</div>"
      ],
      "text/plain": [
       "      Topic0  Topic1  Topic2  dominant_topic\n",
       "Doc0    0.08    0.07    0.85               2\n",
       "Doc1    0.12    0.11    0.77               2\n",
       "Doc2    0.05    0.05    0.89               2\n",
       "Doc3    0.04    0.04    0.92               2\n",
       "Doc4    0.31    0.65    0.04               1"
      ]
     },
     "execution_count": 97,
     "metadata": {},
     "output_type": "execute_result"
    }
   ],
   "source": [
    "# Best Model\n",
    "best_lda_model = model.best_estimator_\n",
    "\n",
    "# Create Document - Topic Matrix\n",
    "lda_output = best_lda_model.transform(transformed)\n",
    "\n",
    "# column names\n",
    "topicnames = [\"Topic\" + str(i) for i in range(best_lda_model.n_components)]\n",
    "\n",
    "# index names\n",
    "docnames = [\"Doc\" + str(i) for i in range(len(lda_output))]\n",
    "\n",
    "# Make the pandas dataframe\n",
    "df_topic = pd.DataFrame(np.round(lda_output, 2), columns=topicnames, index=docnames)\n",
    "\n",
    "# Get dominant topic for each document\n",
    "df_topic['dominant_topic'] = np.argmax(df_topic.values, axis=1)\n",
    "\n",
    "df_topic.head()"
   ]
  },
  {
   "cell_type": "code",
   "execution_count": 170,
   "metadata": {},
   "outputs": [
    {
     "data": {
      "text/plain": [
       "Counter({2: 9, 0: 0, 1: 0})"
      ]
     },
     "execution_count": 170,
     "metadata": {},
     "output_type": "execute_result"
    }
   ],
   "source": [
    "document_topic_counts[4]"
   ]
  },
  {
   "cell_type": "code",
   "execution_count": 100,
   "metadata": {},
   "outputs": [
    {
     "name": "stdout",
     "output_type": "stream",
     "text": [
      "0:  토트넘 손흥민 케인 부상 알리 첼시 언론 복귀 아시안컵 시즌 이과인 한국 임대 위기\n",
      "1:  손흥민 레알 모라 마드리드 선수 축구 득점 구단 첼시 최고 위해 경기 감독 앙리\n",
      "2:  맨유 첼시 결승 토트넘 맨시티 리그컵 손흥민 아스널 티노 포체 솔샤르 리버풀 좌절 바오\n"
     ]
    }
   ],
   "source": [
    "for topic_idx, topic in enumerate(best_lda_model.components_):\n",
    "    label = '{}: '.format(topic_idx)\n",
    "    print(label, \" \".join([cv.get_feature_names()[i]\n",
    "                           for i in topic.argsort()[:-15:-1]]))"
   ]
  },
  {
   "cell_type": "code",
   "execution_count": 188,
   "metadata": {},
   "outputs": [],
   "source": [
    "topic_0_list = []\n",
    "\n",
    "for tup in topic_word_counts[0].most_common()[:10]:\n",
    "    topic_0_list.append(tup[0])\n",
    "           \n",
    "topic_0_df = pd.DataFrame({'word' : topic_0_list, 'most' : [i for i in reversed(range(1,11))]})\n",
    "\n",
    "\n",
    "topic_1_list = []\n",
    "\n",
    "for tup in topic_word_counts[1].most_common()[:10]:\n",
    "    topic_1_list.append(tup[0])\n",
    "           \n",
    "topic_1_df = pd.DataFrame({'word' : topic_1_list, 'most' : [i for i in reversed(range(1,11))]})\n",
    "\n",
    "\n",
    "topic_2_list = []\n",
    "\n",
    "for tup in topic_word_counts[2].most_common()[:10]:\n",
    "    topic_2_list.append(tup[0])\n",
    "           \n",
    "topic_2_df = pd.DataFrame({'word' : topic_2_list, 'most' : [i for i in reversed(range(1,11))]})\n"
   ]
  },
  {
   "cell_type": "code",
   "execution_count": 211,
   "metadata": {},
   "outputs": [
    {
     "data": {
      "image/png": "[encoded data removed]",
      "text/plain": [
       "<Figure size 1080x216 with 1 Axes>"
      ]
     },
     "metadata": {
      "image/png": {
       "height": 207,
       "width": 884
      },
      "needs_background": "light"
     },
     "output_type": "display_data"
    }
   ],
   "source": [
    "mpl.rc('font', family = 'NanumGothic')\n",
    "%matplotlib inline\n",
    "\n",
    "# retina 옵션을 통해 해상도를 올립니다.\n",
    "from IPython.display import set_matplotlib_formats\n",
    "\n",
    "set_matplotlib_formats('retina')\n",
    "\n",
    "#또는  %config InlineBackend.figure_format = 'retina' 사용 가능\n",
    "\n",
    "plt.figure(figsize=[15,3])\n",
    "sns.barplot(x='word', y='most',ci=99, data=topic_0_df, palette=sns.color_palette(\"BuGn_r\", 10))\n",
    "\n",
    "plt.savefig('./.ipynb_checkpoints/그림/gibbs_0.png')"
   ]
  },
  {
   "cell_type": "code",
   "execution_count": 212,
   "metadata": {},
   "outputs": [
    {
     "data": {
      "image/png": "[encoded data removed]",
      "text/plain": [
       "<Figure size 1080x216 with 1 Axes>"
      ]
     },
     "metadata": {
      "image/png": {
       "height": 207,
       "width": 884
      },
      "needs_background": "light"
     },
     "output_type": "display_data"
    }
   ],
   "source": [
    "plt.figure(figsize=[15,3])\n",
    "sns.barplot(x='word', y='most',ci=99, data=topic_1_df, palette=sns.color_palette(\"BuGn_r\", 10))\n",
    "\n",
    "plt.savefig('./.ipynb_checkpoints/그림/gibbs_1.png')"
   ]
  },
  {
   "cell_type": "code",
   "execution_count": 213,
   "metadata": {},
   "outputs": [
    {
     "data": {
      "image/png": "[encoded data removed]",
      "text/plain": [
       "<Figure size 1080x216 with 1 Axes>"
      ]
     },
     "metadata": {
      "image/png": {
       "height": 207,
       "width": 884
      },
      "needs_background": "light"
     },
     "output_type": "display_data"
    }
   ],
   "source": [
    "plt.figure(figsize=[15,3])\n",
    "sns.barplot(x='word', y='most',ci=99, data=topic_2_df, palette=sns.color_palette(\"BuGn_r\", 10))\n",
    "\n",
    "plt.savefig('./.ipynb_checkpoints/그림/gibbs_2.png')"
   ]
  },
  {
   "cell_type": "code",
   "execution_count": 204,
   "metadata": {},
   "outputs": [],
   "source": [
    "lda_0 = '토트넘 손흥민 케인 부상 알리 첼시 언론 복귀 아시안컵 시즌'.split(' ')\n",
    "lda_1 = '손흥민 레알 모라 마드리드 선수 축구 득점 구단 첼시 최고'.split(' ')\n",
    "lda_2 = '맨유 첼시 결승 토트넘 맨시티 리그컵 손흥민 아스널 티노 포체'.split(' ')\n",
    "\n",
    "lda_0_df = pd.DataFrame({'word' : lda_0, 'most' : [i for i in reversed(range(1,11))]})\n",
    "lda_1_df = pd.DataFrame({'word' : lda_1, 'most' : [i for i in reversed(range(1,11))]})\n",
    "lda_2_df = pd.DataFrame({'word' : lda_2, 'most' : [i for i in reversed(range(1,11))]})"
   ]
  },
  {
   "cell_type": "code",
   "execution_count": 214,
   "metadata": {},
   "outputs": [
    {
     "data": {
      "image/png": "[encoded data removed]",
      "text/plain": [
       "<Figure size 1080x216 with 1 Axes>"
      ]
     },
     "metadata": {
      "image/png": {
       "height": 207,
       "width": 884
      },
      "needs_background": "light"
     },
     "output_type": "display_data"
    }
   ],
   "source": [
    "plt.figure(figsize=[15,3])\n",
    "sns.barplot(x='word', y='most',ci=99, data=lda_0_df, palette=sns.color_palette(\"BuGn_r\", 10))\n",
    "\n",
    "plt.savefig('./.ipynb_checkpoints/그림/lda_0.png')"
   ]
  },
  {
   "cell_type": "code",
   "execution_count": 219,
   "metadata": {},
   "outputs": [
    {
     "data": {
      "image/png": "[encoded data removed]",
      "text/plain": [
       "<Figure size 1080x216 with 1 Axes>"
      ]
     },
     "metadata": {
      "image/png": {
       "height": 207,
       "width": 884
      },
      "needs_background": "light"
     },
     "output_type": "display_data"
    }
   ],
   "source": [
    "plt.figure(figsize=[15,3])\n",
    "sns.barplot(x='word', y='most',ci=99, data=lda_1_df, palette=sns.color_palette(\"BuGn_r\", 10))\n",
    "\n",
    "plt.savefig('./.ipynb_checkpoints/그림/lda_1.png')"
   ]
  },
  {
   "cell_type": "code",
   "execution_count": 220,
   "metadata": {
    "scrolled": true
   },
   "outputs": [
    {
     "data": {
      "image/png": "[encoded data removed]",
      "text/plain": [
       "<Figure size 1080x216 with 1 Axes>"
      ]
     },
     "metadata": {
      "image/png": {
       "height": 207,
       "width": 884
      },
      "needs_background": "light"
     },
     "output_type": "display_data"
    }
   ],
   "source": [
    "plt.figure(figsize=[15,3])\n",
    "sns.barplot(x='word', y='most',ci=99, data=lda_2_df, palette=sns.color_palette(\"BuGn_r\", 10))\n",
    "\n",
    "plt.savefig('./.ipynb_checkpoints/그림/lda_2.png')"
   ]
  },
  {
   "cell_type": "code",
   "execution_count": null,
   "metadata": {},
   "outputs": [],
   "source": []
  }
 ],
 "metadata": {
  "kernelspec": {
   "display_name": "Python 3",
   "language": "python",
   "name": "python3"
  },
  "language_info": {
   "codemirror_mode": {
    "name": "ipython",
    "version": 3
   },
   "file_extension": ".py",
   "mimetype": "text/x-python",
   "name": "python",
   "nbconvert_exporter": "python",
   "pygments_lexer": "ipython3",
   "version": "3.7.1"
  }
 },
 "nbformat": 4,
 "nbformat_minor": 2
}
